{
 "cells": [
  {
   "cell_type": "markdown",
   "id": "3Xg_RQfnafXz",
   "metadata": {
    "id": "3Xg_RQfnafXz"
   },
   "source": [
    "# ¡Llena ese carrito!"
   ]
  },
  {
   "cell_type": "markdown",
   "id": "mhIvmmkW414q",
   "metadata": {
    "id": "mhIvmmkW414q"
   },
   "source": [
    "# Introducción\n",
    "\n",
    "Instacart es una plataforma de entregas de comestibles donde la clientela puede registrar un pedido y hacer que se lo entreguen, similar a Uber Eats y Door Dash.\n",
    "El conjunto de datos que te hemos proporcionado tiene modificaciones del original. Redujimos el tamaño del conjunto para que tus cálculos se hicieran más rápido e introdujimos valores ausentes y duplicados. Tuvimos cuidado de conservar las distribuciones de los datos originales cuando hicimos los cambios.\n",
    "\n",
    "Debes completar tres pasos. Para cada uno de ellos, escribe una breve introducción que refleje con claridad cómo pretendes resolver cada paso, y escribe párrafos explicatorios que justifiquen tus decisiones al tiempo que avanzas en tu solución.  También escribe una conclusión que resuma tus hallazgos y elecciones.\n"
   ]
  },
  {
   "cell_type": "markdown",
   "id": "3MbyzpOQZ5Or",
   "metadata": {
    "id": "3MbyzpOQZ5Or"
   },
   "source": [
    "## Diccionario de datos\n",
    "\n",
    "Hay cinco tablas en el conjunto de datos, y tendrás que usarlas todas para hacer el preprocesamiento de datos y el análisis exploratorio de datos. A continuación se muestra un diccionario de datos que enumera las columnas de cada tabla y describe los datos que contienen.\n",
    "\n",
    "- `instacart_orders.csv`: cada fila corresponde a un pedido en la aplicación Instacart.\n",
    "    - `'order_id'`: número de ID que identifica de manera única cada pedido.\n",
    "    - `'user_id'`: número de ID que identifica de manera única la cuenta de cada cliente.\n",
    "    - `'order_number'`: el número de veces que este cliente ha hecho un pedido.\n",
    "    - `'order_dow'`: día de la semana en que se hizo el pedido (0 si es domingo).\n",
    "    - `'order_hour_of_day'`: hora del día en que se hizo el pedido.\n",
    "    - `'days_since_prior_order'`: número de días transcurridos desde que este cliente hizo su pedido anterior.\n",
    "- `products.csv`: cada fila corresponde a un producto único que pueden comprar los clientes.\n",
    "    - `'product_id'`: número ID que identifica de manera única cada producto.\n",
    "    - `'product_name'`: nombre del producto.\n",
    "    - `'aisle_id'`: número ID que identifica de manera única cada categoría de pasillo de víveres.\n",
    "    - `'department_id'`: número ID que identifica de manera única cada departamento de víveres.\n",
    "- `order_products.csv`: cada fila corresponde a un artículo pedido en un pedido.\n",
    "    - `'order_id'`: número de ID que identifica de manera única cada pedido.\n",
    "    - `'product_id'`: número ID que identifica de manera única cada producto.\n",
    "    - `'add_to_cart_order'`: el orden secuencial en el que se añadió cada artículo en el carrito.\n",
    "    - `'reordered'`: 0 si el cliente nunca ha pedido este producto antes, 1 si lo ha pedido.\n",
    "- `aisles.csv`\n",
    "    - `'aisle_id'`: número ID que identifica de manera única cada categoría de pasillo de víveres.\n",
    "    - `'aisle'`: nombre del pasillo.\n",
    "- `departments.csv`\n",
    "    - `'department_id'`: número ID que identifica de manera única cada departamento de víveres.\n",
    "    - `'department'`: nombre del departamento."
   ]
  },
  {
   "cell_type": "markdown",
   "id": "n3Ha_cNSZ8lK",
   "metadata": {
    "id": "n3Ha_cNSZ8lK"
   },
   "source": [
    "# Paso 1. Descripción de los datos\n",
    "\n",
    "Lee los archivos de datos (`/datasets/instacart_orders.csv`, `/datasets/products.csv`, `/datasets/aisles.csv`, `/datasets/departments.csv` y `/datasets/order_products.csv`) con `pd.read_csv()` usando los parámetros adecuados para leer los datos correctamente. Verifica la información para cada DataFrame creado.\n"
   ]
  },
  {
   "cell_type": "markdown",
   "id": "OmlQPLlyaAfR",
   "metadata": {
    "id": "OmlQPLlyaAfR"
   },
   "source": [
    "## Plan de solución\n",
    "\n",
    "Escribe aquí tu plan de solución para el Paso 1. Descripción de los datos.\n",
    "\n",
    "1. Importar librerías pandas y numpy y de la librería matloplib importar pyplot. \n",
    "2. Cargar los archivos al notebook usando pd.read_csv().\n",
    "3. Revisar la información de cada una de ellas con el método info()\n",
    "4. Contar valores ausentes de las columna correspondientes con isna() y sum().\n",
    "4. Visualizar las primeras filas de las tablas con head(). "
   ]
  },
  {
   "cell_type": "code",
   "execution_count": 16,
   "id": "fbf1adab",
   "metadata": {
    "id": "fbf1adab"
   },
   "outputs": [],
   "source": [
    "# importar librerías\n",
    "import pandas as pd\n",
    "from matplotlib import pyplot as plt\n",
    "import numpy as np"
   ]
  },
  {
   "cell_type": "code",
   "execution_count": 51,
   "id": "ad36396d",
   "metadata": {
    "id": "ad36396d"
   },
   "outputs": [
    {
     "ename": "FileNotFoundError",
     "evalue": "[Errno 2] No such file or directory: 'C:\\\\Downloads\\\\instacart_orders.csv'",
     "output_type": "error",
     "traceback": [
      "\u001b[1;31m---------------------------------------------------------------------------\u001b[0m",
      "\u001b[1;31mFileNotFoundError\u001b[0m                         Traceback (most recent call last)",
      "Cell \u001b[1;32mIn[51], line 2\u001b[0m\n\u001b[0;32m      1\u001b[0m \u001b[38;5;66;03m# leer conjuntos de datos en los DataFrames\u001b[39;00m\n\u001b[1;32m----> 2\u001b[0m instacart_orders \u001b[38;5;241m=\u001b[39m pd\u001b[38;5;241m.\u001b[39mread_csv(\u001b[38;5;124m'\u001b[39m\u001b[38;5;124mC:\u001b[39m\u001b[38;5;124m\\\u001b[39m\u001b[38;5;124mDownloads\u001b[39m\u001b[38;5;124m\\\u001b[39m\u001b[38;5;124minstacart_orders.csv\u001b[39m\u001b[38;5;124m'\u001b[39m, sep\u001b[38;5;241m=\u001b[39m\u001b[38;5;124m'\u001b[39m\u001b[38;5;124m;\u001b[39m\u001b[38;5;124m'\u001b[39m)\n\u001b[0;32m      3\u001b[0m products \u001b[38;5;241m=\u001b[39m pd\u001b[38;5;241m.\u001b[39mread_csv(\u001b[38;5;124m'\u001b[39m\u001b[38;5;124mC:\u001b[39m\u001b[38;5;124m\\\u001b[39m\u001b[38;5;124mDownloads\u001b[39m\u001b[38;5;124m\\\u001b[39m\u001b[38;5;124mproducts.csv\u001b[39m\u001b[38;5;124m'\u001b[39m, sep\u001b[38;5;241m=\u001b[39m\u001b[38;5;124m'\u001b[39m\u001b[38;5;124m;\u001b[39m\u001b[38;5;124m'\u001b[39m)\n\u001b[0;32m      4\u001b[0m order_products \u001b[38;5;241m=\u001b[39m pd\u001b[38;5;241m.\u001b[39mread_csv(\u001b[38;5;124m'\u001b[39m\u001b[38;5;124mC:\u001b[39m\u001b[38;5;124m\\\u001b[39m\u001b[38;5;124mDownloads\u001b[39m\u001b[38;5;124m\\\u001b[39m\u001b[38;5;124morder_products_excel.csv\u001b[39m\u001b[38;5;124m'\u001b[39m, sep\u001b[38;5;241m=\u001b[39m\u001b[38;5;124m'\u001b[39m\u001b[38;5;124m;\u001b[39m\u001b[38;5;124m'\u001b[39m)\n",
      "File \u001b[1;32m~\\anaconda3\\Lib\\site-packages\\pandas\\io\\parsers\\readers.py:948\u001b[0m, in \u001b[0;36mread_csv\u001b[1;34m(filepath_or_buffer, sep, delimiter, header, names, index_col, usecols, dtype, engine, converters, true_values, false_values, skipinitialspace, skiprows, skipfooter, nrows, na_values, keep_default_na, na_filter, verbose, skip_blank_lines, parse_dates, infer_datetime_format, keep_date_col, date_parser, date_format, dayfirst, cache_dates, iterator, chunksize, compression, thousands, decimal, lineterminator, quotechar, quoting, doublequote, escapechar, comment, encoding, encoding_errors, dialect, on_bad_lines, delim_whitespace, low_memory, memory_map, float_precision, storage_options, dtype_backend)\u001b[0m\n\u001b[0;32m    935\u001b[0m kwds_defaults \u001b[38;5;241m=\u001b[39m _refine_defaults_read(\n\u001b[0;32m    936\u001b[0m     dialect,\n\u001b[0;32m    937\u001b[0m     delimiter,\n\u001b[1;32m   (...)\u001b[0m\n\u001b[0;32m    944\u001b[0m     dtype_backend\u001b[38;5;241m=\u001b[39mdtype_backend,\n\u001b[0;32m    945\u001b[0m )\n\u001b[0;32m    946\u001b[0m kwds\u001b[38;5;241m.\u001b[39mupdate(kwds_defaults)\n\u001b[1;32m--> 948\u001b[0m \u001b[38;5;28;01mreturn\u001b[39;00m _read(filepath_or_buffer, kwds)\n",
      "File \u001b[1;32m~\\anaconda3\\Lib\\site-packages\\pandas\\io\\parsers\\readers.py:611\u001b[0m, in \u001b[0;36m_read\u001b[1;34m(filepath_or_buffer, kwds)\u001b[0m\n\u001b[0;32m    608\u001b[0m _validate_names(kwds\u001b[38;5;241m.\u001b[39mget(\u001b[38;5;124m\"\u001b[39m\u001b[38;5;124mnames\u001b[39m\u001b[38;5;124m\"\u001b[39m, \u001b[38;5;28;01mNone\u001b[39;00m))\n\u001b[0;32m    610\u001b[0m \u001b[38;5;66;03m# Create the parser.\u001b[39;00m\n\u001b[1;32m--> 611\u001b[0m parser \u001b[38;5;241m=\u001b[39m TextFileReader(filepath_or_buffer, \u001b[38;5;241m*\u001b[39m\u001b[38;5;241m*\u001b[39mkwds)\n\u001b[0;32m    613\u001b[0m \u001b[38;5;28;01mif\u001b[39;00m chunksize \u001b[38;5;129;01mor\u001b[39;00m iterator:\n\u001b[0;32m    614\u001b[0m     \u001b[38;5;28;01mreturn\u001b[39;00m parser\n",
      "File \u001b[1;32m~\\anaconda3\\Lib\\site-packages\\pandas\\io\\parsers\\readers.py:1448\u001b[0m, in \u001b[0;36mTextFileReader.__init__\u001b[1;34m(self, f, engine, **kwds)\u001b[0m\n\u001b[0;32m   1445\u001b[0m     \u001b[38;5;28mself\u001b[39m\u001b[38;5;241m.\u001b[39moptions[\u001b[38;5;124m\"\u001b[39m\u001b[38;5;124mhas_index_names\u001b[39m\u001b[38;5;124m\"\u001b[39m] \u001b[38;5;241m=\u001b[39m kwds[\u001b[38;5;124m\"\u001b[39m\u001b[38;5;124mhas_index_names\u001b[39m\u001b[38;5;124m\"\u001b[39m]\n\u001b[0;32m   1447\u001b[0m \u001b[38;5;28mself\u001b[39m\u001b[38;5;241m.\u001b[39mhandles: IOHandles \u001b[38;5;241m|\u001b[39m \u001b[38;5;28;01mNone\u001b[39;00m \u001b[38;5;241m=\u001b[39m \u001b[38;5;28;01mNone\u001b[39;00m\n\u001b[1;32m-> 1448\u001b[0m \u001b[38;5;28mself\u001b[39m\u001b[38;5;241m.\u001b[39m_engine \u001b[38;5;241m=\u001b[39m \u001b[38;5;28mself\u001b[39m\u001b[38;5;241m.\u001b[39m_make_engine(f, \u001b[38;5;28mself\u001b[39m\u001b[38;5;241m.\u001b[39mengine)\n",
      "File \u001b[1;32m~\\anaconda3\\Lib\\site-packages\\pandas\\io\\parsers\\readers.py:1705\u001b[0m, in \u001b[0;36mTextFileReader._make_engine\u001b[1;34m(self, f, engine)\u001b[0m\n\u001b[0;32m   1703\u001b[0m     \u001b[38;5;28;01mif\u001b[39;00m \u001b[38;5;124m\"\u001b[39m\u001b[38;5;124mb\u001b[39m\u001b[38;5;124m\"\u001b[39m \u001b[38;5;129;01mnot\u001b[39;00m \u001b[38;5;129;01min\u001b[39;00m mode:\n\u001b[0;32m   1704\u001b[0m         mode \u001b[38;5;241m+\u001b[39m\u001b[38;5;241m=\u001b[39m \u001b[38;5;124m\"\u001b[39m\u001b[38;5;124mb\u001b[39m\u001b[38;5;124m\"\u001b[39m\n\u001b[1;32m-> 1705\u001b[0m \u001b[38;5;28mself\u001b[39m\u001b[38;5;241m.\u001b[39mhandles \u001b[38;5;241m=\u001b[39m get_handle(\n\u001b[0;32m   1706\u001b[0m     f,\n\u001b[0;32m   1707\u001b[0m     mode,\n\u001b[0;32m   1708\u001b[0m     encoding\u001b[38;5;241m=\u001b[39m\u001b[38;5;28mself\u001b[39m\u001b[38;5;241m.\u001b[39moptions\u001b[38;5;241m.\u001b[39mget(\u001b[38;5;124m\"\u001b[39m\u001b[38;5;124mencoding\u001b[39m\u001b[38;5;124m\"\u001b[39m, \u001b[38;5;28;01mNone\u001b[39;00m),\n\u001b[0;32m   1709\u001b[0m     compression\u001b[38;5;241m=\u001b[39m\u001b[38;5;28mself\u001b[39m\u001b[38;5;241m.\u001b[39moptions\u001b[38;5;241m.\u001b[39mget(\u001b[38;5;124m\"\u001b[39m\u001b[38;5;124mcompression\u001b[39m\u001b[38;5;124m\"\u001b[39m, \u001b[38;5;28;01mNone\u001b[39;00m),\n\u001b[0;32m   1710\u001b[0m     memory_map\u001b[38;5;241m=\u001b[39m\u001b[38;5;28mself\u001b[39m\u001b[38;5;241m.\u001b[39moptions\u001b[38;5;241m.\u001b[39mget(\u001b[38;5;124m\"\u001b[39m\u001b[38;5;124mmemory_map\u001b[39m\u001b[38;5;124m\"\u001b[39m, \u001b[38;5;28;01mFalse\u001b[39;00m),\n\u001b[0;32m   1711\u001b[0m     is_text\u001b[38;5;241m=\u001b[39mis_text,\n\u001b[0;32m   1712\u001b[0m     errors\u001b[38;5;241m=\u001b[39m\u001b[38;5;28mself\u001b[39m\u001b[38;5;241m.\u001b[39moptions\u001b[38;5;241m.\u001b[39mget(\u001b[38;5;124m\"\u001b[39m\u001b[38;5;124mencoding_errors\u001b[39m\u001b[38;5;124m\"\u001b[39m, \u001b[38;5;124m\"\u001b[39m\u001b[38;5;124mstrict\u001b[39m\u001b[38;5;124m\"\u001b[39m),\n\u001b[0;32m   1713\u001b[0m     storage_options\u001b[38;5;241m=\u001b[39m\u001b[38;5;28mself\u001b[39m\u001b[38;5;241m.\u001b[39moptions\u001b[38;5;241m.\u001b[39mget(\u001b[38;5;124m\"\u001b[39m\u001b[38;5;124mstorage_options\u001b[39m\u001b[38;5;124m\"\u001b[39m, \u001b[38;5;28;01mNone\u001b[39;00m),\n\u001b[0;32m   1714\u001b[0m )\n\u001b[0;32m   1715\u001b[0m \u001b[38;5;28;01massert\u001b[39;00m \u001b[38;5;28mself\u001b[39m\u001b[38;5;241m.\u001b[39mhandles \u001b[38;5;129;01mis\u001b[39;00m \u001b[38;5;129;01mnot\u001b[39;00m \u001b[38;5;28;01mNone\u001b[39;00m\n\u001b[0;32m   1716\u001b[0m f \u001b[38;5;241m=\u001b[39m \u001b[38;5;28mself\u001b[39m\u001b[38;5;241m.\u001b[39mhandles\u001b[38;5;241m.\u001b[39mhandle\n",
      "File \u001b[1;32m~\\anaconda3\\Lib\\site-packages\\pandas\\io\\common.py:863\u001b[0m, in \u001b[0;36mget_handle\u001b[1;34m(path_or_buf, mode, encoding, compression, memory_map, is_text, errors, storage_options)\u001b[0m\n\u001b[0;32m    858\u001b[0m \u001b[38;5;28;01melif\u001b[39;00m \u001b[38;5;28misinstance\u001b[39m(handle, \u001b[38;5;28mstr\u001b[39m):\n\u001b[0;32m    859\u001b[0m     \u001b[38;5;66;03m# Check whether the filename is to be opened in binary mode.\u001b[39;00m\n\u001b[0;32m    860\u001b[0m     \u001b[38;5;66;03m# Binary mode does not support 'encoding' and 'newline'.\u001b[39;00m\n\u001b[0;32m    861\u001b[0m     \u001b[38;5;28;01mif\u001b[39;00m ioargs\u001b[38;5;241m.\u001b[39mencoding \u001b[38;5;129;01mand\u001b[39;00m \u001b[38;5;124m\"\u001b[39m\u001b[38;5;124mb\u001b[39m\u001b[38;5;124m\"\u001b[39m \u001b[38;5;129;01mnot\u001b[39;00m \u001b[38;5;129;01min\u001b[39;00m ioargs\u001b[38;5;241m.\u001b[39mmode:\n\u001b[0;32m    862\u001b[0m         \u001b[38;5;66;03m# Encoding\u001b[39;00m\n\u001b[1;32m--> 863\u001b[0m         handle \u001b[38;5;241m=\u001b[39m \u001b[38;5;28mopen\u001b[39m(\n\u001b[0;32m    864\u001b[0m             handle,\n\u001b[0;32m    865\u001b[0m             ioargs\u001b[38;5;241m.\u001b[39mmode,\n\u001b[0;32m    866\u001b[0m             encoding\u001b[38;5;241m=\u001b[39mioargs\u001b[38;5;241m.\u001b[39mencoding,\n\u001b[0;32m    867\u001b[0m             errors\u001b[38;5;241m=\u001b[39merrors,\n\u001b[0;32m    868\u001b[0m             newline\u001b[38;5;241m=\u001b[39m\u001b[38;5;124m\"\u001b[39m\u001b[38;5;124m\"\u001b[39m,\n\u001b[0;32m    869\u001b[0m         )\n\u001b[0;32m    870\u001b[0m     \u001b[38;5;28;01melse\u001b[39;00m:\n\u001b[0;32m    871\u001b[0m         \u001b[38;5;66;03m# Binary mode\u001b[39;00m\n\u001b[0;32m    872\u001b[0m         handle \u001b[38;5;241m=\u001b[39m \u001b[38;5;28mopen\u001b[39m(handle, ioargs\u001b[38;5;241m.\u001b[39mmode)\n",
      "\u001b[1;31mFileNotFoundError\u001b[0m: [Errno 2] No such file or directory: 'C:\\\\Downloads\\\\instacart_orders.csv'"
     ]
    }
   ],
   "source": [
    "# leer conjuntos de datos en los DataFrames\n",
    "instacart_orders = pd.read_csv('C:\\Downloads\\instacart_orders.csv', sep=';')\n",
    "products = pd.read_csv('C:\\Downloads\\products.csv', sep=';')\n",
    "order_products = pd.read_csv('C:\\Downloads\\order_products_excel.csv', sep=';')\n",
    "aisles = pd.read_csv('C:\\Downloads\\aisles.csv', sep=';')\n",
    "departments = pd.read_csv('C:\\Downloads\\departments.csv', sep=';')\n"
   ]
  },
  {
   "cell_type": "code",
   "execution_count": null,
   "id": "ad6a1efa",
   "metadata": {
    "id": "ad6a1efa"
   },
   "outputs": [],
   "source": [
    "# mostrar información del DataFrame instacart_orders\n",
    "instacart_orders.info()\n",
    "print()\n",
    "print('Valores ausentes en days_since_prior_order:', instacart_orders['days_since_prior_order'].isna().sum())\n",
    "print()\n",
    "instacart_orders.head()"
   ]
  },
  {
   "cell_type": "code",
   "execution_count": null,
   "id": "5130e05e",
   "metadata": {
    "id": "5130e05e"
   },
   "outputs": [],
   "source": [
    "# mostrar información del DataFrame products\n",
    "products.info()\n",
    "print()\n",
    "print('Valores ausentes en product_name:', products['product_name'].isna().sum())\n",
    "print()\n",
    "products.head()"
   ]
  },
  {
   "cell_type": "code",
   "execution_count": null,
   "id": "d8370c05",
   "metadata": {
    "id": "d8370c05"
   },
   "outputs": [],
   "source": [
    "# mostrar información del DataFrame order_products\n",
    "order_products.info(show_counts=True)\n",
    "print()\n",
    "print('Valores ausentes en add_to_cart_order:', order_products['add_to_cart_order'].isna().sum())\n",
    "order_products.head()\n"
   ]
  },
  {
   "cell_type": "code",
   "execution_count": null,
   "id": "59e2090f",
   "metadata": {
    "id": "59e2090f"
   },
   "outputs": [],
   "source": [
    "# mostrar información del DataFrame aisles\n",
    "aisles.info()\n",
    "print()\n",
    "aisles.head()\n"
   ]
  },
  {
   "cell_type": "code",
   "execution_count": null,
   "id": "6fc81694",
   "metadata": {
    "id": "6fc81694"
   },
   "outputs": [],
   "source": [
    "# mostrar información del DataFrame departments\n",
    "departments.info()\n",
    "print()\n",
    "departments.head()"
   ]
  },
  {
   "cell_type": "markdown",
   "id": "t75BD19oaR5f",
   "metadata": {
    "id": "t75BD19oaR5f"
   },
   "source": [
    "## Conclusiones\n",
    "\n",
    "Escribe aquí tus conclusiones intermedias sobre el Paso 1. Descripción de los datos.\n",
    "\n",
    "Al leer la información de los DataFrames ya cargados, observamos que hay datos ausentes en tres de las cinco tablas:\n",
    "\n",
    "1. instacart_orders: 28819/478967 NaN en columna 'days_since_prior_order' \n",
    "2. products: 1258/19694 NaN en columna 'product_name'\n",
    "3. order_products: 836/4545007 NaN en columna 'add_to_cart_order'\n",
    "\n",
    "Los datos de los DataFrames 'aisle' y 'departments' están completos."
   ]
  },
  {
   "cell_type": "markdown",
   "id": "8RJHqxVmaVsF",
   "metadata": {
    "id": "8RJHqxVmaVsF"
   },
   "source": [
    "# Paso 2. Preprocesamiento de los datos\n",
    "\n",
    "Preprocesa los datos de la siguiente manera:\n",
    "\n",
    "- Verifica y corrige los tipos de datos (por ejemplo, asegúrate de que las columnas de ID sean números enteros).\n",
    "- Identifica y completa los valores ausentes.\n",
    "- Identifica y elimina los valores duplicados.\n",
    "\n",
    "Asegúrate de explicar qué tipos de valores ausentes y duplicados encontraste, cómo los completaste o eliminaste y por qué usaste esos métodos. ¿Por qué crees que estos valores ausentes y duplicados pueden haber estado presentes en el conjunto de datos?"
   ]
  },
  {
   "cell_type": "markdown",
   "id": "p6poABZQaZYb",
   "metadata": {
    "id": "p6poABZQaZYb"
   },
   "source": [
    "## Plan de solución\n",
    "\n",
    "Escribe aquí tu plan para el Paso 2. Preprocesamiento de los datos.\n",
    "Eliminar duplicados: \n",
    "1. En las columnas que corresponda, pasar todo a minúscula con str.lower()\n",
    "2. Revisar si hay duplicados exactos con duplicated() y sum()\n",
    "3. Revisar datos en común de datos duplicados. \n",
    "4. Eliminar los duplicados exactos con drop_duplicates()\n",
    "\n",
    "Corregir datos DataFrames 'instacart_orders' y 'order_products' \n",
    "1. Revisar columnas days_since_prior order y add_to_cart_order.\n",
    "2. De ser necesario, revisar si es que se pierden datos al modificar columnas con np.array_equal()\n",
    "3. Decidir si cambiar o no el tipo de datos de dichas columna. \n",
    "\n",
    "Valores ausentes: \n",
    "1. Llamar a las filas con valores ausentes con filtrado e isna().\n",
    "2. Revisar si tienen elementos en común. \n",
    "3. Reemplazar los valores ausentes con fillna() o eliminar filas con dropna(), dependiendo de los hallazgos encontrados. "
   ]
  },
  {
   "cell_type": "markdown",
   "id": "07357848-dc64-4156-9cc3-01ff4365226d",
   "metadata": {
    "id": "07357848-dc64-4156-9cc3-01ff4365226d"
   },
   "source": [
    "## Encuentra y elimina los valores duplicados (y describe cómo tomaste tus decisiones)."
   ]
  },
  {
   "cell_type": "markdown",
   "id": "f179f0a9",
   "metadata": {
    "id": "f179f0a9"
   },
   "source": [
    "### `instacart_orders` data frame"
   ]
  },
  {
   "cell_type": "code",
   "execution_count": null,
   "id": "92302acc",
   "metadata": {
    "id": "b99297a5-405a-463d-8535-9adc3da4ad74"
   },
   "outputs": [],
   "source": [
    "# Revisa si hay pedidos duplicados\n",
    "print(instacart_orders.duplicated().sum())\n",
    "print()\n",
    "print(instacart_orders[instacart_orders.duplicated()==True])"
   ]
  },
  {
   "cell_type": "markdown",
   "id": "PEkwUX_gvt5A",
   "metadata": {
    "id": "PEkwUX_gvt5A"
   },
   "source": [
    "¿Tienes líneas duplicadas? Si sí, ¿qué tienen en común?\n",
    "Respuesta: todos los duplicados sucedieron el día miércoles a las 2AM."
   ]
  },
  {
   "cell_type": "code",
   "execution_count": null,
   "id": "0d44de5d",
   "metadata": {
    "id": "0d44de5d"
   },
   "outputs": [],
   "source": [
    "# Basándote en tus hallazgos,\n",
    "# Verifica todos los pedidos que se hicieron el miércoles a las 2:00 a.m.\n",
    "print(instacart_orders.query('order_dow == 3 and order_hour_of_day == 2'))"
   ]
  },
  {
   "cell_type": "markdown",
   "id": "vu2OWyoqwOx5",
   "metadata": {
    "id": "vu2OWyoqwOx5"
   },
   "source": [
    "¿Qué sugiere este resultado? RESPUESTA: Este resultado sugiere que el error en la toma de datos fue solamente en un día puntual, ya que los valores duplicados para el miércoles a las 2AM son solo 15 de los 121 pedidos en totales para ese día a la misma hora. "
   ]
  },
  {
   "cell_type": "code",
   "execution_count": 10,
   "id": "480563c7",
   "metadata": {
    "id": "480563c7"
   },
   "outputs": [],
   "source": [
    "# Elimina los pedidos duplicados\n",
    "instacart_orders = instacart_orders.drop_duplicates().reset_index(drop=True)\n",
    "#np.array_equal(instacart_orders['days_since_prior_order'], instacart_orders['days_since_prior_order'].astype('int'))"
   ]
  },
  {
   "cell_type": "code",
   "execution_count": 14,
   "id": "0b2396a2",
   "metadata": {
    "id": "0b2396a2"
   },
   "outputs": [
    {
     "ename": "NameError",
     "evalue": "name 'instacart_orders' is not defined",
     "output_type": "error",
     "traceback": [
      "\u001b[1;31m---------------------------------------------------------------------------\u001b[0m",
      "\u001b[1;31mNameError\u001b[0m                                 Traceback (most recent call last)",
      "Cell \u001b[1;32mIn[14], line 2\u001b[0m\n\u001b[0;32m      1\u001b[0m \u001b[38;5;66;03m# Vuelve a verificar si hay filas duplicadas\u001b[39;00m\n\u001b[1;32m----> 2\u001b[0m \u001b[38;5;28mprint\u001b[39m(instacart_orders\u001b[38;5;241m.\u001b[39mduplicated()\u001b[38;5;241m.\u001b[39msum())\n",
      "\u001b[1;31mNameError\u001b[0m: name 'instacart_orders' is not defined"
     ]
    }
   ],
   "source": [
    "# Vuelve a verificar si hay filas duplicadas\n",
    "print(instacart_orders.duplicated().sum())"
   ]
  },
  {
   "cell_type": "code",
   "execution_count": 12,
   "id": "f6113ef1",
   "metadata": {
    "id": "f6113ef1"
   },
   "outputs": [
    {
     "name": "stdout",
     "output_type": "stream",
     "text": [
      "Empty DataFrame\n",
      "Columns: [order_id, user_id, order_number, order_dow, order_hour_of_day, days_since_prior_order]\n",
      "Index: []\n"
     ]
    }
   ],
   "source": [
    "# Vuelve a verificar si hay IDs duplicados de pedidos\n",
    "print(instacart_orders[instacart_orders['order_id'].duplicated() == True])"
   ]
  },
  {
   "cell_type": "markdown",
   "id": "5e8905ae",
   "metadata": {
    "id": "5e8905ae"
   },
   "source": [
    "Describe brevemente tus hallazgos y lo que hiciste con ellos\n",
    "Descripción:\n",
    "Al revisar los datos duplicados del DataFrame, nos dimos cuenta que estas filas corresponden a datos recopilados el día miércoles a las 2am. Esto puede haber sucedido debido a algún error del sistema en ese momento en específico. \n",
    "Luego de mirar esos datos, se eliminó la data duplicada y se verificó que no hayan celdas duplicadas en la columna order_id. "
   ]
  },
  {
   "cell_type": "markdown",
   "id": "45e6bc46",
   "metadata": {
    "id": "45e6bc46"
   },
   "source": [
    "### `products` data frame"
   ]
  },
  {
   "cell_type": "code",
   "execution_count": 13,
   "id": "5f526b5b-8175-46fa-a0fd-441767d50e64",
   "metadata": {
    "id": "5f526b5b-8175-46fa-a0fd-441767d50e64"
   },
   "outputs": [
    {
     "data": {
      "text/plain": [
       "0"
      ]
     },
     "execution_count": 13,
     "metadata": {},
     "output_type": "execute_result"
    }
   ],
   "source": [
    "# Verifica si hay filas totalmente duplicadas\n",
    "products.duplicated().sum()"
   ]
  },
  {
   "cell_type": "code",
   "execution_count": 14,
   "id": "88daa4f4",
   "metadata": {
    "id": "88daa4f4"
   },
   "outputs": [
    {
     "data": {
      "text/plain": [
       "0"
      ]
     },
     "execution_count": 14,
     "metadata": {},
     "output_type": "execute_result"
    }
   ],
   "source": [
    "# Verifica si hay IDs duplicadas de productos\n",
    "products['product_id'].duplicated().sum()"
   ]
  },
  {
   "cell_type": "code",
   "execution_count": 15,
   "id": "c773f0bf",
   "metadata": {
    "id": "c773f0bf"
   },
   "outputs": [
    {
     "name": "stdout",
     "output_type": "stream",
     "text": [
      "1361\n"
     ]
    }
   ],
   "source": [
    "# Revisa si hay nombres duplicados de productos (convierte los nombres a letras mayúsculas para compararlos mejor)\n",
    "products['product_name'] = products['product_name'].str.upper()\n",
    "print(products['product_name'].duplicated().sum())"
   ]
  },
  {
   "cell_type": "code",
   "execution_count": 16,
   "id": "01efd02e",
   "metadata": {
    "id": "01efd02e"
   },
   "outputs": [
    {
     "data": {
      "text/html": [
       "<div>\n",
       "<style scoped>\n",
       "    .dataframe tbody tr th:only-of-type {\n",
       "        vertical-align: middle;\n",
       "    }\n",
       "\n",
       "    .dataframe tbody tr th {\n",
       "        vertical-align: top;\n",
       "    }\n",
       "\n",
       "    .dataframe thead th {\n",
       "        text-align: right;\n",
       "    }\n",
       "</style>\n",
       "<table border=\"1\" class=\"dataframe\">\n",
       "  <thead>\n",
       "    <tr style=\"text-align: right;\">\n",
       "      <th></th>\n",
       "      <th>product_id</th>\n",
       "      <th>product_name</th>\n",
       "      <th>aisle_id</th>\n",
       "      <th>department_id</th>\n",
       "    </tr>\n",
       "  </thead>\n",
       "  <tbody>\n",
       "    <tr>\n",
       "      <th>2058</th>\n",
       "      <td>2059</td>\n",
       "      <td>BIOTIN 1000 MCG</td>\n",
       "      <td>47</td>\n",
       "      <td>11</td>\n",
       "    </tr>\n",
       "    <tr>\n",
       "      <th>5455</th>\n",
       "      <td>5456</td>\n",
       "      <td>GREEN TEA WITH GINSENG AND HONEY</td>\n",
       "      <td>96</td>\n",
       "      <td>20</td>\n",
       "    </tr>\n",
       "    <tr>\n",
       "      <th>5558</th>\n",
       "      <td>5559</td>\n",
       "      <td>CREAM OF MUSHROOM SOUP</td>\n",
       "      <td>69</td>\n",
       "      <td>15</td>\n",
       "    </tr>\n",
       "    <tr>\n",
       "      <th>7558</th>\n",
       "      <td>7559</td>\n",
       "      <td>CINNAMON ROLLS WITH ICING</td>\n",
       "      <td>105</td>\n",
       "      <td>13</td>\n",
       "    </tr>\n",
       "    <tr>\n",
       "      <th>9037</th>\n",
       "      <td>9038</td>\n",
       "      <td>AMERICAN CHEESE SLICES</td>\n",
       "      <td>21</td>\n",
       "      <td>16</td>\n",
       "    </tr>\n",
       "    <tr>\n",
       "      <th>...</th>\n",
       "      <td>...</td>\n",
       "      <td>...</td>\n",
       "      <td>...</td>\n",
       "      <td>...</td>\n",
       "    </tr>\n",
       "    <tr>\n",
       "      <th>49689</th>\n",
       "      <td>49690</td>\n",
       "      <td>HIGH PERFORMANCE ENERGY DRINK</td>\n",
       "      <td>64</td>\n",
       "      <td>7</td>\n",
       "    </tr>\n",
       "    <tr>\n",
       "      <th>49690</th>\n",
       "      <td>49691</td>\n",
       "      <td>ORIGINAL PANCAKE &amp; WAFFLE MIX</td>\n",
       "      <td>130</td>\n",
       "      <td>14</td>\n",
       "    </tr>\n",
       "    <tr>\n",
       "      <th>49691</th>\n",
       "      <td>49692</td>\n",
       "      <td>ORGANIC INSTANT OATMEAL LIGHT MAPLE BROWN SUGAR</td>\n",
       "      <td>130</td>\n",
       "      <td>14</td>\n",
       "    </tr>\n",
       "    <tr>\n",
       "      <th>49692</th>\n",
       "      <td>49693</td>\n",
       "      <td>SPRING WATER BODY WASH</td>\n",
       "      <td>127</td>\n",
       "      <td>11</td>\n",
       "    </tr>\n",
       "    <tr>\n",
       "      <th>49693</th>\n",
       "      <td>49694</td>\n",
       "      <td>BURRITO- STEAK &amp; CHEESE</td>\n",
       "      <td>38</td>\n",
       "      <td>1</td>\n",
       "    </tr>\n",
       "  </tbody>\n",
       "</table>\n",
       "<p>104 rows × 4 columns</p>\n",
       "</div>"
      ],
      "text/plain": [
       "       product_id                                     product_name  aisle_id  \\\n",
       "2058         2059                                  BIOTIN 1000 MCG        47   \n",
       "5455         5456                 GREEN TEA WITH GINSENG AND HONEY        96   \n",
       "5558         5559                           CREAM OF MUSHROOM SOUP        69   \n",
       "7558         7559                        CINNAMON ROLLS WITH ICING       105   \n",
       "9037         9038                           AMERICAN CHEESE SLICES        21   \n",
       "...           ...                                              ...       ...   \n",
       "49689       49690                    HIGH PERFORMANCE ENERGY DRINK        64   \n",
       "49690       49691                    ORIGINAL PANCAKE & WAFFLE MIX       130   \n",
       "49691       49692  ORGANIC INSTANT OATMEAL LIGHT MAPLE BROWN SUGAR       130   \n",
       "49692       49693                           SPRING WATER BODY WASH       127   \n",
       "49693       49694                          BURRITO- STEAK & CHEESE        38   \n",
       "\n",
       "       department_id  \n",
       "2058              11  \n",
       "5455              20  \n",
       "5558              15  \n",
       "7558              13  \n",
       "9037              16  \n",
       "...              ...  \n",
       "49689              7  \n",
       "49690             14  \n",
       "49691             14  \n",
       "49692             11  \n",
       "49693              1  \n",
       "\n",
       "[104 rows x 4 columns]"
      ]
     },
     "execution_count": 16,
     "metadata": {},
     "output_type": "execute_result"
    }
   ],
   "source": [
    "# Revisa si hay nombres duplicados de productos no faltantes\n",
    "products[~(products['product_name'].isna()) & (products['product_name'].duplicated())]"
   ]
  },
  {
   "cell_type": "markdown",
   "id": "9da8d293",
   "metadata": {
    "id": "9da8d293"
   },
   "source": [
    "Describe brevemente tus hallazgos y lo que hiciste con ellos. RESPUESTA: Al buscar duplicados exactos en la tabla 'products' el resultado es 0, por lo que se procede a buscar por NaN con un resultado de 1361 en la columna de 'product_name'. Para saber si es que hay duplicados que no sean valores nulos, se realiza el filtro correspondiente. El resultado de este filtro arroja 104 filas con productos de nombres repetidos. Como conclusión, podemos decir que se pueden trabajar con todos los datos de la tabla, ya que si bien hay alcances de nombre entre producto esto se puede deber a que son de distos departamente/categorías o son nuevas versiones. "
   ]
  },
  {
   "cell_type": "markdown",
   "id": "60f30db1",
   "metadata": {
    "id": "60f30db1"
   },
   "source": [
    "### `departments` data frame"
   ]
  },
  {
   "cell_type": "code",
   "execution_count": 17,
   "id": "fb410ad4-0fbf-4b80-bb09-23fdea79afe3",
   "metadata": {
    "id": "fb410ad4-0fbf-4b80-bb09-23fdea79afe3"
   },
   "outputs": [
    {
     "data": {
      "text/plain": [
       "0"
      ]
     },
     "execution_count": 17,
     "metadata": {},
     "output_type": "execute_result"
    }
   ],
   "source": [
    "# Revisa si hay filas totalmente duplicadas\n",
    "departments.duplicated().sum()"
   ]
  },
  {
   "cell_type": "code",
   "execution_count": 18,
   "id": "332b12bb",
   "metadata": {
    "id": "332b12bb"
   },
   "outputs": [
    {
     "data": {
      "text/plain": [
       "0"
      ]
     },
     "execution_count": 18,
     "metadata": {},
     "output_type": "execute_result"
    }
   ],
   "source": [
    "# Revisa si hay IDs duplicadas de productos\n",
    "departments['department_id'].duplicated().sum()"
   ]
  },
  {
   "cell_type": "markdown",
   "id": "bd30d78e",
   "metadata": {
    "id": "bd30d78e"
   },
   "source": [
    "Describe brevemente tus hallazgos y lo que hiciste con ellos.\n",
    "Respuesta: se revisaron duplicados de filas completas en el dataset y duplicados de id. Ambos resultados fueron de 0, por lo que la tabla está lista para el análisis. "
   ]
  },
  {
   "cell_type": "markdown",
   "id": "889349c1",
   "metadata": {
    "id": "889349c1"
   },
   "source": [
    "### `aisles` data frame"
   ]
  },
  {
   "cell_type": "code",
   "execution_count": 19,
   "id": "9da89fb9-4679-40f5-ad0d-c34df753a3f8",
   "metadata": {
    "id": "9da89fb9-4679-40f5-ad0d-c34df753a3f8"
   },
   "outputs": [
    {
     "data": {
      "text/plain": [
       "0"
      ]
     },
     "execution_count": 19,
     "metadata": {},
     "output_type": "execute_result"
    }
   ],
   "source": [
    "# Revisa si hay filas totalmente duplicadas\n",
    "aisles.duplicated().sum()"
   ]
  },
  {
   "cell_type": "code",
   "execution_count": 20,
   "id": "da7c2822",
   "metadata": {
    "id": "da7c2822"
   },
   "outputs": [
    {
     "data": {
      "text/plain": [
       "0"
      ]
     },
     "execution_count": 20,
     "metadata": {},
     "output_type": "execute_result"
    }
   ],
   "source": [
    "# Revisa si hay IDs duplicadas de productos\n",
    "aisles['aisle_id'].duplicated().sum()"
   ]
  },
  {
   "cell_type": "markdown",
   "id": "ac63826f",
   "metadata": {
    "id": "ac63826f"
   },
   "source": [
    "Describe brevemente tus hallazgos y lo que hiciste con ellos.\n",
    "RESPUESTA: se revisaron duplicados de filas completas en el dataset y duplicados de id. Ambos resultados fueron de 0, por lo que la tabla está lista para el análisis. "
   ]
  },
  {
   "cell_type": "markdown",
   "id": "274cd06a",
   "metadata": {
    "id": "274cd06a"
   },
   "source": [
    "### `order_products` data frame"
   ]
  },
  {
   "cell_type": "code",
   "execution_count": 21,
   "id": "52326689-84a8-4b8f-a881-7c68780f62c9",
   "metadata": {
    "id": "52326689-84a8-4b8f-a881-7c68780f62c9"
   },
   "outputs": [
    {
     "data": {
      "text/plain": [
       "0"
      ]
     },
     "execution_count": 21,
     "metadata": {},
     "output_type": "execute_result"
    }
   ],
   "source": [
    "# Revisa si hay filas totalmente duplicadas\n",
    "order_products.duplicated().sum()"
   ]
  },
  {
   "cell_type": "code",
   "execution_count": 22,
   "id": "7b861391",
   "metadata": {
    "id": "7b861391"
   },
   "outputs": [
    {
     "data": {
      "text/plain": [
       "0"
      ]
     },
     "execution_count": 22,
     "metadata": {},
     "output_type": "execute_result"
    }
   ],
   "source": [
    "# Vuelve a verificar si hay cualquier otro duplicado engañoso\n",
    "order_products[['order_id', 'product_id']].duplicated().sum()"
   ]
  },
  {
   "cell_type": "markdown",
   "id": "0b890492",
   "metadata": {
    "id": "0b890492"
   },
   "source": [
    "Describe brevemente tus hallazgos y lo que hiciste con ellos. RESPUESTA: Se buscaron duplicados exactos en la tabla al igual que duplicados al filtrar por 'order_id' y 'product_id', ambas resultados fueron de 0. Es decir, la tabla está lista para ser utilizada en el análisis."
   ]
  },
  {
   "cell_type": "markdown",
   "id": "1e46de76",
   "metadata": {
    "id": "1e46de76"
   },
   "source": [
    "## Encuentra y elimina los valores ausentes\n",
    "\n",
    "Al trabajar con valores duplicados, pudimos observar que también nos falta investigar valores ausentes:\n",
    "\n",
    "* La columna `'product_name'` de la tabla products.\n",
    "* La columna `'days_since_prior_order'` de la tabla orders.\n",
    "* La columna `'add_to_cart_order'` de la tabla order_productos."
   ]
  },
  {
   "cell_type": "markdown",
   "id": "c0aebd78",
   "metadata": {
    "id": "c0aebd78"
   },
   "source": [
    "### `products` data frame"
   ]
  },
  {
   "cell_type": "code",
   "execution_count": 23,
   "id": "fe4a8b0f",
   "metadata": {
    "id": "fe4a8b0f"
   },
   "outputs": [
    {
     "name": "stdout",
     "output_type": "stream",
     "text": [
      "       product_id product_name  aisle_id  department_id\n",
      "37             38          NaN       100             21\n",
      "71             72          NaN       100             21\n",
      "109           110          NaN       100             21\n",
      "296           297          NaN       100             21\n",
      "416           417          NaN       100             21\n",
      "...           ...          ...       ...            ...\n",
      "49552       49553          NaN       100             21\n",
      "49574       49575          NaN       100             21\n",
      "49640       49641          NaN       100             21\n",
      "49663       49664          NaN       100             21\n",
      "49668       49669          NaN       100             21\n",
      "\n",
      "[1258 rows x 4 columns]\n"
     ]
    }
   ],
   "source": [
    "# Encuentra los valores ausentes en la columna 'product_name'\n",
    "print(products[products['product_name'].isna()])"
   ]
  },
  {
   "cell_type": "markdown",
   "id": "-A6x1AbJhjkp",
   "metadata": {
    "id": "-A6x1AbJhjkp"
   },
   "source": [
    "Describe brevemente cuáles son tus hallazgos.\n",
    "RESPUESTA: al filtrar la tabla por los valores ausentes en la columna 'product_name', vemos un denominador común tanto en 'aisle_id' como 'department_id'"
   ]
  },
  {
   "cell_type": "code",
   "execution_count": 24,
   "id": "e96167bc",
   "metadata": {
    "id": "e96167bc"
   },
   "outputs": [
    {
     "name": "stdout",
     "output_type": "stream",
     "text": [
      "100    1258\n",
      "Name: aisle_id, dtype: int64\n"
     ]
    }
   ],
   "source": [
    "#  ¿Todos los nombres de productos ausentes están relacionados con el pasillo con ID 100?\n",
    "filtered_df = (products[products['product_name'].isna()])\n",
    "print(filtered_df['aisle_id'].value_counts())"
   ]
  },
  {
   "cell_type": "markdown",
   "id": "WRpIfXRphpSL",
   "metadata": {
    "id": "WRpIfXRphpSL"
   },
   "source": [
    "Describe brevemente cuáles son tus hallazgos.\n",
    "RESPUESTA: Al aplicar .values_counts() podemos dar cuenta que los valores ausentes provienen únicamente del pasillo 100 "
   ]
  },
  {
   "cell_type": "code",
   "execution_count": 25,
   "id": "8fd0a541",
   "metadata": {
    "id": "8fd0a541"
   },
   "outputs": [
    {
     "name": "stdout",
     "output_type": "stream",
     "text": [
      "21    1258\n",
      "Name: department_id, dtype: int64\n"
     ]
    }
   ],
   "source": [
    "# ¿Todos los nombres de productos ausentes están relacionados con el departamento con ID 21?\n",
    "filtered_df = (products[products['product_name'].isna()])\n",
    "print(filtered_df['department_id'].value_counts())"
   ]
  },
  {
   "cell_type": "markdown",
   "id": "qDpdYn1Fht_I",
   "metadata": {
    "id": "qDpdYn1Fht_I"
   },
   "source": [
    "Describe brevemente cuáles son tus hallazgos.\n",
    "RESPUESTA: con el método .value_counts() notamos que todos los NaN pertenecen al departamento 21"
   ]
  },
  {
   "cell_type": "code",
   "execution_count": 26,
   "id": "325c3464",
   "metadata": {
    "id": "325c3464"
   },
   "outputs": [
    {
     "name": "stdout",
     "output_type": "stream",
     "text": [
      "       product_id product_name  aisle_id  department_id\n",
      "37             38          NaN       100             21\n",
      "71             72          NaN       100             21\n",
      "109           110          NaN       100             21\n",
      "296           297          NaN       100             21\n",
      "416           417          NaN       100             21\n",
      "...           ...          ...       ...            ...\n",
      "49552       49553          NaN       100             21\n",
      "49574       49575          NaN       100             21\n",
      "49640       49641          NaN       100             21\n",
      "49663       49664          NaN       100             21\n",
      "49668       49669          NaN       100             21\n",
      "\n",
      "[1258 rows x 4 columns]\n"
     ]
    }
   ],
   "source": [
    "# Usa las tablas department y aisle para revisar los datos del pasillo con ID 100 y el departamento con ID 21.\n",
    "\n",
    "#crear dataframe para filas con pasillo 10 y departamento 21\n",
    "aisle_and_department = products.query('aisle_id == 100 and department_id ==21')\n",
    "#mostrar datraframe aisle_and_department\n",
    "print(aisle_and_department)"
   ]
  },
  {
   "cell_type": "code",
   "execution_count": 27,
   "id": "ee34f26b",
   "metadata": {},
   "outputs": [
    {
     "name": "stdout",
     "output_type": "stream",
     "text": [
      "value_counts: Series([], Name: product_name, dtype: int64)\n",
      "\n",
      "unique: [nan]\n",
      "\n",
      "isna: 1258\n"
     ]
    }
   ],
   "source": [
    "#buscar valores presentes en el dataframe por 'product_name' con distintos métodos\n",
    "print('value_counts:', aisle_and_department['product_name'].value_counts())\n",
    "print()\n",
    "print('unique:', aisle_and_department['product_name'].unique())\n",
    "print()\n",
    "#verificar cantidad de valores ausentes\n",
    "print('isna:', aisle_and_department['product_name'].isna().sum())\n",
    "\n"
   ]
  },
  {
   "cell_type": "code",
   "execution_count": 28,
   "id": "b1b743cb",
   "metadata": {},
   "outputs": [
    {
     "name": "stdout",
     "output_type": "stream",
     "text": [
      "NaN en products: product_id          0\n",
      "product_name     1258\n",
      "aisle_id            0\n",
      "department_id       0\n",
      "dtype: int64\n"
     ]
    }
   ],
   "source": [
    "#verificar si los valores ausentes del dataframe 'products' es la misma que la del dataframe 'aisle_and department'\n",
    "print('NaN en products:', products.isna().sum())"
   ]
  },
  {
   "cell_type": "markdown",
   "id": "nqhSTUPhhvEJ",
   "metadata": {
    "id": "nqhSTUPhhvEJ"
   },
   "source": [
    "Describe brevemente cuáles son tus hallazgos.\n",
    "RESPUESTA: al utilizar distintos métodos, confirmamos que todos los valores ausentes del DataFrame 'products' corresponden a celdas vacías en 'product_name' provenientes del pasillo 100, departamento 21."
   ]
  },
  {
   "cell_type": "code",
   "execution_count": 29,
   "id": "6b295120",
   "metadata": {
    "id": "6b295120"
   },
   "outputs": [
    {
     "name": "stdout",
     "output_type": "stream",
     "text": [
      "<class 'pandas.core.frame.DataFrame'>\n",
      "RangeIndex: 49694 entries, 0 to 49693\n",
      "Data columns (total 4 columns):\n",
      " #   Column         Non-Null Count  Dtype \n",
      "---  ------         --------------  ----- \n",
      " 0   product_id     49694 non-null  int64 \n",
      " 1   product_name   49694 non-null  object\n",
      " 2   aisle_id       49694 non-null  int64 \n",
      " 3   department_id  49694 non-null  int64 \n",
      "dtypes: int64(3), object(1)\n",
      "memory usage: 1.5+ MB\n",
      "None\n"
     ]
    }
   ],
   "source": [
    "# Completa los nombres de productos ausentes con 'Unknown'\n",
    "products['product_name'].fillna('Unknown', inplace=True)\n",
    "print(products.info())"
   ]
  },
  {
   "cell_type": "markdown",
   "id": "fc70e5ad",
   "metadata": {
    "id": "fc70e5ad"
   },
   "source": [
    "Describe brevemente tus hallazgos y lo que hiciste con ellos.\n",
    "RESPUESTA: Al saber que los valores ausentes del DataFrame product vienen del mismo departamento y pasillo, se cambia el NaN por 'Unknown', para no tener órdenes con datos faltantes. \n",
    "Lo más probable es que la persona encargada se haya olvidado de subir los nombres.\n",
    "Con info() se verifica que products ya no cuenta con valores ausentes. \n"
   ]
  },
  {
   "cell_type": "markdown",
   "id": "7eb45c86",
   "metadata": {
    "id": "7eb45c86"
   },
   "source": [
    "### `orders` data frame"
   ]
  },
  {
   "cell_type": "code",
   "execution_count": 30,
   "id": "521b78ce",
   "metadata": {},
   "outputs": [
    {
     "name": "stdout",
     "output_type": "stream",
     "text": [
      "order_id                      0\n",
      "user_id                       0\n",
      "order_number                  0\n",
      "order_dow                     0\n",
      "order_hour_of_day             0\n",
      "days_since_prior_order    28817\n",
      "dtype: int64\n",
      "\n",
      "        order_id  user_id  order_number  order_dow  order_hour_of_day  \\\n",
      "28        133707   182261             1          3                 10   \n",
      "96        787445    25685             1          6                 18   \n",
      "100       294410   111449             1          0                 19   \n",
      "103      2869915   123958             1          4                 16   \n",
      "104      2521921    42286             1          3                 18   \n",
      "...          ...      ...           ...        ...                ...   \n",
      "478880   2589657   205028             1          0                 16   \n",
      "478881   2222353   141211             1          2                 13   \n",
      "478907   2272807   204154             1          1                 15   \n",
      "478911   2499542    68810             1          4                 19   \n",
      "478930   1387033    22496             1          5                 14   \n",
      "\n",
      "        days_since_prior_order  \n",
      "28                         NaN  \n",
      "96                         NaN  \n",
      "100                        NaN  \n",
      "103                        NaN  \n",
      "104                        NaN  \n",
      "...                        ...  \n",
      "478880                     NaN  \n",
      "478881                     NaN  \n",
      "478907                     NaN  \n",
      "478911                     NaN  \n",
      "478930                     NaN  \n",
      "\n",
      "[28817 rows x 6 columns]\n"
     ]
    }
   ],
   "source": [
    "# Encuentra los valores ausentes\n",
    "\n",
    "#Buscar dónde están los valores ausentes en el dataframe\n",
    "print(instacart_orders.isna().sum())\n",
    "print()\n",
    "#mostrar filas con valores ausentes\n",
    "print(instacart_orders[instacart_orders['days_since_prior_order'].isna()])"
   ]
  },
  {
   "cell_type": "code",
   "execution_count": 31,
   "id": "166e5a86",
   "metadata": {
    "id": "166e5a86"
   },
   "outputs": [
    {
     "name": "stdout",
     "output_type": "stream",
     "text": [
      "1    28817\n",
      "Name: order_number, dtype: int64\n"
     ]
    }
   ],
   "source": [
    "# ¿Hay algún valor ausente que no sea el primer pedido del cliente?\n",
    "\n",
    "#crear filtro para mostrar filas con valores ausentes en 'days_since_prior_order'\n",
    "orders_filter_prior_order = instacart_orders[instacart_orders['days_since_prior_order'].isna()]\n",
    "#mostrar número de orden donde hay NaN\n",
    "print(orders_filter_prior_order['order_number'].value_counts())"
   ]
  },
  {
   "cell_type": "markdown",
   "id": "4e23d089",
   "metadata": {
    "id": "4e23d089"
   },
   "source": [
    "Describe brevemente tus hallazgos y lo que hiciste con ellos.\n",
    "RESPUESTA: Al encontrar la columna dónde habían valores ausentes en el DataFrame 'instacart_orders', se verificó que ocurrían porque se trataban del primer pedido del cliente. Para llegar a esta conclusión se utilizó value_counts() sobre la columna 'order_number' de las filas con NaN"
   ]
  },
  {
   "cell_type": "markdown",
   "id": "69dc9ca4",
   "metadata": {
    "id": "69dc9ca4"
   },
   "source": [
    "### `order_products` data frame"
   ]
  },
  {
   "cell_type": "code",
   "execution_count": 32,
   "id": "b8240253",
   "metadata": {
    "id": "b8240253"
   },
   "outputs": [
    {
     "name": "stdout",
     "output_type": "stream",
     "text": [
      "order_id               0\n",
      "product_id             0\n",
      "add_to_cart_order    836\n",
      "reordered              0\n",
      "dtype: int64\n",
      "0          False\n",
      "1          False\n",
      "2          False\n",
      "3          False\n",
      "4          False\n",
      "           ...  \n",
      "4545002    False\n",
      "4545003    False\n",
      "4545004    False\n",
      "4545005    False\n",
      "4545006    False\n",
      "Name: add_to_cart_order, Length: 4545007, dtype: bool\n"
     ]
    }
   ],
   "source": [
    "# Encuentra los valores ausentes\n",
    "\n",
    "#Buscar columnas con NaN\n",
    "print(order_products.isna().sum())\n",
    "#Mostrar filas con NaN en 'add_to_cart_order'\n",
    "print(order_products['add_to_cart_order'].isna())\n"
   ]
  },
  {
   "cell_type": "code",
   "execution_count": 33,
   "id": "9a78e5ee",
   "metadata": {
    "id": "9a78e5ee"
   },
   "outputs": [
    {
     "name": "stdout",
     "output_type": "stream",
     "text": [
      "Valor mínimo: 1.0\n",
      "Valor máximo: 64.0\n"
     ]
    }
   ],
   "source": [
    "# ¿Cuáles son los valores mínimos y máximos en esta columna?\n",
    "print('Valor mínimo:', order_products['add_to_cart_order'].min())\n",
    "print('Valor máximo:', order_products['add_to_cart_order'].max())"
   ]
  },
  {
   "cell_type": "markdown",
   "id": "-Z2Ja215jW78",
   "metadata": {
    "id": "-Z2Ja215jW78"
   },
   "source": [
    "Describe brevemente cuáles son tus hallazgos.\n",
    "RESPUESTA: No hay pedidos con una venta mayor a 64 productos. Los NaN presentes no corresponden a errores con el primer ítem porque el mínimo 1 sí fue contado."
   ]
  },
  {
   "cell_type": "code",
   "execution_count": 34,
   "id": "ab9d0c2b",
   "metadata": {
    "id": "ab9d0c2b"
   },
   "outputs": [
    {
     "name": "stdout",
     "output_type": "stream",
     "text": [
      "         order_id  product_id  add_to_cart_order  reordered\n",
      "737       2449164        5068                NaN          0\n",
      "9926      1968313       43867                NaN          0\n",
      "14394     2926893       11688                NaN          0\n",
      "16418     1717990        4142                NaN          0\n",
      "30114     1959075       42828                NaN          1\n",
      "...           ...         ...                ...        ...\n",
      "4505662   1800005        7411                NaN          0\n",
      "4511400   1633337         260                NaN          0\n",
      "4517562    404157        9517                NaN          0\n",
      "4534112   1673227       17835                NaN          0\n",
      "4535739   1832957       17949                NaN          1\n",
      "\n",
      "[836 rows x 4 columns]\n"
     ]
    }
   ],
   "source": [
    "# Guarda todas las IDs de pedidos que tengan un valor ausente en 'add_to_cart_order'\n",
    "order_id_with_nan = order_products[order_products['add_to_cart_order'].isna()]\n",
    "print(order_id_with_nan)"
   ]
  },
  {
   "cell_type": "code",
   "execution_count": 1,
   "id": "54c31695",
   "metadata": {
    "id": "54c31695"
   },
   "outputs": [
    {
     "ename": "NameError",
     "evalue": "name 'order_id_with_nan' is not defined",
     "output_type": "error",
     "traceback": [
      "\u001b[1;31m---------------------------------------------------------------------------\u001b[0m",
      "\u001b[1;31mNameError\u001b[0m                                 Traceback (most recent call last)",
      "Cell \u001b[1;32mIn[1], line 2\u001b[0m\n\u001b[0;32m      1\u001b[0m \u001b[38;5;66;03m# ¿Todos los pedidos con valores ausentes tienen más de 64 productos?\u001b[39;00m\n\u001b[1;32m----> 2\u001b[0m \u001b[38;5;28mprint\u001b[39m(order_id_with_nan[\u001b[38;5;124m'\u001b[39m\u001b[38;5;124morder_id\u001b[39m\u001b[38;5;124m'\u001b[39m]\u001b[38;5;241m.\u001b[39mvalue_counts())\n\u001b[0;32m      4\u001b[0m \u001b[38;5;66;03m# Agrupa todos los pedidos con datos ausentes por su ID de pedido.\u001b[39;00m\n\u001b[0;32m      5\u001b[0m grouped_by_order_id \u001b[38;5;241m=\u001b[39m order_id_with_nan\u001b[38;5;241m.\u001b[39mgroupby(\u001b[38;5;124m'\u001b[39m\u001b[38;5;124morder_id\u001b[39m\u001b[38;5;124m'\u001b[39m)\n",
      "\u001b[1;31mNameError\u001b[0m: name 'order_id_with_nan' is not defined"
     ]
    }
   ],
   "source": [
    "# ¿Todos los pedidos con valores ausentes tienen más de 64 productos?\n",
    "print(order_id_with_nan['order_id'].value_counts())\n",
    "\n",
    "# Agrupa todos los pedidos con datos ausentes por su ID de pedido.\n",
    "grouped_by_order_id = order_id_with_nan.groupby('order_id')\n",
    "\n",
    "# Cuenta el número de 'product_id' en cada pedido y revisa el valor mínimo del conteo.\n",
    "print('Cantidad de productos por orden:\\n',grouped_by_order_id['product_id'].count())\n",
    "print()\n",
    "print('Compra mínima de items:', grouped_by_order_id['product_id'].count().min())"
   ]
  },
  {
   "cell_type": "markdown",
   "id": "p9V6pddtjglj",
   "metadata": {
    "id": "p9V6pddtjglj"
   },
   "source": [
    "Describe brevemente cuáles son tus hallazgos.\n",
    "RESPUESTAS: se revisan las filas con NaN y se cuenta la cantidad de items por contra. Al mirar la data, nos damos cuenta que los NaN son independientes al número de productos comprados. Hay que seguir analizando el error."
   ]
  },
  {
   "cell_type": "code",
   "execution_count": 36,
   "id": "7a987d08",
   "metadata": {
    "id": "7a987d08"
   },
   "outputs": [],
   "source": [
    "# Remplaza los valores ausentes en la columna 'add_to_cart? con 999 y convierte la columna al tipo entero.\n",
    "order_products['add_to_cart_order'].fillna(999, inplace=True)\n",
    "order_products['add_to_cart_order'] = order_products['add_to_cart_order'].astype('int')"
   ]
  },
  {
   "cell_type": "markdown",
   "id": "fea4bcc7",
   "metadata": {
    "id": "fea4bcc7"
   },
   "source": [
    "Describe brevemente tus hallazgos y lo que hiciste con ellos.\n",
    "RESPUESTA: Al no encontrarse algún patrón sobre la presencia de NaN en el dataset, se cambian los valores ausentes por 999. A continuación se cambia el tipo de dato de la columna 'add_to_cart_order' de float a entero. "
   ]
  },
  {
   "cell_type": "markdown",
   "id": "RnplPFY1gSrb",
   "metadata": {
    "id": "RnplPFY1gSrb"
   },
   "source": [
    "## Conclusiones\n",
    "\n",
    "Escribe aquí tus conclusiones intermedias sobre el Paso 2. Preprocesamiento de los datos\n",
    "RESPUESTA: Se realiza el preprocesamiento de datos a los cinco Dataframes. El trabajar con la data nos permite ver que los dataframe aisle y departments vienen listos para realizar análisis sobre ellos. En los otros tres dataset se eliminan duplicados explicitos y se revisan los NaN presentes. Al mirar detalladamente a las filas con valores ausentes en el DataFrames de ordenes, podemos notar que faltó cargar la información de aquellos productos pertenecientes al departamento 21-pasillo 100. Para no perder la información de otras columnas en los dataframes con NaN, se reemplazan estos valores por otros pertinentes y que reflejen que la información no estaba presente. \n",
    "\n"
   ]
  },
  {
   "cell_type": "markdown",
   "id": "UjrOIwTcz3ri",
   "metadata": {
    "id": "UjrOIwTcz3ri"
   },
   "source": [
    "# Paso 3. Análisis de los datos\n",
    "\n",
    "Una vez los datos estén procesados y listos, haz el siguiente análisis:"
   ]
  },
  {
   "cell_type": "markdown",
   "id": "turkish-kidney",
   "metadata": {
    "id": "turkish-kidney"
   },
   "source": [
    "# [A] Fácil (deben completarse todos para aprobar)\n",
    "\n",
    "1. Verifica que los valores en las columnas `'order_hour_of_day'` y `'order_dow'` en la tabla orders sean razonables (es decir, `'order_hour_of_day'` oscile entre 0 y 23 y `'order_dow'` oscile entre 0 y 6).\n",
    "2. Crea un gráfico que muestre el número de personas que hacen pedidos dependiendo de la hora del día.\n",
    "3. Crea un gráfico que muestre qué día de la semana la gente hace sus compras.\n",
    "4. Crea un gráfico que muestre el tiempo que la gente espera hasta hacer su siguiente pedido, y comenta sobre los valores mínimos y máximos."
   ]
  },
  {
   "cell_type": "markdown",
   "id": "short-capability",
   "metadata": {
    "id": "short-capability"
   },
   "source": [
    "### [A1] Verifica que los valores sean sensibles"
   ]
  },
  {
   "cell_type": "code",
   "execution_count": 37,
   "id": "growing-fruit",
   "metadata": {
    "id": "growing-fruit"
   },
   "outputs": [
    {
     "data": {
      "text/plain": [
       "0      3180\n",
       "1      1763\n",
       "2       989\n",
       "3       770\n",
       "4       765\n",
       "5      1371\n",
       "6      4215\n",
       "7     13043\n",
       "8     25024\n",
       "9     35896\n",
       "10    40578\n",
       "11    40032\n",
       "12    38034\n",
       "13    39007\n",
       "14    39631\n",
       "15    39789\n",
       "16    38112\n",
       "17    31930\n",
       "18    25510\n",
       "19    19547\n",
       "20    14624\n",
       "21    11019\n",
       "22     8512\n",
       "23     5611\n",
       "Name: order_hour_of_day, dtype: int64"
      ]
     },
     "execution_count": 37,
     "metadata": {},
     "output_type": "execute_result"
    }
   ],
   "source": [
    "#verificar valores hora \n",
    "instacart_orders['order_hour_of_day'].value_counts().sort_index()"
   ]
  },
  {
   "cell_type": "code",
   "execution_count": 38,
   "id": "accessory-malaysia",
   "metadata": {
    "id": "accessory-malaysia"
   },
   "outputs": [
    {
     "data": {
      "text/plain": [
       "0    84090\n",
       "1    82185\n",
       "2    65833\n",
       "3    60897\n",
       "4    59810\n",
       "5    63488\n",
       "6    62649\n",
       "Name: order_dow, dtype: int64"
      ]
     },
     "execution_count": 38,
     "metadata": {},
     "output_type": "execute_result"
    }
   ],
   "source": [
    "#verificar valores día\n",
    "instacart_orders['order_dow'].value_counts().sort_index()"
   ]
  },
  {
   "cell_type": "markdown",
   "id": "hmR2GNQ6lCsX",
   "metadata": {
    "id": "hmR2GNQ6lCsX"
   },
   "source": [
    "Escribe aquí tus conclusiones. RESPUESTA: Se utiliza value_counts() y sort_index() para verificar los valores presentes en las columnas order_hour_of_day y order_dow. Se comprueba que no hay ningún dato anómalo. "
   ]
  },
  {
   "cell_type": "markdown",
   "id": "a6743a70",
   "metadata": {
    "id": "a6743a70"
   },
   "source": [
    "### [A2] Para cada hora del día, ¿cuántas personas hacen órdenes?"
   ]
  },
  {
   "cell_type": "code",
   "execution_count": 39,
   "id": "a36cca27",
   "metadata": {
    "id": "a36cca27"
   },
   "outputs": [
    {
     "data": {
      "text/plain": [
       "order_hour_of_day\n",
       "0      2991\n",
       "1      1671\n",
       "2       958\n",
       "3       744\n",
       "4       735\n",
       "5      1281\n",
       "6      3757\n",
       "7     10993\n",
       "8     20268\n",
       "9     28112\n",
       "10    32195\n",
       "11    32660\n",
       "12    31754\n",
       "13    32433\n",
       "14    32797\n",
       "15    32894\n",
       "16    31579\n",
       "17    26825\n",
       "18    21795\n",
       "19    17026\n",
       "20    12891\n",
       "21     9806\n",
       "22     7670\n",
       "23     5167\n",
       "Name: user_id, dtype: int64"
      ]
     },
     "execution_count": 39,
     "metadata": {},
     "output_type": "execute_result"
    }
   ],
   "source": [
    "#filtrar información\n",
    "orders_by_hour = instacart_orders.groupby('order_hour_of_day')['user_id'].nunique()\n",
    "orders_by_hour"
   ]
  },
  {
   "cell_type": "code",
   "execution_count": 40,
   "id": "df426ee3",
   "metadata": {},
   "outputs": [
    {
     "data": {
      "image/png": "[encoded data removed]",
      "text/plain": [
       "<Figure size 640x480 with 1 Axes>"
      ]
     },
     "metadata": {},
     "output_type": "display_data"
    }
   ],
   "source": [
    "#graficar resultados\n",
    "orders_by_hour.plot(kind='bar',\n",
    "                   xlabel='Hour',\n",
    "                   ylabel='Clients',\n",
    "                   title='Hourly order entry')\n",
    "\n",
    "plt.show()"
   ]
  },
  {
   "cell_type": "markdown",
   "id": "11270eed",
   "metadata": {
    "id": "11270eed"
   },
   "source": [
    "Escribe aquí tus conclusiones. RESPUESTA: las horas del día con más compras son los horario entre 10 y 16, siendo las 15PM el peak de compras. "
   ]
  },
  {
   "cell_type": "markdown",
   "id": "documented-command",
   "metadata": {
    "id": "documented-command"
   },
   "source": [
    "### [A3] ¿Qué día de la semana compran víveres las personas?"
   ]
  },
  {
   "cell_type": "code",
   "execution_count": 41,
   "id": "chief-digit",
   "metadata": {
    "id": "chief-digit"
   },
   "outputs": [
    {
     "data": {
      "text/plain": [
       "order_dow\n",
       "0    84090\n",
       "1    82185\n",
       "2    65833\n",
       "3    60897\n",
       "4    59810\n",
       "5    63488\n",
       "6    62649\n",
       "Name: order_id, dtype: int64"
      ]
     },
     "execution_count": 41,
     "metadata": {},
     "output_type": "execute_result"
    }
   ],
   "source": [
    "#filtrar información\n",
    "orders_by_day = instacart_orders.groupby('order_dow')['order_id'].count()\n",
    "orders_by_day"
   ]
  },
  {
   "cell_type": "code",
   "execution_count": 42,
   "id": "b24e1e20",
   "metadata": {},
   "outputs": [
    {
     "data": {
      "image/png": "[encoded data removed]",
      "text/plain": [
       "<Figure size 640x480 with 1 Axes>"
      ]
     },
     "metadata": {},
     "output_type": "display_data"
    }
   ],
   "source": [
    "#graficar información \n",
    "orders_by_day.plot(kind='bar',\n",
    "                  xlabel='Day',\n",
    "                  ylabel='Orders count',\n",
    "                  title='Daily order entry')\n",
    "\n",
    "plt.show()"
   ]
  },
  {
   "cell_type": "markdown",
   "id": "dominant-lightning",
   "metadata": {
    "id": "dominant-lightning"
   },
   "source": [
    "Escribe aquí tus conclusiones. RESPUESTA: El mejor día de ventas es el Domingo seguido por el día Lunes. Miércoles y Jueves son los días de la semana donde menos se vende. "
   ]
  },
  {
   "cell_type": "markdown",
   "id": "cutting-concert",
   "metadata": {
    "id": "cutting-concert"
   },
   "source": [
    "### [A4] ¿Cuánto tiempo esperan las personas hasta hacer otro pedido? Comenta sobre los valores mínimos y máximos."
   ]
  },
  {
   "cell_type": "code",
   "execution_count": 43,
   "id": "c231f523",
   "metadata": {
    "id": "c231f523"
   },
   "outputs": [
    {
     "data": {
      "text/plain": [
       "days_since_prior_order\n",
       "26.0     2640\n",
       "29.0     2673\n",
       "25.0     2711\n",
       "27.0     2986\n",
       "24.0     3015\n",
       "23.0     3337\n",
       "28.0     3745\n",
       "22.0     4514\n",
       "19.0     4939\n",
       "18.0     4971\n",
       "20.0     5302\n",
       "17.0     5498\n",
       "21.0     6448\n",
       "16.0     6587\n",
       "15.0     9416\n",
       "0.0      9589\n",
       "12.0    10658\n",
       "11.0    11467\n",
       "13.0    11737\n",
       "10.0    13309\n",
       "14.0    13992\n",
       "9.0     16753\n",
       "1.0     20179\n",
       "8.0     25361\n",
       "2.0     27138\n",
       "5.0     30096\n",
       "3.0     30224\n",
       "4.0     31006\n",
       "6.0     33930\n",
       "7.0     44577\n",
       "30.0    51337\n",
       "Name: order_id, dtype: int64"
      ]
     },
     "execution_count": 43,
     "metadata": {},
     "output_type": "execute_result"
    }
   ],
   "source": [
    "#filtrar información\n",
    "days_since_prior_order = instacart_orders.groupby('days_since_prior_order')['order_id'].count()\n",
    "days_since_prior_order.sort_values()"
   ]
  },
  {
   "cell_type": "code",
   "execution_count": 44,
   "id": "0e5f1eb8",
   "metadata": {},
   "outputs": [
    {
     "data": {
      "image/png": "[encoded data removed]",
      "text/plain": [
       "<Figure size 640x480 with 1 Axes>"
      ]
     },
     "metadata": {},
     "output_type": "display_data"
    }
   ],
   "source": [
    "#graficar información \n",
    "days_since_prior_order.plot(kind='bar',\n",
    "                          xlabel='Hours',\n",
    "                          ylabel='Order entries',\n",
    "                          title='Days between purchases')\n",
    "\n",
    "plt.show()"
   ]
  },
  {
   "cell_type": "markdown",
   "id": "discrete-vertex",
   "metadata": {
    "id": "discrete-vertex"
   },
   "source": [
    "Escribe aquí tus conclusiones. RESPUESTA: La mayor cantidad de día que esperan las personas para volver a comprar son 30 y el mínimo 26. Puede inferirse que las familias tienden a realizar una compra para todo el mes. Necesitamos más información para saber las fechas de estos datos, de esa manera confirmar que estos movimientos tienen relación con las fechas de pago de cada persona."
   ]
  },
  {
   "cell_type": "markdown",
   "id": "tight-staff",
   "metadata": {
    "id": "tight-staff"
   },
   "source": [
    "# [B] Intermedio (deben completarse todos para aprobar)\n",
    "\n",
    "1. ¿Existe alguna diferencia entre las distribuciones `'order_hour_of_day'` de los miércoles y los sábados? Traza gráficos de barra de `'order_hour_of_day'` para ambos días en la misma figura y describe las diferencias que observes.\n",
    "2. Grafica la distribución para el número de órdenes que hacen los clientes (es decir, cuántos clientes hicieron solo 1 pedido, cuántos hicieron 2, cuántos 3, y así sucesivamente...).\n",
    "3. ¿Cuáles son los 20 principales productos que se piden con más frecuencia (muestra su identificación y nombre)?"
   ]
  },
  {
   "cell_type": "markdown",
   "id": "packed-classic",
   "metadata": {
    "id": "packed-classic"
   },
   "source": [
    "### [B1] Diferencia entre miércoles y sábados para  `'order_hour_of_day'`. Traza gráficos de barra para los dos días y describe las diferencias que veas."
   ]
  },
  {
   "cell_type": "code",
   "execution_count": 45,
   "id": "845de5ed",
   "metadata": {},
   "outputs": [
    {
     "name": "stdout",
     "output_type": "stream",
     "text": [
      "    order_hour_of_day  order_hour_of_day\n",
      "0                 373                464\n",
      "1                 215                254\n",
      "2                 106                177\n",
      "3                 101                125\n",
      "4                 108                118\n",
      "5                 170                161\n",
      "6                 643                451\n",
      "7                1732               1619\n",
      "8                3125               3246\n",
      "9                4490               4311\n",
      "10               5026               4919\n",
      "11               5004               5116\n",
      "12               4688               5132\n",
      "13               4674               5323\n",
      "14               4774               5375\n",
      "15               5163               5188\n",
      "16               4976               5029\n",
      "17               4175               4295\n",
      "18               3463               3338\n",
      "19               2652               2610\n",
      "20               1917               1847\n",
      "21               1450               1473\n",
      "22               1154               1185\n",
      "23                718                893\n"
     ]
    }
   ],
   "source": [
    "# filtrar información para crear gráfico por hora del día\n",
    "\n",
    "#datos miércoles\n",
    "wed_orders = instacart_orders[instacart_orders['order_dow'] == 3]\n",
    "wed_hour_orders = wed_orders['order_hour_of_day'].value_counts().sort_index()\n",
    "\n",
    "#datos sábado\n",
    "sat_orders = instacart_orders[instacart_orders['order_dow'] == 6]\n",
    "sat_hours_orders = sat_orders['order_hour_of_day'].value_counts().sort_index()\n",
    "\n",
    "#unión gráficos. \n",
    "wed_sat_orders = pd.concat([wed_hour_orders, sat_hours_orders], axis='columns')\n",
    "print(wed_sat_orders)"
   ]
  },
  {
   "cell_type": "code",
   "execution_count": 46,
   "id": "a8d4f4b4",
   "metadata": {},
   "outputs": [
    {
     "data": {
      "image/png": "[encoded data removed]",
      "text/plain": [
       "<Figure size 640x480 with 1 Axes>"
      ]
     },
     "metadata": {},
     "output_type": "display_data"
    }
   ],
   "source": [
    "#gráfico día miércoles\n",
    "\n",
    "wed_sat_orders.plot(kind='bar',\n",
    "                   xlabel='Hour of the day',\n",
    "                   ylabel='Order count',\n",
    "                   legend=False,\n",
    "                   title='Purchases throughout the day')\n",
    "\n",
    "plt.legend(['Wednesday', 'Saturdarday'])\n",
    "plt.show()"
   ]
  },
  {
   "cell_type": "markdown",
   "id": "charitable-congo",
   "metadata": {
    "id": "charitable-congo"
   },
   "source": [
    "Escribe aquí tus conclusiones.\n",
    "RESPUESTA: al graficar las compras realizadas en cada hora del día para ambos días, podemos notar que durante miércoles y sábados la cantidad de órdenes realizas son mayormente similares. Las diferencia se puede notar entre las 12 y 14 horas, en este rango horario las compras del sábado son mayores a las del miércoles."
   ]
  },
  {
   "cell_type": "markdown",
   "id": "e3891143",
   "metadata": {
    "id": "e3891143"
   },
   "source": [
    "### [B2] ¿Cuál es la distribución para el número de pedidos por cliente?"
   ]
  },
  {
   "cell_type": "code",
   "execution_count": 47,
   "id": "d8c26c23",
   "metadata": {
    "id": "d8c26c23"
   },
   "outputs": [
    {
     "data": {
      "text/plain": [
       "user_id\n",
       "2         2\n",
       "4         2\n",
       "5         1\n",
       "6         2\n",
       "7         2\n",
       "         ..\n",
       "206203    1\n",
       "206206    7\n",
       "206207    5\n",
       "206208    9\n",
       "206209    2\n",
       "Name: order_id, Length: 157437, dtype: int64"
      ]
     },
     "execution_count": 47,
     "metadata": {},
     "output_type": "execute_result"
    }
   ],
   "source": [
    "# filtrar información para crear gráfico número de compras\n",
    "\n",
    "#agrupar datos por user_id y contar números de co\n",
    "num_orders = instacart_orders.groupby('user_id')['order_id'].count()\n",
    "             \n",
    "              \n",
    "num_orders"
   ]
  },
  {
   "cell_type": "code",
   "execution_count": 48,
   "id": "00e69a66",
   "metadata": {
    "id": "00e69a66"
   },
   "outputs": [
    {
     "data": {
      "image/png": "[encoded data removed]",
      "text/plain": [
       "<Figure size 640x480 with 1 Axes>"
      ]
     },
     "metadata": {},
     "output_type": "display_data"
    }
   ],
   "source": [
    "#gráfico frecuencia número de compras\n",
    "num_orders.plot(title='Purchases tendency',\n",
    "               kind='hist')\n",
    "               \n",
    "            \n",
    "plt.ylabel('Number of customers')\n",
    "plt.xlabel('Purchases')\n",
    "plt.show()        "
   ]
  },
  {
   "cell_type": "markdown",
   "id": "d2eff7d5",
   "metadata": {
    "id": "d2eff7d5"
   },
   "source": [
    "Escribe aquí tus conclusiones. RESPUESTA: al revisar detalladamente el gráfico que muestra la frecuencia de compras por cliente, nos damos cuenta que la mayoría realiza entre 1 a 100 compras. Sería importante revisar las fechas de las órdenes para indagar esta tendencia."
   ]
  },
  {
   "cell_type": "markdown",
   "id": "54a0319c",
   "metadata": {
    "id": "54a0319c"
   },
   "source": [
    "### [B3] ¿Cuáles son los 20 productos más populares (muestra su ID y nombre)?"
   ]
  },
  {
   "cell_type": "code",
   "execution_count": 49,
   "id": "51e6647d",
   "metadata": {},
   "outputs": [],
   "source": [
    "products_order_id = order_products[['order_id', 'product_id']]\n",
    "product_identification = products[['product_id', 'product_name']]\n"
   ]
  },
  {
   "cell_type": "code",
   "execution_count": 50,
   "id": "exterior-arizona",
   "metadata": {
    "id": "exterior-arizona",
    "scrolled": true
   },
   "outputs": [
    {
     "data": {
      "text/html": [
       "<div>\n",
       "<style scoped>\n",
       "    .dataframe tbody tr th:only-of-type {\n",
       "        vertical-align: middle;\n",
       "    }\n",
       "\n",
       "    .dataframe tbody tr th {\n",
       "        vertical-align: top;\n",
       "    }\n",
       "\n",
       "    .dataframe thead th {\n",
       "        text-align: right;\n",
       "    }\n",
       "</style>\n",
       "<table border=\"1\" class=\"dataframe\">\n",
       "  <thead>\n",
       "    <tr style=\"text-align: right;\">\n",
       "      <th></th>\n",
       "      <th>order_id</th>\n",
       "      <th>product_id</th>\n",
       "      <th>product_name</th>\n",
       "    </tr>\n",
       "  </thead>\n",
       "  <tbody>\n",
       "    <tr>\n",
       "      <th>0</th>\n",
       "      <td>2141543</td>\n",
       "      <td>11440</td>\n",
       "      <td>CHICKEN BREAST TENDERS BREADED</td>\n",
       "    </tr>\n",
       "    <tr>\n",
       "      <th>1</th>\n",
       "      <td>147172</td>\n",
       "      <td>11440</td>\n",
       "      <td>CHICKEN BREAST TENDERS BREADED</td>\n",
       "    </tr>\n",
       "    <tr>\n",
       "      <th>2</th>\n",
       "      <td>3341719</td>\n",
       "      <td>11440</td>\n",
       "      <td>CHICKEN BREAST TENDERS BREADED</td>\n",
       "    </tr>\n",
       "    <tr>\n",
       "      <th>3</th>\n",
       "      <td>1938779</td>\n",
       "      <td>11440</td>\n",
       "      <td>CHICKEN BREAST TENDERS BREADED</td>\n",
       "    </tr>\n",
       "    <tr>\n",
       "      <th>4</th>\n",
       "      <td>1728338</td>\n",
       "      <td>11440</td>\n",
       "      <td>CHICKEN BREAST TENDERS BREADED</td>\n",
       "    </tr>\n",
       "    <tr>\n",
       "      <th>...</th>\n",
       "      <td>...</td>\n",
       "      <td>...</td>\n",
       "      <td>...</td>\n",
       "    </tr>\n",
       "    <tr>\n",
       "      <th>4545002</th>\n",
       "      <td>267402</td>\n",
       "      <td>45226</td>\n",
       "      <td>SWEET TERIYAKI CHICKEN OVEN SAUCE</td>\n",
       "    </tr>\n",
       "    <tr>\n",
       "      <th>4545003</th>\n",
       "      <td>2621676</td>\n",
       "      <td>25201</td>\n",
       "      <td>CRISP WATERS CANDLE SCENTS</td>\n",
       "    </tr>\n",
       "    <tr>\n",
       "      <th>4545004</th>\n",
       "      <td>937623</td>\n",
       "      <td>49153</td>\n",
       "      <td>SHINE COLLECTION BRILLANCE SHAMPOO</td>\n",
       "    </tr>\n",
       "    <tr>\n",
       "      <th>4545005</th>\n",
       "      <td>532895</td>\n",
       "      <td>8182</td>\n",
       "      <td>TOTAL MINT STRIPE GEL TOOTHPASTE</td>\n",
       "    </tr>\n",
       "    <tr>\n",
       "      <th>4545006</th>\n",
       "      <td>3132243</td>\n",
       "      <td>40024</td>\n",
       "      <td>EGG REPLACER POWDER</td>\n",
       "    </tr>\n",
       "  </tbody>\n",
       "</table>\n",
       "<p>4545007 rows × 3 columns</p>\n",
       "</div>"
      ],
      "text/plain": [
       "         order_id  product_id                        product_name\n",
       "0         2141543       11440      CHICKEN BREAST TENDERS BREADED\n",
       "1          147172       11440      CHICKEN BREAST TENDERS BREADED\n",
       "2         3341719       11440      CHICKEN BREAST TENDERS BREADED\n",
       "3         1938779       11440      CHICKEN BREAST TENDERS BREADED\n",
       "4         1728338       11440      CHICKEN BREAST TENDERS BREADED\n",
       "...           ...         ...                                 ...\n",
       "4545002    267402       45226   SWEET TERIYAKI CHICKEN OVEN SAUCE\n",
       "4545003   2621676       25201          CRISP WATERS CANDLE SCENTS\n",
       "4545004    937623       49153  SHINE COLLECTION BRILLANCE SHAMPOO\n",
       "4545005    532895        8182    TOTAL MINT STRIPE GEL TOOTHPASTE\n",
       "4545006   3132243       40024                 EGG REPLACER POWDER\n",
       "\n",
       "[4545007 rows x 3 columns]"
      ]
     },
     "execution_count": 50,
     "metadata": {},
     "output_type": "execute_result"
    }
   ],
   "source": [
    "#unir tablas filtradas de order_products y products\n",
    "product_id_name = products_order_id.merge(product_identification, on='product_id')\n",
    "product_id_name\n"
   ]
  },
  {
   "cell_type": "code",
   "execution_count": 51,
   "id": "2f1aab96",
   "metadata": {},
   "outputs": [
    {
     "data": {
      "text/html": [
       "<div>\n",
       "<style scoped>\n",
       "    .dataframe tbody tr th:only-of-type {\n",
       "        vertical-align: middle;\n",
       "    }\n",
       "\n",
       "    .dataframe tbody tr th {\n",
       "        vertical-align: top;\n",
       "    }\n",
       "\n",
       "    .dataframe thead th {\n",
       "        text-align: right;\n",
       "    }\n",
       "</style>\n",
       "<table border=\"1\" class=\"dataframe\">\n",
       "  <thead>\n",
       "    <tr style=\"text-align: right;\">\n",
       "      <th></th>\n",
       "      <th>product_id</th>\n",
       "      <th>product_name</th>\n",
       "      <th>num_purchases</th>\n",
       "    </tr>\n",
       "  </thead>\n",
       "  <tbody>\n",
       "    <tr>\n",
       "      <th>0</th>\n",
       "      <td>24852</td>\n",
       "      <td>BANANA</td>\n",
       "      <td>66050</td>\n",
       "    </tr>\n",
       "    <tr>\n",
       "      <th>1</th>\n",
       "      <td>13176</td>\n",
       "      <td>BAG OF ORGANIC BANANAS</td>\n",
       "      <td>53297</td>\n",
       "    </tr>\n",
       "    <tr>\n",
       "      <th>2</th>\n",
       "      <td>21137</td>\n",
       "      <td>ORGANIC STRAWBERRIES</td>\n",
       "      <td>37039</td>\n",
       "    </tr>\n",
       "    <tr>\n",
       "      <th>3</th>\n",
       "      <td>21903</td>\n",
       "      <td>ORGANIC BABY SPINACH</td>\n",
       "      <td>33971</td>\n",
       "    </tr>\n",
       "    <tr>\n",
       "      <th>4</th>\n",
       "      <td>47209</td>\n",
       "      <td>ORGANIC HASS AVOCADO</td>\n",
       "      <td>29773</td>\n",
       "    </tr>\n",
       "    <tr>\n",
       "      <th>5</th>\n",
       "      <td>47766</td>\n",
       "      <td>ORGANIC AVOCADO</td>\n",
       "      <td>24689</td>\n",
       "    </tr>\n",
       "    <tr>\n",
       "      <th>6</th>\n",
       "      <td>47626</td>\n",
       "      <td>LARGE LEMON</td>\n",
       "      <td>21495</td>\n",
       "    </tr>\n",
       "    <tr>\n",
       "      <th>7</th>\n",
       "      <td>16797</td>\n",
       "      <td>STRAWBERRIES</td>\n",
       "      <td>20018</td>\n",
       "    </tr>\n",
       "    <tr>\n",
       "      <th>8</th>\n",
       "      <td>26209</td>\n",
       "      <td>LIMES</td>\n",
       "      <td>19690</td>\n",
       "    </tr>\n",
       "    <tr>\n",
       "      <th>9</th>\n",
       "      <td>27845</td>\n",
       "      <td>ORGANIC WHOLE MILK</td>\n",
       "      <td>19600</td>\n",
       "    </tr>\n",
       "    <tr>\n",
       "      <th>10</th>\n",
       "      <td>27966</td>\n",
       "      <td>ORGANIC RASPBERRIES</td>\n",
       "      <td>19197</td>\n",
       "    </tr>\n",
       "    <tr>\n",
       "      <th>11</th>\n",
       "      <td>22935</td>\n",
       "      <td>ORGANIC YELLOW ONION</td>\n",
       "      <td>15898</td>\n",
       "    </tr>\n",
       "    <tr>\n",
       "      <th>12</th>\n",
       "      <td>24964</td>\n",
       "      <td>ORGANIC GARLIC</td>\n",
       "      <td>15292</td>\n",
       "    </tr>\n",
       "    <tr>\n",
       "      <th>13</th>\n",
       "      <td>45007</td>\n",
       "      <td>ORGANIC ZUCCHINI</td>\n",
       "      <td>14584</td>\n",
       "    </tr>\n",
       "    <tr>\n",
       "      <th>14</th>\n",
       "      <td>39275</td>\n",
       "      <td>ORGANIC BLUEBERRIES</td>\n",
       "      <td>13879</td>\n",
       "    </tr>\n",
       "    <tr>\n",
       "      <th>15</th>\n",
       "      <td>49683</td>\n",
       "      <td>CUCUMBER KIRBY</td>\n",
       "      <td>13675</td>\n",
       "    </tr>\n",
       "    <tr>\n",
       "      <th>16</th>\n",
       "      <td>28204</td>\n",
       "      <td>ORGANIC FUJI APPLE</td>\n",
       "      <td>12544</td>\n",
       "    </tr>\n",
       "    <tr>\n",
       "      <th>17</th>\n",
       "      <td>5876</td>\n",
       "      <td>ORGANIC LEMON</td>\n",
       "      <td>12232</td>\n",
       "    </tr>\n",
       "    <tr>\n",
       "      <th>18</th>\n",
       "      <td>8277</td>\n",
       "      <td>APPLE HONEYCRISP ORGANIC</td>\n",
       "      <td>11993</td>\n",
       "    </tr>\n",
       "    <tr>\n",
       "      <th>19</th>\n",
       "      <td>40706</td>\n",
       "      <td>ORGANIC GRAPE TOMATOES</td>\n",
       "      <td>11781</td>\n",
       "    </tr>\n",
       "  </tbody>\n",
       "</table>\n",
       "</div>"
      ],
      "text/plain": [
       "    product_id              product_name  num_purchases\n",
       "0        24852                    BANANA          66050\n",
       "1        13176    BAG OF ORGANIC BANANAS          53297\n",
       "2        21137      ORGANIC STRAWBERRIES          37039\n",
       "3        21903      ORGANIC BABY SPINACH          33971\n",
       "4        47209      ORGANIC HASS AVOCADO          29773\n",
       "5        47766           ORGANIC AVOCADO          24689\n",
       "6        47626               LARGE LEMON          21495\n",
       "7        16797              STRAWBERRIES          20018\n",
       "8        26209                     LIMES          19690\n",
       "9        27845        ORGANIC WHOLE MILK          19600\n",
       "10       27966       ORGANIC RASPBERRIES          19197\n",
       "11       22935      ORGANIC YELLOW ONION          15898\n",
       "12       24964            ORGANIC GARLIC          15292\n",
       "13       45007          ORGANIC ZUCCHINI          14584\n",
       "14       39275       ORGANIC BLUEBERRIES          13879\n",
       "15       49683            CUCUMBER KIRBY          13675\n",
       "16       28204        ORGANIC FUJI APPLE          12544\n",
       "17        5876             ORGANIC LEMON          12232\n",
       "18        8277  APPLE HONEYCRISP ORGANIC          11993\n",
       "19       40706    ORGANIC GRAPE TOMATOES          11781"
      ]
     },
     "execution_count": 51,
     "metadata": {},
     "output_type": "execute_result"
    }
   ],
   "source": [
    "grouped_df = (product_id_name\n",
    "              .groupby(['product_id', 'product_name'])\n",
    "              .count()\n",
    "              .sort_values(by='order_id', ascending=False)\n",
    "              .head(20)\n",
    "             .rename(columns = {'order_id': 'num_purchases'})\n",
    "             .reset_index())\n",
    "grouped_df"
   ]
  },
  {
   "cell_type": "markdown",
   "id": "7df00f47",
   "metadata": {
    "id": "7df00f47"
   },
   "source": [
    "Escribe aquí tus conclusiones\n",
    "RESPUESTA: Se realizó un filtrado por columnas a los DataFrames 'order_products' y 'products' para fusionar ambos resultados por la columna con el id de cada producto. A dicha tabla se re aplicaron distintos métodos una vez agrupada. Como resultado, podemos dar cuenta que los productos más solicitados son aquellos pertenecientes al grupo de frutas y verduras, especialmente orgánicas."
   ]
  },
  {
   "cell_type": "markdown",
   "id": "gross-theme",
   "metadata": {
    "id": "gross-theme"
   },
   "source": [
    "# [C] Difícil (deben completarse todos para aprobar)\n",
    "\n",
    "1. ¿Cuántos artículos suelen comprar las personas en un pedido? ¿Cómo es la distribución?\n",
    "2. ¿Cuáles son los 20 principales artículos que vuelven a pedirse con mayor frecuencia (muestra sus nombres e IDs de los productos)?\n",
    "3. Para cada producto, ¿cuál es la tasa de repetición del pedido (número de repeticiones de pedido/total de pedidos?\n",
    "4. Para cada cliente, ¿qué proporción de los productos que pidió ya los había pedido? Calcula la tasa de repetición de pedido para cada usuario en lugar de para cada producto.\n",
    "5. ¿Cuáles son los 20 principales artículos que la gente pone primero en sus carritos (muestra las IDs de los productos, sus nombres, y el número de veces en que fueron el primer artículo en añadirse al carrito)?"
   ]
  },
  {
   "cell_type": "markdown",
   "id": "romantic-deposit",
   "metadata": {
    "id": "romantic-deposit"
   },
   "source": [
    "### [C1] ¿Cuántos artículos compran normalmente las personas en un pedido? ¿Cómo es la distribución?"
   ]
  },
  {
   "cell_type": "code",
   "execution_count": 52,
   "id": "virtual-punch",
   "metadata": {
    "id": "virtual-punch"
   },
   "outputs": [
    {
     "data": {
      "text/plain": [
       "order_id\n",
       "4          13\n",
       "9          15\n",
       "11          5\n",
       "19          3\n",
       "20          8\n",
       "           ..\n",
       "3421034    17\n",
       "3421053     9\n",
       "3421071     5\n",
       "3421077     4\n",
       "3421079     1\n",
       "Name: product_id, Length: 450046, dtype: int64"
      ]
     },
     "execution_count": 52,
     "metadata": {},
     "output_type": "execute_result"
    }
   ],
   "source": [
    "#agrupar datos para crear gráfico\n",
    "num_items_per_purchase = order_products.groupby('order_id')['product_id'].count()\n",
    "                                \n",
    "num_items_per_purchase      \n"
   ]
  },
  {
   "cell_type": "code",
   "execution_count": 53,
   "id": "sensitive-breathing",
   "metadata": {
    "id": "sensitive-breathing"
   },
   "outputs": [
    {
     "data": {
      "image/png": "[encoded data removed]",
      "text/plain": [
       "<Figure size 640x480 with 1 Axes>"
      ]
     },
     "metadata": {},
     "output_type": "display_data"
    }
   ],
   "source": [
    "#crear histograma\n",
    "num_items_per_purchase.plot(kind='hist',                            \n",
    "                            title='Cantidad de productos por compra'\n",
    "                            )\n",
    "\n",
    "plt.xlabel('Items')\n",
    "plt.ylabel('People')\n",
    "plt.show()"
   ]
  },
  {
   "cell_type": "markdown",
   "id": "designed-mortality",
   "metadata": {
    "id": "designed-mortality"
   },
   "source": [
    "Escribe aquí tus conclusiones, RESPUESTA: Las compras más comunes son de entre 1 y 15 productos, las cuales han sido hechas por al menos 340mil clientes. Seguidas por compras de entre 15 y y 20 productos realizadas por al menos 90mil personas. "
   ]
  },
  {
   "cell_type": "markdown",
   "id": "5e6b5537",
   "metadata": {
    "id": "5e6b5537"
   },
   "source": [
    "### [C2] ¿Cuáles son los 20 principales artículos que vuelven a pedirse con mayor frecuencia (muestra sus nombres e IDs de los productos)?"
   ]
  },
  {
   "cell_type": "code",
   "execution_count": 54,
   "id": "9374e55a",
   "metadata": {
    "id": "9374e55a"
   },
   "outputs": [
    {
     "name": "stdout",
     "output_type": "stream",
     "text": [
      "       product_id                                       product_name\n",
      "0               1                         CHOCOLATE SANDWICH COOKIES\n",
      "1               2                                   ALL-SEASONS SALT\n",
      "2               3               ROBUST GOLDEN UNSWEETENED OOLONG TEA\n",
      "3               4  SMART ONES CLASSIC FAVORITES MINI RIGATONI WIT...\n",
      "4               5                          GREEN CHILE ANYTIME SAUCE\n",
      "...           ...                                                ...\n",
      "49689       49690                      HIGH PERFORMANCE ENERGY DRINK\n",
      "49690       49691                      ORIGINAL PANCAKE & WAFFLE MIX\n",
      "49691       49692    ORGANIC INSTANT OATMEAL LIGHT MAPLE BROWN SUGAR\n",
      "49692       49693                             SPRING WATER BODY WASH\n",
      "49693       49694                            BURRITO- STEAK & CHEESE\n",
      "\n",
      "[49694 rows x 2 columns]\n",
      "\n",
      "         product_id  reordered\n",
      "0             11440          0\n",
      "1              1560          1\n",
      "2             26683          1\n",
      "3              8670          1\n",
      "4              1940          1\n",
      "...             ...        ...\n",
      "4545002       15290          1\n",
      "4545003       21914          0\n",
      "4545004       47766          1\n",
      "4545005         691          1\n",
      "4545006       28733          0\n",
      "\n",
      "[4545007 rows x 2 columns]\n"
     ]
    }
   ],
   "source": [
    "#filtrar tablas por columnas con información necesaria\n",
    "\n",
    "product_identification = products[['product_id', 'product_name']]\n",
    "order_products_short = order_products[['product_id', 'reordered']]\n",
    "\n",
    "#mostrar tablas creadas\n",
    "\n",
    "print(product_identification)\n",
    "print()\n",
    "print(order_products_short)\n"
   ]
  },
  {
   "cell_type": "code",
   "execution_count": 55,
   "id": "possible-change",
   "metadata": {
    "id": "possible-change",
    "scrolled": true
   },
   "outputs": [
    {
     "data": {
      "text/html": [
       "<div>\n",
       "<style scoped>\n",
       "    .dataframe tbody tr th:only-of-type {\n",
       "        vertical-align: middle;\n",
       "    }\n",
       "\n",
       "    .dataframe tbody tr th {\n",
       "        vertical-align: top;\n",
       "    }\n",
       "\n",
       "    .dataframe thead th {\n",
       "        text-align: right;\n",
       "    }\n",
       "</style>\n",
       "<table border=\"1\" class=\"dataframe\">\n",
       "  <thead>\n",
       "    <tr style=\"text-align: right;\">\n",
       "      <th></th>\n",
       "      <th>product_id</th>\n",
       "      <th>product_name</th>\n",
       "      <th>reordered</th>\n",
       "    </tr>\n",
       "  </thead>\n",
       "  <tbody>\n",
       "    <tr>\n",
       "      <th>0</th>\n",
       "      <td>1</td>\n",
       "      <td>CHOCOLATE SANDWICH COOKIES</td>\n",
       "      <td>1</td>\n",
       "    </tr>\n",
       "    <tr>\n",
       "      <th>1</th>\n",
       "      <td>1</td>\n",
       "      <td>CHOCOLATE SANDWICH COOKIES</td>\n",
       "      <td>1</td>\n",
       "    </tr>\n",
       "    <tr>\n",
       "      <th>2</th>\n",
       "      <td>1</td>\n",
       "      <td>CHOCOLATE SANDWICH COOKIES</td>\n",
       "      <td>0</td>\n",
       "    </tr>\n",
       "    <tr>\n",
       "      <th>3</th>\n",
       "      <td>1</td>\n",
       "      <td>CHOCOLATE SANDWICH COOKIES</td>\n",
       "      <td>1</td>\n",
       "    </tr>\n",
       "    <tr>\n",
       "      <th>4</th>\n",
       "      <td>1</td>\n",
       "      <td>CHOCOLATE SANDWICH COOKIES</td>\n",
       "      <td>0</td>\n",
       "    </tr>\n",
       "    <tr>\n",
       "      <th>...</th>\n",
       "      <td>...</td>\n",
       "      <td>...</td>\n",
       "      <td>...</td>\n",
       "    </tr>\n",
       "    <tr>\n",
       "      <th>4545002</th>\n",
       "      <td>49694</td>\n",
       "      <td>BURRITO- STEAK &amp; CHEESE</td>\n",
       "      <td>0</td>\n",
       "    </tr>\n",
       "    <tr>\n",
       "      <th>4545003</th>\n",
       "      <td>49694</td>\n",
       "      <td>BURRITO- STEAK &amp; CHEESE</td>\n",
       "      <td>0</td>\n",
       "    </tr>\n",
       "    <tr>\n",
       "      <th>4545004</th>\n",
       "      <td>49694</td>\n",
       "      <td>BURRITO- STEAK &amp; CHEESE</td>\n",
       "      <td>0</td>\n",
       "    </tr>\n",
       "    <tr>\n",
       "      <th>4545005</th>\n",
       "      <td>49694</td>\n",
       "      <td>BURRITO- STEAK &amp; CHEESE</td>\n",
       "      <td>0</td>\n",
       "    </tr>\n",
       "    <tr>\n",
       "      <th>4545006</th>\n",
       "      <td>49694</td>\n",
       "      <td>BURRITO- STEAK &amp; CHEESE</td>\n",
       "      <td>0</td>\n",
       "    </tr>\n",
       "  </tbody>\n",
       "</table>\n",
       "<p>4545007 rows × 3 columns</p>\n",
       "</div>"
      ],
      "text/plain": [
       "         product_id                product_name  reordered\n",
       "0                 1  CHOCOLATE SANDWICH COOKIES          1\n",
       "1                 1  CHOCOLATE SANDWICH COOKIES          1\n",
       "2                 1  CHOCOLATE SANDWICH COOKIES          0\n",
       "3                 1  CHOCOLATE SANDWICH COOKIES          1\n",
       "4                 1  CHOCOLATE SANDWICH COOKIES          0\n",
       "...             ...                         ...        ...\n",
       "4545002       49694     BURRITO- STEAK & CHEESE          0\n",
       "4545003       49694     BURRITO- STEAK & CHEESE          0\n",
       "4545004       49694     BURRITO- STEAK & CHEESE          0\n",
       "4545005       49694     BURRITO- STEAK & CHEESE          0\n",
       "4545006       49694     BURRITO- STEAK & CHEESE          0\n",
       "\n",
       "[4545007 rows x 3 columns]"
      ]
     },
     "execution_count": 55,
     "metadata": {},
     "output_type": "execute_result"
    }
   ],
   "source": [
    "#unir tablas creadas \n",
    "\n",
    "products_reordered_info = product_identification.merge(order_products_short, on='product_id')\n",
    "products_reordered_info"
   ]
  },
  {
   "cell_type": "code",
   "execution_count": 56,
   "id": "professional-surfing",
   "metadata": {
    "id": "professional-surfing",
    "scrolled": true
   },
   "outputs": [
    {
     "data": {
      "text/html": [
       "<div>\n",
       "<style scoped>\n",
       "    .dataframe tbody tr th:only-of-type {\n",
       "        vertical-align: middle;\n",
       "    }\n",
       "\n",
       "    .dataframe tbody tr th {\n",
       "        vertical-align: top;\n",
       "    }\n",
       "\n",
       "    .dataframe thead th {\n",
       "        text-align: right;\n",
       "    }\n",
       "</style>\n",
       "<table border=\"1\" class=\"dataframe\">\n",
       "  <thead>\n",
       "    <tr style=\"text-align: right;\">\n",
       "      <th></th>\n",
       "      <th>product_id</th>\n",
       "      <th>product_name</th>\n",
       "      <th>reordered</th>\n",
       "    </tr>\n",
       "  </thead>\n",
       "  <tbody>\n",
       "    <tr>\n",
       "      <th>0</th>\n",
       "      <td>24852</td>\n",
       "      <td>BANANA</td>\n",
       "      <td>55763</td>\n",
       "    </tr>\n",
       "    <tr>\n",
       "      <th>1</th>\n",
       "      <td>13176</td>\n",
       "      <td>BAG OF ORGANIC BANANAS</td>\n",
       "      <td>44450</td>\n",
       "    </tr>\n",
       "    <tr>\n",
       "      <th>2</th>\n",
       "      <td>21137</td>\n",
       "      <td>ORGANIC STRAWBERRIES</td>\n",
       "      <td>28639</td>\n",
       "    </tr>\n",
       "    <tr>\n",
       "      <th>3</th>\n",
       "      <td>21903</td>\n",
       "      <td>ORGANIC BABY SPINACH</td>\n",
       "      <td>26233</td>\n",
       "    </tr>\n",
       "    <tr>\n",
       "      <th>4</th>\n",
       "      <td>47209</td>\n",
       "      <td>ORGANIC HASS AVOCADO</td>\n",
       "      <td>23629</td>\n",
       "    </tr>\n",
       "    <tr>\n",
       "      <th>5</th>\n",
       "      <td>47766</td>\n",
       "      <td>ORGANIC AVOCADO</td>\n",
       "      <td>18743</td>\n",
       "    </tr>\n",
       "    <tr>\n",
       "      <th>6</th>\n",
       "      <td>27845</td>\n",
       "      <td>ORGANIC WHOLE MILK</td>\n",
       "      <td>16251</td>\n",
       "    </tr>\n",
       "    <tr>\n",
       "      <th>7</th>\n",
       "      <td>47626</td>\n",
       "      <td>LARGE LEMON</td>\n",
       "      <td>15044</td>\n",
       "    </tr>\n",
       "    <tr>\n",
       "      <th>8</th>\n",
       "      <td>27966</td>\n",
       "      <td>ORGANIC RASPBERRIES</td>\n",
       "      <td>14748</td>\n",
       "    </tr>\n",
       "    <tr>\n",
       "      <th>9</th>\n",
       "      <td>16797</td>\n",
       "      <td>STRAWBERRIES</td>\n",
       "      <td>13945</td>\n",
       "    </tr>\n",
       "    <tr>\n",
       "      <th>10</th>\n",
       "      <td>26209</td>\n",
       "      <td>LIMES</td>\n",
       "      <td>13327</td>\n",
       "    </tr>\n",
       "    <tr>\n",
       "      <th>11</th>\n",
       "      <td>22935</td>\n",
       "      <td>ORGANIC YELLOW ONION</td>\n",
       "      <td>11145</td>\n",
       "    </tr>\n",
       "    <tr>\n",
       "      <th>12</th>\n",
       "      <td>24964</td>\n",
       "      <td>ORGANIC GARLIC</td>\n",
       "      <td>10411</td>\n",
       "    </tr>\n",
       "    <tr>\n",
       "      <th>13</th>\n",
       "      <td>45007</td>\n",
       "      <td>ORGANIC ZUCCHINI</td>\n",
       "      <td>10076</td>\n",
       "    </tr>\n",
       "    <tr>\n",
       "      <th>14</th>\n",
       "      <td>49683</td>\n",
       "      <td>CUCUMBER KIRBY</td>\n",
       "      <td>9538</td>\n",
       "    </tr>\n",
       "    <tr>\n",
       "      <th>15</th>\n",
       "      <td>28204</td>\n",
       "      <td>ORGANIC FUJI APPLE</td>\n",
       "      <td>8989</td>\n",
       "    </tr>\n",
       "    <tr>\n",
       "      <th>16</th>\n",
       "      <td>8277</td>\n",
       "      <td>APPLE HONEYCRISP ORGANIC</td>\n",
       "      <td>8836</td>\n",
       "    </tr>\n",
       "    <tr>\n",
       "      <th>17</th>\n",
       "      <td>39275</td>\n",
       "      <td>ORGANIC BLUEBERRIES</td>\n",
       "      <td>8799</td>\n",
       "    </tr>\n",
       "    <tr>\n",
       "      <th>18</th>\n",
       "      <td>5876</td>\n",
       "      <td>ORGANIC LEMON</td>\n",
       "      <td>8412</td>\n",
       "    </tr>\n",
       "    <tr>\n",
       "      <th>19</th>\n",
       "      <td>49235</td>\n",
       "      <td>ORGANIC HALF &amp; HALF</td>\n",
       "      <td>8389</td>\n",
       "    </tr>\n",
       "  </tbody>\n",
       "</table>\n",
       "</div>"
      ],
      "text/plain": [
       "    product_id              product_name  reordered\n",
       "0        24852                    BANANA      55763\n",
       "1        13176    BAG OF ORGANIC BANANAS      44450\n",
       "2        21137      ORGANIC STRAWBERRIES      28639\n",
       "3        21903      ORGANIC BABY SPINACH      26233\n",
       "4        47209      ORGANIC HASS AVOCADO      23629\n",
       "5        47766           ORGANIC AVOCADO      18743\n",
       "6        27845        ORGANIC WHOLE MILK      16251\n",
       "7        47626               LARGE LEMON      15044\n",
       "8        27966       ORGANIC RASPBERRIES      14748\n",
       "9        16797              STRAWBERRIES      13945\n",
       "10       26209                     LIMES      13327\n",
       "11       22935      ORGANIC YELLOW ONION      11145\n",
       "12       24964            ORGANIC GARLIC      10411\n",
       "13       45007          ORGANIC ZUCCHINI      10076\n",
       "14       49683            CUCUMBER KIRBY       9538\n",
       "15       28204        ORGANIC FUJI APPLE       8989\n",
       "16        8277  APPLE HONEYCRISP ORGANIC       8836\n",
       "17       39275       ORGANIC BLUEBERRIES       8799\n",
       "18        5876             ORGANIC LEMON       8412\n",
       "19       49235       ORGANIC HALF & HALF       8389"
      ]
     },
     "execution_count": 56,
     "metadata": {},
     "output_type": "execute_result"
    }
   ],
   "source": [
    "#obtener 20 productos que se repiten con mayor frecuencia\n",
    "\n",
    "products_reordered_info_grouped = (products_reordered_info.groupby(['product_id', 'product_name'])\n",
    "                                   .sum()\n",
    "                                  .sort_values(by='reordered', ascending=False)\n",
    "                                  .head(20)                                  \n",
    "                                  .reset_index())\n",
    "                                \n",
    "products_reordered_info_grouped                               \n",
    "\n"
   ]
  },
  {
   "cell_type": "markdown",
   "id": "80e70c74",
   "metadata": {
    "id": "80e70c74"
   },
   "source": [
    "Escribe aquí tus conclusiones. RESPUESTA: Los productos que se vuelven a comprar con más frecuencia nuevamente son los pertenecientes a grutas y verduras, especialmente orgánicos. Esto puede deberse a que se tratan de alimentos perecibles, por lo que se consumen más rápido ya que su duración es corta."
   ]
  },
  {
   "cell_type": "markdown",
   "id": "9d312b14",
   "metadata": {
    "id": "9d312b14"
   },
   "source": [
    "### [C3] Para cada producto, ¿cuál es la proporción de las veces que se pide y que se vuelve a pedir?"
   ]
  },
  {
   "cell_type": "code",
   "execution_count": 57,
   "id": "f7a19868",
   "metadata": {},
   "outputs": [
    {
     "data": {
      "text/html": [
       "<div>\n",
       "<style scoped>\n",
       "    .dataframe tbody tr th:only-of-type {\n",
       "        vertical-align: middle;\n",
       "    }\n",
       "\n",
       "    .dataframe tbody tr th {\n",
       "        vertical-align: top;\n",
       "    }\n",
       "\n",
       "    .dataframe thead th {\n",
       "        text-align: right;\n",
       "    }\n",
       "</style>\n",
       "<table border=\"1\" class=\"dataframe\">\n",
       "  <thead>\n",
       "    <tr style=\"text-align: right;\">\n",
       "      <th></th>\n",
       "      <th>product_id</th>\n",
       "      <th>total_purchases</th>\n",
       "    </tr>\n",
       "  </thead>\n",
       "  <tbody>\n",
       "    <tr>\n",
       "      <th>0</th>\n",
       "      <td>1</td>\n",
       "      <td>280</td>\n",
       "    </tr>\n",
       "    <tr>\n",
       "      <th>1</th>\n",
       "      <td>2</td>\n",
       "      <td>11</td>\n",
       "    </tr>\n",
       "    <tr>\n",
       "      <th>2</th>\n",
       "      <td>3</td>\n",
       "      <td>42</td>\n",
       "    </tr>\n",
       "    <tr>\n",
       "      <th>3</th>\n",
       "      <td>4</td>\n",
       "      <td>49</td>\n",
       "    </tr>\n",
       "    <tr>\n",
       "      <th>4</th>\n",
       "      <td>7</td>\n",
       "      <td>2</td>\n",
       "    </tr>\n",
       "    <tr>\n",
       "      <th>...</th>\n",
       "      <td>...</td>\n",
       "      <td>...</td>\n",
       "    </tr>\n",
       "    <tr>\n",
       "      <th>45568</th>\n",
       "      <td>49690</td>\n",
       "      <td>5</td>\n",
       "    </tr>\n",
       "    <tr>\n",
       "      <th>45569</th>\n",
       "      <td>49691</td>\n",
       "      <td>72</td>\n",
       "    </tr>\n",
       "    <tr>\n",
       "      <th>45570</th>\n",
       "      <td>49692</td>\n",
       "      <td>12</td>\n",
       "    </tr>\n",
       "    <tr>\n",
       "      <th>45571</th>\n",
       "      <td>49693</td>\n",
       "      <td>25</td>\n",
       "    </tr>\n",
       "    <tr>\n",
       "      <th>45572</th>\n",
       "      <td>49694</td>\n",
       "      <td>9</td>\n",
       "    </tr>\n",
       "  </tbody>\n",
       "</table>\n",
       "<p>45573 rows × 2 columns</p>\n",
       "</div>"
      ],
      "text/plain": [
       "       product_id  total_purchases\n",
       "0               1              280\n",
       "1               2               11\n",
       "2               3               42\n",
       "3               4               49\n",
       "4               7                2\n",
       "...           ...              ...\n",
       "45568       49690                5\n",
       "45569       49691               72\n",
       "45570       49692               12\n",
       "45571       49693               25\n",
       "45572       49694                9\n",
       "\n",
       "[45573 rows x 2 columns]"
      ]
     },
     "execution_count": 57,
     "metadata": {},
     "output_type": "execute_result"
    }
   ],
   "source": [
    "#cálculo pedidos totales \n",
    "\n",
    "total_orders = (order_products.groupby('product_id')['reordered']\n",
    "                  .count()\n",
    "                  .reset_index()\n",
    "                  .rename(columns= {'reordered': 'total_purchases'}))\n",
    "total_orders"
   ]
  },
  {
   "cell_type": "code",
   "execution_count": 58,
   "id": "103e7fe1",
   "metadata": {
    "id": "103e7fe1"
   },
   "outputs": [
    {
     "data": {
      "text/html": [
       "<div>\n",
       "<style scoped>\n",
       "    .dataframe tbody tr th:only-of-type {\n",
       "        vertical-align: middle;\n",
       "    }\n",
       "\n",
       "    .dataframe tbody tr th {\n",
       "        vertical-align: top;\n",
       "    }\n",
       "\n",
       "    .dataframe thead th {\n",
       "        text-align: right;\n",
       "    }\n",
       "</style>\n",
       "<table border=\"1\" class=\"dataframe\">\n",
       "  <thead>\n",
       "    <tr style=\"text-align: right;\">\n",
       "      <th></th>\n",
       "      <th>product_id</th>\n",
       "      <th>first_time_purchases</th>\n",
       "    </tr>\n",
       "  </thead>\n",
       "  <tbody>\n",
       "    <tr>\n",
       "      <th>0</th>\n",
       "      <td>1</td>\n",
       "      <td>122</td>\n",
       "    </tr>\n",
       "    <tr>\n",
       "      <th>1</th>\n",
       "      <td>2</td>\n",
       "      <td>11</td>\n",
       "    </tr>\n",
       "    <tr>\n",
       "      <th>2</th>\n",
       "      <td>3</td>\n",
       "      <td>11</td>\n",
       "    </tr>\n",
       "    <tr>\n",
       "      <th>3</th>\n",
       "      <td>4</td>\n",
       "      <td>24</td>\n",
       "    </tr>\n",
       "    <tr>\n",
       "      <th>4</th>\n",
       "      <td>7</td>\n",
       "      <td>1</td>\n",
       "    </tr>\n",
       "    <tr>\n",
       "      <th>...</th>\n",
       "      <td>...</td>\n",
       "      <td>...</td>\n",
       "    </tr>\n",
       "    <tr>\n",
       "      <th>43759</th>\n",
       "      <td>49690</td>\n",
       "      <td>1</td>\n",
       "    </tr>\n",
       "    <tr>\n",
       "      <th>43760</th>\n",
       "      <td>49691</td>\n",
       "      <td>41</td>\n",
       "    </tr>\n",
       "    <tr>\n",
       "      <th>43761</th>\n",
       "      <td>49692</td>\n",
       "      <td>7</td>\n",
       "    </tr>\n",
       "    <tr>\n",
       "      <th>43762</th>\n",
       "      <td>49693</td>\n",
       "      <td>14</td>\n",
       "    </tr>\n",
       "    <tr>\n",
       "      <th>43763</th>\n",
       "      <td>49694</td>\n",
       "      <td>6</td>\n",
       "    </tr>\n",
       "  </tbody>\n",
       "</table>\n",
       "<p>43764 rows × 2 columns</p>\n",
       "</div>"
      ],
      "text/plain": [
       "       product_id  first_time_purchases\n",
       "0               1                   122\n",
       "1               2                    11\n",
       "2               3                    11\n",
       "3               4                    24\n",
       "4               7                     1\n",
       "...           ...                   ...\n",
       "43759       49690                     1\n",
       "43760       49691                    41\n",
       "43761       49692                     7\n",
       "43762       49693                    14\n",
       "43763       49694                     6\n",
       "\n",
       "[43764 rows x 2 columns]"
      ]
     },
     "execution_count": 58,
     "metadata": {},
     "output_type": "execute_result"
    }
   ],
   "source": [
    "#tabla con cálculo veces que se pide un producto\n",
    "\n",
    "products_first_time = order_products[['product_id', 'reordered']]\n",
    "products_first_time = products_first_time.query('reordered == 0')\n",
    "products_first_time_grouped = (products_first_time.groupby('product_id')\n",
    "                             .count()\n",
    "                             .reset_index()\n",
    "                             .rename(columns = {'reordered': 'first_time_purchases'}))\n",
    "                              \n",
    "\n",
    "    \n",
    "products_first_time_grouped['first_time_purchases'] = pd.to_numeric(products_first_time_grouped['first_time_purchases'])\n",
    "products_first_time_grouped\n"
   ]
  },
  {
   "cell_type": "code",
   "execution_count": 59,
   "id": "social-individual",
   "metadata": {
    "id": "social-individual"
   },
   "outputs": [
    {
     "data": {
      "text/html": [
       "<div>\n",
       "<style scoped>\n",
       "    .dataframe tbody tr th:only-of-type {\n",
       "        vertical-align: middle;\n",
       "    }\n",
       "\n",
       "    .dataframe tbody tr th {\n",
       "        vertical-align: top;\n",
       "    }\n",
       "\n",
       "    .dataframe thead th {\n",
       "        text-align: right;\n",
       "    }\n",
       "</style>\n",
       "<table border=\"1\" class=\"dataframe\">\n",
       "  <thead>\n",
       "    <tr style=\"text-align: right;\">\n",
       "      <th></th>\n",
       "      <th>product_id</th>\n",
       "      <th>reordered</th>\n",
       "    </tr>\n",
       "  </thead>\n",
       "  <tbody>\n",
       "    <tr>\n",
       "      <th>0</th>\n",
       "      <td>1</td>\n",
       "      <td>158</td>\n",
       "    </tr>\n",
       "    <tr>\n",
       "      <th>1</th>\n",
       "      <td>3</td>\n",
       "      <td>31</td>\n",
       "    </tr>\n",
       "    <tr>\n",
       "      <th>2</th>\n",
       "      <td>4</td>\n",
       "      <td>25</td>\n",
       "    </tr>\n",
       "    <tr>\n",
       "      <th>3</th>\n",
       "      <td>7</td>\n",
       "      <td>1</td>\n",
       "    </tr>\n",
       "    <tr>\n",
       "      <th>4</th>\n",
       "      <td>8</td>\n",
       "      <td>6</td>\n",
       "    </tr>\n",
       "    <tr>\n",
       "      <th>...</th>\n",
       "      <td>...</td>\n",
       "      <td>...</td>\n",
       "    </tr>\n",
       "    <tr>\n",
       "      <th>36223</th>\n",
       "      <td>49690</td>\n",
       "      <td>4</td>\n",
       "    </tr>\n",
       "    <tr>\n",
       "      <th>36224</th>\n",
       "      <td>49691</td>\n",
       "      <td>31</td>\n",
       "    </tr>\n",
       "    <tr>\n",
       "      <th>36225</th>\n",
       "      <td>49692</td>\n",
       "      <td>5</td>\n",
       "    </tr>\n",
       "    <tr>\n",
       "      <th>36226</th>\n",
       "      <td>49693</td>\n",
       "      <td>11</td>\n",
       "    </tr>\n",
       "    <tr>\n",
       "      <th>36227</th>\n",
       "      <td>49694</td>\n",
       "      <td>3</td>\n",
       "    </tr>\n",
       "  </tbody>\n",
       "</table>\n",
       "<p>36228 rows × 2 columns</p>\n",
       "</div>"
      ],
      "text/plain": [
       "       product_id  reordered\n",
       "0               1        158\n",
       "1               3         31\n",
       "2               4         25\n",
       "3               7          1\n",
       "4               8          6\n",
       "...           ...        ...\n",
       "36223       49690          4\n",
       "36224       49691         31\n",
       "36225       49692          5\n",
       "36226       49693         11\n",
       "36227       49694          3\n",
       "\n",
       "[36228 rows x 2 columns]"
      ]
     },
     "execution_count": 59,
     "metadata": {},
     "output_type": "execute_result"
    }
   ],
   "source": [
    "#tabla con cálculo veces que se repite la compra un producto\n",
    "\n",
    "products_repeated = order_products[['product_id', 'reordered']]\n",
    "products_repeated = products_repeated.query('reordered == 1')\n",
    "products_repeated_grouped = (products_repeated.groupby('product_id')\n",
    "                             .count()\n",
    "                            .reset_index())            \n",
    "    \n",
    "                             \n",
    "products_repeated_grouped['reordered'] = pd.to_numeric(products_repeated_grouped['reordered'])\n",
    "products_repeated_grouped"
   ]
  },
  {
   "cell_type": "code",
   "execution_count": 60,
   "id": "95979cd0",
   "metadata": {},
   "outputs": [
    {
     "data": {
      "text/html": [
       "<div>\n",
       "<style scoped>\n",
       "    .dataframe tbody tr th:only-of-type {\n",
       "        vertical-align: middle;\n",
       "    }\n",
       "\n",
       "    .dataframe tbody tr th {\n",
       "        vertical-align: top;\n",
       "    }\n",
       "\n",
       "    .dataframe thead th {\n",
       "        text-align: right;\n",
       "    }\n",
       "</style>\n",
       "<table border=\"1\" class=\"dataframe\">\n",
       "  <thead>\n",
       "    <tr style=\"text-align: right;\">\n",
       "      <th></th>\n",
       "      <th>product_id</th>\n",
       "      <th>first_time_purchases</th>\n",
       "      <th>reordered</th>\n",
       "      <th>total_purchases</th>\n",
       "    </tr>\n",
       "  </thead>\n",
       "  <tbody>\n",
       "    <tr>\n",
       "      <th>0</th>\n",
       "      <td>1</td>\n",
       "      <td>122.0</td>\n",
       "      <td>158.0</td>\n",
       "      <td>280</td>\n",
       "    </tr>\n",
       "    <tr>\n",
       "      <th>1</th>\n",
       "      <td>2</td>\n",
       "      <td>11.0</td>\n",
       "      <td>NaN</td>\n",
       "      <td>11</td>\n",
       "    </tr>\n",
       "    <tr>\n",
       "      <th>2</th>\n",
       "      <td>3</td>\n",
       "      <td>11.0</td>\n",
       "      <td>31.0</td>\n",
       "      <td>42</td>\n",
       "    </tr>\n",
       "    <tr>\n",
       "      <th>3</th>\n",
       "      <td>4</td>\n",
       "      <td>24.0</td>\n",
       "      <td>25.0</td>\n",
       "      <td>49</td>\n",
       "    </tr>\n",
       "    <tr>\n",
       "      <th>4</th>\n",
       "      <td>7</td>\n",
       "      <td>1.0</td>\n",
       "      <td>1.0</td>\n",
       "      <td>2</td>\n",
       "    </tr>\n",
       "    <tr>\n",
       "      <th>...</th>\n",
       "      <td>...</td>\n",
       "      <td>...</td>\n",
       "      <td>...</td>\n",
       "      <td>...</td>\n",
       "    </tr>\n",
       "    <tr>\n",
       "      <th>45568</th>\n",
       "      <td>49625</td>\n",
       "      <td>NaN</td>\n",
       "      <td>1.0</td>\n",
       "      <td>1</td>\n",
       "    </tr>\n",
       "    <tr>\n",
       "      <th>45569</th>\n",
       "      <td>49639</td>\n",
       "      <td>NaN</td>\n",
       "      <td>1.0</td>\n",
       "      <td>1</td>\n",
       "    </tr>\n",
       "    <tr>\n",
       "      <th>45570</th>\n",
       "      <td>49657</td>\n",
       "      <td>NaN</td>\n",
       "      <td>1.0</td>\n",
       "      <td>1</td>\n",
       "    </tr>\n",
       "    <tr>\n",
       "      <th>45571</th>\n",
       "      <td>49661</td>\n",
       "      <td>NaN</td>\n",
       "      <td>1.0</td>\n",
       "      <td>1</td>\n",
       "    </tr>\n",
       "    <tr>\n",
       "      <th>45572</th>\n",
       "      <td>49662</td>\n",
       "      <td>NaN</td>\n",
       "      <td>1.0</td>\n",
       "      <td>1</td>\n",
       "    </tr>\n",
       "  </tbody>\n",
       "</table>\n",
       "<p>45573 rows × 4 columns</p>\n",
       "</div>"
      ],
      "text/plain": [
       "       product_id  first_time_purchases  reordered  total_purchases\n",
       "0               1                 122.0      158.0              280\n",
       "1               2                  11.0        NaN               11\n",
       "2               3                  11.0       31.0               42\n",
       "3               4                  24.0       25.0               49\n",
       "4               7                   1.0        1.0                2\n",
       "...           ...                   ...        ...              ...\n",
       "45568       49625                   NaN        1.0                1\n",
       "45569       49639                   NaN        1.0                1\n",
       "45570       49657                   NaN        1.0                1\n",
       "45571       49661                   NaN        1.0                1\n",
       "45572       49662                   NaN        1.0                1\n",
       "\n",
       "[45573 rows x 4 columns]"
      ]
     },
     "execution_count": 60,
     "metadata": {},
     "output_type": "execute_result"
    }
   ],
   "source": [
    "#unión de todas las tablas\n",
    "\n",
    "products_proportions = (products_first_time_grouped\n",
    "                        .merge(products_repeated_grouped, on='product_id', how='outer'))\n",
    "products_proportions = products_proportions.merge(total_orders, on='product_id')\n",
    "products_proportions"
   ]
  },
  {
   "cell_type": "code",
   "execution_count": 61,
   "id": "936bacd5",
   "metadata": {},
   "outputs": [
    {
     "data": {
      "text/html": [
       "<div>\n",
       "<style scoped>\n",
       "    .dataframe tbody tr th:only-of-type {\n",
       "        vertical-align: middle;\n",
       "    }\n",
       "\n",
       "    .dataframe tbody tr th {\n",
       "        vertical-align: top;\n",
       "    }\n",
       "\n",
       "    .dataframe thead th {\n",
       "        text-align: right;\n",
       "    }\n",
       "</style>\n",
       "<table border=\"1\" class=\"dataframe\">\n",
       "  <thead>\n",
       "    <tr style=\"text-align: right;\">\n",
       "      <th></th>\n",
       "      <th>product_id</th>\n",
       "      <th>first_time_purchases</th>\n",
       "      <th>reordered</th>\n",
       "      <th>total_purchases</th>\n",
       "    </tr>\n",
       "  </thead>\n",
       "  <tbody>\n",
       "    <tr>\n",
       "      <th>0</th>\n",
       "      <td>1</td>\n",
       "      <td>122.0</td>\n",
       "      <td>158.0</td>\n",
       "      <td>280</td>\n",
       "    </tr>\n",
       "    <tr>\n",
       "      <th>1</th>\n",
       "      <td>2</td>\n",
       "      <td>11.0</td>\n",
       "      <td>0.0</td>\n",
       "      <td>11</td>\n",
       "    </tr>\n",
       "    <tr>\n",
       "      <th>2</th>\n",
       "      <td>3</td>\n",
       "      <td>11.0</td>\n",
       "      <td>31.0</td>\n",
       "      <td>42</td>\n",
       "    </tr>\n",
       "    <tr>\n",
       "      <th>3</th>\n",
       "      <td>4</td>\n",
       "      <td>24.0</td>\n",
       "      <td>25.0</td>\n",
       "      <td>49</td>\n",
       "    </tr>\n",
       "    <tr>\n",
       "      <th>4</th>\n",
       "      <td>7</td>\n",
       "      <td>1.0</td>\n",
       "      <td>1.0</td>\n",
       "      <td>2</td>\n",
       "    </tr>\n",
       "    <tr>\n",
       "      <th>...</th>\n",
       "      <td>...</td>\n",
       "      <td>...</td>\n",
       "      <td>...</td>\n",
       "      <td>...</td>\n",
       "    </tr>\n",
       "    <tr>\n",
       "      <th>45568</th>\n",
       "      <td>49625</td>\n",
       "      <td>0.0</td>\n",
       "      <td>1.0</td>\n",
       "      <td>1</td>\n",
       "    </tr>\n",
       "    <tr>\n",
       "      <th>45569</th>\n",
       "      <td>49639</td>\n",
       "      <td>0.0</td>\n",
       "      <td>1.0</td>\n",
       "      <td>1</td>\n",
       "    </tr>\n",
       "    <tr>\n",
       "      <th>45570</th>\n",
       "      <td>49657</td>\n",
       "      <td>0.0</td>\n",
       "      <td>1.0</td>\n",
       "      <td>1</td>\n",
       "    </tr>\n",
       "    <tr>\n",
       "      <th>45571</th>\n",
       "      <td>49661</td>\n",
       "      <td>0.0</td>\n",
       "      <td>1.0</td>\n",
       "      <td>1</td>\n",
       "    </tr>\n",
       "    <tr>\n",
       "      <th>45572</th>\n",
       "      <td>49662</td>\n",
       "      <td>0.0</td>\n",
       "      <td>1.0</td>\n",
       "      <td>1</td>\n",
       "    </tr>\n",
       "  </tbody>\n",
       "</table>\n",
       "<p>45573 rows × 4 columns</p>\n",
       "</div>"
      ],
      "text/plain": [
       "       product_id  first_time_purchases  reordered  total_purchases\n",
       "0               1                 122.0      158.0              280\n",
       "1               2                  11.0        0.0               11\n",
       "2               3                  11.0       31.0               42\n",
       "3               4                  24.0       25.0               49\n",
       "4               7                   1.0        1.0                2\n",
       "...           ...                   ...        ...              ...\n",
       "45568       49625                   0.0        1.0                1\n",
       "45569       49639                   0.0        1.0                1\n",
       "45570       49657                   0.0        1.0                1\n",
       "45571       49661                   0.0        1.0                1\n",
       "45572       49662                   0.0        1.0                1\n",
       "\n",
       "[45573 rows x 4 columns]"
      ]
     },
     "execution_count": 61,
     "metadata": {},
     "output_type": "execute_result"
    }
   ],
   "source": [
    "#rellenar NaN en tabla products proportion\n",
    "products_proportions.fillna(0, inplace=True)\n",
    "products_proportions"
   ]
  },
  {
   "cell_type": "code",
   "execution_count": 62,
   "id": "61e1c228",
   "metadata": {},
   "outputs": [
    {
     "data": {
      "text/html": [
       "<div>\n",
       "<style scoped>\n",
       "    .dataframe tbody tr th:only-of-type {\n",
       "        vertical-align: middle;\n",
       "    }\n",
       "\n",
       "    .dataframe tbody tr th {\n",
       "        vertical-align: top;\n",
       "    }\n",
       "\n",
       "    .dataframe thead th {\n",
       "        text-align: right;\n",
       "    }\n",
       "</style>\n",
       "<table border=\"1\" class=\"dataframe\">\n",
       "  <thead>\n",
       "    <tr style=\"text-align: right;\">\n",
       "      <th></th>\n",
       "      <th>product_id</th>\n",
       "      <th>first_time_purchases</th>\n",
       "      <th>reordered</th>\n",
       "      <th>total_purchases</th>\n",
       "      <th>first_times_percentage</th>\n",
       "      <th>reordered_proportion</th>\n",
       "    </tr>\n",
       "  </thead>\n",
       "  <tbody>\n",
       "    <tr>\n",
       "      <th>0</th>\n",
       "      <td>1</td>\n",
       "      <td>122.0</td>\n",
       "      <td>158.0</td>\n",
       "      <td>280</td>\n",
       "      <td>43.571429</td>\n",
       "      <td>56.428571</td>\n",
       "    </tr>\n",
       "    <tr>\n",
       "      <th>1</th>\n",
       "      <td>2</td>\n",
       "      <td>11.0</td>\n",
       "      <td>0.0</td>\n",
       "      <td>11</td>\n",
       "      <td>100.000000</td>\n",
       "      <td>0.000000</td>\n",
       "    </tr>\n",
       "    <tr>\n",
       "      <th>2</th>\n",
       "      <td>3</td>\n",
       "      <td>11.0</td>\n",
       "      <td>31.0</td>\n",
       "      <td>42</td>\n",
       "      <td>26.190476</td>\n",
       "      <td>73.809524</td>\n",
       "    </tr>\n",
       "    <tr>\n",
       "      <th>3</th>\n",
       "      <td>4</td>\n",
       "      <td>24.0</td>\n",
       "      <td>25.0</td>\n",
       "      <td>49</td>\n",
       "      <td>48.979592</td>\n",
       "      <td>51.020408</td>\n",
       "    </tr>\n",
       "    <tr>\n",
       "      <th>4</th>\n",
       "      <td>7</td>\n",
       "      <td>1.0</td>\n",
       "      <td>1.0</td>\n",
       "      <td>2</td>\n",
       "      <td>50.000000</td>\n",
       "      <td>50.000000</td>\n",
       "    </tr>\n",
       "    <tr>\n",
       "      <th>...</th>\n",
       "      <td>...</td>\n",
       "      <td>...</td>\n",
       "      <td>...</td>\n",
       "      <td>...</td>\n",
       "      <td>...</td>\n",
       "      <td>...</td>\n",
       "    </tr>\n",
       "    <tr>\n",
       "      <th>45568</th>\n",
       "      <td>49625</td>\n",
       "      <td>0.0</td>\n",
       "      <td>1.0</td>\n",
       "      <td>1</td>\n",
       "      <td>0.000000</td>\n",
       "      <td>100.000000</td>\n",
       "    </tr>\n",
       "    <tr>\n",
       "      <th>45569</th>\n",
       "      <td>49639</td>\n",
       "      <td>0.0</td>\n",
       "      <td>1.0</td>\n",
       "      <td>1</td>\n",
       "      <td>0.000000</td>\n",
       "      <td>100.000000</td>\n",
       "    </tr>\n",
       "    <tr>\n",
       "      <th>45570</th>\n",
       "      <td>49657</td>\n",
       "      <td>0.0</td>\n",
       "      <td>1.0</td>\n",
       "      <td>1</td>\n",
       "      <td>0.000000</td>\n",
       "      <td>100.000000</td>\n",
       "    </tr>\n",
       "    <tr>\n",
       "      <th>45571</th>\n",
       "      <td>49661</td>\n",
       "      <td>0.0</td>\n",
       "      <td>1.0</td>\n",
       "      <td>1</td>\n",
       "      <td>0.000000</td>\n",
       "      <td>100.000000</td>\n",
       "    </tr>\n",
       "    <tr>\n",
       "      <th>45572</th>\n",
       "      <td>49662</td>\n",
       "      <td>0.0</td>\n",
       "      <td>1.0</td>\n",
       "      <td>1</td>\n",
       "      <td>0.000000</td>\n",
       "      <td>100.000000</td>\n",
       "    </tr>\n",
       "  </tbody>\n",
       "</table>\n",
       "<p>45573 rows × 6 columns</p>\n",
       "</div>"
      ],
      "text/plain": [
       "       product_id  first_time_purchases  reordered  total_purchases  \\\n",
       "0               1                 122.0      158.0              280   \n",
       "1               2                  11.0        0.0               11   \n",
       "2               3                  11.0       31.0               42   \n",
       "3               4                  24.0       25.0               49   \n",
       "4               7                   1.0        1.0                2   \n",
       "...           ...                   ...        ...              ...   \n",
       "45568       49625                   0.0        1.0                1   \n",
       "45569       49639                   0.0        1.0                1   \n",
       "45570       49657                   0.0        1.0                1   \n",
       "45571       49661                   0.0        1.0                1   \n",
       "45572       49662                   0.0        1.0                1   \n",
       "\n",
       "       first_times_percentage  reordered_proportion  \n",
       "0                   43.571429             56.428571  \n",
       "1                  100.000000              0.000000  \n",
       "2                   26.190476             73.809524  \n",
       "3                   48.979592             51.020408  \n",
       "4                   50.000000             50.000000  \n",
       "...                       ...                   ...  \n",
       "45568                0.000000            100.000000  \n",
       "45569                0.000000            100.000000  \n",
       "45570                0.000000            100.000000  \n",
       "45571                0.000000            100.000000  \n",
       "45572                0.000000            100.000000  \n",
       "\n",
       "[45573 rows x 6 columns]"
      ]
     },
     "execution_count": 62,
     "metadata": {},
     "output_type": "execute_result"
    }
   ],
   "source": [
    "#agregar columnas con cálculos de proporciones \n",
    "\n",
    "#creación columna proporción veces que se pide por primera vez\n",
    "products_proportions['first_times_percentage'] = products_proportions['first_time_purchases'] / products_proportions['total_purchases'] * 100\n",
    "\n",
    "#creación columna proporción veces que se repite compra de producto\n",
    "products_proportions['reordered_proportion'] = products_proportions['reordered'] / products_proportions['total_purchases'] * 100\n",
    "\n",
    "products_proportions"
   ]
  },
  {
   "cell_type": "markdown",
   "id": "I10dEIAyldcO",
   "metadata": {
    "id": "I10dEIAyldcO"
   },
   "source": [
    "Escribe aquí tus conclusiones. RESPUESTA: se filtró la tabla de 'order_products' para poder contabilizar las veces que un producto se pidió por primera vez y la cantidad de veces que se repitió su compra. Además, se filtro la tabla para sacar el total de compras por producto. Al combinar todas las celdas se agregaron dos columnas extras con los datos de proporciones en cada tipo de compra (primera, vuelto a comprar) "
   ]
  },
  {
   "cell_type": "markdown",
   "id": "subject-boxing",
   "metadata": {
    "id": "subject-boxing"
   },
   "source": [
    "### [C4] Para cada cliente, ¿qué proporción de sus productos ya los había pedido?"
   ]
  },
  {
   "cell_type": "code",
   "execution_count": 63,
   "id": "f9b2dd1a",
   "metadata": {},
   "outputs": [
    {
     "data": {
      "text/html": [
       "<div>\n",
       "<style scoped>\n",
       "    .dataframe tbody tr th:only-of-type {\n",
       "        vertical-align: middle;\n",
       "    }\n",
       "\n",
       "    .dataframe tbody tr th {\n",
       "        vertical-align: top;\n",
       "    }\n",
       "\n",
       "    .dataframe thead th {\n",
       "        text-align: right;\n",
       "    }\n",
       "</style>\n",
       "<table border=\"1\" class=\"dataframe\">\n",
       "  <thead>\n",
       "    <tr style=\"text-align: right;\">\n",
       "      <th></th>\n",
       "      <th>order_id</th>\n",
       "      <th>total_items</th>\n",
       "    </tr>\n",
       "  </thead>\n",
       "  <tbody>\n",
       "    <tr>\n",
       "      <th>0</th>\n",
       "      <td>4</td>\n",
       "      <td>13</td>\n",
       "    </tr>\n",
       "    <tr>\n",
       "      <th>1</th>\n",
       "      <td>9</td>\n",
       "      <td>15</td>\n",
       "    </tr>\n",
       "    <tr>\n",
       "      <th>2</th>\n",
       "      <td>11</td>\n",
       "      <td>5</td>\n",
       "    </tr>\n",
       "    <tr>\n",
       "      <th>3</th>\n",
       "      <td>19</td>\n",
       "      <td>3</td>\n",
       "    </tr>\n",
       "    <tr>\n",
       "      <th>4</th>\n",
       "      <td>20</td>\n",
       "      <td>8</td>\n",
       "    </tr>\n",
       "    <tr>\n",
       "      <th>...</th>\n",
       "      <td>...</td>\n",
       "      <td>...</td>\n",
       "    </tr>\n",
       "    <tr>\n",
       "      <th>450041</th>\n",
       "      <td>3421034</td>\n",
       "      <td>17</td>\n",
       "    </tr>\n",
       "    <tr>\n",
       "      <th>450042</th>\n",
       "      <td>3421053</td>\n",
       "      <td>9</td>\n",
       "    </tr>\n",
       "    <tr>\n",
       "      <th>450043</th>\n",
       "      <td>3421071</td>\n",
       "      <td>5</td>\n",
       "    </tr>\n",
       "    <tr>\n",
       "      <th>450044</th>\n",
       "      <td>3421077</td>\n",
       "      <td>4</td>\n",
       "    </tr>\n",
       "    <tr>\n",
       "      <th>450045</th>\n",
       "      <td>3421079</td>\n",
       "      <td>1</td>\n",
       "    </tr>\n",
       "  </tbody>\n",
       "</table>\n",
       "<p>450046 rows × 2 columns</p>\n",
       "</div>"
      ],
      "text/plain": [
       "        order_id  total_items\n",
       "0              4           13\n",
       "1              9           15\n",
       "2             11            5\n",
       "3             19            3\n",
       "4             20            8\n",
       "...          ...          ...\n",
       "450041   3421034           17\n",
       "450042   3421053            9\n",
       "450043   3421071            5\n",
       "450044   3421077            4\n",
       "450045   3421079            1\n",
       "\n",
       "[450046 rows x 2 columns]"
      ]
     },
     "execution_count": 63,
     "metadata": {},
     "output_type": "execute_result"
    }
   ],
   "source": [
    "#cálculo productos totales por orden\n",
    "\n",
    "order_total_products = (order_products.groupby('order_id')['reordered']\n",
    "                  .count()\n",
    "                  .reset_index()\n",
    "                  .rename(columns= {'reordered': 'total_items'}))\n",
    "order_total_products"
   ]
  },
  {
   "cell_type": "code",
   "execution_count": 64,
   "id": "medical-couple",
   "metadata": {
    "id": "medical-couple",
    "scrolled": true
   },
   "outputs": [
    {
     "name": "stdout",
     "output_type": "stream",
     "text": [
      "0\n"
     ]
    },
    {
     "data": {
      "text/html": [
       "<div>\n",
       "<style scoped>\n",
       "    .dataframe tbody tr th:only-of-type {\n",
       "        vertical-align: middle;\n",
       "    }\n",
       "\n",
       "    .dataframe tbody tr th {\n",
       "        vertical-align: top;\n",
       "    }\n",
       "\n",
       "    .dataframe thead th {\n",
       "        text-align: right;\n",
       "    }\n",
       "</style>\n",
       "<table border=\"1\" class=\"dataframe\">\n",
       "  <thead>\n",
       "    <tr style=\"text-align: right;\">\n",
       "      <th></th>\n",
       "      <th>user_id</th>\n",
       "      <th>order_id</th>\n",
       "    </tr>\n",
       "  </thead>\n",
       "  <tbody>\n",
       "    <tr>\n",
       "      <th>0</th>\n",
       "      <td>183418</td>\n",
       "      <td>1515936</td>\n",
       "    </tr>\n",
       "    <tr>\n",
       "      <th>1</th>\n",
       "      <td>163593</td>\n",
       "      <td>1690866</td>\n",
       "    </tr>\n",
       "    <tr>\n",
       "      <th>2</th>\n",
       "      <td>39980</td>\n",
       "      <td>1454967</td>\n",
       "    </tr>\n",
       "    <tr>\n",
       "      <th>3</th>\n",
       "      <td>82516</td>\n",
       "      <td>1768857</td>\n",
       "    </tr>\n",
       "    <tr>\n",
       "      <th>4</th>\n",
       "      <td>196724</td>\n",
       "      <td>3007858</td>\n",
       "    </tr>\n",
       "    <tr>\n",
       "      <th>...</th>\n",
       "      <td>...</td>\n",
       "      <td>...</td>\n",
       "    </tr>\n",
       "    <tr>\n",
       "      <th>478947</th>\n",
       "      <td>5617</td>\n",
       "      <td>3210681</td>\n",
       "    </tr>\n",
       "    <tr>\n",
       "      <th>478948</th>\n",
       "      <td>112087</td>\n",
       "      <td>3270802</td>\n",
       "    </tr>\n",
       "    <tr>\n",
       "      <th>478949</th>\n",
       "      <td>82944</td>\n",
       "      <td>885349</td>\n",
       "    </tr>\n",
       "    <tr>\n",
       "      <th>478950</th>\n",
       "      <td>4391</td>\n",
       "      <td>216274</td>\n",
       "    </tr>\n",
       "    <tr>\n",
       "      <th>478951</th>\n",
       "      <td>1730</td>\n",
       "      <td>2071924</td>\n",
       "    </tr>\n",
       "  </tbody>\n",
       "</table>\n",
       "<p>478952 rows × 2 columns</p>\n",
       "</div>"
      ],
      "text/plain": [
       "        user_id  order_id\n",
       "0        183418   1515936\n",
       "1        163593   1690866\n",
       "2         39980   1454967\n",
       "3         82516   1768857\n",
       "4        196724   3007858\n",
       "...         ...       ...\n",
       "478947     5617   3210681\n",
       "478948   112087   3270802\n",
       "478949    82944    885349\n",
       "478950     4391    216274\n",
       "478951     1730   2071924\n",
       "\n",
       "[478952 rows x 2 columns]"
      ]
     },
     "execution_count": 64,
     "metadata": {},
     "output_type": "execute_result"
    }
   ],
   "source": [
    "#filtrar tabla para sacar info de clientes\n",
    "users = instacart_orders[['user_id','order_id']]\n",
    "#revisar por duplicados exactos de usuario y orden\n",
    "print(users[['user_id', 'order_id']].duplicated().sum())\n",
    "users"
   ]
  },
  {
   "cell_type": "code",
   "execution_count": 65,
   "id": "8892e4b4",
   "metadata": {
    "id": "8892e4b4"
   },
   "outputs": [
    {
     "data": {
      "text/html": [
       "<div>\n",
       "<style scoped>\n",
       "    .dataframe tbody tr th:only-of-type {\n",
       "        vertical-align: middle;\n",
       "    }\n",
       "\n",
       "    .dataframe tbody tr th {\n",
       "        vertical-align: top;\n",
       "    }\n",
       "\n",
       "    .dataframe thead th {\n",
       "        text-align: right;\n",
       "    }\n",
       "</style>\n",
       "<table border=\"1\" class=\"dataframe\">\n",
       "  <thead>\n",
       "    <tr style=\"text-align: right;\">\n",
       "      <th></th>\n",
       "      <th>order_id</th>\n",
       "      <th>reordered</th>\n",
       "    </tr>\n",
       "  </thead>\n",
       "  <tbody>\n",
       "    <tr>\n",
       "      <th>0</th>\n",
       "      <td>4</td>\n",
       "      <td>12</td>\n",
       "    </tr>\n",
       "    <tr>\n",
       "      <th>1</th>\n",
       "      <td>9</td>\n",
       "      <td>10</td>\n",
       "    </tr>\n",
       "    <tr>\n",
       "      <th>2</th>\n",
       "      <td>11</td>\n",
       "      <td>5</td>\n",
       "    </tr>\n",
       "    <tr>\n",
       "      <th>3</th>\n",
       "      <td>19</td>\n",
       "      <td>3</td>\n",
       "    </tr>\n",
       "    <tr>\n",
       "      <th>4</th>\n",
       "      <td>20</td>\n",
       "      <td>0</td>\n",
       "    </tr>\n",
       "    <tr>\n",
       "      <th>...</th>\n",
       "      <td>...</td>\n",
       "      <td>...</td>\n",
       "    </tr>\n",
       "    <tr>\n",
       "      <th>450041</th>\n",
       "      <td>3421034</td>\n",
       "      <td>17</td>\n",
       "    </tr>\n",
       "    <tr>\n",
       "      <th>450042</th>\n",
       "      <td>3421053</td>\n",
       "      <td>9</td>\n",
       "    </tr>\n",
       "    <tr>\n",
       "      <th>450043</th>\n",
       "      <td>3421071</td>\n",
       "      <td>1</td>\n",
       "    </tr>\n",
       "    <tr>\n",
       "      <th>450044</th>\n",
       "      <td>3421077</td>\n",
       "      <td>0</td>\n",
       "    </tr>\n",
       "    <tr>\n",
       "      <th>450045</th>\n",
       "      <td>3421079</td>\n",
       "      <td>0</td>\n",
       "    </tr>\n",
       "  </tbody>\n",
       "</table>\n",
       "<p>450046 rows × 2 columns</p>\n",
       "</div>"
      ],
      "text/plain": [
       "        order_id  reordered\n",
       "0              4         12\n",
       "1              9         10\n",
       "2             11          5\n",
       "3             19          3\n",
       "4             20          0\n",
       "...          ...        ...\n",
       "450041   3421034         17\n",
       "450042   3421053          9\n",
       "450043   3421071          1\n",
       "450044   3421077          0\n",
       "450045   3421079          0\n",
       "\n",
       "[450046 rows x 2 columns]"
      ]
     },
     "execution_count": 65,
     "metadata": {},
     "output_type": "execute_result"
    }
   ],
   "source": [
    "#filtrar tabla para sacar información productos\n",
    "orders = order_products[['order_id', 'reordered']]\n",
    "#calcular número de productos repetidos por orden\n",
    "orders = orders.groupby('order_id')['reordered'].sum().reset_index()\n",
    "orders"
   ]
  },
  {
   "cell_type": "code",
   "execution_count": 66,
   "id": "edc23c7c",
   "metadata": {},
   "outputs": [
    {
     "data": {
      "text/html": [
       "<div>\n",
       "<style scoped>\n",
       "    .dataframe tbody tr th:only-of-type {\n",
       "        vertical-align: middle;\n",
       "    }\n",
       "\n",
       "    .dataframe tbody tr th {\n",
       "        vertical-align: top;\n",
       "    }\n",
       "\n",
       "    .dataframe thead th {\n",
       "        text-align: right;\n",
       "    }\n",
       "</style>\n",
       "<table border=\"1\" class=\"dataframe\">\n",
       "  <thead>\n",
       "    <tr style=\"text-align: right;\">\n",
       "      <th></th>\n",
       "      <th>user_id</th>\n",
       "      <th>order_id</th>\n",
       "      <th>reordered</th>\n",
       "      <th>total_items</th>\n",
       "    </tr>\n",
       "  </thead>\n",
       "  <tbody>\n",
       "    <tr>\n",
       "      <th>0</th>\n",
       "      <td>183418</td>\n",
       "      <td>1515936</td>\n",
       "      <td>7</td>\n",
       "      <td>13</td>\n",
       "    </tr>\n",
       "    <tr>\n",
       "      <th>1</th>\n",
       "      <td>163593</td>\n",
       "      <td>1690866</td>\n",
       "      <td>3</td>\n",
       "      <td>6</td>\n",
       "    </tr>\n",
       "    <tr>\n",
       "      <th>2</th>\n",
       "      <td>39980</td>\n",
       "      <td>1454967</td>\n",
       "      <td>0</td>\n",
       "      <td>6</td>\n",
       "    </tr>\n",
       "    <tr>\n",
       "      <th>3</th>\n",
       "      <td>82516</td>\n",
       "      <td>1768857</td>\n",
       "      <td>11</td>\n",
       "      <td>16</td>\n",
       "    </tr>\n",
       "    <tr>\n",
       "      <th>4</th>\n",
       "      <td>196724</td>\n",
       "      <td>3007858</td>\n",
       "      <td>11</td>\n",
       "      <td>27</td>\n",
       "    </tr>\n",
       "    <tr>\n",
       "      <th>...</th>\n",
       "      <td>...</td>\n",
       "      <td>...</td>\n",
       "      <td>...</td>\n",
       "      <td>...</td>\n",
       "    </tr>\n",
       "    <tr>\n",
       "      <th>450041</th>\n",
       "      <td>5617</td>\n",
       "      <td>3210681</td>\n",
       "      <td>4</td>\n",
       "      <td>6</td>\n",
       "    </tr>\n",
       "    <tr>\n",
       "      <th>450042</th>\n",
       "      <td>112087</td>\n",
       "      <td>3270802</td>\n",
       "      <td>2</td>\n",
       "      <td>9</td>\n",
       "    </tr>\n",
       "    <tr>\n",
       "      <th>450043</th>\n",
       "      <td>82944</td>\n",
       "      <td>885349</td>\n",
       "      <td>7</td>\n",
       "      <td>14</td>\n",
       "    </tr>\n",
       "    <tr>\n",
       "      <th>450044</th>\n",
       "      <td>4391</td>\n",
       "      <td>216274</td>\n",
       "      <td>7</td>\n",
       "      <td>7</td>\n",
       "    </tr>\n",
       "    <tr>\n",
       "      <th>450045</th>\n",
       "      <td>1730</td>\n",
       "      <td>2071924</td>\n",
       "      <td>14</td>\n",
       "      <td>17</td>\n",
       "    </tr>\n",
       "  </tbody>\n",
       "</table>\n",
       "<p>450046 rows × 4 columns</p>\n",
       "</div>"
      ],
      "text/plain": [
       "        user_id  order_id  reordered  total_items\n",
       "0        183418   1515936          7           13\n",
       "1        163593   1690866          3            6\n",
       "2         39980   1454967          0            6\n",
       "3         82516   1768857         11           16\n",
       "4        196724   3007858         11           27\n",
       "...         ...       ...        ...          ...\n",
       "450041     5617   3210681          4            6\n",
       "450042   112087   3270802          2            9\n",
       "450043    82944    885349          7           14\n",
       "450044     4391    216274          7            7\n",
       "450045     1730   2071924         14           17\n",
       "\n",
       "[450046 rows x 4 columns]"
      ]
     },
     "execution_count": 66,
     "metadata": {},
     "output_type": "execute_result"
    }
   ],
   "source": [
    "#combinar tabla de users y orders\n",
    "user_orders = users.merge(orders, on='order_id')\n",
    "#agregar columna de compras totales \n",
    "user_orders = user_orders.merge(order_total_products, on='order_id')\n",
    "user_orders"
   ]
  },
  {
   "cell_type": "code",
   "execution_count": 67,
   "id": "bc696c49",
   "metadata": {},
   "outputs": [
    {
     "data": {
      "text/html": [
       "<div>\n",
       "<style scoped>\n",
       "    .dataframe tbody tr th:only-of-type {\n",
       "        vertical-align: middle;\n",
       "    }\n",
       "\n",
       "    .dataframe tbody tr th {\n",
       "        vertical-align: top;\n",
       "    }\n",
       "\n",
       "    .dataframe thead th {\n",
       "        text-align: right;\n",
       "    }\n",
       "</style>\n",
       "<table border=\"1\" class=\"dataframe\">\n",
       "  <thead>\n",
       "    <tr style=\"text-align: right;\">\n",
       "      <th></th>\n",
       "      <th>user_id</th>\n",
       "      <th>reordered</th>\n",
       "      <th>total_items</th>\n",
       "    </tr>\n",
       "  </thead>\n",
       "  <tbody>\n",
       "    <tr>\n",
       "      <th>0</th>\n",
       "      <td>2</td>\n",
       "      <td>1</td>\n",
       "      <td>26</td>\n",
       "    </tr>\n",
       "    <tr>\n",
       "      <th>1</th>\n",
       "      <td>4</td>\n",
       "      <td>0</td>\n",
       "      <td>2</td>\n",
       "    </tr>\n",
       "    <tr>\n",
       "      <th>2</th>\n",
       "      <td>5</td>\n",
       "      <td>8</td>\n",
       "      <td>12</td>\n",
       "    </tr>\n",
       "    <tr>\n",
       "      <th>3</th>\n",
       "      <td>6</td>\n",
       "      <td>0</td>\n",
       "      <td>4</td>\n",
       "    </tr>\n",
       "    <tr>\n",
       "      <th>4</th>\n",
       "      <td>7</td>\n",
       "      <td>13</td>\n",
       "      <td>14</td>\n",
       "    </tr>\n",
       "    <tr>\n",
       "      <th>...</th>\n",
       "      <td>...</td>\n",
       "      <td>...</td>\n",
       "      <td>...</td>\n",
       "    </tr>\n",
       "    <tr>\n",
       "      <th>149621</th>\n",
       "      <td>206203</td>\n",
       "      <td>6</td>\n",
       "      <td>27</td>\n",
       "    </tr>\n",
       "    <tr>\n",
       "      <th>149622</th>\n",
       "      <td>206206</td>\n",
       "      <td>15</td>\n",
       "      <td>21</td>\n",
       "    </tr>\n",
       "    <tr>\n",
       "      <th>149623</th>\n",
       "      <td>206207</td>\n",
       "      <td>41</td>\n",
       "      <td>46</td>\n",
       "    </tr>\n",
       "    <tr>\n",
       "      <th>149624</th>\n",
       "      <td>206208</td>\n",
       "      <td>87</td>\n",
       "      <td>125</td>\n",
       "    </tr>\n",
       "    <tr>\n",
       "      <th>149625</th>\n",
       "      <td>206209</td>\n",
       "      <td>8</td>\n",
       "      <td>25</td>\n",
       "    </tr>\n",
       "  </tbody>\n",
       "</table>\n",
       "<p>149626 rows × 3 columns</p>\n",
       "</div>"
      ],
      "text/plain": [
       "        user_id  reordered  total_items\n",
       "0             2          1           26\n",
       "1             4          0            2\n",
       "2             5          8           12\n",
       "3             6          0            4\n",
       "4             7         13           14\n",
       "...         ...        ...          ...\n",
       "149621   206203          6           27\n",
       "149622   206206         15           21\n",
       "149623   206207         41           46\n",
       "149624   206208         87          125\n",
       "149625   206209          8           25\n",
       "\n",
       "[149626 rows x 3 columns]"
      ]
     },
     "execution_count": 67,
     "metadata": {},
     "output_type": "execute_result"
    }
   ],
   "source": [
    "#calcular productos reordenados por cliente\n",
    "user_products_reordered = user_orders.groupby('user_id')[['reordered', 'total_items']].sum().reset_index()\n",
    "user_products_reordered "
   ]
  },
  {
   "cell_type": "code",
   "execution_count": 68,
   "id": "07a577ac",
   "metadata": {},
   "outputs": [
    {
     "data": {
      "text/html": [
       "<div>\n",
       "<style scoped>\n",
       "    .dataframe tbody tr th:only-of-type {\n",
       "        vertical-align: middle;\n",
       "    }\n",
       "\n",
       "    .dataframe tbody tr th {\n",
       "        vertical-align: top;\n",
       "    }\n",
       "\n",
       "    .dataframe thead th {\n",
       "        text-align: right;\n",
       "    }\n",
       "</style>\n",
       "<table border=\"1\" class=\"dataframe\">\n",
       "  <thead>\n",
       "    <tr style=\"text-align: right;\">\n",
       "      <th></th>\n",
       "      <th>user_id</th>\n",
       "      <th>reordered</th>\n",
       "      <th>total_items</th>\n",
       "      <th>pct_reordered_items</th>\n",
       "    </tr>\n",
       "  </thead>\n",
       "  <tbody>\n",
       "    <tr>\n",
       "      <th>0</th>\n",
       "      <td>2</td>\n",
       "      <td>1</td>\n",
       "      <td>26</td>\n",
       "      <td>3.846154</td>\n",
       "    </tr>\n",
       "    <tr>\n",
       "      <th>1</th>\n",
       "      <td>4</td>\n",
       "      <td>0</td>\n",
       "      <td>2</td>\n",
       "      <td>0.000000</td>\n",
       "    </tr>\n",
       "    <tr>\n",
       "      <th>2</th>\n",
       "      <td>5</td>\n",
       "      <td>8</td>\n",
       "      <td>12</td>\n",
       "      <td>66.666667</td>\n",
       "    </tr>\n",
       "    <tr>\n",
       "      <th>3</th>\n",
       "      <td>6</td>\n",
       "      <td>0</td>\n",
       "      <td>4</td>\n",
       "      <td>0.000000</td>\n",
       "    </tr>\n",
       "    <tr>\n",
       "      <th>4</th>\n",
       "      <td>7</td>\n",
       "      <td>13</td>\n",
       "      <td>14</td>\n",
       "      <td>92.857143</td>\n",
       "    </tr>\n",
       "    <tr>\n",
       "      <th>...</th>\n",
       "      <td>...</td>\n",
       "      <td>...</td>\n",
       "      <td>...</td>\n",
       "      <td>...</td>\n",
       "    </tr>\n",
       "    <tr>\n",
       "      <th>149621</th>\n",
       "      <td>206203</td>\n",
       "      <td>6</td>\n",
       "      <td>27</td>\n",
       "      <td>22.222222</td>\n",
       "    </tr>\n",
       "    <tr>\n",
       "      <th>149622</th>\n",
       "      <td>206206</td>\n",
       "      <td>15</td>\n",
       "      <td>21</td>\n",
       "      <td>71.428571</td>\n",
       "    </tr>\n",
       "    <tr>\n",
       "      <th>149623</th>\n",
       "      <td>206207</td>\n",
       "      <td>41</td>\n",
       "      <td>46</td>\n",
       "      <td>89.130435</td>\n",
       "    </tr>\n",
       "    <tr>\n",
       "      <th>149624</th>\n",
       "      <td>206208</td>\n",
       "      <td>87</td>\n",
       "      <td>125</td>\n",
       "      <td>69.600000</td>\n",
       "    </tr>\n",
       "    <tr>\n",
       "      <th>149625</th>\n",
       "      <td>206209</td>\n",
       "      <td>8</td>\n",
       "      <td>25</td>\n",
       "      <td>32.000000</td>\n",
       "    </tr>\n",
       "  </tbody>\n",
       "</table>\n",
       "<p>149626 rows × 4 columns</p>\n",
       "</div>"
      ],
      "text/plain": [
       "        user_id  reordered  total_items  pct_reordered_items\n",
       "0             2          1           26             3.846154\n",
       "1             4          0            2             0.000000\n",
       "2             5          8           12            66.666667\n",
       "3             6          0            4             0.000000\n",
       "4             7         13           14            92.857143\n",
       "...         ...        ...          ...                  ...\n",
       "149621   206203          6           27            22.222222\n",
       "149622   206206         15           21            71.428571\n",
       "149623   206207         41           46            89.130435\n",
       "149624   206208         87          125            69.600000\n",
       "149625   206209          8           25            32.000000\n",
       "\n",
       "[149626 rows x 4 columns]"
      ]
     },
     "execution_count": 68,
     "metadata": {},
     "output_type": "execute_result"
    }
   ],
   "source": [
    "#añadir columna nueva a user_products_reordered con cálculo de proporción \n",
    "user_products_reordered['pct_reordered_items'] = user_products_reordered['reordered'] / user_products_reordered['total_items'] * 100\n",
    "\n",
    "user_products_reordered"
   ]
  },
  {
   "cell_type": "markdown",
   "id": "BgJSvXDsleXz",
   "metadata": {
    "id": "BgJSvXDsleXz"
   },
   "source": [
    "Escribe aquí tus conclusiones. RESPUESTA: Se filtraron las tablas de order_products e instacart_orders para obtener las columnas útiles a procesar. Una vez combinadas las columnas filtradas junto con la columna con el valor de productos totales por usuario, se crea una columna nueva que contiene la proporción de productos reordenados. "
   ]
  },
  {
   "cell_type": "markdown",
   "id": "92d35137",
   "metadata": {
    "id": "92d35137"
   },
   "source": [
    "### [C5] ¿Cuáles son los 20 principales artículos que las personas ponen primero en sus carritos?"
   ]
  },
  {
   "cell_type": "code",
   "execution_count": 69,
   "id": "forty-netherlands",
   "metadata": {
    "id": "forty-netherlands",
    "scrolled": true
   },
   "outputs": [],
   "source": [
    " #crear tabla con conteo de productos agregados al inicio de la compra\n",
    "first_items = (order_products[order_products['add_to_cart_order'] == 1 ]\n",
    "                .groupby('product_id')['add_to_cart_order']\n",
    "                .count()\n",
    "                .sort_values(ascending=False)\n",
    "                .reset_index()\n",
    "                .rename(columns={'add_to_cart_order': 'first_additon'}))\n",
    " \n",
    "#filtrar tabla con id y nombre de producto    \n",
    "items_names = products[['product_id', 'product_name']]\n",
    "\n",
    "#crear tabla con identificación de productos (id, nombre) y conteo de veces agregados primero a la compra\n",
    "first_items_identification = first_items.merge(items_names, on='product_id')\n"
   ]
  },
  {
   "cell_type": "code",
   "execution_count": 70,
   "id": "08e41ec2",
   "metadata": {
    "id": "08e41ec2"
   },
   "outputs": [
    {
     "data": {
      "text/html": [
       "<div>\n",
       "<style scoped>\n",
       "    .dataframe tbody tr th:only-of-type {\n",
       "        vertical-align: middle;\n",
       "    }\n",
       "\n",
       "    .dataframe tbody tr th {\n",
       "        vertical-align: top;\n",
       "    }\n",
       "\n",
       "    .dataframe thead th {\n",
       "        text-align: right;\n",
       "    }\n",
       "</style>\n",
       "<table border=\"1\" class=\"dataframe\">\n",
       "  <thead>\n",
       "    <tr style=\"text-align: right;\">\n",
       "      <th></th>\n",
       "      <th>product_id</th>\n",
       "      <th>first_additon</th>\n",
       "      <th>product_name</th>\n",
       "    </tr>\n",
       "  </thead>\n",
       "  <tbody>\n",
       "    <tr>\n",
       "      <th>0</th>\n",
       "      <td>24852</td>\n",
       "      <td>15562</td>\n",
       "      <td>BANANA</td>\n",
       "    </tr>\n",
       "    <tr>\n",
       "      <th>1</th>\n",
       "      <td>13176</td>\n",
       "      <td>11026</td>\n",
       "      <td>BAG OF ORGANIC BANANAS</td>\n",
       "    </tr>\n",
       "    <tr>\n",
       "      <th>2</th>\n",
       "      <td>27845</td>\n",
       "      <td>4363</td>\n",
       "      <td>ORGANIC WHOLE MILK</td>\n",
       "    </tr>\n",
       "    <tr>\n",
       "      <th>3</th>\n",
       "      <td>21137</td>\n",
       "      <td>3946</td>\n",
       "      <td>ORGANIC STRAWBERRIES</td>\n",
       "    </tr>\n",
       "    <tr>\n",
       "      <th>4</th>\n",
       "      <td>47209</td>\n",
       "      <td>3390</td>\n",
       "      <td>ORGANIC HASS AVOCADO</td>\n",
       "    </tr>\n",
       "    <tr>\n",
       "      <th>5</th>\n",
       "      <td>21903</td>\n",
       "      <td>3336</td>\n",
       "      <td>ORGANIC BABY SPINACH</td>\n",
       "    </tr>\n",
       "    <tr>\n",
       "      <th>6</th>\n",
       "      <td>47766</td>\n",
       "      <td>3044</td>\n",
       "      <td>ORGANIC AVOCADO</td>\n",
       "    </tr>\n",
       "    <tr>\n",
       "      <th>7</th>\n",
       "      <td>19660</td>\n",
       "      <td>2336</td>\n",
       "      <td>SPRING WATER</td>\n",
       "    </tr>\n",
       "    <tr>\n",
       "      <th>8</th>\n",
       "      <td>16797</td>\n",
       "      <td>2308</td>\n",
       "      <td>STRAWBERRIES</td>\n",
       "    </tr>\n",
       "    <tr>\n",
       "      <th>9</th>\n",
       "      <td>27966</td>\n",
       "      <td>2024</td>\n",
       "      <td>ORGANIC RASPBERRIES</td>\n",
       "    </tr>\n",
       "    <tr>\n",
       "      <th>10</th>\n",
       "      <td>44632</td>\n",
       "      <td>1914</td>\n",
       "      <td>SPARKLING WATER GRAPEFRUIT</td>\n",
       "    </tr>\n",
       "    <tr>\n",
       "      <th>11</th>\n",
       "      <td>49235</td>\n",
       "      <td>1797</td>\n",
       "      <td>ORGANIC HALF &amp; HALF</td>\n",
       "    </tr>\n",
       "    <tr>\n",
       "      <th>12</th>\n",
       "      <td>47626</td>\n",
       "      <td>1737</td>\n",
       "      <td>LARGE LEMON</td>\n",
       "    </tr>\n",
       "    <tr>\n",
       "      <th>13</th>\n",
       "      <td>196</td>\n",
       "      <td>1733</td>\n",
       "      <td>SODA</td>\n",
       "    </tr>\n",
       "    <tr>\n",
       "      <th>14</th>\n",
       "      <td>38689</td>\n",
       "      <td>1397</td>\n",
       "      <td>ORGANIC REDUCED FAT MILK</td>\n",
       "    </tr>\n",
       "    <tr>\n",
       "      <th>15</th>\n",
       "      <td>26209</td>\n",
       "      <td>1370</td>\n",
       "      <td>LIMES</td>\n",
       "    </tr>\n",
       "    <tr>\n",
       "      <th>16</th>\n",
       "      <td>12341</td>\n",
       "      <td>1340</td>\n",
       "      <td>HASS AVOCADOS</td>\n",
       "    </tr>\n",
       "    <tr>\n",
       "      <th>17</th>\n",
       "      <td>5785</td>\n",
       "      <td>1310</td>\n",
       "      <td>ORGANIC REDUCED FAT 2% MILK</td>\n",
       "    </tr>\n",
       "    <tr>\n",
       "      <th>18</th>\n",
       "      <td>27086</td>\n",
       "      <td>1309</td>\n",
       "      <td>HALF &amp; HALF</td>\n",
       "    </tr>\n",
       "    <tr>\n",
       "      <th>19</th>\n",
       "      <td>43352</td>\n",
       "      <td>1246</td>\n",
       "      <td>RASPBERRIES</td>\n",
       "    </tr>\n",
       "  </tbody>\n",
       "</table>\n",
       "</div>"
      ],
      "text/plain": [
       "    product_id  first_additon                 product_name\n",
       "0        24852          15562                       BANANA\n",
       "1        13176          11026       BAG OF ORGANIC BANANAS\n",
       "2        27845           4363           ORGANIC WHOLE MILK\n",
       "3        21137           3946         ORGANIC STRAWBERRIES\n",
       "4        47209           3390         ORGANIC HASS AVOCADO\n",
       "5        21903           3336         ORGANIC BABY SPINACH\n",
       "6        47766           3044              ORGANIC AVOCADO\n",
       "7        19660           2336                 SPRING WATER\n",
       "8        16797           2308                 STRAWBERRIES\n",
       "9        27966           2024          ORGANIC RASPBERRIES\n",
       "10       44632           1914   SPARKLING WATER GRAPEFRUIT\n",
       "11       49235           1797          ORGANIC HALF & HALF\n",
       "12       47626           1737                  LARGE LEMON\n",
       "13         196           1733                         SODA\n",
       "14       38689           1397     ORGANIC REDUCED FAT MILK\n",
       "15       26209           1370                        LIMES\n",
       "16       12341           1340                HASS AVOCADOS\n",
       "17        5785           1310  ORGANIC REDUCED FAT 2% MILK\n",
       "18       27086           1309                  HALF & HALF\n",
       "19       43352           1246                  RASPBERRIES"
      ]
     },
     "execution_count": 70,
     "metadata": {},
     "output_type": "execute_result"
    }
   ],
   "source": [
    "#mostrar 20 productos que se añaden primero a una compra \n",
    "first_items_identification.head(20)\n"
   ]
  },
  {
   "cell_type": "markdown",
   "id": "28ce9872",
   "metadata": {
    "id": "28ce9872"
   },
   "source": [
    "Escribe aquí tus conclusiones. RESPUESTA: primero se filtró la tabla order_products, luego se agrupó y aplicaron los métodos para obtener los productos más populares en agrega por primera vez a una compra. A continuación, se sombino con las columnas filtradas del dataset products para saber los nombres de dichos productos. Al analizar la tabla final, podemos dar cuentas que los productos que primero que añaden a una compra son las frutas y verduras orgánicas. "
   ]
  },
  {
   "cell_type": "markdown",
   "id": "uITbFCEoDosC",
   "metadata": {
    "id": "uITbFCEoDosC"
   },
   "source": [
    "### Conclusion general del proyecto:"
   ]
  },
  {
   "cell_type": "markdown",
   "id": "8d813ecb",
   "metadata": {
    "id": "Nk-4GS7mDwqY"
   },
   "source": [
    "Para analizar los datos de Instacart, primero se descargaron las librerías pertinentes y se realizó una descripción exploratoria para cada dataset. Para esto, se utilizó el método info(), se buscaron ausentes y se mostraron las primeras filas con head(). Este paso se realizó para  guiar el preprocesamiento de datos.\n",
    "Para la segunda parte, el preprocesamiento, en cada dataset se buscó por duplicados exactos y valores ausentes. Al revisar esta información, concluimos que las tablas ‘departments’ y ‘aisle’ estaban listas para ser usadas. En las otra tablas se eliminan duplicados exactos y se realizan los siguientes descubrimientos: \n",
    "1. ‘Instacart_orders’: hubo un bug un miércoles a las 2AM.\n",
    "2. ‘Product’: faltan nombres de productos pertenecientes al departamento 21, pasillo 100, se reemplazan los NaN por 'Unknown'.\n",
    "3. 'Order_product': se reemplazan valores ausente de 'add_to_cart_order' por 999. \n",
    "\n",
    "Para finalizar, respondemos las preguntas de análisis donde se obtienenlos siguientes resultados: \n",
    "1. La hora peak de compras por cliente es a las 15PM.\n",
    "2. Los días favoritos para comprar son domingo y sábado.\n",
    "3. La mayoría de las personas esperan 30 días entre compra y compra. \n",
    "4. La cantidad de compras entre miércoles y sábado son similares durante el transcurso de cada día. Excepto entre 12PM Y 14PM donde se realizan más compras los sábados. \n",
    "5. La mayoría de los clientes realiza entre 1 y 100 compras. \n",
    "6. Usualmente hay entre 1 y 15 productos por orden de compra.  \n",
    "7. Los productos más populares, que se piden con mayor frecuencia y se vuelven a comprar más seguido son las frutas y verduras orgánicas.\n",
    "\n",
    "Se pueden seguir explorando los datos para analizar relaciones entre la proporción de las veces que se pide y que se vuelve a pedir cada producto o el producto más repetido de cada usuario. \n"
   ]
  }
 ],
 "metadata": {
  "ExecuteTimeLog": [
   {
    "duration": 4686,
    "start_time": "2024-07-19T19:01:48.153Z"
   },
   {
    "duration": 5,
    "start_time": "2024-07-19T19:01:58.626Z"
   },
   {
    "duration": 806,
    "start_time": "2024-07-19T19:03:24.285Z"
   },
   {
    "duration": 245,
    "start_time": "2024-07-19T19:03:33.229Z"
   },
   {
    "duration": 277,
    "start_time": "2024-07-19T19:04:52.586Z"
   },
   {
    "duration": 237,
    "start_time": "2024-07-19T19:05:18.670Z"
   },
   {
    "duration": 245,
    "start_time": "2024-07-19T19:06:06.887Z"
   },
   {
    "duration": 1565,
    "start_time": "2024-07-19T19:07:07.862Z"
   },
   {
    "duration": 19,
    "start_time": "2024-07-19T19:07:54.471Z"
   },
   {
    "duration": 17,
    "start_time": "2024-07-19T19:07:57.194Z"
   },
   {
    "duration": 27,
    "start_time": "2024-07-19T19:08:10.248Z"
   },
   {
    "duration": 5,
    "start_time": "2024-07-19T19:08:19.852Z"
   },
   {
    "duration": 24,
    "start_time": "2024-07-19T19:08:35.254Z"
   },
   {
    "duration": 20,
    "start_time": "2024-07-19T19:08:56.196Z"
   },
   {
    "duration": 20,
    "start_time": "2024-07-19T19:10:03.671Z"
   },
   {
    "duration": 21,
    "start_time": "2024-07-19T19:10:05.927Z"
   },
   {
    "duration": 28,
    "start_time": "2024-07-19T19:10:37.079Z"
   },
   {
    "duration": 1484,
    "start_time": "2024-07-19T19:10:56.733Z"
   },
   {
    "duration": 20,
    "start_time": "2024-07-19T19:11:04.203Z"
   },
   {
    "duration": 750,
    "start_time": "2024-07-19T19:11:21.290Z"
   },
   {
    "duration": 1628,
    "start_time": "2024-07-19T19:11:22.044Z"
   },
   {
    "duration": 29,
    "start_time": "2024-07-19T19:11:23.675Z"
   },
   {
    "duration": 40,
    "start_time": "2024-07-19T19:11:23.707Z"
   },
   {
    "duration": 20,
    "start_time": "2024-07-19T19:11:23.753Z"
   },
   {
    "duration": 57,
    "start_time": "2024-07-19T19:11:23.776Z"
   },
   {
    "duration": 20,
    "start_time": "2024-07-19T19:11:23.836Z"
   },
   {
    "duration": 5,
    "start_time": "2024-07-19T19:11:23.858Z"
   },
   {
    "duration": 6,
    "start_time": "2024-07-19T19:11:23.866Z"
   },
   {
    "duration": 6,
    "start_time": "2024-07-19T19:11:23.876Z"
   },
   {
    "duration": 3,
    "start_time": "2024-07-19T19:11:23.886Z"
   },
   {
    "duration": 3,
    "start_time": "2024-07-19T19:11:23.934Z"
   },
   {
    "duration": 3,
    "start_time": "2024-07-19T19:11:23.941Z"
   },
   {
    "duration": 4,
    "start_time": "2024-07-19T19:11:23.952Z"
   },
   {
    "duration": 4,
    "start_time": "2024-07-19T19:11:23.960Z"
   },
   {
    "duration": 5,
    "start_time": "2024-07-19T19:11:23.967Z"
   },
   {
    "duration": 4,
    "start_time": "2024-07-19T19:11:23.975Z"
   },
   {
    "duration": 51,
    "start_time": "2024-07-19T19:11:23.982Z"
   },
   {
    "duration": 4,
    "start_time": "2024-07-19T19:11:24.036Z"
   },
   {
    "duration": 4,
    "start_time": "2024-07-19T19:11:24.043Z"
   },
   {
    "duration": 4,
    "start_time": "2024-07-19T19:11:24.049Z"
   },
   {
    "duration": 5,
    "start_time": "2024-07-19T19:11:24.056Z"
   },
   {
    "duration": 3,
    "start_time": "2024-07-19T19:11:24.064Z"
   },
   {
    "duration": 4,
    "start_time": "2024-07-19T19:11:24.070Z"
   },
   {
    "duration": 3,
    "start_time": "2024-07-19T19:11:24.077Z"
   },
   {
    "duration": 3,
    "start_time": "2024-07-19T19:11:24.133Z"
   },
   {
    "duration": 3,
    "start_time": "2024-07-19T19:11:24.139Z"
   },
   {
    "duration": 4,
    "start_time": "2024-07-19T19:11:24.145Z"
   },
   {
    "duration": 4,
    "start_time": "2024-07-19T19:11:24.152Z"
   },
   {
    "duration": 3,
    "start_time": "2024-07-19T19:11:24.159Z"
   },
   {
    "duration": 3,
    "start_time": "2024-07-19T19:11:24.166Z"
   },
   {
    "duration": 4,
    "start_time": "2024-07-19T19:11:24.172Z"
   },
   {
    "duration": 4,
    "start_time": "2024-07-19T19:11:24.233Z"
   },
   {
    "duration": 3,
    "start_time": "2024-07-19T19:11:24.240Z"
   },
   {
    "duration": 45,
    "start_time": "2024-07-19T19:13:43.722Z"
   },
   {
    "duration": 29,
    "start_time": "2024-07-19T19:23:54.606Z"
   },
   {
    "duration": 35,
    "start_time": "2024-07-19T19:24:21.491Z"
   },
   {
    "duration": 28,
    "start_time": "2024-07-19T19:25:22.540Z"
   },
   {
    "duration": 43,
    "start_time": "2024-07-19T19:26:25.325Z"
   },
   {
    "duration": 27,
    "start_time": "2024-07-19T19:26:38.533Z"
   },
   {
    "duration": 15,
    "start_time": "2024-07-19T19:27:45.220Z"
   },
   {
    "duration": 7,
    "start_time": "2024-07-19T19:28:15.239Z"
   },
   {
    "duration": 6,
    "start_time": "2024-07-19T19:28:22.133Z"
   },
   {
    "duration": 26,
    "start_time": "2024-07-19T19:42:57.109Z"
   },
   {
    "duration": 1237,
    "start_time": "2024-07-19T19:43:41.003Z"
   },
   {
    "duration": 89,
    "start_time": "2024-07-19T19:44:14.349Z"
   },
   {
    "duration": 26,
    "start_time": "2024-07-19T19:44:35.787Z"
   },
   {
    "duration": 56,
    "start_time": "2024-07-19T19:45:35.720Z"
   },
   {
    "duration": 665,
    "start_time": "2024-07-19T19:51:45.455Z"
   },
   {
    "duration": 1560,
    "start_time": "2024-07-19T19:51:46.124Z"
   },
   {
    "duration": 31,
    "start_time": "2024-07-19T19:51:47.687Z"
   },
   {
    "duration": 26,
    "start_time": "2024-07-19T19:51:47.732Z"
   },
   {
    "duration": 79,
    "start_time": "2024-07-19T19:51:47.761Z"
   },
   {
    "duration": 20,
    "start_time": "2024-07-19T19:51:47.844Z"
   },
   {
    "duration": 19,
    "start_time": "2024-07-19T19:51:47.868Z"
   },
   {
    "duration": 4,
    "start_time": "2024-07-19T19:51:47.889Z"
   },
   {
    "duration": 3,
    "start_time": "2024-07-19T19:51:47.934Z"
   },
   {
    "duration": 3,
    "start_time": "2024-07-19T19:51:47.943Z"
   },
   {
    "duration": 4,
    "start_time": "2024-07-19T19:51:47.949Z"
   },
   {
    "duration": 4,
    "start_time": "2024-07-19T19:51:47.956Z"
   },
   {
    "duration": 4,
    "start_time": "2024-07-19T19:51:47.963Z"
   },
   {
    "duration": 3,
    "start_time": "2024-07-19T19:51:47.970Z"
   },
   {
    "duration": 3,
    "start_time": "2024-07-19T19:51:47.977Z"
   },
   {
    "duration": 4,
    "start_time": "2024-07-19T19:51:48.034Z"
   },
   {
    "duration": 4,
    "start_time": "2024-07-19T19:51:48.041Z"
   },
   {
    "duration": 5,
    "start_time": "2024-07-19T19:51:48.048Z"
   },
   {
    "duration": 4,
    "start_time": "2024-07-19T19:51:48.056Z"
   },
   {
    "duration": 3,
    "start_time": "2024-07-19T19:51:48.063Z"
   },
   {
    "duration": 3,
    "start_time": "2024-07-19T19:51:48.070Z"
   },
   {
    "duration": 58,
    "start_time": "2024-07-19T19:51:48.076Z"
   },
   {
    "duration": 3,
    "start_time": "2024-07-19T19:51:48.137Z"
   },
   {
    "duration": 4,
    "start_time": "2024-07-19T19:51:48.143Z"
   },
   {
    "duration": 4,
    "start_time": "2024-07-19T19:51:48.150Z"
   },
   {
    "duration": 3,
    "start_time": "2024-07-19T19:51:48.157Z"
   },
   {
    "duration": 3,
    "start_time": "2024-07-19T19:51:48.164Z"
   },
   {
    "duration": 3,
    "start_time": "2024-07-19T19:51:48.174Z"
   },
   {
    "duration": 3,
    "start_time": "2024-07-19T19:51:48.233Z"
   },
   {
    "duration": 3,
    "start_time": "2024-07-19T19:51:48.240Z"
   },
   {
    "duration": 4,
    "start_time": "2024-07-19T19:51:48.246Z"
   },
   {
    "duration": 3,
    "start_time": "2024-07-19T19:51:48.254Z"
   },
   {
    "duration": 4,
    "start_time": "2024-07-19T19:51:48.260Z"
   },
   {
    "duration": 3,
    "start_time": "2024-07-19T19:51:48.267Z"
   },
   {
    "duration": 12,
    "start_time": "2024-07-19T20:56:33.479Z"
   },
   {
    "duration": 304,
    "start_time": "2024-07-19T20:56:43.826Z"
   },
   {
    "duration": 4842,
    "start_time": "2024-07-19T20:56:58.310Z"
   },
   {
    "duration": 1706,
    "start_time": "2024-07-19T20:57:03.158Z"
   },
   {
    "duration": 31,
    "start_time": "2024-07-19T20:57:04.868Z"
   },
   {
    "duration": 42,
    "start_time": "2024-07-19T20:57:04.902Z"
   },
   {
    "duration": 53,
    "start_time": "2024-07-19T20:57:04.948Z"
   },
   {
    "duration": 43,
    "start_time": "2024-07-19T20:57:05.004Z"
   },
   {
    "duration": 19,
    "start_time": "2024-07-19T20:57:05.052Z"
   },
   {
    "duration": 190,
    "start_time": "2024-07-19T20:57:05.074Z"
   },
   {
    "duration": 4,
    "start_time": "2024-07-19T20:57:05.267Z"
   },
   {
    "duration": 4,
    "start_time": "2024-07-19T20:57:05.273Z"
   },
   {
    "duration": 3,
    "start_time": "2024-07-19T20:57:05.281Z"
   },
   {
    "duration": 4,
    "start_time": "2024-07-19T20:57:05.287Z"
   },
   {
    "duration": 35,
    "start_time": "2024-07-19T20:57:05.297Z"
   },
   {
    "duration": 3,
    "start_time": "2024-07-19T20:57:05.340Z"
   },
   {
    "duration": 4,
    "start_time": "2024-07-19T20:57:05.347Z"
   },
   {
    "duration": 5,
    "start_time": "2024-07-19T20:57:05.354Z"
   },
   {
    "duration": 4,
    "start_time": "2024-07-19T20:57:05.364Z"
   },
   {
    "duration": 6,
    "start_time": "2024-07-19T20:57:05.372Z"
   },
   {
    "duration": 5,
    "start_time": "2024-07-19T20:57:05.430Z"
   },
   {
    "duration": 4,
    "start_time": "2024-07-19T20:57:05.438Z"
   },
   {
    "duration": 3,
    "start_time": "2024-07-19T20:57:05.445Z"
   },
   {
    "duration": 4,
    "start_time": "2024-07-19T20:57:05.452Z"
   },
   {
    "duration": 5,
    "start_time": "2024-07-19T20:57:05.458Z"
   },
   {
    "duration": 4,
    "start_time": "2024-07-19T20:57:05.466Z"
   },
   {
    "duration": 56,
    "start_time": "2024-07-19T20:57:05.474Z"
   },
   {
    "duration": 4,
    "start_time": "2024-07-19T20:57:05.533Z"
   },
   {
    "duration": 4,
    "start_time": "2024-07-19T20:57:05.540Z"
   },
   {
    "duration": 3,
    "start_time": "2024-07-19T20:57:05.548Z"
   },
   {
    "duration": 4,
    "start_time": "2024-07-19T20:57:05.554Z"
   },
   {
    "duration": 4,
    "start_time": "2024-07-19T20:57:05.561Z"
   },
   {
    "duration": 4,
    "start_time": "2024-07-19T20:57:05.568Z"
   },
   {
    "duration": 60,
    "start_time": "2024-07-19T20:57:05.575Z"
   },
   {
    "duration": 4,
    "start_time": "2024-07-19T20:57:05.638Z"
   },
   {
    "duration": 4,
    "start_time": "2024-07-19T20:57:05.646Z"
   },
   {
    "duration": 6,
    "start_time": "2024-07-19T21:23:18.059Z"
   },
   {
    "duration": 331,
    "start_time": "2024-07-19T21:23:21.665Z"
   },
   {
    "duration": 397,
    "start_time": "2024-07-19T21:27:23.333Z"
   },
   {
    "duration": 25,
    "start_time": "2024-07-19T21:27:41.182Z"
   },
   {
    "duration": 1141,
    "start_time": "2024-07-19T21:28:29.954Z"
   },
   {
    "duration": 394,
    "start_time": "2024-07-19T21:30:07.648Z"
   },
   {
    "duration": 21,
    "start_time": "2024-07-19T21:34:12.078Z"
   },
   {
    "duration": 413,
    "start_time": "2024-07-19T21:34:25.167Z"
   },
   {
    "duration": 56,
    "start_time": "2024-07-19T21:39:32.039Z"
   },
   {
    "duration": 25,
    "start_time": "2024-07-19T21:39:38.961Z"
   },
   {
    "duration": 244,
    "start_time": "2024-07-19T21:41:44.943Z"
   },
   {
    "duration": 179,
    "start_time": "2024-07-19T21:42:04.080Z"
   },
   {
    "duration": 229,
    "start_time": "2024-07-19T21:42:24.392Z"
   },
   {
    "duration": 172,
    "start_time": "2024-07-19T21:42:27.744Z"
   },
   {
    "duration": 711,
    "start_time": "2024-07-19T21:42:47.471Z"
   },
   {
    "duration": 1617,
    "start_time": "2024-07-19T21:42:48.185Z"
   },
   {
    "duration": 39,
    "start_time": "2024-07-19T21:42:49.805Z"
   },
   {
    "duration": 30,
    "start_time": "2024-07-19T21:42:49.847Z"
   },
   {
    "duration": 83,
    "start_time": "2024-07-19T21:42:49.881Z"
   },
   {
    "duration": 19,
    "start_time": "2024-07-19T21:42:49.967Z"
   },
   {
    "duration": 51,
    "start_time": "2024-07-19T21:42:49.989Z"
   },
   {
    "duration": 413,
    "start_time": "2024-07-19T21:42:50.044Z"
   },
   {
    "duration": 16,
    "start_time": "2024-07-19T21:42:50.461Z"
   },
   {
    "duration": 253,
    "start_time": "2024-07-19T21:42:50.480Z"
   },
   {
    "duration": 215,
    "start_time": "2024-07-19T21:42:50.737Z"
   },
   {
    "duration": 4,
    "start_time": "2024-07-19T21:42:50.955Z"
   },
   {
    "duration": 5,
    "start_time": "2024-07-19T21:42:50.962Z"
   },
   {
    "duration": 4,
    "start_time": "2024-07-19T21:42:50.976Z"
   },
   {
    "duration": 4,
    "start_time": "2024-07-19T21:42:50.984Z"
   },
   {
    "duration": 5,
    "start_time": "2024-07-19T21:42:51.033Z"
   },
   {
    "duration": 4,
    "start_time": "2024-07-19T21:42:51.043Z"
   },
   {
    "duration": 4,
    "start_time": "2024-07-19T21:42:51.051Z"
   },
   {
    "duration": 5,
    "start_time": "2024-07-19T21:42:51.060Z"
   },
   {
    "duration": 5,
    "start_time": "2024-07-19T21:42:51.069Z"
   },
   {
    "duration": 58,
    "start_time": "2024-07-19T21:42:51.077Z"
   },
   {
    "duration": 5,
    "start_time": "2024-07-19T21:42:51.138Z"
   },
   {
    "duration": 4,
    "start_time": "2024-07-19T21:42:51.146Z"
   },
   {
    "duration": 5,
    "start_time": "2024-07-19T21:42:51.153Z"
   },
   {
    "duration": 3,
    "start_time": "2024-07-19T21:42:51.162Z"
   },
   {
    "duration": 4,
    "start_time": "2024-07-19T21:42:51.169Z"
   },
   {
    "duration": 10,
    "start_time": "2024-07-19T21:42:51.231Z"
   },
   {
    "duration": 4,
    "start_time": "2024-07-19T21:42:51.245Z"
   },
   {
    "duration": 5,
    "start_time": "2024-07-19T21:42:51.253Z"
   },
   {
    "duration": 4,
    "start_time": "2024-07-19T21:42:51.262Z"
   },
   {
    "duration": 4,
    "start_time": "2024-07-19T21:42:51.269Z"
   },
   {
    "duration": 4,
    "start_time": "2024-07-19T21:42:51.276Z"
   },
   {
    "duration": 50,
    "start_time": "2024-07-19T21:42:51.283Z"
   },
   {
    "duration": 5,
    "start_time": "2024-07-19T21:42:51.336Z"
   },
   {
    "duration": 189,
    "start_time": "2024-07-19T21:44:30.842Z"
   },
   {
    "duration": 195,
    "start_time": "2024-07-19T21:44:32.196Z"
   },
   {
    "duration": 50,
    "start_time": "2024-07-19T21:47:14.170Z"
   },
   {
    "duration": 1842,
    "start_time": "2024-07-19T21:49:40.673Z"
   },
   {
    "duration": 255,
    "start_time": "2024-07-19T21:49:59.452Z"
   },
   {
    "duration": 770,
    "start_time": "2024-07-19T21:57:08.141Z"
   },
   {
    "duration": 1664,
    "start_time": "2024-07-19T21:57:08.915Z"
   },
   {
    "duration": 48,
    "start_time": "2024-07-19T21:57:10.582Z"
   },
   {
    "duration": 34,
    "start_time": "2024-07-19T21:57:10.635Z"
   },
   {
    "duration": 93,
    "start_time": "2024-07-19T21:57:10.672Z"
   },
   {
    "duration": 22,
    "start_time": "2024-07-19T21:57:10.768Z"
   },
   {
    "duration": 43,
    "start_time": "2024-07-19T21:57:10.793Z"
   },
   {
    "duration": 356,
    "start_time": "2024-07-19T21:57:10.839Z"
   },
   {
    "duration": 31,
    "start_time": "2024-07-19T21:57:11.200Z"
   },
   {
    "duration": 224,
    "start_time": "2024-07-19T21:57:11.236Z"
   },
   {
    "duration": 201,
    "start_time": "2024-07-19T21:57:11.464Z"
   },
   {
    "duration": 66,
    "start_time": "2024-07-19T21:57:11.668Z"
   },
   {
    "duration": 5,
    "start_time": "2024-07-19T21:57:11.738Z"
   },
   {
    "duration": 6,
    "start_time": "2024-07-19T21:57:11.748Z"
   },
   {
    "duration": 7,
    "start_time": "2024-07-19T21:57:11.765Z"
   },
   {
    "duration": 4,
    "start_time": "2024-07-19T21:57:11.777Z"
   },
   {
    "duration": 4,
    "start_time": "2024-07-19T21:57:11.784Z"
   },
   {
    "duration": 39,
    "start_time": "2024-07-19T21:57:11.792Z"
   },
   {
    "duration": 4,
    "start_time": "2024-07-19T21:57:11.836Z"
   },
   {
    "duration": 5,
    "start_time": "2024-07-19T21:57:11.850Z"
   },
   {
    "duration": 4,
    "start_time": "2024-07-19T21:57:11.859Z"
   },
   {
    "duration": 5,
    "start_time": "2024-07-19T21:57:11.867Z"
   },
   {
    "duration": 55,
    "start_time": "2024-07-19T21:57:11.877Z"
   },
   {
    "duration": 8,
    "start_time": "2024-07-19T21:57:11.936Z"
   },
   {
    "duration": 4,
    "start_time": "2024-07-19T21:57:11.948Z"
   },
   {
    "duration": 3,
    "start_time": "2024-07-19T21:57:11.955Z"
   },
   {
    "duration": 18,
    "start_time": "2024-07-19T21:57:11.963Z"
   },
   {
    "duration": 6,
    "start_time": "2024-07-19T21:57:11.989Z"
   },
   {
    "duration": 4,
    "start_time": "2024-07-19T21:57:11.999Z"
   },
   {
    "duration": 4,
    "start_time": "2024-07-19T21:57:12.035Z"
   },
   {
    "duration": 10,
    "start_time": "2024-07-19T21:57:12.045Z"
   },
   {
    "duration": 5,
    "start_time": "2024-07-19T21:57:12.059Z"
   },
   {
    "duration": 4,
    "start_time": "2024-07-19T21:57:12.067Z"
   },
   {
    "duration": 4,
    "start_time": "2024-07-19T21:57:12.074Z"
   },
   {
    "duration": 34,
    "start_time": "2024-07-19T21:58:13.685Z"
   },
   {
    "duration": 23,
    "start_time": "2024-07-19T21:59:04.729Z"
   },
   {
    "duration": 374,
    "start_time": "2024-07-19T21:59:13.156Z"
   },
   {
    "duration": 671,
    "start_time": "2024-07-19T21:59:38.070Z"
   },
   {
    "duration": 1593,
    "start_time": "2024-07-19T21:59:38.744Z"
   },
   {
    "duration": 31,
    "start_time": "2024-07-19T21:59:40.341Z"
   },
   {
    "duration": 27,
    "start_time": "2024-07-19T21:59:40.376Z"
   },
   {
    "duration": 54,
    "start_time": "2024-07-19T21:59:40.432Z"
   },
   {
    "duration": 43,
    "start_time": "2024-07-19T21:59:40.489Z"
   },
   {
    "duration": 21,
    "start_time": "2024-07-19T21:59:40.535Z"
   },
   {
    "duration": 390,
    "start_time": "2024-07-19T21:59:40.559Z"
   },
   {
    "duration": 14,
    "start_time": "2024-07-19T21:59:40.952Z"
   },
   {
    "duration": 194,
    "start_time": "2024-07-19T21:59:40.969Z"
   },
   {
    "duration": 171,
    "start_time": "2024-07-19T21:59:41.166Z"
   },
   {
    "duration": 49,
    "start_time": "2024-07-19T21:59:41.340Z"
   },
   {
    "duration": 48,
    "start_time": "2024-07-19T21:59:41.392Z"
   },
   {
    "duration": 5,
    "start_time": "2024-07-19T21:59:41.449Z"
   },
   {
    "duration": 4,
    "start_time": "2024-07-19T21:59:41.457Z"
   },
   {
    "duration": 4,
    "start_time": "2024-07-19T21:59:41.464Z"
   },
   {
    "duration": 3,
    "start_time": "2024-07-19T21:59:41.471Z"
   },
   {
    "duration": 3,
    "start_time": "2024-07-19T21:59:41.478Z"
   },
   {
    "duration": 46,
    "start_time": "2024-07-19T21:59:41.485Z"
   },
   {
    "duration": 3,
    "start_time": "2024-07-19T21:59:41.535Z"
   },
   {
    "duration": 3,
    "start_time": "2024-07-19T21:59:41.542Z"
   },
   {
    "duration": 4,
    "start_time": "2024-07-19T21:59:41.548Z"
   },
   {
    "duration": 4,
    "start_time": "2024-07-19T21:59:41.555Z"
   },
   {
    "duration": 4,
    "start_time": "2024-07-19T21:59:41.562Z"
   },
   {
    "duration": 3,
    "start_time": "2024-07-19T21:59:41.569Z"
   },
   {
    "duration": 58,
    "start_time": "2024-07-19T21:59:41.575Z"
   },
   {
    "duration": 3,
    "start_time": "2024-07-19T21:59:41.638Z"
   },
   {
    "duration": 4,
    "start_time": "2024-07-19T21:59:41.644Z"
   },
   {
    "duration": 3,
    "start_time": "2024-07-19T21:59:41.652Z"
   },
   {
    "duration": 4,
    "start_time": "2024-07-19T21:59:41.658Z"
   },
   {
    "duration": 4,
    "start_time": "2024-07-19T21:59:41.665Z"
   },
   {
    "duration": 4,
    "start_time": "2024-07-19T21:59:41.672Z"
   },
   {
    "duration": 3,
    "start_time": "2024-07-19T21:59:41.733Z"
   },
   {
    "duration": 4,
    "start_time": "2024-07-19T21:59:41.740Z"
   },
   {
    "duration": 7,
    "start_time": "2024-07-19T22:00:44.972Z"
   },
   {
    "duration": 30,
    "start_time": "2024-07-19T22:01:12.685Z"
   },
   {
    "duration": 30,
    "start_time": "2024-07-19T22:01:30.330Z"
   },
   {
    "duration": 10,
    "start_time": "2024-07-19T22:07:28.444Z"
   },
   {
    "duration": 6,
    "start_time": "2024-07-19T22:08:02.275Z"
   },
   {
    "duration": 5,
    "start_time": "2024-07-19T22:08:06.020Z"
   },
   {
    "duration": 395,
    "start_time": "2024-07-19T22:08:10.862Z"
   },
   {
    "duration": 21,
    "start_time": "2024-07-19T22:09:11.620Z"
   },
   {
    "duration": 7,
    "start_time": "2024-07-19T22:09:37.464Z"
   },
   {
    "duration": 21,
    "start_time": "2024-07-19T22:11:12.686Z"
   },
   {
    "duration": 7,
    "start_time": "2024-07-19T22:11:15.322Z"
   },
   {
    "duration": 6,
    "start_time": "2024-07-19T22:11:25.635Z"
   },
   {
    "duration": 1430,
    "start_time": "2024-07-19T22:12:01.457Z"
   },
   {
    "duration": 1428,
    "start_time": "2024-07-19T22:12:04.545Z"
   },
   {
    "duration": 12,
    "start_time": "2024-07-19T23:18:08.244Z"
   },
   {
    "duration": 5,
    "start_time": "2024-07-19T23:18:16.454Z"
   },
   {
    "duration": 336,
    "start_time": "2024-07-19T23:18:26.081Z"
   },
   {
    "duration": 4339,
    "start_time": "2024-07-19T23:19:00.953Z"
   },
   {
    "duration": 1727,
    "start_time": "2024-07-19T23:19:05.295Z"
   },
   {
    "duration": 32,
    "start_time": "2024-07-19T23:19:07.026Z"
   },
   {
    "duration": 27,
    "start_time": "2024-07-19T23:19:07.067Z"
   },
   {
    "duration": 79,
    "start_time": "2024-07-19T23:19:07.097Z"
   },
   {
    "duration": 21,
    "start_time": "2024-07-19T23:19:07.179Z"
   },
   {
    "duration": 20,
    "start_time": "2024-07-19T23:19:07.203Z"
   },
   {
    "duration": 410,
    "start_time": "2024-07-19T23:19:07.226Z"
   },
   {
    "duration": 30,
    "start_time": "2024-07-19T23:19:07.639Z"
   },
   {
    "duration": 216,
    "start_time": "2024-07-19T23:19:07.675Z"
   },
   {
    "duration": 177,
    "start_time": "2024-07-19T23:19:07.894Z"
   },
   {
    "duration": 53,
    "start_time": "2024-07-19T23:19:08.074Z"
   },
   {
    "duration": 54,
    "start_time": "2024-07-19T23:19:08.131Z"
   },
   {
    "duration": 8,
    "start_time": "2024-07-19T23:19:08.188Z"
   },
   {
    "duration": 34,
    "start_time": "2024-07-19T23:19:08.199Z"
   },
   {
    "duration": 4,
    "start_time": "2024-07-19T23:19:08.267Z"
   },
   {
    "duration": 7,
    "start_time": "2024-07-19T23:19:08.275Z"
   },
   {
    "duration": 8,
    "start_time": "2024-07-19T23:19:08.285Z"
   },
   {
    "duration": 8,
    "start_time": "2024-07-19T23:19:08.295Z"
   },
   {
    "duration": 6,
    "start_time": "2024-07-19T23:19:08.306Z"
   },
   {
    "duration": 1413,
    "start_time": "2024-07-19T23:19:08.316Z"
   },
   {
    "duration": 4,
    "start_time": "2024-07-19T23:19:09.732Z"
   },
   {
    "duration": 4,
    "start_time": "2024-07-19T23:19:09.772Z"
   },
   {
    "duration": 4,
    "start_time": "2024-07-19T23:19:09.779Z"
   },
   {
    "duration": 4,
    "start_time": "2024-07-19T23:19:09.788Z"
   },
   {
    "duration": 3,
    "start_time": "2024-07-19T23:19:09.796Z"
   },
   {
    "duration": 3,
    "start_time": "2024-07-19T23:19:09.807Z"
   },
   {
    "duration": 4,
    "start_time": "2024-07-19T23:19:09.867Z"
   },
   {
    "duration": 6,
    "start_time": "2024-07-19T23:19:09.876Z"
   },
   {
    "duration": 5,
    "start_time": "2024-07-19T23:19:09.886Z"
   },
   {
    "duration": 8,
    "start_time": "2024-07-19T23:19:09.894Z"
   },
   {
    "duration": 4,
    "start_time": "2024-07-19T23:19:09.905Z"
   },
   {
    "duration": 3,
    "start_time": "2024-07-19T23:19:09.914Z"
   },
   {
    "duration": 49,
    "start_time": "2024-07-19T23:19:09.921Z"
   },
   {
    "duration": 659,
    "start_time": "2024-07-19T23:19:25.329Z"
   },
   {
    "duration": 1575,
    "start_time": "2024-07-19T23:19:25.992Z"
   },
   {
    "duration": 33,
    "start_time": "2024-07-19T23:19:27.570Z"
   },
   {
    "duration": 25,
    "start_time": "2024-07-19T23:19:27.608Z"
   },
   {
    "duration": 84,
    "start_time": "2024-07-19T23:19:27.636Z"
   },
   {
    "duration": 46,
    "start_time": "2024-07-19T23:19:27.723Z"
   },
   {
    "duration": 22,
    "start_time": "2024-07-19T23:19:27.785Z"
   },
   {
    "duration": 370,
    "start_time": "2024-07-19T23:19:27.811Z"
   },
   {
    "duration": 18,
    "start_time": "2024-07-19T23:19:28.184Z"
   },
   {
    "duration": 232,
    "start_time": "2024-07-19T23:19:28.209Z"
   },
   {
    "duration": 171,
    "start_time": "2024-07-19T23:19:28.443Z"
   },
   {
    "duration": 60,
    "start_time": "2024-07-19T23:19:28.616Z"
   },
   {
    "duration": 26,
    "start_time": "2024-07-19T23:19:28.679Z"
   },
   {
    "duration": 7,
    "start_time": "2024-07-19T23:19:28.708Z"
   },
   {
    "duration": 69,
    "start_time": "2024-07-19T23:19:28.717Z"
   },
   {
    "duration": 3,
    "start_time": "2024-07-19T23:19:28.789Z"
   },
   {
    "duration": 6,
    "start_time": "2024-07-19T23:19:28.796Z"
   },
   {
    "duration": 6,
    "start_time": "2024-07-19T23:19:28.806Z"
   },
   {
    "duration": 7,
    "start_time": "2024-07-19T23:19:28.816Z"
   },
   {
    "duration": 7,
    "start_time": "2024-07-19T23:19:28.869Z"
   },
   {
    "duration": 1373,
    "start_time": "2024-07-19T23:19:28.878Z"
   },
   {
    "duration": 15,
    "start_time": "2024-07-19T23:19:30.254Z"
   },
   {
    "duration": 14,
    "start_time": "2024-07-19T23:19:30.274Z"
   },
   {
    "duration": 3,
    "start_time": "2024-07-19T23:19:30.291Z"
   },
   {
    "duration": 3,
    "start_time": "2024-07-19T23:19:30.298Z"
   },
   {
    "duration": 3,
    "start_time": "2024-07-19T23:19:30.305Z"
   },
   {
    "duration": 4,
    "start_time": "2024-07-19T23:19:30.311Z"
   },
   {
    "duration": 3,
    "start_time": "2024-07-19T23:19:30.370Z"
   },
   {
    "duration": 4,
    "start_time": "2024-07-19T23:19:30.377Z"
   },
   {
    "duration": 4,
    "start_time": "2024-07-19T23:19:30.384Z"
   },
   {
    "duration": 4,
    "start_time": "2024-07-19T23:19:30.391Z"
   },
   {
    "duration": 4,
    "start_time": "2024-07-19T23:19:30.400Z"
   },
   {
    "duration": 4,
    "start_time": "2024-07-19T23:19:30.407Z"
   },
   {
    "duration": 53,
    "start_time": "2024-07-19T23:19:30.415Z"
   },
   {
    "duration": 1182,
    "start_time": "2024-07-19T23:31:13.897Z"
   },
   {
    "duration": 814,
    "start_time": "2024-07-19T23:31:32.208Z"
   },
   {
    "duration": 7,
    "start_time": "2024-07-19T23:31:39.857Z"
   },
   {
    "duration": 31,
    "start_time": "2024-07-19T23:31:43.624Z"
   },
   {
    "duration": 6,
    "start_time": "2024-07-19T23:32:16.937Z"
   },
   {
    "duration": 4,
    "start_time": "2024-07-19T23:32:21.068Z"
   },
   {
    "duration": 316,
    "start_time": "2024-07-19T23:32:29.886Z"
   },
   {
    "duration": 12,
    "start_time": "2024-07-19T23:33:39.477Z"
   },
   {
    "duration": 5,
    "start_time": "2024-07-19T23:34:34.438Z"
   },
   {
    "duration": 5,
    "start_time": "2024-07-19T23:35:00.885Z"
   },
   {
    "duration": 9,
    "start_time": "2024-07-19T23:35:14.236Z"
   },
   {
    "duration": 11,
    "start_time": "2024-07-19T23:35:34.358Z"
   },
   {
    "duration": 27,
    "start_time": "2024-07-19T23:36:55.860Z"
   },
   {
    "duration": 22,
    "start_time": "2024-07-19T23:37:04.117Z"
   },
   {
    "duration": 10,
    "start_time": "2024-07-19T23:37:12.312Z"
   },
   {
    "duration": 12,
    "start_time": "2024-07-19T23:38:57.273Z"
   },
   {
    "duration": 9,
    "start_time": "2024-07-19T23:39:05.242Z"
   },
   {
    "duration": 7,
    "start_time": "2024-07-19T23:44:20.872Z"
   },
   {
    "duration": 6,
    "start_time": "2024-07-19T23:45:25.860Z"
   },
   {
    "duration": 13,
    "start_time": "2024-07-19T23:45:30.219Z"
   },
   {
    "duration": 12,
    "start_time": "2024-07-19T23:54:45.574Z"
   },
   {
    "duration": 7,
    "start_time": "2024-07-19T23:55:01.483Z"
   },
   {
    "duration": 31,
    "start_time": "2024-07-19T23:55:05.041Z"
   },
   {
    "duration": 31,
    "start_time": "2024-07-19T23:55:38.019Z"
   },
   {
    "duration": 14,
    "start_time": "2024-07-19T23:55:57.479Z"
   },
   {
    "duration": 16,
    "start_time": "2024-07-19T23:56:34.552Z"
   },
   {
    "duration": 8,
    "start_time": "2024-07-19T23:56:51.854Z"
   },
   {
    "duration": 38,
    "start_time": "2024-07-19T23:56:59.693Z"
   },
   {
    "duration": 15,
    "start_time": "2024-07-19T23:57:06.385Z"
   },
   {
    "duration": 20,
    "start_time": "2024-07-20T00:02:39.289Z"
   },
   {
    "duration": 20,
    "start_time": "2024-07-20T00:03:52.188Z"
   },
   {
    "duration": 8,
    "start_time": "2024-07-20T00:06:37.163Z"
   },
   {
    "duration": 19,
    "start_time": "2024-07-20T00:07:10.121Z"
   },
   {
    "duration": 23,
    "start_time": "2024-07-20T00:12:54.477Z"
   },
   {
    "duration": 681,
    "start_time": "2024-07-20T00:13:57.218Z"
   },
   {
    "duration": 1612,
    "start_time": "2024-07-20T00:13:57.903Z"
   },
   {
    "duration": 30,
    "start_time": "2024-07-20T00:13:59.518Z"
   },
   {
    "duration": 35,
    "start_time": "2024-07-20T00:13:59.567Z"
   },
   {
    "duration": 92,
    "start_time": "2024-07-20T00:13:59.605Z"
   },
   {
    "duration": 25,
    "start_time": "2024-07-20T00:13:59.700Z"
   },
   {
    "duration": 46,
    "start_time": "2024-07-20T00:13:59.729Z"
   },
   {
    "duration": 333,
    "start_time": "2024-07-20T00:13:59.778Z"
   },
   {
    "duration": 14,
    "start_time": "2024-07-20T00:14:00.114Z"
   },
   {
    "duration": 222,
    "start_time": "2024-07-20T00:14:00.134Z"
   },
   {
    "duration": 168,
    "start_time": "2024-07-20T00:14:00.359Z"
   },
   {
    "duration": 59,
    "start_time": "2024-07-20T00:14:00.529Z"
   },
   {
    "duration": 23,
    "start_time": "2024-07-20T00:14:00.591Z"
   },
   {
    "duration": 7,
    "start_time": "2024-07-20T00:14:00.616Z"
   },
   {
    "duration": 63,
    "start_time": "2024-07-20T00:14:00.626Z"
   },
   {
    "duration": 4,
    "start_time": "2024-07-20T00:14:00.693Z"
   },
   {
    "duration": 10,
    "start_time": "2024-07-20T00:14:00.701Z"
   },
   {
    "duration": 8,
    "start_time": "2024-07-20T00:14:00.714Z"
   },
   {
    "duration": 46,
    "start_time": "2024-07-20T00:14:00.724Z"
   },
   {
    "duration": 8,
    "start_time": "2024-07-20T00:14:00.773Z"
   },
   {
    "duration": 1387,
    "start_time": "2024-07-20T00:14:00.784Z"
   },
   {
    "duration": 7,
    "start_time": "2024-07-20T00:14:02.174Z"
   },
   {
    "duration": 14,
    "start_time": "2024-07-20T00:14:02.183Z"
   },
   {
    "duration": 10,
    "start_time": "2024-07-20T00:14:02.200Z"
   },
   {
    "duration": 11,
    "start_time": "2024-07-20T00:14:02.213Z"
   },
   {
    "duration": 21,
    "start_time": "2024-07-20T00:14:02.269Z"
   },
   {
    "duration": 20,
    "start_time": "2024-07-20T00:14:02.293Z"
   },
   {
    "duration": 396,
    "start_time": "2024-07-20T00:14:02.319Z"
   },
   {
    "duration": 1,
    "start_time": "2024-07-20T00:14:02.717Z"
   },
   {
    "duration": 0,
    "start_time": "2024-07-20T00:14:02.719Z"
   },
   {
    "duration": 0,
    "start_time": "2024-07-20T00:14:02.721Z"
   },
   {
    "duration": 0,
    "start_time": "2024-07-20T00:14:02.723Z"
   },
   {
    "duration": 0,
    "start_time": "2024-07-20T00:14:02.724Z"
   },
   {
    "duration": 0,
    "start_time": "2024-07-20T00:14:02.727Z"
   },
   {
    "duration": 22,
    "start_time": "2024-07-20T00:14:52.173Z"
   },
   {
    "duration": 28,
    "start_time": "2024-07-20T00:14:55.888Z"
   },
   {
    "duration": 314,
    "start_time": "2024-07-20T00:15:26.529Z"
   },
   {
    "duration": 756,
    "start_time": "2024-07-20T00:16:13.280Z"
   },
   {
    "duration": 766,
    "start_time": "2024-07-20T00:16:18.105Z"
   },
   {
    "duration": 733,
    "start_time": "2024-07-20T00:16:22.542Z"
   },
   {
    "duration": 8,
    "start_time": "2024-07-20T00:16:24.878Z"
   },
   {
    "duration": 28,
    "start_time": "2024-07-20T00:18:13.360Z"
   },
   {
    "duration": 48,
    "start_time": "2024-07-20T00:19:04.910Z"
   },
   {
    "duration": 49,
    "start_time": "2024-07-20T00:19:08.994Z"
   },
   {
    "duration": 11,
    "start_time": "2024-07-20T00:22:02.351Z"
   },
   {
    "duration": 20,
    "start_time": "2024-07-20T00:22:41.074Z"
   },
   {
    "duration": 6,
    "start_time": "2024-07-20T00:23:22.427Z"
   },
   {
    "duration": 7,
    "start_time": "2024-07-20T00:23:39.221Z"
   },
   {
    "duration": 805,
    "start_time": "2024-07-20T00:24:10.016Z"
   },
   {
    "duration": 46,
    "start_time": "2024-07-20T00:24:27.345Z"
   },
   {
    "duration": 39,
    "start_time": "2024-07-20T00:24:48.772Z"
   },
   {
    "duration": 48,
    "start_time": "2024-07-20T00:25:58.171Z"
   },
   {
    "duration": 25,
    "start_time": "2024-07-20T00:26:29.232Z"
   },
   {
    "duration": 7,
    "start_time": "2024-07-20T00:28:43.800Z"
   },
   {
    "duration": 25,
    "start_time": "2024-07-20T00:28:56.725Z"
   },
   {
    "duration": 27,
    "start_time": "2024-07-20T00:30:48.279Z"
   },
   {
    "duration": 6,
    "start_time": "2024-07-20T00:32:11.714Z"
   },
   {
    "duration": 6,
    "start_time": "2024-07-20T00:32:20.793Z"
   },
   {
    "duration": 17,
    "start_time": "2024-07-20T00:33:00.896Z"
   },
   {
    "duration": 13,
    "start_time": "2024-07-20T00:33:05.028Z"
   },
   {
    "duration": 770,
    "start_time": "2024-07-20T00:35:46.957Z"
   },
   {
    "duration": 1638,
    "start_time": "2024-07-20T00:35:47.731Z"
   },
   {
    "duration": 32,
    "start_time": "2024-07-20T00:35:49.374Z"
   },
   {
    "duration": 27,
    "start_time": "2024-07-20T00:35:49.412Z"
   },
   {
    "duration": 57,
    "start_time": "2024-07-20T00:35:49.469Z"
   },
   {
    "duration": 53,
    "start_time": "2024-07-20T00:35:49.529Z"
   },
   {
    "duration": 26,
    "start_time": "2024-07-20T00:35:49.586Z"
   },
   {
    "duration": 395,
    "start_time": "2024-07-20T00:35:49.615Z"
   },
   {
    "duration": 17,
    "start_time": "2024-07-20T00:35:50.014Z"
   },
   {
    "duration": 214,
    "start_time": "2024-07-20T00:35:50.039Z"
   },
   {
    "duration": 178,
    "start_time": "2024-07-20T00:35:50.255Z"
   },
   {
    "duration": 68,
    "start_time": "2024-07-20T00:35:50.437Z"
   },
   {
    "duration": 23,
    "start_time": "2024-07-20T00:35:50.508Z"
   },
   {
    "duration": 34,
    "start_time": "2024-07-20T00:35:50.534Z"
   },
   {
    "duration": 38,
    "start_time": "2024-07-20T00:35:50.571Z"
   },
   {
    "duration": 4,
    "start_time": "2024-07-20T00:35:50.612Z"
   },
   {
    "duration": 8,
    "start_time": "2024-07-20T00:35:50.619Z"
   },
   {
    "duration": 41,
    "start_time": "2024-07-20T00:35:50.630Z"
   },
   {
    "duration": 8,
    "start_time": "2024-07-20T00:35:50.674Z"
   },
   {
    "duration": 7,
    "start_time": "2024-07-20T00:35:50.686Z"
   },
   {
    "duration": 1463,
    "start_time": "2024-07-20T00:35:50.696Z"
   },
   {
    "duration": 4,
    "start_time": "2024-07-20T00:35:52.168Z"
   },
   {
    "duration": 15,
    "start_time": "2024-07-20T00:35:52.174Z"
   },
   {
    "duration": 11,
    "start_time": "2024-07-20T00:35:52.192Z"
   },
   {
    "duration": 12,
    "start_time": "2024-07-20T00:35:52.207Z"
   },
   {
    "duration": 70,
    "start_time": "2024-07-20T00:35:52.223Z"
   },
   {
    "duration": 22,
    "start_time": "2024-07-20T00:35:52.298Z"
   },
   {
    "duration": 4,
    "start_time": "2024-07-20T00:35:52.329Z"
   },
   {
    "duration": 49,
    "start_time": "2024-07-20T00:35:52.337Z"
   },
   {
    "duration": 13,
    "start_time": "2024-07-20T00:35:52.389Z"
   },
   {
    "duration": 4,
    "start_time": "2024-07-20T00:35:52.405Z"
   },
   {
    "duration": 3,
    "start_time": "2024-07-20T00:35:52.413Z"
   },
   {
    "duration": 5,
    "start_time": "2024-07-20T00:35:52.419Z"
   },
   {
    "duration": 4,
    "start_time": "2024-07-20T00:35:52.468Z"
   },
   {
    "duration": 4,
    "start_time": "2024-07-20T00:35:52.476Z"
   },
   {
    "duration": 35,
    "start_time": "2024-07-20T00:36:50.132Z"
   },
   {
    "duration": 343,
    "start_time": "2024-07-20T00:38:16.819Z"
   },
   {
    "duration": 50,
    "start_time": "2024-07-20T00:39:09.459Z"
   },
   {
    "duration": 31,
    "start_time": "2024-07-20T00:40:33.088Z"
   },
   {
    "duration": 63,
    "start_time": "2024-07-20T00:40:58.351Z"
   },
   {
    "duration": 59,
    "start_time": "2024-07-20T00:41:00.986Z"
   },
   {
    "duration": 324,
    "start_time": "2024-07-20T01:39:29.374Z"
   },
   {
    "duration": 4514,
    "start_time": "2024-07-20T01:39:53.470Z"
   },
   {
    "duration": 1804,
    "start_time": "2024-07-20T01:39:57.988Z"
   },
   {
    "duration": 32,
    "start_time": "2024-07-20T01:39:59.794Z"
   },
   {
    "duration": 46,
    "start_time": "2024-07-20T01:39:59.831Z"
   },
   {
    "duration": 88,
    "start_time": "2024-07-20T01:39:59.880Z"
   },
   {
    "duration": 27,
    "start_time": "2024-07-20T01:39:59.971Z"
   },
   {
    "duration": 24,
    "start_time": "2024-07-20T01:40:00.001Z"
   },
   {
    "duration": 360,
    "start_time": "2024-07-20T01:40:00.029Z"
   },
   {
    "duration": 16,
    "start_time": "2024-07-20T01:40:00.395Z"
   },
   {
    "duration": 211,
    "start_time": "2024-07-20T01:40:00.419Z"
   },
   {
    "duration": 170,
    "start_time": "2024-07-20T01:40:00.635Z"
   },
   {
    "duration": 46,
    "start_time": "2024-07-20T01:40:00.808Z"
   },
   {
    "duration": 27,
    "start_time": "2024-07-20T01:40:00.872Z"
   },
   {
    "duration": 11,
    "start_time": "2024-07-20T01:40:00.904Z"
   },
   {
    "duration": 66,
    "start_time": "2024-07-20T01:40:00.919Z"
   },
   {
    "duration": 3,
    "start_time": "2024-07-20T01:40:00.990Z"
   },
   {
    "duration": 8,
    "start_time": "2024-07-20T01:40:00.997Z"
   },
   {
    "duration": 10,
    "start_time": "2024-07-20T01:40:01.008Z"
   },
   {
    "duration": 8,
    "start_time": "2024-07-20T01:40:01.023Z"
   },
   {
    "duration": 39,
    "start_time": "2024-07-20T01:40:01.034Z"
   },
   {
    "duration": 1411,
    "start_time": "2024-07-20T01:40:01.079Z"
   },
   {
    "duration": 4,
    "start_time": "2024-07-20T01:40:02.495Z"
   },
   {
    "duration": 14,
    "start_time": "2024-07-20T01:40:02.502Z"
   },
   {
    "duration": 10,
    "start_time": "2024-07-20T01:40:02.519Z"
   },
   {
    "duration": 45,
    "start_time": "2024-07-20T01:40:02.532Z"
   },
   {
    "duration": 20,
    "start_time": "2024-07-20T01:40:02.581Z"
   },
   {
    "duration": 22,
    "start_time": "2024-07-20T01:40:02.605Z"
   },
   {
    "duration": 3,
    "start_time": "2024-07-20T01:40:02.674Z"
   },
   {
    "duration": 19,
    "start_time": "2024-07-20T01:40:02.680Z"
   },
   {
    "duration": 11,
    "start_time": "2024-07-20T01:40:02.702Z"
   },
   {
    "duration": 86,
    "start_time": "2024-07-20T01:40:02.716Z"
   },
   {
    "duration": 153,
    "start_time": "2024-07-20T01:40:02.805Z"
   },
   {
    "duration": 3,
    "start_time": "2024-07-20T01:40:02.967Z"
   },
   {
    "duration": 6,
    "start_time": "2024-07-20T01:40:02.974Z"
   },
   {
    "duration": 5,
    "start_time": "2024-07-20T01:40:02.983Z"
   },
   {
    "duration": 623,
    "start_time": "2024-07-20T01:42:19.684Z"
   },
   {
    "duration": 8,
    "start_time": "2024-07-20T01:42:54.038Z"
   },
   {
    "duration": 31,
    "start_time": "2024-07-20T01:43:07.720Z"
   },
   {
    "duration": 161,
    "start_time": "2024-07-20T01:43:17.531Z"
   },
   {
    "duration": 143,
    "start_time": "2024-07-20T01:43:56.520Z"
   },
   {
    "duration": 145,
    "start_time": "2024-07-20T01:45:08.632Z"
   },
   {
    "duration": 54,
    "start_time": "2024-07-20T01:47:19.261Z"
   },
   {
    "duration": 10,
    "start_time": "2024-07-20T01:48:21.658Z"
   },
   {
    "duration": 18,
    "start_time": "2024-07-20T01:48:39.371Z"
   },
   {
    "duration": 10,
    "start_time": "2024-07-20T01:51:45.416Z"
   },
   {
    "duration": 33,
    "start_time": "2024-07-20T01:51:50.786Z"
   },
   {
    "duration": 11,
    "start_time": "2024-07-20T01:52:03.876Z"
   },
   {
    "duration": 11,
    "start_time": "2024-07-20T01:53:47.855Z"
   },
   {
    "duration": 9,
    "start_time": "2024-07-20T01:53:51.767Z"
   },
   {
    "duration": 9,
    "start_time": "2024-07-20T01:56:54.257Z"
   },
   {
    "duration": 6,
    "start_time": "2024-07-20T01:57:51.651Z"
   },
   {
    "duration": 8,
    "start_time": "2024-07-20T01:57:55.009Z"
   },
   {
    "duration": 7,
    "start_time": "2024-07-20T01:58:13.620Z"
   },
   {
    "duration": 10,
    "start_time": "2024-07-20T01:58:18.096Z"
   },
   {
    "duration": 9,
    "start_time": "2024-07-20T01:58:21.826Z"
   },
   {
    "duration": 12,
    "start_time": "2024-07-20T02:00:59.381Z"
   },
   {
    "duration": 32,
    "start_time": "2024-07-20T02:01:14.428Z"
   },
   {
    "duration": 41,
    "start_time": "2024-07-20T02:01:29.325Z"
   },
   {
    "duration": 35,
    "start_time": "2024-07-20T02:01:55.523Z"
   },
   {
    "duration": 46,
    "start_time": "2024-07-20T02:02:19.051Z"
   },
   {
    "duration": 45,
    "start_time": "2024-07-20T02:02:22.852Z"
   },
   {
    "duration": 42,
    "start_time": "2024-07-20T02:02:33.464Z"
   },
   {
    "duration": 29,
    "start_time": "2024-07-20T02:03:31.823Z"
   },
   {
    "duration": 688,
    "start_time": "2024-07-20T02:03:48.735Z"
   },
   {
    "duration": 1718,
    "start_time": "2024-07-20T02:03:49.426Z"
   },
   {
    "duration": 43,
    "start_time": "2024-07-20T02:03:51.147Z"
   },
   {
    "duration": 32,
    "start_time": "2024-07-20T02:03:51.196Z"
   },
   {
    "duration": 83,
    "start_time": "2024-07-20T02:03:51.233Z"
   },
   {
    "duration": 22,
    "start_time": "2024-07-20T02:03:51.319Z"
   },
   {
    "duration": 47,
    "start_time": "2024-07-20T02:03:51.344Z"
   },
   {
    "duration": 360,
    "start_time": "2024-07-20T02:03:51.394Z"
   },
   {
    "duration": 14,
    "start_time": "2024-07-20T02:03:51.759Z"
   },
   {
    "duration": 202,
    "start_time": "2024-07-20T02:03:51.776Z"
   },
   {
    "duration": 170,
    "start_time": "2024-07-20T02:03:51.981Z"
   },
   {
    "duration": 61,
    "start_time": "2024-07-20T02:03:52.154Z"
   },
   {
    "duration": 39,
    "start_time": "2024-07-20T02:03:52.223Z"
   },
   {
    "duration": 7,
    "start_time": "2024-07-20T02:03:52.271Z"
   },
   {
    "duration": 54,
    "start_time": "2024-07-20T02:03:52.284Z"
   },
   {
    "duration": 4,
    "start_time": "2024-07-20T02:03:52.341Z"
   },
   {
    "duration": 25,
    "start_time": "2024-07-20T02:03:52.348Z"
   },
   {
    "duration": 7,
    "start_time": "2024-07-20T02:03:52.377Z"
   },
   {
    "duration": 7,
    "start_time": "2024-07-20T02:03:52.388Z"
   },
   {
    "duration": 7,
    "start_time": "2024-07-20T02:03:52.398Z"
   },
   {
    "duration": 1426,
    "start_time": "2024-07-20T02:03:52.408Z"
   },
   {
    "duration": 3,
    "start_time": "2024-07-20T02:03:53.838Z"
   },
   {
    "duration": 28,
    "start_time": "2024-07-20T02:03:53.845Z"
   },
   {
    "duration": 10,
    "start_time": "2024-07-20T02:03:53.878Z"
   },
   {
    "duration": 11,
    "start_time": "2024-07-20T02:03:53.891Z"
   },
   {
    "duration": 25,
    "start_time": "2024-07-20T02:03:53.904Z"
   },
   {
    "duration": 53,
    "start_time": "2024-07-20T02:03:53.931Z"
   },
   {
    "duration": 12,
    "start_time": "2024-07-20T02:03:53.987Z"
   },
   {
    "duration": 20,
    "start_time": "2024-07-20T02:03:54.002Z"
   },
   {
    "duration": 44,
    "start_time": "2024-07-20T02:03:54.026Z"
   },
   {
    "duration": 38,
    "start_time": "2024-07-20T02:03:54.073Z"
   },
   {
    "duration": 86,
    "start_time": "2024-07-20T02:03:54.114Z"
   },
   {
    "duration": 24,
    "start_time": "2024-07-20T02:03:54.204Z"
   },
   {
    "duration": 37,
    "start_time": "2024-07-20T02:03:54.231Z"
   },
   {
    "duration": 39,
    "start_time": "2024-07-20T02:03:54.270Z"
   },
   {
    "duration": 31,
    "start_time": "2024-07-20T03:23:01.561Z"
   },
   {
    "duration": 40,
    "start_time": "2024-07-20T03:23:24.193Z"
   },
   {
    "duration": 36,
    "start_time": "2024-07-20T03:24:09.691Z"
   },
   {
    "duration": 10,
    "start_time": "2024-07-20T03:25:13.667Z"
   },
   {
    "duration": 21,
    "start_time": "2024-07-20T03:25:46.465Z"
   },
   {
    "duration": 4,
    "start_time": "2024-07-20T03:27:40.164Z"
   },
   {
    "duration": 1533,
    "start_time": "2024-07-20T03:27:40.172Z"
   },
   {
    "duration": 27,
    "start_time": "2024-07-20T03:27:41.708Z"
   },
   {
    "duration": 46,
    "start_time": "2024-07-20T03:27:41.738Z"
   },
   {
    "duration": 52,
    "start_time": "2024-07-20T03:27:41.788Z"
   },
   {
    "duration": 40,
    "start_time": "2024-07-20T03:27:41.843Z"
   },
   {
    "duration": 21,
    "start_time": "2024-07-20T03:27:41.886Z"
   },
   {
    "duration": 343,
    "start_time": "2024-07-20T03:27:41.911Z"
   },
   {
    "duration": 18,
    "start_time": "2024-07-20T03:27:42.260Z"
   },
   {
    "duration": 171,
    "start_time": "2024-07-20T03:27:42.280Z"
   },
   {
    "duration": 155,
    "start_time": "2024-07-20T03:27:42.456Z"
   },
   {
    "duration": 56,
    "start_time": "2024-07-20T03:27:42.614Z"
   },
   {
    "duration": 23,
    "start_time": "2024-07-20T03:27:42.674Z"
   },
   {
    "duration": 7,
    "start_time": "2024-07-20T03:27:42.699Z"
   },
   {
    "duration": 69,
    "start_time": "2024-07-20T03:27:42.709Z"
   },
   {
    "duration": 18,
    "start_time": "2024-07-20T03:27:52.406Z"
   },
   {
    "duration": 27,
    "start_time": "2024-07-20T03:31:19.139Z"
   },
   {
    "duration": 802,
    "start_time": "2024-07-20T03:37:14.960Z"
   },
   {
    "duration": 809,
    "start_time": "2024-07-20T03:38:15.573Z"
   },
   {
    "duration": 22,
    "start_time": "2024-07-20T03:43:41.193Z"
   },
   {
    "duration": 670,
    "start_time": "2024-07-20T03:43:48.425Z"
   },
   {
    "duration": 1549,
    "start_time": "2024-07-20T03:43:49.098Z"
   },
   {
    "duration": 36,
    "start_time": "2024-07-20T03:43:50.649Z"
   },
   {
    "duration": 26,
    "start_time": "2024-07-20T03:43:50.689Z"
   },
   {
    "duration": 82,
    "start_time": "2024-07-20T03:43:50.718Z"
   },
   {
    "duration": 20,
    "start_time": "2024-07-20T03:43:50.803Z"
   },
   {
    "duration": 51,
    "start_time": "2024-07-20T03:43:50.826Z"
   },
   {
    "duration": 353,
    "start_time": "2024-07-20T03:43:50.880Z"
   },
   {
    "duration": 31,
    "start_time": "2024-07-20T03:43:51.236Z"
   },
   {
    "duration": 188,
    "start_time": "2024-07-20T03:43:51.272Z"
   },
   {
    "duration": 168,
    "start_time": "2024-07-20T03:43:51.467Z"
   },
   {
    "duration": 59,
    "start_time": "2024-07-20T03:43:51.638Z"
   },
   {
    "duration": 26,
    "start_time": "2024-07-20T03:43:51.701Z"
   },
   {
    "duration": 7,
    "start_time": "2024-07-20T03:43:51.730Z"
   },
   {
    "duration": 65,
    "start_time": "2024-07-20T03:43:51.740Z"
   },
   {
    "duration": 18,
    "start_time": "2024-07-20T03:43:51.810Z"
   },
   {
    "duration": 52,
    "start_time": "2024-07-20T03:43:51.830Z"
   },
   {
    "duration": 7,
    "start_time": "2024-07-20T03:43:51.887Z"
   },
   {
    "duration": 6,
    "start_time": "2024-07-20T03:43:51.897Z"
   },
   {
    "duration": 8,
    "start_time": "2024-07-20T03:43:51.906Z"
   },
   {
    "duration": 7,
    "start_time": "2024-07-20T03:43:51.917Z"
   },
   {
    "duration": 1377,
    "start_time": "2024-07-20T03:43:51.970Z"
   },
   {
    "duration": 5,
    "start_time": "2024-07-20T03:43:53.351Z"
   },
   {
    "duration": 14,
    "start_time": "2024-07-20T03:43:53.370Z"
   },
   {
    "duration": 13,
    "start_time": "2024-07-20T03:43:53.391Z"
   },
   {
    "duration": 12,
    "start_time": "2024-07-20T03:43:53.407Z"
   },
   {
    "duration": 64,
    "start_time": "2024-07-20T03:43:53.423Z"
   },
   {
    "duration": 21,
    "start_time": "2024-07-20T03:43:53.494Z"
   },
   {
    "duration": 50,
    "start_time": "2024-07-20T03:43:53.519Z"
   },
   {
    "duration": 11,
    "start_time": "2024-07-20T03:43:53.572Z"
   },
   {
    "duration": 32,
    "start_time": "2024-07-20T03:43:53.586Z"
   },
   {
    "duration": 88,
    "start_time": "2024-07-20T03:43:53.621Z"
   },
   {
    "duration": 26,
    "start_time": "2024-07-20T03:43:53.712Z"
   },
   {
    "duration": 33,
    "start_time": "2024-07-20T03:43:53.741Z"
   },
   {
    "duration": 38,
    "start_time": "2024-07-20T03:43:53.777Z"
   },
   {
    "duration": 5084,
    "start_time": "2024-07-20T13:56:21.813Z"
   },
   {
    "duration": 1915,
    "start_time": "2024-07-20T13:56:26.901Z"
   },
   {
    "duration": 42,
    "start_time": "2024-07-20T13:56:28.823Z"
   },
   {
    "duration": 40,
    "start_time": "2024-07-20T13:56:28.874Z"
   },
   {
    "duration": 58,
    "start_time": "2024-07-20T13:56:28.919Z"
   },
   {
    "duration": 45,
    "start_time": "2024-07-20T13:56:28.983Z"
   },
   {
    "duration": 32,
    "start_time": "2024-07-20T13:56:29.032Z"
   },
   {
    "duration": 378,
    "start_time": "2024-07-20T13:56:29.068Z"
   },
   {
    "duration": 16,
    "start_time": "2024-07-20T13:56:29.450Z"
   },
   {
    "duration": 245,
    "start_time": "2024-07-20T13:56:29.469Z"
   },
   {
    "duration": 204,
    "start_time": "2024-07-20T13:56:29.716Z"
   },
   {
    "duration": 57,
    "start_time": "2024-07-20T13:56:29.923Z"
   },
   {
    "duration": 53,
    "start_time": "2024-07-20T13:56:29.983Z"
   },
   {
    "duration": 10,
    "start_time": "2024-07-20T13:56:30.043Z"
   },
   {
    "duration": 82,
    "start_time": "2024-07-20T13:56:30.057Z"
   },
   {
    "duration": 24,
    "start_time": "2024-07-20T13:56:30.143Z"
   },
   {
    "duration": 50,
    "start_time": "2024-07-20T13:56:30.172Z"
   },
   {
    "duration": 14,
    "start_time": "2024-07-20T13:56:30.226Z"
   },
   {
    "duration": 7,
    "start_time": "2024-07-20T13:56:30.244Z"
   },
   {
    "duration": 8,
    "start_time": "2024-07-20T13:56:30.255Z"
   },
   {
    "duration": 46,
    "start_time": "2024-07-20T13:56:30.267Z"
   },
   {
    "duration": 1823,
    "start_time": "2024-07-20T13:56:30.317Z"
   },
   {
    "duration": 3,
    "start_time": "2024-07-20T13:56:32.144Z"
   },
   {
    "duration": 19,
    "start_time": "2024-07-20T13:56:32.153Z"
   },
   {
    "duration": 13,
    "start_time": "2024-07-20T13:56:32.176Z"
   },
   {
    "duration": 23,
    "start_time": "2024-07-20T13:56:32.193Z"
   },
   {
    "duration": 41,
    "start_time": "2024-07-20T13:56:32.220Z"
   },
   {
    "duration": 58,
    "start_time": "2024-07-20T13:56:32.265Z"
   },
   {
    "duration": 24,
    "start_time": "2024-07-20T13:56:32.326Z"
   },
   {
    "duration": 17,
    "start_time": "2024-07-20T13:56:32.353Z"
   },
   {
    "duration": 70,
    "start_time": "2024-07-20T13:56:32.374Z"
   },
   {
    "duration": 88,
    "start_time": "2024-07-20T13:56:32.448Z"
   },
   {
    "duration": 30,
    "start_time": "2024-07-20T13:56:32.539Z"
   },
   {
    "duration": 40,
    "start_time": "2024-07-20T13:56:32.573Z"
   },
   {
    "duration": 38,
    "start_time": "2024-07-20T13:56:32.616Z"
   },
   {
    "duration": 457,
    "start_time": "2024-07-20T14:00:58.044Z"
   },
   {
    "duration": 1097,
    "start_time": "2024-07-20T14:01:06.186Z"
   },
   {
    "duration": 106,
    "start_time": "2024-07-20T14:01:19.859Z"
   },
   {
    "duration": 32,
    "start_time": "2024-07-20T14:01:25.447Z"
   },
   {
    "duration": 289,
    "start_time": "2024-07-20T14:04:05.932Z"
   },
   {
    "duration": 47,
    "start_time": "2024-07-20T14:13:27.345Z"
   },
   {
    "duration": 112,
    "start_time": "2024-07-20T14:13:40.980Z"
   },
   {
    "duration": 224,
    "start_time": "2024-07-20T14:15:34.005Z"
   },
   {
    "duration": 118,
    "start_time": "2024-07-20T14:15:36.711Z"
   },
   {
    "duration": 236,
    "start_time": "2024-07-20T14:19:23.330Z"
   },
   {
    "duration": 1040,
    "start_time": "2024-07-20T14:19:34.498Z"
   },
   {
    "duration": 5,
    "start_time": "2024-07-20T14:19:45.957Z"
   },
   {
    "duration": 106,
    "start_time": "2024-07-20T14:19:51.791Z"
   },
   {
    "duration": 13,
    "start_time": "2024-07-20T14:23:20.452Z"
   },
   {
    "duration": 16,
    "start_time": "2024-07-20T14:23:52.296Z"
   },
   {
    "duration": 16,
    "start_time": "2024-07-20T14:25:53.509Z"
   },
   {
    "duration": 6,
    "start_time": "2024-07-20T14:26:25.459Z"
   },
   {
    "duration": 8,
    "start_time": "2024-07-20T14:26:28.959Z"
   },
   {
    "duration": 19,
    "start_time": "2024-07-20T14:26:51.143Z"
   },
   {
    "duration": 9,
    "start_time": "2024-07-20T14:27:26.403Z"
   },
   {
    "duration": 8,
    "start_time": "2024-07-20T14:27:37.488Z"
   },
   {
    "duration": 29,
    "start_time": "2024-07-20T14:28:55.030Z"
   },
   {
    "duration": 31,
    "start_time": "2024-07-20T14:37:22.384Z"
   },
   {
    "duration": 5,
    "start_time": "2024-07-20T14:42:26.321Z"
   },
   {
    "duration": 5,
    "start_time": "2024-07-20T14:42:32.642Z"
   },
   {
    "duration": 7,
    "start_time": "2024-07-20T14:42:41.310Z"
   },
   {
    "duration": 222,
    "start_time": "2024-07-20T14:53:42.409Z"
   },
   {
    "duration": 218,
    "start_time": "2024-07-20T14:54:20.563Z"
   },
   {
    "duration": 11,
    "start_time": "2024-07-20T14:54:56.732Z"
   },
   {
    "duration": 8,
    "start_time": "2024-07-20T14:55:03.553Z"
   },
   {
    "duration": 22,
    "start_time": "2024-07-20T14:55:44.225Z"
   },
   {
    "duration": 7,
    "start_time": "2024-07-20T14:56:04.498Z"
   },
   {
    "duration": 249,
    "start_time": "2024-07-20T14:56:11.841Z"
   },
   {
    "duration": 204,
    "start_time": "2024-07-20T14:56:16.836Z"
   },
   {
    "duration": 215,
    "start_time": "2024-07-20T14:56:23.741Z"
   },
   {
    "duration": 204,
    "start_time": "2024-07-20T14:56:42.255Z"
   },
   {
    "duration": 193,
    "start_time": "2024-07-20T14:57:32.367Z"
   },
   {
    "duration": 258,
    "start_time": "2024-07-20T14:57:42.877Z"
   },
   {
    "duration": 47,
    "start_time": "2024-07-20T14:58:15.488Z"
   },
   {
    "duration": 3858,
    "start_time": "2024-07-20T14:58:19.096Z"
   },
   {
    "duration": 2445,
    "start_time": "2024-07-20T14:58:48.609Z"
   },
   {
    "duration": 361,
    "start_time": "2024-07-20T14:59:50.542Z"
   },
   {
    "duration": 683,
    "start_time": "2024-07-20T15:00:09.070Z"
   },
   {
    "duration": 1815,
    "start_time": "2024-07-20T15:00:09.757Z"
   },
   {
    "duration": 49,
    "start_time": "2024-07-20T15:00:11.574Z"
   },
   {
    "duration": 33,
    "start_time": "2024-07-20T15:00:11.638Z"
   },
   {
    "duration": 75,
    "start_time": "2024-07-20T15:00:11.675Z"
   },
   {
    "duration": 22,
    "start_time": "2024-07-20T15:00:11.754Z"
   },
   {
    "duration": 59,
    "start_time": "2024-07-20T15:00:11.779Z"
   },
   {
    "duration": 331,
    "start_time": "2024-07-20T15:00:11.842Z"
   },
   {
    "duration": 15,
    "start_time": "2024-07-20T15:00:12.176Z"
   },
   {
    "duration": 195,
    "start_time": "2024-07-20T15:00:12.215Z"
   },
   {
    "duration": 162,
    "start_time": "2024-07-20T15:00:12.412Z"
   },
   {
    "duration": 61,
    "start_time": "2024-07-20T15:00:12.577Z"
   },
   {
    "duration": 23,
    "start_time": "2024-07-20T15:00:12.640Z"
   },
   {
    "duration": 7,
    "start_time": "2024-07-20T15:00:12.666Z"
   },
   {
    "duration": 68,
    "start_time": "2024-07-20T15:00:12.675Z"
   },
   {
    "duration": 24,
    "start_time": "2024-07-20T15:00:12.746Z"
   },
   {
    "duration": 68,
    "start_time": "2024-07-20T15:00:12.773Z"
   },
   {
    "duration": 8,
    "start_time": "2024-07-20T15:00:12.844Z"
   },
   {
    "duration": 7,
    "start_time": "2024-07-20T15:00:12.856Z"
   },
   {
    "duration": 7,
    "start_time": "2024-07-20T15:00:12.866Z"
   },
   {
    "duration": 7,
    "start_time": "2024-07-20T15:00:12.876Z"
   },
   {
    "duration": 1437,
    "start_time": "2024-07-20T15:00:12.886Z"
   },
   {
    "duration": 3,
    "start_time": "2024-07-20T15:00:14.326Z"
   },
   {
    "duration": 13,
    "start_time": "2024-07-20T15:00:14.333Z"
   },
   {
    "duration": 11,
    "start_time": "2024-07-20T15:00:14.354Z"
   },
   {
    "duration": 11,
    "start_time": "2024-07-20T15:00:14.367Z"
   },
   {
    "duration": 28,
    "start_time": "2024-07-20T15:00:14.415Z"
   },
   {
    "duration": 21,
    "start_time": "2024-07-20T15:00:14.450Z"
   },
   {
    "duration": 49,
    "start_time": "2024-07-20T15:00:14.475Z"
   },
   {
    "duration": 17,
    "start_time": "2024-07-20T15:00:14.527Z"
   },
   {
    "duration": 42,
    "start_time": "2024-07-20T15:00:14.551Z"
   },
   {
    "duration": 69,
    "start_time": "2024-07-20T15:00:14.597Z"
   },
   {
    "duration": 49,
    "start_time": "2024-07-20T15:00:14.668Z"
   },
   {
    "duration": 10,
    "start_time": "2024-07-20T15:00:14.737Z"
   },
   {
    "duration": 32,
    "start_time": "2024-07-20T15:00:14.751Z"
   },
   {
    "duration": 31,
    "start_time": "2024-07-20T15:00:14.786Z"
   },
   {
    "duration": 3959,
    "start_time": "2024-07-20T15:00:14.820Z"
   },
   {
    "duration": 4,
    "start_time": "2024-07-20T15:00:18.782Z"
   },
   {
    "duration": 1592,
    "start_time": "2024-07-20T15:03:48.060Z"
   },
   {
    "duration": 753,
    "start_time": "2024-07-20T15:04:51.890Z"
   },
   {
    "duration": 1802,
    "start_time": "2024-07-20T15:04:52.647Z"
   },
   {
    "duration": 39,
    "start_time": "2024-07-20T15:04:54.452Z"
   },
   {
    "duration": 56,
    "start_time": "2024-07-20T15:04:54.494Z"
   },
   {
    "duration": 80,
    "start_time": "2024-07-20T15:04:54.556Z"
   },
   {
    "duration": 20,
    "start_time": "2024-07-20T15:04:54.639Z"
   },
   {
    "duration": 18,
    "start_time": "2024-07-20T15:04:54.662Z"
   },
   {
    "duration": 369,
    "start_time": "2024-07-20T15:04:54.684Z"
   },
   {
    "duration": 15,
    "start_time": "2024-07-20T15:04:55.056Z"
   },
   {
    "duration": 214,
    "start_time": "2024-07-20T15:04:55.074Z"
   },
   {
    "duration": 183,
    "start_time": "2024-07-20T15:04:55.292Z"
   },
   {
    "duration": 61,
    "start_time": "2024-07-20T15:04:55.478Z"
   },
   {
    "duration": 23,
    "start_time": "2024-07-20T15:04:55.542Z"
   },
   {
    "duration": 7,
    "start_time": "2024-07-20T15:04:55.573Z"
   },
   {
    "duration": 67,
    "start_time": "2024-07-20T15:04:55.583Z"
   },
   {
    "duration": 24,
    "start_time": "2024-07-20T15:04:55.657Z"
   },
   {
    "duration": 59,
    "start_time": "2024-07-20T15:04:55.685Z"
   },
   {
    "duration": 7,
    "start_time": "2024-07-20T15:04:55.747Z"
   },
   {
    "duration": 6,
    "start_time": "2024-07-20T15:04:55.758Z"
   },
   {
    "duration": 7,
    "start_time": "2024-07-20T15:04:55.768Z"
   },
   {
    "duration": 7,
    "start_time": "2024-07-20T15:04:55.820Z"
   },
   {
    "duration": 1393,
    "start_time": "2024-07-20T15:04:55.830Z"
   },
   {
    "duration": 9,
    "start_time": "2024-07-20T15:04:57.232Z"
   },
   {
    "duration": 15,
    "start_time": "2024-07-20T15:04:57.245Z"
   },
   {
    "duration": 9,
    "start_time": "2024-07-20T15:04:57.263Z"
   },
   {
    "duration": 41,
    "start_time": "2024-07-20T15:04:57.275Z"
   },
   {
    "duration": 28,
    "start_time": "2024-07-20T15:04:57.319Z"
   },
   {
    "duration": 23,
    "start_time": "2024-07-20T15:04:57.350Z"
   },
   {
    "duration": 55,
    "start_time": "2024-07-20T15:04:57.377Z"
   },
   {
    "duration": 14,
    "start_time": "2024-07-20T15:04:57.438Z"
   },
   {
    "duration": 33,
    "start_time": "2024-07-20T15:04:57.455Z"
   },
   {
    "duration": 73,
    "start_time": "2024-07-20T15:04:57.491Z"
   },
   {
    "duration": 24,
    "start_time": "2024-07-20T15:04:57.567Z"
   },
   {
    "duration": 11,
    "start_time": "2024-07-20T15:04:57.628Z"
   },
   {
    "duration": 32,
    "start_time": "2024-07-20T15:04:57.643Z"
   },
   {
    "duration": 18,
    "start_time": "2024-07-20T15:04:57.677Z"
   },
   {
    "duration": 753,
    "start_time": "2024-07-20T15:05:51.206Z"
   },
   {
    "duration": 1791,
    "start_time": "2024-07-20T15:05:51.965Z"
   },
   {
    "duration": 32,
    "start_time": "2024-07-20T15:05:53.759Z"
   },
   {
    "duration": 50,
    "start_time": "2024-07-20T15:05:53.796Z"
   },
   {
    "duration": 57,
    "start_time": "2024-07-20T15:05:53.849Z"
   },
   {
    "duration": 36,
    "start_time": "2024-07-20T15:05:53.917Z"
   },
   {
    "duration": 21,
    "start_time": "2024-07-20T15:05:53.956Z"
   },
   {
    "duration": 373,
    "start_time": "2024-07-20T15:05:53.980Z"
   },
   {
    "duration": 14,
    "start_time": "2024-07-20T15:05:54.357Z"
   },
   {
    "duration": 212,
    "start_time": "2024-07-20T15:05:54.377Z"
   },
   {
    "duration": 188,
    "start_time": "2024-07-20T15:05:54.595Z"
   },
   {
    "duration": 61,
    "start_time": "2024-07-20T15:05:54.787Z"
   },
   {
    "duration": 24,
    "start_time": "2024-07-20T15:05:54.851Z"
   },
   {
    "duration": 37,
    "start_time": "2024-07-20T15:05:54.878Z"
   },
   {
    "duration": 50,
    "start_time": "2024-07-20T15:05:54.919Z"
   },
   {
    "duration": 18,
    "start_time": "2024-07-20T15:05:54.972Z"
   },
   {
    "duration": 40,
    "start_time": "2024-07-20T15:05:54.994Z"
   },
   {
    "duration": 12,
    "start_time": "2024-07-20T15:05:55.036Z"
   },
   {
    "duration": 6,
    "start_time": "2024-07-20T15:05:55.050Z"
   },
   {
    "duration": 10,
    "start_time": "2024-07-20T15:05:55.059Z"
   },
   {
    "duration": 40,
    "start_time": "2024-07-20T15:05:55.072Z"
   },
   {
    "duration": 1405,
    "start_time": "2024-07-20T15:05:55.114Z"
   },
   {
    "duration": 13,
    "start_time": "2024-07-20T15:05:56.522Z"
   },
   {
    "duration": 14,
    "start_time": "2024-07-20T15:05:56.541Z"
   },
   {
    "duration": 10,
    "start_time": "2024-07-20T15:05:56.560Z"
   },
   {
    "duration": 11,
    "start_time": "2024-07-20T15:05:56.573Z"
   },
   {
    "duration": 48,
    "start_time": "2024-07-20T15:05:56.587Z"
   },
   {
    "duration": 22,
    "start_time": "2024-07-20T15:05:56.641Z"
   },
   {
    "duration": 47,
    "start_time": "2024-07-20T15:05:56.666Z"
   },
   {
    "duration": 14,
    "start_time": "2024-07-20T15:05:56.724Z"
   },
   {
    "duration": 34,
    "start_time": "2024-07-20T15:05:56.740Z"
   },
   {
    "duration": 74,
    "start_time": "2024-07-20T15:05:56.778Z"
   },
   {
    "duration": 25,
    "start_time": "2024-07-20T15:05:56.854Z"
   },
   {
    "duration": 34,
    "start_time": "2024-07-20T15:05:56.882Z"
   },
   {
    "duration": 38,
    "start_time": "2024-07-20T15:05:56.918Z"
   },
   {
    "duration": 20,
    "start_time": "2024-07-20T15:05:56.959Z"
   },
   {
    "duration": 368,
    "start_time": "2024-07-20T15:09:47.135Z"
   },
   {
    "duration": 686,
    "start_time": "2024-07-20T15:10:01.358Z"
   },
   {
    "duration": 1853,
    "start_time": "2024-07-20T15:10:02.047Z"
   },
   {
    "duration": 34,
    "start_time": "2024-07-20T15:10:03.903Z"
   },
   {
    "duration": 34,
    "start_time": "2024-07-20T15:10:03.940Z"
   },
   {
    "duration": 87,
    "start_time": "2024-07-20T15:10:03.976Z"
   },
   {
    "duration": 19,
    "start_time": "2024-07-20T15:10:04.065Z"
   },
   {
    "duration": 50,
    "start_time": "2024-07-20T15:10:04.087Z"
   },
   {
    "duration": 341,
    "start_time": "2024-07-20T15:10:04.140Z"
   },
   {
    "duration": 30,
    "start_time": "2024-07-20T15:10:04.484Z"
   },
   {
    "duration": 214,
    "start_time": "2024-07-20T15:10:04.522Z"
   },
   {
    "duration": 188,
    "start_time": "2024-07-20T15:10:04.739Z"
   },
   {
    "duration": 52,
    "start_time": "2024-07-20T15:10:04.935Z"
   },
   {
    "duration": 48,
    "start_time": "2024-07-20T15:10:04.990Z"
   },
   {
    "duration": 7,
    "start_time": "2024-07-20T15:10:05.043Z"
   },
   {
    "duration": 44,
    "start_time": "2024-07-20T15:10:05.053Z"
   },
   {
    "duration": 45,
    "start_time": "2024-07-20T15:10:05.100Z"
   },
   {
    "duration": 26,
    "start_time": "2024-07-20T15:10:05.148Z"
   },
   {
    "duration": 8,
    "start_time": "2024-07-20T15:10:05.176Z"
   },
   {
    "duration": 25,
    "start_time": "2024-07-20T15:10:05.211Z"
   },
   {
    "duration": 8,
    "start_time": "2024-07-20T15:10:05.239Z"
   },
   {
    "duration": 8,
    "start_time": "2024-07-20T15:10:05.250Z"
   },
   {
    "duration": 1483,
    "start_time": "2024-07-20T15:10:05.261Z"
   },
   {
    "duration": 4,
    "start_time": "2024-07-20T15:10:06.748Z"
   },
   {
    "duration": 15,
    "start_time": "2024-07-20T15:10:06.756Z"
   },
   {
    "duration": 13,
    "start_time": "2024-07-20T15:10:06.775Z"
   },
   {
    "duration": 17,
    "start_time": "2024-07-20T15:10:06.812Z"
   },
   {
    "duration": 28,
    "start_time": "2024-07-20T15:10:06.837Z"
   },
   {
    "duration": 43,
    "start_time": "2024-07-20T15:10:06.873Z"
   },
   {
    "duration": 21,
    "start_time": "2024-07-20T15:10:06.920Z"
   },
   {
    "duration": 16,
    "start_time": "2024-07-20T15:10:06.946Z"
   },
   {
    "duration": 64,
    "start_time": "2024-07-20T15:10:06.969Z"
   },
   {
    "duration": 51,
    "start_time": "2024-07-20T15:10:07.036Z"
   },
   {
    "duration": 53,
    "start_time": "2024-07-20T15:10:07.091Z"
   },
   {
    "duration": 11,
    "start_time": "2024-07-20T15:10:07.147Z"
   },
   {
    "duration": 66,
    "start_time": "2024-07-20T15:10:07.161Z"
   },
   {
    "duration": 10,
    "start_time": "2024-07-20T15:10:07.237Z"
   },
   {
    "duration": 1208,
    "start_time": "2024-07-20T15:13:58.556Z"
   },
   {
    "duration": 976,
    "start_time": "2024-07-20T15:14:13.298Z"
   },
   {
    "duration": 17,
    "start_time": "2024-07-20T15:17:20.952Z"
   },
   {
    "duration": 7,
    "start_time": "2024-07-20T15:17:42.888Z"
   },
   {
    "duration": 13,
    "start_time": "2024-07-20T15:17:53.390Z"
   },
   {
    "duration": 12,
    "start_time": "2024-07-20T15:18:03.548Z"
   },
   {
    "duration": 221,
    "start_time": "2024-07-20T15:19:15.239Z"
   },
   {
    "duration": 325,
    "start_time": "2024-07-20T15:19:57.013Z"
   },
   {
    "duration": 313,
    "start_time": "2024-07-20T15:21:10.236Z"
   },
   {
    "duration": 303,
    "start_time": "2024-07-20T15:21:16.872Z"
   },
   {
    "duration": 9,
    "start_time": "2024-07-20T15:26:57.913Z"
   },
   {
    "duration": 195,
    "start_time": "2024-07-20T15:27:54.865Z"
   },
   {
    "duration": 116,
    "start_time": "2024-07-20T15:28:35.149Z"
   },
   {
    "duration": 23,
    "start_time": "2024-07-20T15:29:14.453Z"
   },
   {
    "duration": 23,
    "start_time": "2024-07-20T15:29:35.667Z"
   },
   {
    "duration": 220,
    "start_time": "2024-07-20T15:31:24.374Z"
   },
   {
    "duration": 405,
    "start_time": "2024-07-20T15:32:36.883Z"
   },
   {
    "duration": 416,
    "start_time": "2024-07-20T15:33:04.035Z"
   },
   {
    "duration": 37,
    "start_time": "2024-07-20T15:34:20.690Z"
   },
   {
    "duration": 396,
    "start_time": "2024-07-20T15:34:35.942Z"
   },
   {
    "duration": 517,
    "start_time": "2024-07-20T15:34:45.164Z"
   },
   {
    "duration": 422,
    "start_time": "2024-07-20T15:34:58.428Z"
   },
   {
    "duration": 428,
    "start_time": "2024-07-20T15:35:25.640Z"
   },
   {
    "duration": 375,
    "start_time": "2024-07-20T15:36:41.413Z"
   },
   {
    "duration": 428,
    "start_time": "2024-07-20T15:37:30.391Z"
   },
   {
    "duration": 24,
    "start_time": "2024-07-20T15:37:50.755Z"
   },
   {
    "duration": 386,
    "start_time": "2024-07-20T15:37:52.410Z"
   },
   {
    "duration": 459,
    "start_time": "2024-07-20T15:41:05.308Z"
   },
   {
    "duration": 80,
    "start_time": "2024-07-20T15:55:40.509Z"
   },
   {
    "duration": 94,
    "start_time": "2024-07-20T15:56:33.329Z"
   },
   {
    "duration": 101,
    "start_time": "2024-07-20T15:56:43.159Z"
   },
   {
    "duration": 84,
    "start_time": "2024-07-20T15:57:04.275Z"
   },
   {
    "duration": 78,
    "start_time": "2024-07-20T15:57:39.249Z"
   },
   {
    "duration": 87,
    "start_time": "2024-07-20T15:58:13.436Z"
   },
   {
    "duration": 218,
    "start_time": "2024-07-20T16:04:38.184Z"
   },
   {
    "duration": 206,
    "start_time": "2024-07-20T16:05:53.665Z"
   },
   {
    "duration": 82,
    "start_time": "2024-07-20T16:06:10.378Z"
   },
   {
    "duration": 178,
    "start_time": "2024-07-20T16:08:04.724Z"
   },
   {
    "duration": 255,
    "start_time": "2024-07-20T16:08:36.528Z"
   },
   {
    "duration": 186,
    "start_time": "2024-07-20T16:08:43.482Z"
   },
   {
    "duration": 184,
    "start_time": "2024-07-20T16:08:57.393Z"
   },
   {
    "duration": 16175,
    "start_time": "2024-07-20T16:09:27.916Z"
   },
   {
    "duration": 718,
    "start_time": "2024-07-20T16:09:57.094Z"
   },
   {
    "duration": 1566,
    "start_time": "2024-07-20T16:09:57.816Z"
   },
   {
    "duration": 36,
    "start_time": "2024-07-20T16:09:59.385Z"
   },
   {
    "duration": 29,
    "start_time": "2024-07-20T16:09:59.427Z"
   },
   {
    "duration": 92,
    "start_time": "2024-07-20T16:09:59.458Z"
   },
   {
    "duration": 20,
    "start_time": "2024-07-20T16:09:59.554Z"
   },
   {
    "duration": 48,
    "start_time": "2024-07-20T16:09:59.577Z"
   },
   {
    "duration": 377,
    "start_time": "2024-07-20T16:09:59.628Z"
   },
   {
    "duration": 14,
    "start_time": "2024-07-20T16:10:00.012Z"
   },
   {
    "duration": 200,
    "start_time": "2024-07-20T16:10:00.032Z"
   },
   {
    "duration": 175,
    "start_time": "2024-07-20T16:10:00.235Z"
   },
   {
    "duration": 46,
    "start_time": "2024-07-20T16:10:00.414Z"
   },
   {
    "duration": 50,
    "start_time": "2024-07-20T16:10:00.462Z"
   },
   {
    "duration": 7,
    "start_time": "2024-07-20T16:10:00.515Z"
   },
   {
    "duration": 43,
    "start_time": "2024-07-20T16:10:00.524Z"
   },
   {
    "duration": 49,
    "start_time": "2024-07-20T16:10:00.570Z"
   },
   {
    "duration": 25,
    "start_time": "2024-07-20T16:10:00.623Z"
   },
   {
    "duration": 7,
    "start_time": "2024-07-20T16:10:00.650Z"
   },
   {
    "duration": 6,
    "start_time": "2024-07-20T16:10:00.660Z"
   },
   {
    "duration": 48,
    "start_time": "2024-07-20T16:10:00.669Z"
   },
   {
    "duration": 7,
    "start_time": "2024-07-20T16:10:00.720Z"
   },
   {
    "duration": 1471,
    "start_time": "2024-07-20T16:10:00.731Z"
   },
   {
    "duration": 3,
    "start_time": "2024-07-20T16:10:02.212Z"
   },
   {
    "duration": 15,
    "start_time": "2024-07-20T16:10:02.217Z"
   },
   {
    "duration": 10,
    "start_time": "2024-07-20T16:10:02.235Z"
   },
   {
    "duration": 12,
    "start_time": "2024-07-20T16:10:02.248Z"
   },
   {
    "duration": 67,
    "start_time": "2024-07-20T16:10:02.262Z"
   },
   {
    "duration": 21,
    "start_time": "2024-07-20T16:10:02.337Z"
   },
   {
    "duration": 52,
    "start_time": "2024-07-20T16:10:02.360Z"
   },
   {
    "duration": 11,
    "start_time": "2024-07-20T16:10:02.415Z"
   },
   {
    "duration": 32,
    "start_time": "2024-07-20T16:10:02.429Z"
   },
   {
    "duration": 86,
    "start_time": "2024-07-20T16:10:02.464Z"
   },
   {
    "duration": 23,
    "start_time": "2024-07-20T16:10:02.553Z"
   },
   {
    "duration": 34,
    "start_time": "2024-07-20T16:10:02.579Z"
   },
   {
    "duration": 32,
    "start_time": "2024-07-20T16:10:02.616Z"
   },
   {
    "duration": 23,
    "start_time": "2024-07-20T16:10:02.651Z"
   },
   {
    "duration": 479,
    "start_time": "2024-07-20T16:10:02.677Z"
   },
   {
    "duration": 101,
    "start_time": "2024-07-20T16:10:03.160Z"
   },
   {
    "duration": 15968,
    "start_time": "2024-07-20T16:10:03.264Z"
   },
   {
    "duration": 180,
    "start_time": "2024-07-20T16:10:42.644Z"
   },
   {
    "duration": 208,
    "start_time": "2024-07-20T16:11:43.207Z"
   },
   {
    "duration": 8,
    "start_time": "2024-07-20T16:22:02.574Z"
   },
   {
    "duration": 397,
    "start_time": "2024-07-20T16:22:06.469Z"
   },
   {
    "duration": 191,
    "start_time": "2024-07-20T16:22:16.379Z"
   },
   {
    "duration": 228,
    "start_time": "2024-07-20T16:24:02.853Z"
   },
   {
    "duration": 206,
    "start_time": "2024-07-20T16:24:23.123Z"
   },
   {
    "duration": 290,
    "start_time": "2024-07-20T16:24:40.294Z"
   },
   {
    "duration": 320,
    "start_time": "2024-07-20T16:24:58.385Z"
   },
   {
    "duration": 307,
    "start_time": "2024-07-20T16:25:10.629Z"
   },
   {
    "duration": 140,
    "start_time": "2024-07-20T16:32:05.462Z"
   },
   {
    "duration": 147,
    "start_time": "2024-07-20T16:32:16.013Z"
   },
   {
    "duration": 142,
    "start_time": "2024-07-20T16:32:44.128Z"
   },
   {
    "duration": 143,
    "start_time": "2024-07-20T16:32:58.193Z"
   },
   {
    "duration": 146,
    "start_time": "2024-07-20T16:33:17.932Z"
   },
   {
    "duration": 171,
    "start_time": "2024-07-20T16:36:23.229Z"
   },
   {
    "duration": 5,
    "start_time": "2024-07-20T16:37:15.090Z"
   },
   {
    "duration": 154,
    "start_time": "2024-07-20T16:37:37.274Z"
   },
   {
    "duration": 47,
    "start_time": "2024-07-20T16:38:13.103Z"
   },
   {
    "duration": 44,
    "start_time": "2024-07-20T16:38:36.926Z"
   },
   {
    "duration": 45,
    "start_time": "2024-07-20T16:39:05.365Z"
   },
   {
    "duration": 153,
    "start_time": "2024-07-20T16:39:20.396Z"
   },
   {
    "duration": 154,
    "start_time": "2024-07-20T16:39:45.576Z"
   },
   {
    "duration": 156,
    "start_time": "2024-07-20T16:39:53.490Z"
   },
   {
    "duration": 161,
    "start_time": "2024-07-20T16:40:51.493Z"
   },
   {
    "duration": 151,
    "start_time": "2024-07-20T16:41:04.195Z"
   },
   {
    "duration": 157,
    "start_time": "2024-07-20T16:41:13.061Z"
   },
   {
    "duration": 158,
    "start_time": "2024-07-20T16:46:15.076Z"
   },
   {
    "duration": 147,
    "start_time": "2024-07-20T16:48:20.287Z"
   },
   {
    "duration": 92,
    "start_time": "2024-07-20T16:50:26.075Z"
   },
   {
    "duration": 591,
    "start_time": "2024-07-20T16:50:44.310Z"
   },
   {
    "duration": 601,
    "start_time": "2024-07-20T16:50:56.981Z"
   },
   {
    "duration": 1111,
    "start_time": "2024-07-20T16:51:42.161Z"
   },
   {
    "duration": 1217,
    "start_time": "2024-07-20T16:51:55.452Z"
   },
   {
    "duration": 827,
    "start_time": "2024-07-20T16:52:44.137Z"
   },
   {
    "duration": 700,
    "start_time": "2024-07-20T16:54:12.423Z"
   },
   {
    "duration": 17608,
    "start_time": "2024-07-20T16:55:10.280Z"
   },
   {
    "duration": 713,
    "start_time": "2024-07-20T16:58:04.195Z"
   },
   {
    "duration": 726,
    "start_time": "2024-07-20T17:03:12.545Z"
   },
   {
    "duration": 840,
    "start_time": "2024-07-20T17:03:55.049Z"
   },
   {
    "duration": 834,
    "start_time": "2024-07-20T17:03:57.859Z"
   },
   {
    "duration": 17951,
    "start_time": "2024-07-20T17:04:45.881Z"
   },
   {
    "duration": 1881,
    "start_time": "2024-07-20T17:05:55.981Z"
   },
   {
    "duration": 872,
    "start_time": "2024-07-20T17:07:52.315Z"
   },
   {
    "duration": 1178,
    "start_time": "2024-07-20T17:09:45.338Z"
   },
   {
    "duration": 1494,
    "start_time": "2024-07-20T17:10:05.908Z"
   },
   {
    "duration": 1426,
    "start_time": "2024-07-20T17:10:18.752Z"
   },
   {
    "duration": 1796,
    "start_time": "2024-07-20T17:10:40.068Z"
   },
   {
    "duration": 49787,
    "start_time": "2024-07-20T17:12:34.285Z"
   },
   {
    "duration": 68,
    "start_time": "2024-07-20T17:15:02.060Z"
   },
   {
    "duration": 304,
    "start_time": "2024-07-20T17:15:04.387Z"
   },
   {
    "duration": 749,
    "start_time": "2024-07-20T17:16:19.779Z"
   },
   {
    "duration": 301,
    "start_time": "2024-07-20T17:20:09.594Z"
   },
   {
    "duration": 299,
    "start_time": "2024-07-20T17:20:31.760Z"
   },
   {
    "duration": 21,
    "start_time": "2024-07-20T17:20:45.013Z"
   },
   {
    "duration": 805,
    "start_time": "2024-07-20T17:20:56.714Z"
   },
   {
    "duration": 80,
    "start_time": "2024-07-20T17:22:34.222Z"
   },
   {
    "duration": 754,
    "start_time": "2024-07-20T17:24:06.275Z"
   },
   {
    "duration": 8,
    "start_time": "2024-07-20T17:24:42.180Z"
   },
   {
    "duration": 823,
    "start_time": "2024-07-20T17:24:51.034Z"
   },
   {
    "duration": 23,
    "start_time": "2024-07-20T17:27:45.008Z"
   },
   {
    "duration": 748,
    "start_time": "2024-07-20T17:28:18.225Z"
   },
   {
    "duration": 22,
    "start_time": "2024-07-20T17:28:21.123Z"
   },
   {
    "duration": 123,
    "start_time": "2024-07-20T17:28:37.308Z"
   },
   {
    "duration": 106,
    "start_time": "2024-07-20T17:28:43.468Z"
   },
   {
    "duration": 86,
    "start_time": "2024-07-20T17:28:46.636Z"
   },
   {
    "duration": 322,
    "start_time": "2024-07-20T17:31:53.860Z"
   },
   {
    "duration": 78,
    "start_time": "2024-07-20T17:32:01.219Z"
   },
   {
    "duration": 670,
    "start_time": "2024-07-20T17:32:14.403Z"
   },
   {
    "duration": 323,
    "start_time": "2024-07-20T17:32:21.091Z"
   },
   {
    "duration": 146,
    "start_time": "2024-07-20T17:33:02.084Z"
   },
   {
    "duration": 663,
    "start_time": "2024-07-20T17:33:14.854Z"
   },
   {
    "duration": 1053,
    "start_time": "2024-07-20T17:33:18.703Z"
   },
   {
    "duration": 39,
    "start_time": "2024-07-20T17:35:02.389Z"
   },
   {
    "duration": 23,
    "start_time": "2024-07-20T17:35:20.252Z"
   },
   {
    "duration": 653,
    "start_time": "2024-07-20T17:36:45.712Z"
   },
   {
    "duration": 965,
    "start_time": "2024-07-20T17:36:53.526Z"
   },
   {
    "duration": 676,
    "start_time": "2024-07-20T17:36:58.719Z"
   },
   {
    "duration": 173,
    "start_time": "2024-07-20T17:37:03.262Z"
   },
   {
    "duration": 83,
    "start_time": "2024-07-20T17:37:10.253Z"
   },
   {
    "duration": 77,
    "start_time": "2024-07-20T17:37:17.011Z"
   },
   {
    "duration": 23,
    "start_time": "2024-07-20T17:39:29.049Z"
   },
   {
    "duration": 628,
    "start_time": "2024-07-20T17:39:35.360Z"
   },
   {
    "duration": 16,
    "start_time": "2024-07-20T17:40:20.549Z"
   },
   {
    "duration": 9,
    "start_time": "2024-07-20T17:40:26.307Z"
   },
   {
    "duration": 733,
    "start_time": "2024-07-20T17:40:34.779Z"
   },
   {
    "duration": 79,
    "start_time": "2024-07-20T17:40:39.132Z"
   },
   {
    "duration": 89,
    "start_time": "2024-07-20T17:40:48.255Z"
   },
   {
    "duration": 84,
    "start_time": "2024-07-20T17:41:01.284Z"
   },
   {
    "duration": 28,
    "start_time": "2024-07-20T17:50:22.916Z"
   },
   {
    "duration": 680,
    "start_time": "2024-07-20T17:50:34.396Z"
   },
   {
    "duration": 50,
    "start_time": "2024-07-20T17:50:37.834Z"
   },
   {
    "duration": 703,
    "start_time": "2024-07-20T17:51:10.801Z"
   },
   {
    "duration": 29,
    "start_time": "2024-07-20T17:51:14.665Z"
   },
   {
    "duration": 585,
    "start_time": "2024-07-20T17:51:29.600Z"
   },
   {
    "duration": 50,
    "start_time": "2024-07-20T17:51:33.505Z"
   },
   {
    "duration": 662,
    "start_time": "2024-07-20T17:54:15.581Z"
   },
   {
    "duration": 1580,
    "start_time": "2024-07-20T17:54:16.247Z"
   },
   {
    "duration": 32,
    "start_time": "2024-07-20T17:54:17.830Z"
   },
   {
    "duration": 48,
    "start_time": "2024-07-20T17:54:17.866Z"
   },
   {
    "duration": 56,
    "start_time": "2024-07-20T17:54:17.917Z"
   },
   {
    "duration": 48,
    "start_time": "2024-07-20T17:54:17.976Z"
   },
   {
    "duration": 21,
    "start_time": "2024-07-20T17:54:18.026Z"
   },
   {
    "duration": 400,
    "start_time": "2024-07-20T17:54:18.049Z"
   },
   {
    "duration": 14,
    "start_time": "2024-07-20T17:54:18.452Z"
   },
   {
    "duration": 203,
    "start_time": "2024-07-20T17:54:18.473Z"
   },
   {
    "duration": 171,
    "start_time": "2024-07-20T17:54:18.679Z"
   },
   {
    "duration": 63,
    "start_time": "2024-07-20T17:54:18.852Z"
   },
   {
    "duration": 26,
    "start_time": "2024-07-20T17:54:18.918Z"
   },
   {
    "duration": 7,
    "start_time": "2024-07-20T17:54:18.947Z"
   },
   {
    "duration": 70,
    "start_time": "2024-07-20T17:54:18.957Z"
   },
   {
    "duration": 19,
    "start_time": "2024-07-20T17:54:19.030Z"
   },
   {
    "duration": 25,
    "start_time": "2024-07-20T17:54:19.052Z"
   },
   {
    "duration": 36,
    "start_time": "2024-07-20T17:54:19.080Z"
   },
   {
    "duration": 7,
    "start_time": "2024-07-20T17:54:19.119Z"
   },
   {
    "duration": 8,
    "start_time": "2024-07-20T17:54:19.129Z"
   },
   {
    "duration": 6,
    "start_time": "2024-07-20T17:54:19.140Z"
   },
   {
    "duration": 1450,
    "start_time": "2024-07-20T17:54:19.149Z"
   },
   {
    "duration": 10,
    "start_time": "2024-07-20T17:54:20.603Z"
   },
   {
    "duration": 16,
    "start_time": "2024-07-20T17:54:20.618Z"
   },
   {
    "duration": 11,
    "start_time": "2024-07-20T17:54:20.637Z"
   },
   {
    "duration": 12,
    "start_time": "2024-07-20T17:54:20.651Z"
   },
   {
    "duration": 25,
    "start_time": "2024-07-20T17:54:20.714Z"
   },
   {
    "duration": 24,
    "start_time": "2024-07-20T17:54:20.747Z"
   },
   {
    "duration": 46,
    "start_time": "2024-07-20T17:54:20.777Z"
   },
   {
    "duration": 11,
    "start_time": "2024-07-20T17:54:20.827Z"
   },
   {
    "duration": 31,
    "start_time": "2024-07-20T17:54:20.841Z"
   },
   {
    "duration": 86,
    "start_time": "2024-07-20T17:54:20.876Z"
   },
   {
    "duration": 46,
    "start_time": "2024-07-20T17:54:20.966Z"
   },
   {
    "duration": 10,
    "start_time": "2024-07-20T17:54:21.015Z"
   },
   {
    "duration": 35,
    "start_time": "2024-07-20T17:54:21.028Z"
   },
   {
    "duration": 56,
    "start_time": "2024-07-20T17:54:21.066Z"
   },
   {
    "duration": 477,
    "start_time": "2024-07-20T17:54:21.125Z"
   },
   {
    "duration": 108,
    "start_time": "2024-07-20T17:54:21.606Z"
   },
   {
    "duration": 102,
    "start_time": "2024-07-20T17:54:21.717Z"
   },
   {
    "duration": 324,
    "start_time": "2024-07-20T17:54:21.824Z"
   },
   {
    "duration": 677,
    "start_time": "2024-07-20T17:54:22.151Z"
   },
   {
    "duration": 3,
    "start_time": "2024-07-20T17:54:22.832Z"
   },
   {
    "duration": 159,
    "start_time": "2024-07-20T17:56:21.648Z"
   },
   {
    "duration": 788,
    "start_time": "2024-07-20T17:58:00.868Z"
   },
   {
    "duration": 808,
    "start_time": "2024-07-20T17:58:10.864Z"
   },
   {
    "duration": 798,
    "start_time": "2024-07-20T18:01:10.032Z"
   },
   {
    "duration": 847,
    "start_time": "2024-07-20T18:02:32.478Z"
   },
   {
    "duration": 224,
    "start_time": "2024-07-20T18:06:52.096Z"
   },
   {
    "duration": 1881,
    "start_time": "2024-07-20T18:07:01.436Z"
   },
   {
    "duration": 1923,
    "start_time": "2024-07-20T18:07:55.102Z"
   },
   {
    "duration": 1977,
    "start_time": "2024-07-20T18:09:48.146Z"
   },
   {
    "duration": 23,
    "start_time": "2024-07-20T18:11:33.134Z"
   },
   {
    "duration": 1101,
    "start_time": "2024-07-20T18:12:02.843Z"
   },
   {
    "duration": 783,
    "start_time": "2024-07-20T18:43:00.553Z"
   },
   {
    "duration": 795,
    "start_time": "2024-07-20T18:43:38.429Z"
   },
   {
    "duration": 805,
    "start_time": "2024-07-20T18:43:50.757Z"
   },
   {
    "duration": 777,
    "start_time": "2024-07-20T18:43:57.636Z"
   },
   {
    "duration": 794,
    "start_time": "2024-07-20T18:44:41.735Z"
   },
   {
    "duration": 821,
    "start_time": "2024-07-20T18:45:12.929Z"
   },
   {
    "duration": 764,
    "start_time": "2024-07-20T18:46:51.705Z"
   },
   {
    "duration": 779,
    "start_time": "2024-07-20T18:48:26.854Z"
   },
   {
    "duration": 789,
    "start_time": "2024-07-20T18:52:17.393Z"
   },
   {
    "duration": 812,
    "start_time": "2024-07-20T18:52:55.181Z"
   },
   {
    "duration": 659,
    "start_time": "2024-07-20T19:04:43.072Z"
   },
   {
    "duration": 1677,
    "start_time": "2024-07-20T19:04:43.735Z"
   },
   {
    "duration": 32,
    "start_time": "2024-07-20T19:04:45.415Z"
   },
   {
    "duration": 27,
    "start_time": "2024-07-20T19:04:45.451Z"
   },
   {
    "duration": 81,
    "start_time": "2024-07-20T19:04:45.481Z"
   },
   {
    "duration": 18,
    "start_time": "2024-07-20T19:04:45.565Z"
   },
   {
    "duration": 20,
    "start_time": "2024-07-20T19:04:45.613Z"
   },
   {
    "duration": 366,
    "start_time": "2024-07-20T19:04:45.635Z"
   },
   {
    "duration": 16,
    "start_time": "2024-07-20T19:04:46.004Z"
   },
   {
    "duration": 197,
    "start_time": "2024-07-20T19:04:46.028Z"
   },
   {
    "duration": 165,
    "start_time": "2024-07-20T19:04:46.228Z"
   },
   {
    "duration": 53,
    "start_time": "2024-07-20T19:04:46.399Z"
   },
   {
    "duration": 23,
    "start_time": "2024-07-20T19:04:46.455Z"
   },
   {
    "duration": 28,
    "start_time": "2024-07-20T19:04:46.484Z"
   },
   {
    "duration": 42,
    "start_time": "2024-07-20T19:04:46.515Z"
   },
   {
    "duration": 19,
    "start_time": "2024-07-20T19:04:46.560Z"
   },
   {
    "duration": 55,
    "start_time": "2024-07-20T19:04:46.581Z"
   },
   {
    "duration": 7,
    "start_time": "2024-07-20T19:04:46.639Z"
   },
   {
    "duration": 7,
    "start_time": "2024-07-20T19:04:46.648Z"
   },
   {
    "duration": 8,
    "start_time": "2024-07-20T19:04:46.658Z"
   },
   {
    "duration": 50,
    "start_time": "2024-07-20T19:04:46.668Z"
   },
   {
    "duration": 1343,
    "start_time": "2024-07-20T19:04:46.721Z"
   },
   {
    "duration": 4,
    "start_time": "2024-07-20T19:04:48.067Z"
   },
   {
    "duration": 14,
    "start_time": "2024-07-20T19:04:48.074Z"
   },
   {
    "duration": 10,
    "start_time": "2024-07-20T19:04:48.113Z"
   },
   {
    "duration": 11,
    "start_time": "2024-07-20T19:04:48.126Z"
   },
   {
    "duration": 26,
    "start_time": "2024-07-20T19:04:48.141Z"
   },
   {
    "duration": 20,
    "start_time": "2024-07-20T19:04:48.216Z"
   },
   {
    "duration": 17,
    "start_time": "2024-07-20T19:04:48.239Z"
   },
   {
    "duration": 11,
    "start_time": "2024-07-20T19:04:48.259Z"
   },
   {
    "duration": 64,
    "start_time": "2024-07-20T19:04:48.273Z"
   },
   {
    "duration": 52,
    "start_time": "2024-07-20T19:04:48.340Z"
   },
   {
    "duration": 24,
    "start_time": "2024-07-20T19:04:48.414Z"
   },
   {
    "duration": 11,
    "start_time": "2024-07-20T19:04:48.441Z"
   },
   {
    "duration": 70,
    "start_time": "2024-07-20T19:04:48.455Z"
   },
   {
    "duration": 25,
    "start_time": "2024-07-20T19:04:48.529Z"
   },
   {
    "duration": 448,
    "start_time": "2024-07-20T19:04:48.557Z"
   },
   {
    "duration": 73,
    "start_time": "2024-07-20T19:04:49.011Z"
   },
   {
    "duration": 329,
    "start_time": "2024-07-20T19:04:49.087Z"
   },
   {
    "duration": 364,
    "start_time": "2024-07-20T19:04:49.419Z"
   },
   {
    "duration": 0,
    "start_time": "2024-07-20T19:04:49.786Z"
   },
   {
    "duration": 4373,
    "start_time": "2024-07-21T04:43:55.948Z"
   },
   {
    "duration": 1732,
    "start_time": "2024-07-21T04:44:00.324Z"
   },
   {
    "duration": 36,
    "start_time": "2024-07-21T04:44:02.058Z"
   },
   {
    "duration": 27,
    "start_time": "2024-07-21T04:44:02.100Z"
   },
   {
    "duration": 89,
    "start_time": "2024-07-21T04:44:02.131Z"
   },
   {
    "duration": 45,
    "start_time": "2024-07-21T04:44:02.223Z"
   },
   {
    "duration": 21,
    "start_time": "2024-07-21T04:44:02.271Z"
   },
   {
    "duration": 354,
    "start_time": "2024-07-21T04:44:02.295Z"
   },
   {
    "duration": 23,
    "start_time": "2024-07-21T04:44:02.652Z"
   },
   {
    "duration": 196,
    "start_time": "2024-07-21T04:44:02.682Z"
   },
   {
    "duration": 167,
    "start_time": "2024-07-21T04:44:02.881Z"
   },
   {
    "duration": 52,
    "start_time": "2024-07-21T04:44:03.051Z"
   },
   {
    "duration": 23,
    "start_time": "2024-07-21T04:44:03.106Z"
   },
   {
    "duration": 37,
    "start_time": "2024-07-21T04:44:03.132Z"
   },
   {
    "duration": 40,
    "start_time": "2024-07-21T04:44:03.173Z"
   },
   {
    "duration": 19,
    "start_time": "2024-07-21T04:44:03.217Z"
   },
   {
    "duration": 55,
    "start_time": "2024-07-21T04:44:03.238Z"
   },
   {
    "duration": 7,
    "start_time": "2024-07-21T04:44:03.296Z"
   },
   {
    "duration": 7,
    "start_time": "2024-07-21T04:44:03.306Z"
   },
   {
    "duration": 51,
    "start_time": "2024-07-21T04:44:03.316Z"
   },
   {
    "duration": 10,
    "start_time": "2024-07-21T04:44:03.370Z"
   },
   {
    "duration": 1386,
    "start_time": "2024-07-21T04:44:03.383Z"
   },
   {
    "duration": 4,
    "start_time": "2024-07-21T04:44:04.772Z"
   },
   {
    "duration": 16,
    "start_time": "2024-07-21T04:44:04.779Z"
   },
   {
    "duration": 11,
    "start_time": "2024-07-21T04:44:04.798Z"
   },
   {
    "duration": 56,
    "start_time": "2024-07-21T04:44:04.812Z"
   },
   {
    "duration": 25,
    "start_time": "2024-07-21T04:44:04.870Z"
   },
   {
    "duration": 21,
    "start_time": "2024-07-21T04:44:04.902Z"
   },
   {
    "duration": 55,
    "start_time": "2024-07-21T04:44:04.926Z"
   },
   {
    "duration": 11,
    "start_time": "2024-07-21T04:44:04.985Z"
   },
   {
    "duration": 32,
    "start_time": "2024-07-21T04:44:04.999Z"
   },
   {
    "duration": 62,
    "start_time": "2024-07-21T04:44:05.067Z"
   },
   {
    "duration": 40,
    "start_time": "2024-07-21T04:44:05.132Z"
   },
   {
    "duration": 10,
    "start_time": "2024-07-21T04:44:05.175Z"
   },
   {
    "duration": 36,
    "start_time": "2024-07-21T04:44:05.188Z"
   },
   {
    "duration": 52,
    "start_time": "2024-07-21T04:44:05.227Z"
   },
   {
    "duration": 487,
    "start_time": "2024-07-21T04:44:05.283Z"
   },
   {
    "duration": 72,
    "start_time": "2024-07-21T04:44:05.774Z"
   },
   {
    "duration": 340,
    "start_time": "2024-07-21T04:44:05.867Z"
   },
   {
    "duration": 364,
    "start_time": "2024-07-21T04:44:06.210Z"
   },
   {
    "duration": 1,
    "start_time": "2024-07-21T04:44:06.577Z"
   },
   {
    "duration": 80,
    "start_time": "2024-07-21T04:45:54.113Z"
   },
   {
    "duration": 26,
    "start_time": "2024-07-21T04:46:28.366Z"
   },
   {
    "duration": 607,
    "start_time": "2024-07-21T04:46:30.334Z"
   },
   {
    "duration": 802,
    "start_time": "2024-07-21T04:46:33.920Z"
   },
   {
    "duration": 312,
    "start_time": "2024-07-21T04:54:31.816Z"
   },
   {
    "duration": 301,
    "start_time": "2024-07-21T04:56:12.350Z"
   },
   {
    "duration": 376,
    "start_time": "2024-07-21T04:56:14.239Z"
   },
   {
    "duration": 322,
    "start_time": "2024-07-21T04:56:50.630Z"
   },
   {
    "duration": 338,
    "start_time": "2024-07-21T04:58:00.313Z"
   },
   {
    "duration": 331,
    "start_time": "2024-07-21T04:58:56.998Z"
   },
   {
    "duration": 301,
    "start_time": "2024-07-21T04:59:09.614Z"
   },
   {
    "duration": 78,
    "start_time": "2024-07-21T04:59:49.771Z"
   },
   {
    "duration": 81,
    "start_time": "2024-07-21T05:00:01.948Z"
   },
   {
    "duration": 323,
    "start_time": "2024-07-21T05:01:43.501Z"
   },
   {
    "duration": 724,
    "start_time": "2024-07-21T05:01:51.868Z"
   },
   {
    "duration": 1582,
    "start_time": "2024-07-21T05:01:52.595Z"
   },
   {
    "duration": 30,
    "start_time": "2024-07-21T05:01:54.180Z"
   },
   {
    "duration": 52,
    "start_time": "2024-07-21T05:01:54.215Z"
   },
   {
    "duration": 56,
    "start_time": "2024-07-21T05:01:54.271Z"
   },
   {
    "duration": 44,
    "start_time": "2024-07-21T05:01:54.330Z"
   },
   {
    "duration": 19,
    "start_time": "2024-07-21T05:01:54.378Z"
   },
   {
    "duration": 359,
    "start_time": "2024-07-21T05:01:54.401Z"
   },
   {
    "duration": 15,
    "start_time": "2024-07-21T05:01:54.767Z"
   },
   {
    "duration": 201,
    "start_time": "2024-07-21T05:01:54.789Z"
   },
   {
    "duration": 175,
    "start_time": "2024-07-21T05:01:54.993Z"
   },
   {
    "duration": 46,
    "start_time": "2024-07-21T05:01:55.171Z"
   },
   {
    "duration": 23,
    "start_time": "2024-07-21T05:01:55.220Z"
   },
   {
    "duration": 7,
    "start_time": "2024-07-21T05:01:55.269Z"
   },
   {
    "duration": 41,
    "start_time": "2024-07-21T05:01:55.279Z"
   },
   {
    "duration": 47,
    "start_time": "2024-07-21T05:01:55.323Z"
   },
   {
    "duration": 26,
    "start_time": "2024-07-21T05:01:55.373Z"
   },
   {
    "duration": 7,
    "start_time": "2024-07-21T05:01:55.402Z"
   },
   {
    "duration": 6,
    "start_time": "2024-07-21T05:01:55.412Z"
   },
   {
    "duration": 7,
    "start_time": "2024-07-21T05:01:55.467Z"
   },
   {
    "duration": 7,
    "start_time": "2024-07-21T05:01:55.478Z"
   },
   {
    "duration": 1481,
    "start_time": "2024-07-21T05:01:55.488Z"
   },
   {
    "duration": 4,
    "start_time": "2024-07-21T05:01:56.972Z"
   },
   {
    "duration": 13,
    "start_time": "2024-07-21T05:01:56.980Z"
   },
   {
    "duration": 10,
    "start_time": "2024-07-21T05:01:56.997Z"
   },
   {
    "duration": 10,
    "start_time": "2024-07-21T05:01:57.010Z"
   },
   {
    "duration": 25,
    "start_time": "2024-07-21T05:01:57.067Z"
   },
   {
    "duration": 21,
    "start_time": "2024-07-21T05:01:57.099Z"
   },
   {
    "duration": 50,
    "start_time": "2024-07-21T05:01:57.123Z"
   },
   {
    "duration": 11,
    "start_time": "2024-07-21T05:01:57.177Z"
   },
   {
    "duration": 32,
    "start_time": "2024-07-21T05:01:57.191Z"
   },
   {
    "duration": 90,
    "start_time": "2024-07-21T05:01:57.226Z"
   },
   {
    "duration": 23,
    "start_time": "2024-07-21T05:01:57.319Z"
   },
   {
    "duration": 10,
    "start_time": "2024-07-21T05:01:57.372Z"
   },
   {
    "duration": 41,
    "start_time": "2024-07-21T05:01:57.386Z"
   },
   {
    "duration": 53,
    "start_time": "2024-07-21T05:01:57.430Z"
   },
   {
    "duration": 502,
    "start_time": "2024-07-21T05:01:57.486Z"
   },
   {
    "duration": 108,
    "start_time": "2024-07-21T05:01:57.992Z"
   },
   {
    "duration": 340,
    "start_time": "2024-07-21T05:01:58.103Z"
   },
   {
    "duration": 95,
    "start_time": "2024-07-21T05:01:58.446Z"
   },
   {
    "duration": 688,
    "start_time": "2024-07-21T05:01:58.544Z"
   },
   {
    "duration": 810,
    "start_time": "2024-07-21T05:01:59.236Z"
   },
   {
    "duration": 329,
    "start_time": "2024-07-21T05:02:39.258Z"
   },
   {
    "duration": 14,
    "start_time": "2024-07-21T05:05:35.003Z"
   },
   {
    "duration": 15,
    "start_time": "2024-07-21T05:06:26.563Z"
   },
   {
    "duration": 7,
    "start_time": "2024-07-21T05:06:29.308Z"
   },
   {
    "duration": 12,
    "start_time": "2024-07-21T05:06:34.062Z"
   },
   {
    "duration": 660,
    "start_time": "2024-07-21T05:06:43.919Z"
   },
   {
    "duration": 1578,
    "start_time": "2024-07-21T05:06:44.582Z"
   },
   {
    "duration": 39,
    "start_time": "2024-07-21T05:06:46.163Z"
   },
   {
    "duration": 30,
    "start_time": "2024-07-21T05:06:46.208Z"
   },
   {
    "duration": 82,
    "start_time": "2024-07-21T05:06:46.240Z"
   },
   {
    "duration": 47,
    "start_time": "2024-07-21T05:06:46.325Z"
   },
   {
    "duration": 23,
    "start_time": "2024-07-21T05:06:46.376Z"
   },
   {
    "duration": 403,
    "start_time": "2024-07-21T05:06:46.403Z"
   },
   {
    "duration": 14,
    "start_time": "2024-07-21T05:06:46.809Z"
   },
   {
    "duration": 211,
    "start_time": "2024-07-21T05:06:46.829Z"
   },
   {
    "duration": 180,
    "start_time": "2024-07-21T05:06:47.042Z"
   },
   {
    "duration": 63,
    "start_time": "2024-07-21T05:06:47.225Z"
   },
   {
    "duration": 27,
    "start_time": "2024-07-21T05:06:47.291Z"
   },
   {
    "duration": 8,
    "start_time": "2024-07-21T05:06:47.322Z"
   },
   {
    "duration": 77,
    "start_time": "2024-07-21T05:06:47.333Z"
   },
   {
    "duration": 21,
    "start_time": "2024-07-21T05:06:47.413Z"
   },
   {
    "duration": 28,
    "start_time": "2024-07-21T05:06:47.467Z"
   },
   {
    "duration": 7,
    "start_time": "2024-07-21T05:06:47.499Z"
   },
   {
    "duration": 6,
    "start_time": "2024-07-21T05:06:47.510Z"
   },
   {
    "duration": 7,
    "start_time": "2024-07-21T05:06:47.519Z"
   },
   {
    "duration": 7,
    "start_time": "2024-07-21T05:06:47.569Z"
   },
   {
    "duration": 1441,
    "start_time": "2024-07-21T05:06:47.580Z"
   },
   {
    "duration": 3,
    "start_time": "2024-07-21T05:06:49.024Z"
   },
   {
    "duration": 37,
    "start_time": "2024-07-21T05:06:49.031Z"
   },
   {
    "duration": 13,
    "start_time": "2024-07-21T05:06:49.072Z"
   },
   {
    "duration": 11,
    "start_time": "2024-07-21T05:06:49.088Z"
   },
   {
    "duration": 14,
    "start_time": "2024-07-21T05:06:49.103Z"
   },
   {
    "duration": 7,
    "start_time": "2024-07-21T05:06:49.170Z"
   },
   {
    "duration": 13,
    "start_time": "2024-07-21T05:06:49.180Z"
   },
   {
    "duration": 22,
    "start_time": "2024-07-21T05:06:49.196Z"
   },
   {
    "duration": 56,
    "start_time": "2024-07-21T05:06:49.222Z"
   },
   {
    "duration": 12,
    "start_time": "2024-07-21T05:06:49.282Z"
   },
   {
    "duration": 31,
    "start_time": "2024-07-21T05:06:49.297Z"
   },
   {
    "duration": 55,
    "start_time": "2024-07-21T05:06:49.368Z"
   },
   {
    "duration": 55,
    "start_time": "2024-07-21T05:06:49.426Z"
   },
   {
    "duration": 11,
    "start_time": "2024-07-21T05:06:49.485Z"
   },
   {
    "duration": 36,
    "start_time": "2024-07-21T05:06:49.500Z"
   },
   {
    "duration": 49,
    "start_time": "2024-07-21T05:06:49.539Z"
   },
   {
    "duration": 440,
    "start_time": "2024-07-21T05:06:49.591Z"
   },
   {
    "duration": 89,
    "start_time": "2024-07-21T05:06:50.034Z"
   },
   {
    "duration": 327,
    "start_time": "2024-07-21T05:06:50.126Z"
   },
   {
    "duration": 96,
    "start_time": "2024-07-21T05:06:50.455Z"
   },
   {
    "duration": 643,
    "start_time": "2024-07-21T05:06:50.554Z"
   },
   {
    "duration": 805,
    "start_time": "2024-07-21T05:06:51.200Z"
   },
   {
    "duration": 668,
    "start_time": "2024-07-21T05:07:51.800Z"
   },
   {
    "duration": 17,
    "start_time": "2024-07-21T05:09:57.843Z"
   },
   {
    "duration": 12,
    "start_time": "2024-07-21T05:10:17.869Z"
   },
   {
    "duration": 10,
    "start_time": "2024-07-21T05:10:23.876Z"
   },
   {
    "duration": 8,
    "start_time": "2024-07-21T05:11:37.413Z"
   },
   {
    "duration": 701,
    "start_time": "2024-07-21T05:17:42.463Z"
   },
   {
    "duration": 1564,
    "start_time": "2024-07-21T05:17:43.169Z"
   },
   {
    "duration": 38,
    "start_time": "2024-07-21T05:17:44.736Z"
   },
   {
    "duration": 27,
    "start_time": "2024-07-21T05:17:44.780Z"
   },
   {
    "duration": 84,
    "start_time": "2024-07-21T05:17:44.809Z"
   },
   {
    "duration": 22,
    "start_time": "2024-07-21T05:17:44.896Z"
   },
   {
    "duration": 55,
    "start_time": "2024-07-21T05:17:44.921Z"
   },
   {
    "duration": 374,
    "start_time": "2024-07-21T05:17:44.980Z"
   },
   {
    "duration": 23,
    "start_time": "2024-07-21T05:17:45.358Z"
   },
   {
    "duration": 235,
    "start_time": "2024-07-21T05:17:45.387Z"
   },
   {
    "duration": 180,
    "start_time": "2024-07-21T05:17:45.624Z"
   },
   {
    "duration": 70,
    "start_time": "2024-07-21T05:17:45.808Z"
   },
   {
    "duration": 27,
    "start_time": "2024-07-21T05:17:45.882Z"
   },
   {
    "duration": 8,
    "start_time": "2024-07-21T05:17:45.912Z"
   },
   {
    "duration": 79,
    "start_time": "2024-07-21T05:17:45.923Z"
   },
   {
    "duration": 19,
    "start_time": "2024-07-21T05:17:46.005Z"
   },
   {
    "duration": 52,
    "start_time": "2024-07-21T05:17:46.027Z"
   },
   {
    "duration": 379,
    "start_time": "2024-07-21T05:17:46.083Z"
   },
   {
    "duration": 0,
    "start_time": "2024-07-21T05:17:46.468Z"
   },
   {
    "duration": 0,
    "start_time": "2024-07-21T05:17:46.472Z"
   },
   {
    "duration": 0,
    "start_time": "2024-07-21T05:17:46.477Z"
   },
   {
    "duration": 0,
    "start_time": "2024-07-21T05:17:46.479Z"
   },
   {
    "duration": 0,
    "start_time": "2024-07-21T05:17:46.482Z"
   },
   {
    "duration": 0,
    "start_time": "2024-07-21T05:17:46.485Z"
   },
   {
    "duration": 0,
    "start_time": "2024-07-21T05:17:46.487Z"
   },
   {
    "duration": 0,
    "start_time": "2024-07-21T05:17:46.490Z"
   },
   {
    "duration": 0,
    "start_time": "2024-07-21T05:17:46.492Z"
   },
   {
    "duration": 0,
    "start_time": "2024-07-21T05:17:46.494Z"
   },
   {
    "duration": 0,
    "start_time": "2024-07-21T05:17:46.497Z"
   },
   {
    "duration": 0,
    "start_time": "2024-07-21T05:17:46.500Z"
   },
   {
    "duration": 0,
    "start_time": "2024-07-21T05:17:46.506Z"
   },
   {
    "duration": 0,
    "start_time": "2024-07-21T05:17:46.507Z"
   },
   {
    "duration": 0,
    "start_time": "2024-07-21T05:17:46.509Z"
   },
   {
    "duration": 0,
    "start_time": "2024-07-21T05:17:46.511Z"
   },
   {
    "duration": 0,
    "start_time": "2024-07-21T05:17:46.512Z"
   },
   {
    "duration": 0,
    "start_time": "2024-07-21T05:17:46.513Z"
   },
   {
    "duration": 0,
    "start_time": "2024-07-21T05:17:46.514Z"
   },
   {
    "duration": 0,
    "start_time": "2024-07-21T05:17:46.569Z"
   },
   {
    "duration": 0,
    "start_time": "2024-07-21T05:17:46.571Z"
   },
   {
    "duration": 0,
    "start_time": "2024-07-21T05:17:46.574Z"
   },
   {
    "duration": 0,
    "start_time": "2024-07-21T05:17:46.577Z"
   },
   {
    "duration": 0,
    "start_time": "2024-07-21T05:17:46.580Z"
   },
   {
    "duration": 0,
    "start_time": "2024-07-21T05:17:46.581Z"
   },
   {
    "duration": 0,
    "start_time": "2024-07-21T05:17:46.583Z"
   },
   {
    "duration": 0,
    "start_time": "2024-07-21T05:17:46.585Z"
   },
   {
    "duration": 42,
    "start_time": "2024-07-21T05:18:48.997Z"
   },
   {
    "duration": 25,
    "start_time": "2024-07-21T05:19:23.400Z"
   },
   {
    "duration": 26,
    "start_time": "2024-07-21T05:19:47.494Z"
   },
   {
    "duration": 7,
    "start_time": "2024-07-21T05:19:47.525Z"
   },
   {
    "duration": 6,
    "start_time": "2024-07-21T05:19:47.535Z"
   },
   {
    "duration": 27,
    "start_time": "2024-07-21T05:19:47.546Z"
   },
   {
    "duration": 6,
    "start_time": "2024-07-21T05:19:47.577Z"
   },
   {
    "duration": 1438,
    "start_time": "2024-07-21T05:19:47.587Z"
   },
   {
    "duration": 4,
    "start_time": "2024-07-21T05:19:49.029Z"
   },
   {
    "duration": 33,
    "start_time": "2024-07-21T05:19:49.037Z"
   },
   {
    "duration": 11,
    "start_time": "2024-07-21T05:19:49.073Z"
   },
   {
    "duration": 10,
    "start_time": "2024-07-21T05:19:49.091Z"
   },
   {
    "duration": 15,
    "start_time": "2024-07-21T05:19:49.104Z"
   },
   {
    "duration": 58,
    "start_time": "2024-07-21T05:19:49.122Z"
   },
   {
    "duration": 13,
    "start_time": "2024-07-21T05:19:49.184Z"
   },
   {
    "duration": 25,
    "start_time": "2024-07-21T05:19:49.201Z"
   },
   {
    "duration": 57,
    "start_time": "2024-07-21T05:19:49.229Z"
   },
   {
    "duration": 12,
    "start_time": "2024-07-21T05:19:49.289Z"
   },
   {
    "duration": 64,
    "start_time": "2024-07-21T05:19:49.305Z"
   },
   {
    "duration": 53,
    "start_time": "2024-07-21T05:19:49.372Z"
   },
   {
    "duration": 48,
    "start_time": "2024-07-21T05:19:49.428Z"
   },
   {
    "duration": 11,
    "start_time": "2024-07-21T05:19:49.479Z"
   },
   {
    "duration": 37,
    "start_time": "2024-07-21T05:19:49.493Z"
   },
   {
    "duration": 51,
    "start_time": "2024-07-21T05:19:49.533Z"
   },
   {
    "duration": 440,
    "start_time": "2024-07-21T05:19:49.588Z"
   },
   {
    "duration": 97,
    "start_time": "2024-07-21T05:19:50.032Z"
   },
   {
    "duration": 326,
    "start_time": "2024-07-21T05:19:50.132Z"
   },
   {
    "duration": 86,
    "start_time": "2024-07-21T05:19:50.460Z"
   },
   {
    "duration": 682,
    "start_time": "2024-07-21T05:19:50.549Z"
   },
   {
    "duration": 796,
    "start_time": "2024-07-21T05:19:51.238Z"
   },
   {
    "duration": 1214,
    "start_time": "2024-07-21T05:30:42.113Z"
   },
   {
    "duration": 712,
    "start_time": "2024-07-21T05:32:33.559Z"
   },
   {
    "duration": 1609,
    "start_time": "2024-07-21T05:32:34.274Z"
   },
   {
    "duration": 35,
    "start_time": "2024-07-21T05:32:35.886Z"
   },
   {
    "duration": 50,
    "start_time": "2024-07-21T05:32:35.925Z"
   },
   {
    "duration": 54,
    "start_time": "2024-07-21T05:32:35.978Z"
   },
   {
    "duration": 23,
    "start_time": "2024-07-21T05:32:36.067Z"
   },
   {
    "duration": 19,
    "start_time": "2024-07-21T05:32:36.093Z"
   },
   {
    "duration": 367,
    "start_time": "2024-07-21T05:32:36.116Z"
   },
   {
    "duration": 14,
    "start_time": "2024-07-21T05:32:36.486Z"
   },
   {
    "duration": 217,
    "start_time": "2024-07-21T05:32:36.505Z"
   },
   {
    "duration": 186,
    "start_time": "2024-07-21T05:32:36.725Z"
   },
   {
    "duration": 60,
    "start_time": "2024-07-21T05:32:36.914Z"
   },
   {
    "duration": 24,
    "start_time": "2024-07-21T05:32:36.978Z"
   },
   {
    "duration": 7,
    "start_time": "2024-07-21T05:32:37.005Z"
   },
   {
    "duration": 67,
    "start_time": "2024-07-21T05:32:37.016Z"
   },
   {
    "duration": 24,
    "start_time": "2024-07-21T05:32:37.086Z"
   },
   {
    "duration": 6,
    "start_time": "2024-07-21T05:32:37.115Z"
   },
   {
    "duration": 43,
    "start_time": "2024-07-21T05:32:37.125Z"
   },
   {
    "duration": 7,
    "start_time": "2024-07-21T05:32:37.172Z"
   },
   {
    "duration": 7,
    "start_time": "2024-07-21T05:32:37.183Z"
   },
   {
    "duration": 1437,
    "start_time": "2024-07-21T05:32:37.194Z"
   },
   {
    "duration": 1189,
    "start_time": "2024-07-21T05:32:38.634Z"
   },
   {
    "duration": 14,
    "start_time": "2024-07-21T05:32:39.827Z"
   },
   {
    "duration": 27,
    "start_time": "2024-07-21T05:32:39.845Z"
   },
   {
    "duration": 13,
    "start_time": "2024-07-21T05:32:39.875Z"
   },
   {
    "duration": 13,
    "start_time": "2024-07-21T05:32:39.891Z"
   },
   {
    "duration": 10,
    "start_time": "2024-07-21T05:32:39.907Z"
   },
   {
    "duration": 11,
    "start_time": "2024-07-21T05:32:39.971Z"
   },
   {
    "duration": 19,
    "start_time": "2024-07-21T05:32:39.987Z"
   },
   {
    "duration": 18,
    "start_time": "2024-07-21T05:32:40.009Z"
   },
   {
    "duration": 46,
    "start_time": "2024-07-21T05:32:40.031Z"
   },
   {
    "duration": 33,
    "start_time": "2024-07-21T05:32:40.081Z"
   },
   {
    "duration": 83,
    "start_time": "2024-07-21T05:32:40.117Z"
   },
   {
    "duration": 24,
    "start_time": "2024-07-21T05:32:40.203Z"
   },
   {
    "duration": 9,
    "start_time": "2024-07-21T05:32:40.230Z"
   },
   {
    "duration": 33,
    "start_time": "2024-07-21T05:32:40.269Z"
   },
   {
    "duration": 24,
    "start_time": "2024-07-21T05:32:40.305Z"
   },
   {
    "duration": 454,
    "start_time": "2024-07-21T05:32:40.332Z"
   },
   {
    "duration": 90,
    "start_time": "2024-07-21T05:32:40.789Z"
   },
   {
    "duration": 330,
    "start_time": "2024-07-21T05:32:40.882Z"
   },
   {
    "duration": 94,
    "start_time": "2024-07-21T05:32:41.215Z"
   },
   {
    "duration": 669,
    "start_time": "2024-07-21T05:32:41.312Z"
   },
   {
    "duration": 816,
    "start_time": "2024-07-21T05:32:41.984Z"
   },
   {
    "duration": 31,
    "start_time": "2024-07-21T05:33:52.953Z"
   },
   {
    "duration": 706,
    "start_time": "2024-07-21T05:34:20.773Z"
   },
   {
    "duration": 1558,
    "start_time": "2024-07-21T05:34:21.486Z"
   },
   {
    "duration": 43,
    "start_time": "2024-07-21T05:34:23.047Z"
   },
   {
    "duration": 26,
    "start_time": "2024-07-21T05:34:23.096Z"
   },
   {
    "duration": 81,
    "start_time": "2024-07-21T05:34:23.125Z"
   },
   {
    "duration": 19,
    "start_time": "2024-07-21T05:34:23.209Z"
   },
   {
    "duration": 47,
    "start_time": "2024-07-21T05:34:23.231Z"
   },
   {
    "duration": 356,
    "start_time": "2024-07-21T05:34:23.281Z"
   },
   {
    "duration": 27,
    "start_time": "2024-07-21T05:34:23.640Z"
   },
   {
    "duration": 199,
    "start_time": "2024-07-21T05:34:23.673Z"
   },
   {
    "duration": 212,
    "start_time": "2024-07-21T05:34:23.876Z"
   },
   {
    "duration": 60,
    "start_time": "2024-07-21T05:34:24.092Z"
   },
   {
    "duration": 34,
    "start_time": "2024-07-21T05:34:24.169Z"
   },
   {
    "duration": 7,
    "start_time": "2024-07-21T05:34:24.207Z"
   },
   {
    "duration": 76,
    "start_time": "2024-07-21T05:34:24.219Z"
   },
   {
    "duration": 35,
    "start_time": "2024-07-21T05:34:24.299Z"
   },
   {
    "duration": 36,
    "start_time": "2024-07-21T05:34:24.337Z"
   },
   {
    "duration": 8,
    "start_time": "2024-07-21T05:34:24.377Z"
   },
   {
    "duration": 8,
    "start_time": "2024-07-21T05:34:24.389Z"
   },
   {
    "duration": 8,
    "start_time": "2024-07-21T05:34:24.401Z"
   },
   {
    "duration": 1539,
    "start_time": "2024-07-21T05:34:24.413Z"
   },
   {
    "duration": 1329,
    "start_time": "2024-07-21T05:34:25.956Z"
   },
   {
    "duration": 12,
    "start_time": "2024-07-21T05:34:27.289Z"
   },
   {
    "duration": 11,
    "start_time": "2024-07-21T05:34:27.304Z"
   },
   {
    "duration": 55,
    "start_time": "2024-07-21T05:34:27.319Z"
   },
   {
    "duration": 22,
    "start_time": "2024-07-21T05:34:27.378Z"
   },
   {
    "duration": 15,
    "start_time": "2024-07-21T05:34:27.402Z"
   },
   {
    "duration": 9,
    "start_time": "2024-07-21T05:34:27.430Z"
   },
   {
    "duration": 22,
    "start_time": "2024-07-21T05:34:27.472Z"
   },
   {
    "duration": 19,
    "start_time": "2024-07-21T05:34:27.497Z"
   },
   {
    "duration": 13,
    "start_time": "2024-07-21T05:34:27.522Z"
   },
   {
    "duration": 62,
    "start_time": "2024-07-21T05:34:27.538Z"
   },
   {
    "duration": 82,
    "start_time": "2024-07-21T05:34:27.603Z"
   },
   {
    "duration": 27,
    "start_time": "2024-07-21T05:34:27.690Z"
   },
   {
    "duration": 11,
    "start_time": "2024-07-21T05:34:27.721Z"
   },
   {
    "duration": 65,
    "start_time": "2024-07-21T05:34:27.736Z"
   },
   {
    "duration": 34,
    "start_time": "2024-07-21T05:34:27.804Z"
   },
   {
    "duration": 522,
    "start_time": "2024-07-21T05:34:27.841Z"
   },
   {
    "duration": 109,
    "start_time": "2024-07-21T05:34:28.369Z"
   },
   {
    "duration": 389,
    "start_time": "2024-07-21T05:34:28.483Z"
   },
   {
    "duration": 107,
    "start_time": "2024-07-21T05:34:28.875Z"
   },
   {
    "duration": 684,
    "start_time": "2024-07-21T05:34:28.985Z"
   },
   {
    "duration": 798,
    "start_time": "2024-07-21T05:34:29.671Z"
   },
   {
    "duration": 308,
    "start_time": "2024-07-21T17:32:52.100Z"
   },
   {
    "duration": 4299,
    "start_time": "2024-07-21T17:33:07.737Z"
   },
   {
    "duration": 1668,
    "start_time": "2024-07-21T17:33:12.042Z"
   },
   {
    "duration": 37,
    "start_time": "2024-07-21T17:33:13.714Z"
   },
   {
    "duration": 53,
    "start_time": "2024-07-21T17:33:13.757Z"
   },
   {
    "duration": 54,
    "start_time": "2024-07-21T17:33:13.813Z"
   },
   {
    "duration": 57,
    "start_time": "2024-07-21T17:33:13.870Z"
   },
   {
    "duration": 28,
    "start_time": "2024-07-21T17:33:13.930Z"
   },
   {
    "duration": 324,
    "start_time": "2024-07-21T17:33:13.962Z"
   },
   {
    "duration": 22,
    "start_time": "2024-07-21T17:33:14.289Z"
   },
   {
    "duration": 185,
    "start_time": "2024-07-21T17:33:14.317Z"
   },
   {
    "duration": 170,
    "start_time": "2024-07-21T17:33:14.505Z"
   },
   {
    "duration": 55,
    "start_time": "2024-07-21T17:33:14.678Z"
   },
   {
    "duration": 24,
    "start_time": "2024-07-21T17:33:14.736Z"
   },
   {
    "duration": 8,
    "start_time": "2024-07-21T17:33:14.763Z"
   },
   {
    "duration": 75,
    "start_time": "2024-07-21T17:33:14.776Z"
   },
   {
    "duration": 27,
    "start_time": "2024-07-21T17:33:14.855Z"
   },
   {
    "duration": 8,
    "start_time": "2024-07-21T17:33:14.908Z"
   },
   {
    "duration": 10,
    "start_time": "2024-07-21T17:33:14.920Z"
   },
   {
    "duration": 9,
    "start_time": "2024-07-21T17:33:14.934Z"
   },
   {
    "duration": 6,
    "start_time": "2024-07-21T17:33:14.946Z"
   },
   {
    "duration": 1358,
    "start_time": "2024-07-21T17:33:14.956Z"
   },
   {
    "duration": 1176,
    "start_time": "2024-07-21T17:33:16.317Z"
   },
   {
    "duration": 21,
    "start_time": "2024-07-21T17:33:17.496Z"
   },
   {
    "duration": 11,
    "start_time": "2024-07-21T17:33:17.519Z"
   },
   {
    "duration": 10,
    "start_time": "2024-07-21T17:33:17.536Z"
   },
   {
    "duration": 12,
    "start_time": "2024-07-21T17:33:17.549Z"
   },
   {
    "duration": 48,
    "start_time": "2024-07-21T17:33:17.564Z"
   },
   {
    "duration": 9,
    "start_time": "2024-07-21T17:33:17.620Z"
   },
   {
    "duration": 20,
    "start_time": "2024-07-21T17:33:17.632Z"
   },
   {
    "duration": 53,
    "start_time": "2024-07-21T17:33:17.656Z"
   },
   {
    "duration": 10,
    "start_time": "2024-07-21T17:33:17.712Z"
   },
   {
    "duration": 30,
    "start_time": "2024-07-21T17:33:17.725Z"
   },
   {
    "duration": 85,
    "start_time": "2024-07-21T17:33:17.758Z"
   },
   {
    "duration": 23,
    "start_time": "2024-07-21T17:33:17.846Z"
   },
   {
    "duration": 38,
    "start_time": "2024-07-21T17:33:17.871Z"
   },
   {
    "duration": 33,
    "start_time": "2024-07-21T17:33:17.912Z"
   },
   {
    "duration": 24,
    "start_time": "2024-07-21T17:33:17.947Z"
   },
   {
    "duration": 511,
    "start_time": "2024-07-21T17:33:17.974Z"
   },
   {
    "duration": 79,
    "start_time": "2024-07-21T17:33:18.489Z"
   },
   {
    "duration": 331,
    "start_time": "2024-07-21T17:33:18.571Z"
   },
   {
    "duration": 83,
    "start_time": "2024-07-21T17:33:18.908Z"
   },
   {
    "duration": 669,
    "start_time": "2024-07-21T17:33:18.994Z"
   },
   {
    "duration": 784,
    "start_time": "2024-07-21T17:33:19.666Z"
   },
   {
    "duration": 531,
    "start_time": "2024-07-21T17:33:20.453Z"
   },
   {
    "duration": 7,
    "start_time": "2024-07-21T17:33:52.213Z"
   },
   {
    "duration": 512,
    "start_time": "2024-07-21T17:35:45.466Z"
   },
   {
    "duration": 511,
    "start_time": "2024-07-21T17:35:58.419Z"
   },
   {
    "duration": 15,
    "start_time": "2024-07-21T17:36:36.562Z"
   },
   {
    "duration": 546,
    "start_time": "2024-07-21T17:36:39.536Z"
   },
   {
    "duration": 518,
    "start_time": "2024-07-21T17:36:57.203Z"
   },
   {
    "duration": 218,
    "start_time": "2024-07-21T17:38:04.312Z"
   },
   {
    "duration": 414,
    "start_time": "2024-07-21T17:38:16.803Z"
   },
   {
    "duration": 493,
    "start_time": "2024-07-21T17:41:01.080Z"
   },
   {
    "duration": 194,
    "start_time": "2024-07-21T17:41:06.731Z"
   },
   {
    "duration": 510,
    "start_time": "2024-07-21T17:42:48.498Z"
   },
   {
    "duration": 281,
    "start_time": "2024-07-21T17:42:53.489Z"
   },
   {
    "duration": 1517,
    "start_time": "2024-07-21T17:42:59.994Z"
   },
   {
    "duration": 515,
    "start_time": "2024-07-21T17:43:51.272Z"
   },
   {
    "duration": 510,
    "start_time": "2024-07-21T17:43:58.828Z"
   },
   {
    "duration": 202,
    "start_time": "2024-07-21T17:44:16.666Z"
   },
   {
    "duration": 5,
    "start_time": "2024-07-21T17:48:11.598Z"
   },
   {
    "duration": 1409,
    "start_time": "2024-07-21T17:48:19.654Z"
   },
   {
    "duration": 1447,
    "start_time": "2024-07-21T17:52:42.244Z"
   },
   {
    "duration": 1543,
    "start_time": "2024-07-21T17:52:57.859Z"
   },
   {
    "duration": 1562,
    "start_time": "2024-07-21T17:53:12.342Z"
   },
   {
    "duration": 208,
    "start_time": "2024-07-21T17:53:41.242Z"
   },
   {
    "duration": 1468,
    "start_time": "2024-07-21T17:54:03.488Z"
   },
   {
    "duration": 62,
    "start_time": "2024-07-21T18:00:17.227Z"
   },
   {
    "duration": 354,
    "start_time": "2024-07-21T18:00:30.837Z"
   },
   {
    "duration": 65,
    "start_time": "2024-07-21T18:00:40.432Z"
   },
   {
    "duration": 64,
    "start_time": "2024-07-21T18:01:30.405Z"
   },
   {
    "duration": 6,
    "start_time": "2024-07-21T18:01:38.021Z"
   },
   {
    "duration": 333,
    "start_time": "2024-07-21T18:01:46.683Z"
   },
   {
    "duration": 72,
    "start_time": "2024-07-21T18:03:08.929Z"
   },
   {
    "duration": 320,
    "start_time": "2024-07-21T18:03:20.724Z"
   },
   {
    "duration": 6,
    "start_time": "2024-07-21T18:03:49.348Z"
   },
   {
    "duration": 1308,
    "start_time": "2024-07-21T18:03:54.646Z"
   },
   {
    "duration": 324,
    "start_time": "2024-07-21T18:04:27.428Z"
   },
   {
    "duration": 81,
    "start_time": "2024-07-21T18:05:59.323Z"
   },
   {
    "duration": 206,
    "start_time": "2024-07-21T18:06:06.186Z"
   },
   {
    "duration": 224,
    "start_time": "2024-07-21T18:06:34.299Z"
   },
   {
    "duration": 217,
    "start_time": "2024-07-21T18:06:41.687Z"
   },
   {
    "duration": 268,
    "start_time": "2024-07-21T18:07:01.244Z"
   },
   {
    "duration": 206,
    "start_time": "2024-07-21T18:07:22.679Z"
   },
   {
    "duration": 206,
    "start_time": "2024-07-21T18:14:53.990Z"
   },
   {
    "duration": 514,
    "start_time": "2024-07-21T18:15:35.779Z"
   },
   {
    "duration": 251,
    "start_time": "2024-07-21T18:15:40.146Z"
   },
   {
    "duration": 251,
    "start_time": "2024-07-21T18:16:07.877Z"
   },
   {
    "duration": 253,
    "start_time": "2024-07-21T18:17:13.994Z"
   },
   {
    "duration": 265,
    "start_time": "2024-07-21T18:18:07.196Z"
   },
   {
    "duration": 253,
    "start_time": "2024-07-21T18:18:22.428Z"
   },
   {
    "duration": 639,
    "start_time": "2024-07-21T18:26:36.059Z"
   },
   {
    "duration": 1586,
    "start_time": "2024-07-21T18:26:36.701Z"
   },
   {
    "duration": 38,
    "start_time": "2024-07-21T18:26:38.290Z"
   },
   {
    "duration": 27,
    "start_time": "2024-07-21T18:26:38.333Z"
   },
   {
    "duration": 81,
    "start_time": "2024-07-21T18:26:38.362Z"
   },
   {
    "duration": 20,
    "start_time": "2024-07-21T18:26:38.446Z"
   },
   {
    "duration": 41,
    "start_time": "2024-07-21T18:26:38.469Z"
   },
   {
    "duration": 322,
    "start_time": "2024-07-21T18:26:38.513Z"
   },
   {
    "duration": 15,
    "start_time": "2024-07-21T18:26:38.838Z"
   },
   {
    "duration": 200,
    "start_time": "2024-07-21T18:26:38.859Z"
   },
   {
    "duration": 179,
    "start_time": "2024-07-21T18:26:39.062Z"
   },
   {
    "duration": 65,
    "start_time": "2024-07-21T18:26:39.244Z"
   },
   {
    "duration": 24,
    "start_time": "2024-07-21T18:26:39.313Z"
   },
   {
    "duration": 7,
    "start_time": "2024-07-21T18:26:39.340Z"
   },
   {
    "duration": 69,
    "start_time": "2024-07-21T18:26:39.350Z"
   },
   {
    "duration": 24,
    "start_time": "2024-07-21T18:26:39.423Z"
   },
   {
    "duration": 8,
    "start_time": "2024-07-21T18:26:39.449Z"
   },
   {
    "duration": 6,
    "start_time": "2024-07-21T18:26:39.460Z"
   },
   {
    "duration": 8,
    "start_time": "2024-07-21T18:26:39.510Z"
   },
   {
    "duration": 7,
    "start_time": "2024-07-21T18:26:39.521Z"
   },
   {
    "duration": 1339,
    "start_time": "2024-07-21T18:26:39.531Z"
   },
   {
    "duration": 1179,
    "start_time": "2024-07-21T18:26:40.872Z"
   },
   {
    "duration": 13,
    "start_time": "2024-07-21T18:26:42.054Z"
   },
   {
    "duration": 10,
    "start_time": "2024-07-21T18:26:42.070Z"
   },
   {
    "duration": 10,
    "start_time": "2024-07-21T18:26:42.110Z"
   },
   {
    "duration": 12,
    "start_time": "2024-07-21T18:26:42.124Z"
   },
   {
    "duration": 8,
    "start_time": "2024-07-21T18:26:42.139Z"
   },
   {
    "duration": 9,
    "start_time": "2024-07-21T18:26:42.157Z"
   },
   {
    "duration": 19,
    "start_time": "2024-07-21T18:26:42.210Z"
   },
   {
    "duration": 19,
    "start_time": "2024-07-21T18:26:42.232Z"
   },
   {
    "duration": 11,
    "start_time": "2024-07-21T18:26:42.254Z"
   },
   {
    "duration": 34,
    "start_time": "2024-07-21T18:26:42.309Z"
   },
   {
    "duration": 72,
    "start_time": "2024-07-21T18:26:42.346Z"
   },
   {
    "duration": 23,
    "start_time": "2024-07-21T18:26:42.422Z"
   },
   {
    "duration": 9,
    "start_time": "2024-07-21T18:26:42.449Z"
   },
   {
    "duration": 70,
    "start_time": "2024-07-21T18:26:42.461Z"
   },
   {
    "duration": 23,
    "start_time": "2024-07-21T18:26:42.533Z"
   },
   {
    "duration": 476,
    "start_time": "2024-07-21T18:26:42.559Z"
   },
   {
    "duration": 75,
    "start_time": "2024-07-21T18:26:43.038Z"
   },
   {
    "duration": 221,
    "start_time": "2024-07-21T18:26:43.116Z"
   },
   {
    "duration": 94,
    "start_time": "2024-07-21T18:26:43.340Z"
   },
   {
    "duration": 667,
    "start_time": "2024-07-21T18:26:43.436Z"
   },
   {
    "duration": 806,
    "start_time": "2024-07-21T18:26:44.109Z"
   },
   {
    "duration": 526,
    "start_time": "2024-07-21T18:26:44.919Z"
   },
   {
    "duration": 269,
    "start_time": "2024-07-21T18:26:45.447Z"
   },
   {
    "duration": 4339,
    "start_time": "2024-07-21T19:19:30.401Z"
   },
   {
    "duration": 1714,
    "start_time": "2024-07-21T19:19:34.744Z"
   },
   {
    "duration": 34,
    "start_time": "2024-07-21T19:19:36.461Z"
   },
   {
    "duration": 30,
    "start_time": "2024-07-21T19:19:36.498Z"
   },
   {
    "duration": 89,
    "start_time": "2024-07-21T19:19:36.534Z"
   },
   {
    "duration": 44,
    "start_time": "2024-07-21T19:19:36.626Z"
   },
   {
    "duration": 24,
    "start_time": "2024-07-21T19:19:36.674Z"
   },
   {
    "duration": 386,
    "start_time": "2024-07-21T19:19:36.701Z"
   },
   {
    "duration": 16,
    "start_time": "2024-07-21T19:19:37.090Z"
   },
   {
    "duration": 210,
    "start_time": "2024-07-21T19:19:37.109Z"
   },
   {
    "duration": 189,
    "start_time": "2024-07-21T19:19:37.322Z"
   },
   {
    "duration": 60,
    "start_time": "2024-07-21T19:19:37.515Z"
   },
   {
    "duration": 28,
    "start_time": "2024-07-21T19:19:37.579Z"
   },
   {
    "duration": 8,
    "start_time": "2024-07-21T19:19:37.616Z"
   },
   {
    "duration": 77,
    "start_time": "2024-07-21T19:19:37.627Z"
   },
   {
    "duration": 24,
    "start_time": "2024-07-21T19:19:37.707Z"
   },
   {
    "duration": 36,
    "start_time": "2024-07-21T19:19:37.734Z"
   },
   {
    "duration": 6,
    "start_time": "2024-07-21T19:19:37.773Z"
   },
   {
    "duration": 7,
    "start_time": "2024-07-21T19:19:37.783Z"
   },
   {
    "duration": 7,
    "start_time": "2024-07-21T19:19:37.794Z"
   },
   {
    "duration": 1439,
    "start_time": "2024-07-21T19:19:37.804Z"
   },
   {
    "duration": 1239,
    "start_time": "2024-07-21T19:19:39.246Z"
   },
   {
    "duration": 13,
    "start_time": "2024-07-21T19:19:40.488Z"
   },
   {
    "duration": 10,
    "start_time": "2024-07-21T19:19:40.504Z"
   },
   {
    "duration": 10,
    "start_time": "2024-07-21T19:19:40.517Z"
   },
   {
    "duration": 13,
    "start_time": "2024-07-21T19:19:40.567Z"
   },
   {
    "duration": 9,
    "start_time": "2024-07-21T19:19:40.583Z"
   },
   {
    "duration": 9,
    "start_time": "2024-07-21T19:19:40.594Z"
   },
   {
    "duration": 19,
    "start_time": "2024-07-21T19:19:40.606Z"
   },
   {
    "duration": 19,
    "start_time": "2024-07-21T19:19:40.669Z"
   },
   {
    "duration": 11,
    "start_time": "2024-07-21T19:19:40.691Z"
   },
   {
    "duration": 71,
    "start_time": "2024-07-21T19:19:40.706Z"
   },
   {
    "duration": 49,
    "start_time": "2024-07-21T19:19:40.780Z"
   },
   {
    "duration": 54,
    "start_time": "2024-07-21T19:19:40.832Z"
   },
   {
    "duration": 12,
    "start_time": "2024-07-21T19:19:40.889Z"
   },
   {
    "duration": 36,
    "start_time": "2024-07-21T19:19:40.904Z"
   },
   {
    "duration": 23,
    "start_time": "2024-07-21T19:19:40.968Z"
   },
   {
    "duration": 479,
    "start_time": "2024-07-21T19:19:40.994Z"
   },
   {
    "duration": 70,
    "start_time": "2024-07-21T19:19:41.477Z"
   },
   {
    "duration": 218,
    "start_time": "2024-07-21T19:19:41.568Z"
   },
   {
    "duration": 97,
    "start_time": "2024-07-21T19:19:41.794Z"
   },
   {
    "duration": 688,
    "start_time": "2024-07-21T19:19:41.894Z"
   },
   {
    "duration": 791,
    "start_time": "2024-07-21T19:19:42.585Z"
   },
   {
    "duration": 538,
    "start_time": "2024-07-21T19:19:43.379Z"
   },
   {
    "duration": 272,
    "start_time": "2024-07-21T19:19:43.920Z"
   },
   {
    "duration": 30,
    "start_time": "2024-07-21T19:34:01.294Z"
   },
   {
    "duration": 378,
    "start_time": "2024-07-21T19:34:49.802Z"
   },
   {
    "duration": 35,
    "start_time": "2024-07-21T19:34:54.264Z"
   },
   {
    "duration": 734,
    "start_time": "2024-07-21T19:36:34.911Z"
   },
   {
    "duration": 817,
    "start_time": "2024-07-21T19:39:21.776Z"
   },
   {
    "duration": 769,
    "start_time": "2024-07-21T19:39:57.036Z"
   },
   {
    "duration": 789,
    "start_time": "2024-07-21T19:40:27.453Z"
   },
   {
    "duration": 757,
    "start_time": "2024-07-21T19:40:53.143Z"
   },
   {
    "duration": 769,
    "start_time": "2024-07-21T19:40:58.675Z"
   },
   {
    "duration": 783,
    "start_time": "2024-07-21T19:41:33.686Z"
   },
   {
    "duration": 768,
    "start_time": "2024-07-21T19:41:42.780Z"
   },
   {
    "duration": 776,
    "start_time": "2024-07-21T19:42:00.574Z"
   },
   {
    "duration": 771,
    "start_time": "2024-07-21T19:42:12.805Z"
   },
   {
    "duration": 932,
    "start_time": "2024-07-21T19:43:18.517Z"
   },
   {
    "duration": 815,
    "start_time": "2024-07-21T19:43:46.492Z"
   },
   {
    "duration": 32,
    "start_time": "2024-07-21T19:52:16.218Z"
   },
   {
    "duration": 112,
    "start_time": "2024-07-21T19:54:11.209Z"
   },
   {
    "duration": 117,
    "start_time": "2024-07-21T19:54:18.336Z"
   },
   {
    "duration": 142,
    "start_time": "2024-07-21T19:54:55.546Z"
   },
   {
    "duration": 227,
    "start_time": "2024-07-21T19:55:48.734Z"
   },
   {
    "duration": 223,
    "start_time": "2024-07-21T19:56:44.154Z"
   },
   {
    "duration": 224,
    "start_time": "2024-07-21T19:56:51.655Z"
   },
   {
    "duration": 217,
    "start_time": "2024-07-21T19:57:08.233Z"
   },
   {
    "duration": 807,
    "start_time": "2024-07-21T19:57:24.537Z"
   },
   {
    "duration": 1665,
    "start_time": "2024-07-21T19:57:25.349Z"
   },
   {
    "duration": 50,
    "start_time": "2024-07-21T19:57:27.018Z"
   },
   {
    "duration": 34,
    "start_time": "2024-07-21T19:57:27.071Z"
   },
   {
    "duration": 88,
    "start_time": "2024-07-21T19:57:27.111Z"
   },
   {
    "duration": 21,
    "start_time": "2024-07-21T19:57:27.203Z"
   },
   {
    "duration": 53,
    "start_time": "2024-07-21T19:57:27.227Z"
   },
   {
    "duration": 412,
    "start_time": "2024-07-21T19:57:27.284Z"
   },
   {
    "duration": 18,
    "start_time": "2024-07-21T19:57:27.700Z"
   },
   {
    "duration": 272,
    "start_time": "2024-07-21T19:57:27.721Z"
   },
   {
    "duration": 192,
    "start_time": "2024-07-21T19:57:27.996Z"
   },
   {
    "duration": 59,
    "start_time": "2024-07-21T19:57:28.192Z"
   },
   {
    "duration": 34,
    "start_time": "2024-07-21T19:57:28.270Z"
   },
   {
    "duration": 8,
    "start_time": "2024-07-21T19:57:28.313Z"
   },
   {
    "duration": 80,
    "start_time": "2024-07-21T19:57:28.324Z"
   },
   {
    "duration": 29,
    "start_time": "2024-07-21T19:57:28.407Z"
   },
   {
    "duration": 34,
    "start_time": "2024-07-21T19:57:28.439Z"
   },
   {
    "duration": 9,
    "start_time": "2024-07-21T19:57:28.476Z"
   },
   {
    "duration": 8,
    "start_time": "2024-07-21T19:57:28.489Z"
   },
   {
    "duration": 9,
    "start_time": "2024-07-21T19:57:28.501Z"
   },
   {
    "duration": 1470,
    "start_time": "2024-07-21T19:57:28.514Z"
   },
   {
    "duration": 1290,
    "start_time": "2024-07-21T19:57:29.987Z"
   },
   {
    "duration": 15,
    "start_time": "2024-07-21T19:57:31.279Z"
   },
   {
    "duration": 10,
    "start_time": "2024-07-21T19:57:31.299Z"
   },
   {
    "duration": 10,
    "start_time": "2024-07-21T19:57:31.313Z"
   },
   {
    "duration": 49,
    "start_time": "2024-07-21T19:57:31.328Z"
   },
   {
    "duration": 8,
    "start_time": "2024-07-21T19:57:31.380Z"
   },
   {
    "duration": 10,
    "start_time": "2024-07-21T19:57:31.391Z"
   },
   {
    "duration": 19,
    "start_time": "2024-07-21T19:57:31.404Z"
   },
   {
    "duration": 19,
    "start_time": "2024-07-21T19:57:31.469Z"
   },
   {
    "duration": 12,
    "start_time": "2024-07-21T19:57:31.491Z"
   },
   {
    "duration": 62,
    "start_time": "2024-07-21T19:57:31.506Z"
   },
   {
    "duration": 50,
    "start_time": "2024-07-21T19:57:31.571Z"
   },
   {
    "duration": 51,
    "start_time": "2024-07-21T19:57:31.624Z"
   },
   {
    "duration": 9,
    "start_time": "2024-07-21T19:57:31.677Z"
   },
   {
    "duration": 38,
    "start_time": "2024-07-21T19:57:31.690Z"
   },
   {
    "duration": 52,
    "start_time": "2024-07-21T19:57:31.731Z"
   },
   {
    "duration": 455,
    "start_time": "2024-07-21T19:57:31.786Z"
   },
   {
    "duration": 84,
    "start_time": "2024-07-21T19:57:32.248Z"
   },
   {
    "duration": 223,
    "start_time": "2024-07-21T19:57:32.335Z"
   },
   {
    "duration": 93,
    "start_time": "2024-07-21T19:57:32.575Z"
   },
   {
    "duration": 675,
    "start_time": "2024-07-21T19:57:32.671Z"
   },
   {
    "duration": 804,
    "start_time": "2024-07-21T19:57:33.350Z"
   },
   {
    "duration": 561,
    "start_time": "2024-07-21T19:57:34.157Z"
   },
   {
    "duration": 272,
    "start_time": "2024-07-21T19:57:34.721Z"
   },
   {
    "duration": 34,
    "start_time": "2024-07-21T19:57:34.996Z"
   },
   {
    "duration": 763,
    "start_time": "2024-07-21T19:57:35.033Z"
   },
   {
    "duration": 814,
    "start_time": "2024-07-21T19:57:35.799Z"
   },
   {
    "duration": 141,
    "start_time": "2024-07-21T19:57:36.616Z"
   },
   {
    "duration": 257,
    "start_time": "2024-07-21T19:57:36.761Z"
   },
   {
    "duration": 242,
    "start_time": "2024-07-21T19:57:48.145Z"
   },
   {
    "duration": 521,
    "start_time": "2024-07-21T20:00:32.971Z"
   },
   {
    "duration": 640,
    "start_time": "2024-07-21T20:00:58.146Z"
   },
   {
    "duration": 9,
    "start_time": "2024-07-21T20:01:03.928Z"
   },
   {
    "duration": 598,
    "start_time": "2024-07-21T20:01:08.098Z"
   },
   {
    "duration": 650,
    "start_time": "2024-07-21T20:01:58.044Z"
   },
   {
    "duration": 1364,
    "start_time": "2024-07-21T20:02:39.745Z"
   },
   {
    "duration": 681,
    "start_time": "2024-07-21T20:02:45.741Z"
   },
   {
    "duration": 301,
    "start_time": "2024-07-21T20:04:58.842Z"
   },
   {
    "duration": 6,
    "start_time": "2024-07-21T20:06:04.169Z"
   },
   {
    "duration": 228,
    "start_time": "2024-07-21T20:06:13.158Z"
   },
   {
    "duration": 7,
    "start_time": "2024-07-21T20:06:19.081Z"
   },
   {
    "duration": 227,
    "start_time": "2024-07-21T20:06:22.427Z"
   },
   {
    "duration": 127,
    "start_time": "2024-07-21T20:11:18.325Z"
   },
   {
    "duration": 113,
    "start_time": "2024-07-21T20:11:25.495Z"
   },
   {
    "duration": 120,
    "start_time": "2024-07-21T20:11:46.482Z"
   },
   {
    "duration": 131,
    "start_time": "2024-07-21T20:13:37.266Z"
   },
   {
    "duration": 114,
    "start_time": "2024-07-21T20:17:13.268Z"
   },
   {
    "duration": 201,
    "start_time": "2024-07-21T20:18:11.523Z"
   },
   {
    "duration": 6,
    "start_time": "2024-07-21T20:20:47.638Z"
   },
   {
    "duration": 209,
    "start_time": "2024-07-21T20:21:14.769Z"
   },
   {
    "duration": 197,
    "start_time": "2024-07-21T20:21:20.537Z"
   },
   {
    "duration": 5,
    "start_time": "2024-07-21T22:47:59.539Z"
   },
   {
    "duration": 4451,
    "start_time": "2024-07-21T22:51:38.486Z"
   },
   {
    "duration": 1823,
    "start_time": "2024-07-21T22:51:42.941Z"
   },
   {
    "duration": 31,
    "start_time": "2024-07-21T22:51:44.767Z"
   },
   {
    "duration": 28,
    "start_time": "2024-07-21T22:51:44.801Z"
   },
   {
    "duration": 56,
    "start_time": "2024-07-21T22:51:44.867Z"
   },
   {
    "duration": 46,
    "start_time": "2024-07-21T22:51:44.926Z"
   },
   {
    "duration": 33,
    "start_time": "2024-07-21T22:51:44.975Z"
   },
   {
    "duration": 364,
    "start_time": "2024-07-21T22:51:45.012Z"
   },
   {
    "duration": 17,
    "start_time": "2024-07-21T22:51:45.379Z"
   },
   {
    "duration": 229,
    "start_time": "2024-07-21T22:51:45.400Z"
   },
   {
    "duration": 210,
    "start_time": "2024-07-21T22:51:45.635Z"
   },
   {
    "duration": 76,
    "start_time": "2024-07-21T22:51:45.850Z"
   },
   {
    "duration": 40,
    "start_time": "2024-07-21T22:51:45.929Z"
   },
   {
    "duration": 7,
    "start_time": "2024-07-21T22:51:45.976Z"
   },
   {
    "duration": 38,
    "start_time": "2024-07-21T22:51:45.987Z"
   },
   {
    "duration": 52,
    "start_time": "2024-07-21T22:51:46.031Z"
   },
   {
    "duration": 9,
    "start_time": "2024-07-21T22:51:46.087Z"
   },
   {
    "duration": 8,
    "start_time": "2024-07-21T22:51:46.099Z"
   },
   {
    "duration": 10,
    "start_time": "2024-07-21T22:51:46.110Z"
   },
   {
    "duration": 53,
    "start_time": "2024-07-21T22:51:46.123Z"
   },
   {
    "duration": 1466,
    "start_time": "2024-07-21T22:51:46.182Z"
   },
   {
    "duration": 1305,
    "start_time": "2024-07-21T22:51:47.651Z"
   },
   {
    "duration": 19,
    "start_time": "2024-07-21T22:51:48.959Z"
   },
   {
    "duration": 13,
    "start_time": "2024-07-21T22:51:48.982Z"
   },
   {
    "duration": 10,
    "start_time": "2024-07-21T22:51:48.999Z"
   },
   {
    "duration": 13,
    "start_time": "2024-07-21T22:51:49.013Z"
   },
   {
    "duration": 9,
    "start_time": "2024-07-21T22:51:49.070Z"
   },
   {
    "duration": 11,
    "start_time": "2024-07-21T22:51:49.082Z"
   },
   {
    "duration": 21,
    "start_time": "2024-07-21T22:51:49.097Z"
   },
   {
    "duration": 61,
    "start_time": "2024-07-21T22:51:49.121Z"
   },
   {
    "duration": 14,
    "start_time": "2024-07-21T22:51:49.185Z"
   },
   {
    "duration": 63,
    "start_time": "2024-07-21T22:51:49.205Z"
   },
   {
    "duration": 64,
    "start_time": "2024-07-21T22:51:49.271Z"
   },
   {
    "duration": 46,
    "start_time": "2024-07-21T22:51:49.338Z"
   },
   {
    "duration": 19,
    "start_time": "2024-07-21T22:51:49.388Z"
   },
   {
    "duration": 60,
    "start_time": "2024-07-21T22:51:49.411Z"
   },
   {
    "duration": 31,
    "start_time": "2024-07-21T22:51:49.474Z"
   },
   {
    "duration": 499,
    "start_time": "2024-07-21T22:51:49.511Z"
   },
   {
    "duration": 88,
    "start_time": "2024-07-21T22:51:50.016Z"
   },
   {
    "duration": 225,
    "start_time": "2024-07-21T22:51:50.108Z"
   },
   {
    "duration": 114,
    "start_time": "2024-07-21T22:51:50.344Z"
   },
   {
    "duration": 687,
    "start_time": "2024-07-21T22:51:50.461Z"
   },
   {
    "duration": 803,
    "start_time": "2024-07-21T22:51:51.152Z"
   },
   {
    "duration": 543,
    "start_time": "2024-07-21T22:51:51.959Z"
   },
   {
    "duration": 292,
    "start_time": "2024-07-21T22:51:52.506Z"
   },
   {
    "duration": 37,
    "start_time": "2024-07-21T22:51:52.800Z"
   },
   {
    "duration": 757,
    "start_time": "2024-07-21T22:51:52.840Z"
   },
   {
    "duration": 824,
    "start_time": "2024-07-21T22:51:53.600Z"
   },
   {
    "duration": 293,
    "start_time": "2024-07-21T22:51:54.427Z"
   },
   {
    "duration": 228,
    "start_time": "2024-07-21T22:51:54.725Z"
   },
   {
    "duration": 290,
    "start_time": "2024-07-21T22:51:54.957Z"
   },
   {
    "duration": 15,
    "start_time": "2024-07-21T22:51:55.252Z"
   },
   {
    "duration": 3,
    "start_time": "2024-07-21T22:51:55.272Z"
   },
   {
    "duration": 8,
    "start_time": "2024-07-21T22:55:11.804Z"
   },
   {
    "duration": 614,
    "start_time": "2024-07-21T22:55:14.809Z"
   },
   {
    "duration": 5,
    "start_time": "2024-07-21T22:56:52.819Z"
   },
   {
    "duration": 51,
    "start_time": "2024-07-21T22:56:55.707Z"
   },
   {
    "duration": 4,
    "start_time": "2024-07-21T22:57:58.518Z"
   },
   {
    "duration": 57,
    "start_time": "2024-07-21T22:58:00.688Z"
   },
   {
    "duration": 4,
    "start_time": "2024-07-21T22:59:14.629Z"
   },
   {
    "duration": 75,
    "start_time": "2024-07-21T22:59:16.760Z"
   },
   {
    "duration": 5,
    "start_time": "2024-07-21T22:59:29.696Z"
   },
   {
    "duration": 66,
    "start_time": "2024-07-21T22:59:31.523Z"
   },
   {
    "duration": 239,
    "start_time": "2024-07-21T23:00:19.917Z"
   },
   {
    "duration": 229,
    "start_time": "2024-07-21T23:00:29.664Z"
   },
   {
    "duration": 204,
    "start_time": "2024-07-21T23:00:44.652Z"
   },
   {
    "duration": 6,
    "start_time": "2024-07-21T23:01:05.654Z"
   },
   {
    "duration": 61,
    "start_time": "2024-07-21T23:01:07.620Z"
   },
   {
    "duration": 4,
    "start_time": "2024-07-21T23:01:23.388Z"
   },
   {
    "duration": 128,
    "start_time": "2024-07-21T23:01:24.994Z"
   },
   {
    "duration": 4,
    "start_time": "2024-07-21T23:03:36.303Z"
   },
   {
    "duration": 63,
    "start_time": "2024-07-21T23:03:42.294Z"
   },
   {
    "duration": 4,
    "start_time": "2024-07-21T23:04:00.332Z"
   },
   {
    "duration": 51,
    "start_time": "2024-07-21T23:04:02.010Z"
   },
   {
    "duration": 5,
    "start_time": "2024-07-21T23:04:25.864Z"
   },
   {
    "duration": 49,
    "start_time": "2024-07-21T23:04:29.432Z"
   },
   {
    "duration": 4,
    "start_time": "2024-07-21T23:04:43.913Z"
   },
   {
    "duration": 55,
    "start_time": "2024-07-21T23:04:45.336Z"
   },
   {
    "duration": 233,
    "start_time": "2024-07-21T23:05:22.729Z"
   },
   {
    "duration": 220,
    "start_time": "2024-07-21T23:06:22.960Z"
   },
   {
    "duration": 5,
    "start_time": "2024-07-21T23:06:25.192Z"
   },
   {
    "duration": 68,
    "start_time": "2024-07-21T23:06:28.207Z"
   },
   {
    "duration": 234,
    "start_time": "2024-07-21T23:06:42.153Z"
   },
   {
    "duration": 205,
    "start_time": "2024-07-21T23:06:51.809Z"
   },
   {
    "duration": 196,
    "start_time": "2024-07-21T23:07:22.043Z"
   },
   {
    "duration": 4,
    "start_time": "2024-07-21T23:07:29.114Z"
   },
   {
    "duration": 72,
    "start_time": "2024-07-21T23:07:31.079Z"
   },
   {
    "duration": 1023,
    "start_time": "2024-07-21T23:15:44.507Z"
   },
   {
    "duration": 152,
    "start_time": "2024-07-21T23:16:06.586Z"
   },
   {
    "duration": 6,
    "start_time": "2024-07-21T23:17:00.482Z"
   },
   {
    "duration": 7,
    "start_time": "2024-07-21T23:17:02.284Z"
   },
   {
    "duration": 22,
    "start_time": "2024-07-21T23:17:25.011Z"
   },
   {
    "duration": 19,
    "start_time": "2024-07-21T23:17:37.450Z"
   },
   {
    "duration": 8,
    "start_time": "2024-07-21T23:19:20.855Z"
   },
   {
    "duration": 9,
    "start_time": "2024-07-21T23:19:25.171Z"
   },
   {
    "duration": 10,
    "start_time": "2024-07-21T23:19:32.531Z"
   },
   {
    "duration": 295,
    "start_time": "2024-07-21T23:19:38.173Z"
   },
   {
    "duration": 18,
    "start_time": "2024-07-21T23:19:52.357Z"
   },
   {
    "duration": 275,
    "start_time": "2024-07-21T23:20:09.001Z"
   },
   {
    "duration": 18,
    "start_time": "2024-07-21T23:20:19.927Z"
   },
   {
    "duration": 497,
    "start_time": "2024-07-21T23:25:56.751Z"
   },
   {
    "duration": 494,
    "start_time": "2024-07-21T23:26:04.775Z"
   },
   {
    "duration": 133,
    "start_time": "2024-07-21T23:26:50.371Z"
   },
   {
    "duration": 159,
    "start_time": "2024-07-21T23:27:47.864Z"
   },
   {
    "duration": 141,
    "start_time": "2024-07-21T23:28:04.813Z"
   },
   {
    "duration": 133,
    "start_time": "2024-07-21T23:29:40.307Z"
   },
   {
    "duration": 134,
    "start_time": "2024-07-21T23:30:01.639Z"
   },
   {
    "duration": 119,
    "start_time": "2024-07-21T23:32:12.369Z"
   },
   {
    "duration": 125,
    "start_time": "2024-07-21T23:35:04.043Z"
   },
   {
    "duration": 6,
    "start_time": "2024-07-21T23:36:11.631Z"
   },
   {
    "duration": 141,
    "start_time": "2024-07-21T23:36:14.842Z"
   },
   {
    "duration": 172,
    "start_time": "2024-07-21T23:57:43.618Z"
   },
   {
    "duration": 237,
    "start_time": "2024-07-21T23:58:13.730Z"
   },
   {
    "duration": 7,
    "start_time": "2024-07-21T23:59:10.145Z"
   },
   {
    "duration": 18,
    "start_time": "2024-07-21T23:59:15.262Z"
   },
   {
    "duration": 29,
    "start_time": "2024-07-21T23:59:21.895Z"
   },
   {
    "duration": 26,
    "start_time": "2024-07-22T00:02:32.274Z"
   },
   {
    "duration": 32,
    "start_time": "2024-07-22T00:02:52.549Z"
   },
   {
    "duration": 151,
    "start_time": "2024-07-22T00:04:03.652Z"
   },
   {
    "duration": 29,
    "start_time": "2024-07-22T00:04:26.167Z"
   },
   {
    "duration": 43,
    "start_time": "2024-07-22T00:04:34.260Z"
   },
   {
    "duration": 3,
    "start_time": "2024-07-22T00:05:08.389Z"
   },
   {
    "duration": 21,
    "start_time": "2024-07-22T00:05:31.675Z"
   },
   {
    "duration": 13,
    "start_time": "2024-07-22T00:07:31.190Z"
   },
   {
    "duration": 24,
    "start_time": "2024-07-22T00:08:45.046Z"
   },
   {
    "duration": 39,
    "start_time": "2024-07-22T00:08:55.618Z"
   },
   {
    "duration": 6,
    "start_time": "2024-07-22T00:10:20.804Z"
   },
   {
    "duration": 43,
    "start_time": "2024-07-22T00:10:32.468Z"
   },
   {
    "duration": 696,
    "start_time": "2024-07-22T00:11:10.390Z"
   },
   {
    "duration": 1663,
    "start_time": "2024-07-22T00:11:11.089Z"
   },
   {
    "duration": 36,
    "start_time": "2024-07-22T00:11:12.760Z"
   },
   {
    "duration": 34,
    "start_time": "2024-07-22T00:11:12.801Z"
   },
   {
    "duration": 85,
    "start_time": "2024-07-22T00:11:12.838Z"
   },
   {
    "duration": 46,
    "start_time": "2024-07-22T00:11:12.928Z"
   },
   {
    "duration": 21,
    "start_time": "2024-07-22T00:11:12.980Z"
   },
   {
    "duration": 373,
    "start_time": "2024-07-22T00:11:13.004Z"
   },
   {
    "duration": 14,
    "start_time": "2024-07-22T00:11:13.381Z"
   },
   {
    "duration": 214,
    "start_time": "2024-07-22T00:11:13.401Z"
   },
   {
    "duration": 174,
    "start_time": "2024-07-22T00:11:13.618Z"
   },
   {
    "duration": 48,
    "start_time": "2024-07-22T00:11:13.796Z"
   },
   {
    "duration": 46,
    "start_time": "2024-07-22T00:11:13.848Z"
   },
   {
    "duration": 11,
    "start_time": "2024-07-22T00:11:13.899Z"
   },
   {
    "duration": 73,
    "start_time": "2024-07-22T00:11:13.914Z"
   },
   {
    "duration": 27,
    "start_time": "2024-07-22T00:11:13.990Z"
   },
   {
    "duration": 8,
    "start_time": "2024-07-22T00:11:14.020Z"
   },
   {
    "duration": 41,
    "start_time": "2024-07-22T00:11:14.031Z"
   },
   {
    "duration": 9,
    "start_time": "2024-07-22T00:11:14.074Z"
   },
   {
    "duration": 13,
    "start_time": "2024-07-22T00:11:14.086Z"
   },
   {
    "duration": 1524,
    "start_time": "2024-07-22T00:11:14.102Z"
   },
   {
    "duration": 1365,
    "start_time": "2024-07-22T00:11:15.629Z"
   },
   {
    "duration": 14,
    "start_time": "2024-07-22T00:11:16.997Z"
   },
   {
    "duration": 12,
    "start_time": "2024-07-22T00:11:17.014Z"
   },
   {
    "duration": 42,
    "start_time": "2024-07-22T00:11:17.029Z"
   },
   {
    "duration": 16,
    "start_time": "2024-07-22T00:11:17.074Z"
   },
   {
    "duration": 8,
    "start_time": "2024-07-22T00:11:17.093Z"
   },
   {
    "duration": 9,
    "start_time": "2024-07-22T00:11:17.110Z"
   },
   {
    "duration": 64,
    "start_time": "2024-07-22T00:11:17.123Z"
   },
   {
    "duration": 18,
    "start_time": "2024-07-22T00:11:17.190Z"
   },
   {
    "duration": 12,
    "start_time": "2024-07-22T00:11:17.211Z"
   },
   {
    "duration": 71,
    "start_time": "2024-07-22T00:11:17.226Z"
   },
   {
    "duration": 83,
    "start_time": "2024-07-22T00:11:17.303Z"
   },
   {
    "duration": 30,
    "start_time": "2024-07-22T00:11:17.391Z"
   },
   {
    "duration": 12,
    "start_time": "2024-07-22T00:11:17.426Z"
   },
   {
    "duration": 70,
    "start_time": "2024-07-22T00:11:17.441Z"
   },
   {
    "duration": 27,
    "start_time": "2024-07-22T00:11:17.514Z"
   },
   {
    "duration": 493,
    "start_time": "2024-07-22T00:11:17.544Z"
   },
   {
    "duration": 95,
    "start_time": "2024-07-22T00:11:18.043Z"
   },
   {
    "duration": 241,
    "start_time": "2024-07-22T00:11:18.144Z"
   },
   {
    "duration": 96,
    "start_time": "2024-07-22T00:11:18.391Z"
   },
   {
    "duration": 723,
    "start_time": "2024-07-22T00:11:18.490Z"
   },
   {
    "duration": 820,
    "start_time": "2024-07-22T00:11:19.219Z"
   },
   {
    "duration": 555,
    "start_time": "2024-07-22T00:11:20.043Z"
   },
   {
    "duration": 292,
    "start_time": "2024-07-22T00:11:20.601Z"
   },
   {
    "duration": 41,
    "start_time": "2024-07-22T00:11:20.897Z"
   },
   {
    "duration": 751,
    "start_time": "2024-07-22T00:11:20.956Z"
   },
   {
    "duration": 896,
    "start_time": "2024-07-22T00:11:21.710Z"
   },
   {
    "duration": 198,
    "start_time": "2024-07-22T00:11:22.609Z"
   },
   {
    "duration": 225,
    "start_time": "2024-07-22T00:11:22.811Z"
   },
   {
    "duration": 279,
    "start_time": "2024-07-22T00:11:23.039Z"
   },
   {
    "duration": 59,
    "start_time": "2024-07-22T00:11:23.322Z"
   },
   {
    "duration": 22,
    "start_time": "2024-07-22T00:11:23.384Z"
   },
   {
    "duration": 1246,
    "start_time": "2024-07-22T00:11:23.409Z"
   },
   {
    "duration": 27,
    "start_time": "2024-07-22T00:12:30.167Z"
   },
   {
    "duration": 26,
    "start_time": "2024-07-22T00:12:45.187Z"
   },
   {
    "duration": 32,
    "start_time": "2024-07-22T00:14:01.896Z"
   },
   {
    "duration": 26,
    "start_time": "2024-07-22T00:14:44.766Z"
   },
   {
    "duration": 7,
    "start_time": "2024-07-22T00:17:02.587Z"
   },
   {
    "duration": 6,
    "start_time": "2024-07-22T00:17:05.138Z"
   },
   {
    "duration": 24,
    "start_time": "2024-07-22T00:17:24.330Z"
   },
   {
    "duration": 7,
    "start_time": "2024-07-22T00:21:39.666Z"
   },
   {
    "duration": 6,
    "start_time": "2024-07-22T00:21:55.275Z"
   },
   {
    "duration": 1183,
    "start_time": "2024-07-22T00:21:59.261Z"
   },
   {
    "duration": 61,
    "start_time": "2024-07-22T00:23:58.130Z"
   },
   {
    "duration": 7,
    "start_time": "2024-07-22T00:24:11.355Z"
   },
   {
    "duration": 6,
    "start_time": "2024-07-22T00:24:36.962Z"
   },
   {
    "duration": 799,
    "start_time": "2024-07-22T00:24:50.540Z"
   },
   {
    "duration": 2236,
    "start_time": "2024-07-22T00:24:51.343Z"
   },
   {
    "duration": 39,
    "start_time": "2024-07-22T00:24:53.582Z"
   },
   {
    "duration": 56,
    "start_time": "2024-07-22T00:24:53.624Z"
   },
   {
    "duration": 84,
    "start_time": "2024-07-22T00:24:53.685Z"
   },
   {
    "duration": 23,
    "start_time": "2024-07-22T00:24:53.773Z"
   },
   {
    "duration": 23,
    "start_time": "2024-07-22T00:24:53.799Z"
   },
   {
    "duration": 482,
    "start_time": "2024-07-22T00:24:53.826Z"
   },
   {
    "duration": 19,
    "start_time": "2024-07-22T00:24:54.312Z"
   },
   {
    "duration": 269,
    "start_time": "2024-07-22T00:24:54.335Z"
   },
   {
    "duration": 220,
    "start_time": "2024-07-22T00:24:54.607Z"
   },
   {
    "duration": 84,
    "start_time": "2024-07-22T00:24:54.831Z"
   },
   {
    "duration": 35,
    "start_time": "2024-07-22T00:24:54.918Z"
   },
   {
    "duration": 8,
    "start_time": "2024-07-22T00:24:54.973Z"
   },
   {
    "duration": 52,
    "start_time": "2024-07-22T00:24:54.984Z"
   },
   {
    "duration": 60,
    "start_time": "2024-07-22T00:24:55.039Z"
   },
   {
    "duration": 8,
    "start_time": "2024-07-22T00:24:55.102Z"
   },
   {
    "duration": 8,
    "start_time": "2024-07-22T00:24:55.113Z"
   },
   {
    "duration": 9,
    "start_time": "2024-07-22T00:24:55.124Z"
   },
   {
    "duration": 7,
    "start_time": "2024-07-22T00:24:55.170Z"
   },
   {
    "duration": 1704,
    "start_time": "2024-07-22T00:24:55.180Z"
   },
   {
    "duration": 1520,
    "start_time": "2024-07-22T00:24:56.888Z"
   },
   {
    "duration": 20,
    "start_time": "2024-07-22T00:24:58.411Z"
   },
   {
    "duration": 13,
    "start_time": "2024-07-22T00:24:58.434Z"
   },
   {
    "duration": 13,
    "start_time": "2024-07-22T00:24:58.471Z"
   },
   {
    "duration": 21,
    "start_time": "2024-07-22T00:24:58.489Z"
   },
   {
    "duration": 11,
    "start_time": "2024-07-22T00:24:58.514Z"
   },
   {
    "duration": 41,
    "start_time": "2024-07-22T00:24:58.529Z"
   },
   {
    "duration": 26,
    "start_time": "2024-07-22T00:24:58.574Z"
   },
   {
    "duration": 23,
    "start_time": "2024-07-22T00:24:58.603Z"
   },
   {
    "duration": 45,
    "start_time": "2024-07-22T00:24:58.629Z"
   },
   {
    "duration": 42,
    "start_time": "2024-07-22T00:24:58.678Z"
   },
   {
    "duration": 90,
    "start_time": "2024-07-22T00:24:58.723Z"
   },
   {
    "duration": 29,
    "start_time": "2024-07-22T00:24:58.816Z"
   },
   {
    "duration": 28,
    "start_time": "2024-07-22T00:24:58.849Z"
   },
   {
    "duration": 41,
    "start_time": "2024-07-22T00:24:58.881Z"
   },
   {
    "duration": 54,
    "start_time": "2024-07-22T00:24:58.926Z"
   },
   {
    "duration": 552,
    "start_time": "2024-07-22T00:24:58.983Z"
   },
   {
    "duration": 100,
    "start_time": "2024-07-22T00:24:59.538Z"
   },
   {
    "duration": 288,
    "start_time": "2024-07-22T00:24:59.642Z"
   },
   {
    "duration": 119,
    "start_time": "2024-07-22T00:24:59.941Z"
   },
   {
    "duration": 832,
    "start_time": "2024-07-22T00:25:00.064Z"
   },
   {
    "duration": 1164,
    "start_time": "2024-07-22T00:25:00.900Z"
   },
   {
    "duration": 626,
    "start_time": "2024-07-22T00:25:02.069Z"
   },
   {
    "duration": 352,
    "start_time": "2024-07-22T00:25:02.699Z"
   },
   {
    "duration": 50,
    "start_time": "2024-07-22T00:25:03.054Z"
   },
   {
    "duration": 885,
    "start_time": "2024-07-22T00:25:03.108Z"
   },
   {
    "duration": 871,
    "start_time": "2024-07-22T00:25:03.999Z"
   },
   {
    "duration": 224,
    "start_time": "2024-07-22T00:25:04.874Z"
   },
   {
    "duration": 267,
    "start_time": "2024-07-22T00:25:05.102Z"
   },
   {
    "duration": 317,
    "start_time": "2024-07-22T00:25:05.373Z"
   },
   {
    "duration": 53,
    "start_time": "2024-07-22T00:25:05.693Z"
   },
   {
    "duration": 21,
    "start_time": "2024-07-22T00:25:05.768Z"
   },
   {
    "duration": 27,
    "start_time": "2024-07-22T00:25:05.792Z"
   },
   {
    "duration": 5,
    "start_time": "2024-07-22T00:25:05.823Z"
   },
   {
    "duration": 9,
    "start_time": "2024-07-22T00:25:21.064Z"
   },
   {
    "duration": 1659,
    "start_time": "2024-07-22T00:25:48.028Z"
   },
   {
    "duration": 1753,
    "start_time": "2024-07-22T00:25:54.486Z"
   },
   {
    "duration": 2043,
    "start_time": "2024-07-22T00:26:20.497Z"
   },
   {
    "duration": 971,
    "start_time": "2024-07-22T00:27:13.399Z"
   },
   {
    "duration": 10,
    "start_time": "2024-07-22T00:27:25.487Z"
   },
   {
    "duration": 8,
    "start_time": "2024-07-22T00:27:29.632Z"
   },
   {
    "duration": 871,
    "start_time": "2024-07-22T00:30:15.320Z"
   },
   {
    "duration": 2265,
    "start_time": "2024-07-22T00:30:16.197Z"
   },
   {
    "duration": 42,
    "start_time": "2024-07-22T00:30:18.465Z"
   },
   {
    "duration": 32,
    "start_time": "2024-07-22T00:30:18.516Z"
   },
   {
    "duration": 65,
    "start_time": "2024-07-22T00:30:18.568Z"
   },
   {
    "duration": 50,
    "start_time": "2024-07-22T00:30:18.636Z"
   },
   {
    "duration": 26,
    "start_time": "2024-07-22T00:30:18.693Z"
   },
   {
    "duration": 473,
    "start_time": "2024-07-22T00:30:18.722Z"
   },
   {
    "duration": 18,
    "start_time": "2024-07-22T00:30:19.200Z"
   },
   {
    "duration": 258,
    "start_time": "2024-07-22T00:30:19.225Z"
   },
   {
    "duration": 239,
    "start_time": "2024-07-22T00:30:19.487Z"
   },
   {
    "duration": 86,
    "start_time": "2024-07-22T00:30:19.730Z"
   },
   {
    "duration": 33,
    "start_time": "2024-07-22T00:30:19.819Z"
   },
   {
    "duration": 11,
    "start_time": "2024-07-22T00:30:19.869Z"
   },
   {
    "duration": 56,
    "start_time": "2024-07-22T00:30:19.884Z"
   },
   {
    "duration": 48,
    "start_time": "2024-07-22T00:30:19.944Z"
   },
   {
    "duration": 8,
    "start_time": "2024-07-22T00:30:19.996Z"
   },
   {
    "duration": 7,
    "start_time": "2024-07-22T00:30:20.007Z"
   },
   {
    "duration": 8,
    "start_time": "2024-07-22T00:30:20.018Z"
   },
   {
    "duration": 7,
    "start_time": "2024-07-22T00:30:20.069Z"
   },
   {
    "duration": 1658,
    "start_time": "2024-07-22T00:30:20.080Z"
   },
   {
    "duration": 1442,
    "start_time": "2024-07-22T00:30:21.741Z"
   },
   {
    "duration": 20,
    "start_time": "2024-07-22T00:30:23.187Z"
   },
   {
    "duration": 11,
    "start_time": "2024-07-22T00:30:23.210Z"
   },
   {
    "duration": 11,
    "start_time": "2024-07-22T00:30:23.225Z"
   },
   {
    "duration": 18,
    "start_time": "2024-07-22T00:30:23.269Z"
   },
   {
    "duration": 9,
    "start_time": "2024-07-22T00:30:23.291Z"
   },
   {
    "duration": 12,
    "start_time": "2024-07-22T00:30:23.310Z"
   },
   {
    "duration": 58,
    "start_time": "2024-07-22T00:30:23.325Z"
   },
   {
    "duration": 25,
    "start_time": "2024-07-22T00:30:23.387Z"
   },
   {
    "duration": 14,
    "start_time": "2024-07-22T00:30:23.415Z"
   },
   {
    "duration": 82,
    "start_time": "2024-07-22T00:30:23.432Z"
   },
   {
    "duration": 82,
    "start_time": "2024-07-22T00:30:23.520Z"
   },
   {
    "duration": 30,
    "start_time": "2024-07-22T00:30:23.607Z"
   },
   {
    "duration": 28,
    "start_time": "2024-07-22T00:30:23.644Z"
   },
   {
    "duration": 42,
    "start_time": "2024-07-22T00:30:23.676Z"
   },
   {
    "duration": 55,
    "start_time": "2024-07-22T00:30:23.722Z"
   },
   {
    "duration": 522,
    "start_time": "2024-07-22T00:30:23.781Z"
   },
   {
    "duration": 108,
    "start_time": "2024-07-22T00:30:24.307Z"
   },
   {
    "duration": 284,
    "start_time": "2024-07-22T00:30:24.419Z"
   },
   {
    "duration": 115,
    "start_time": "2024-07-22T00:30:24.706Z"
   },
   {
    "duration": 767,
    "start_time": "2024-07-22T00:30:24.825Z"
   },
   {
    "duration": 950,
    "start_time": "2024-07-22T00:30:25.595Z"
   },
   {
    "duration": 666,
    "start_time": "2024-07-22T00:30:26.549Z"
   },
   {
    "duration": 335,
    "start_time": "2024-07-22T00:30:27.220Z"
   },
   {
    "duration": 43,
    "start_time": "2024-07-22T00:30:27.561Z"
   },
   {
    "duration": 867,
    "start_time": "2024-07-22T00:30:27.607Z"
   },
   {
    "duration": 1037,
    "start_time": "2024-07-22T00:30:28.484Z"
   },
   {
    "duration": 209,
    "start_time": "2024-07-22T00:30:29.530Z"
   },
   {
    "duration": 280,
    "start_time": "2024-07-22T00:30:29.742Z"
   },
   {
    "duration": 315,
    "start_time": "2024-07-22T00:30:30.029Z"
   },
   {
    "duration": 59,
    "start_time": "2024-07-22T00:30:30.348Z"
   },
   {
    "duration": 20,
    "start_time": "2024-07-22T00:30:30.411Z"
   },
   {
    "duration": 58,
    "start_time": "2024-07-22T00:30:30.435Z"
   },
   {
    "duration": 4316,
    "start_time": "2024-07-22T01:22:10.098Z"
   },
   {
    "duration": 1709,
    "start_time": "2024-07-22T01:22:14.418Z"
   },
   {
    "duration": 39,
    "start_time": "2024-07-22T01:22:16.131Z"
   },
   {
    "duration": 36,
    "start_time": "2024-07-22T01:22:16.174Z"
   },
   {
    "duration": 90,
    "start_time": "2024-07-22T01:22:16.216Z"
   },
   {
    "duration": 21,
    "start_time": "2024-07-22T01:22:16.310Z"
   },
   {
    "duration": 55,
    "start_time": "2024-07-22T01:22:16.334Z"
   },
   {
    "duration": 384,
    "start_time": "2024-07-22T01:22:16.392Z"
   },
   {
    "duration": 17,
    "start_time": "2024-07-22T01:22:16.780Z"
   },
   {
    "duration": 207,
    "start_time": "2024-07-22T01:22:16.801Z"
   },
   {
    "duration": 171,
    "start_time": "2024-07-22T01:22:17.010Z"
   },
   {
    "duration": 45,
    "start_time": "2024-07-22T01:22:17.185Z"
   },
   {
    "duration": 49,
    "start_time": "2024-07-22T01:22:17.233Z"
   },
   {
    "duration": 13,
    "start_time": "2024-07-22T01:22:17.290Z"
   },
   {
    "duration": 69,
    "start_time": "2024-07-22T01:22:17.305Z"
   },
   {
    "duration": 28,
    "start_time": "2024-07-22T01:22:17.378Z"
   },
   {
    "duration": 10,
    "start_time": "2024-07-22T01:22:17.409Z"
   },
   {
    "duration": 7,
    "start_time": "2024-07-22T01:22:17.423Z"
   },
   {
    "duration": 8,
    "start_time": "2024-07-22T01:22:17.469Z"
   },
   {
    "duration": 6,
    "start_time": "2024-07-22T01:22:17.481Z"
   },
   {
    "duration": 1407,
    "start_time": "2024-07-22T01:22:17.490Z"
   },
   {
    "duration": 1222,
    "start_time": "2024-07-22T01:22:18.901Z"
   },
   {
    "duration": 12,
    "start_time": "2024-07-22T01:22:20.126Z"
   },
   {
    "duration": 27,
    "start_time": "2024-07-22T01:22:20.142Z"
   },
   {
    "duration": 10,
    "start_time": "2024-07-22T01:22:20.171Z"
   },
   {
    "duration": 14,
    "start_time": "2024-07-22T01:22:20.185Z"
   },
   {
    "duration": 9,
    "start_time": "2024-07-22T01:22:20.201Z"
   },
   {
    "duration": 57,
    "start_time": "2024-07-22T01:22:20.213Z"
   },
   {
    "duration": 21,
    "start_time": "2024-07-22T01:22:20.273Z"
   },
   {
    "duration": 18,
    "start_time": "2024-07-22T01:22:20.296Z"
   },
   {
    "duration": 12,
    "start_time": "2024-07-22T01:22:20.316Z"
   },
   {
    "duration": 32,
    "start_time": "2024-07-22T01:22:20.368Z"
   },
   {
    "duration": 81,
    "start_time": "2024-07-22T01:22:20.403Z"
   },
   {
    "duration": 25,
    "start_time": "2024-07-22T01:22:20.487Z"
   },
   {
    "duration": 9,
    "start_time": "2024-07-22T01:22:20.515Z"
   },
   {
    "duration": 71,
    "start_time": "2024-07-22T01:22:20.527Z"
   },
   {
    "duration": 23,
    "start_time": "2024-07-22T01:22:20.601Z"
   },
   {
    "duration": 463,
    "start_time": "2024-07-22T01:22:20.627Z"
   },
   {
    "duration": 80,
    "start_time": "2024-07-22T01:22:21.093Z"
   },
   {
    "duration": 276,
    "start_time": "2024-07-22T01:22:21.175Z"
   },
   {
    "duration": 86,
    "start_time": "2024-07-22T01:22:21.467Z"
   },
   {
    "duration": 664,
    "start_time": "2024-07-22T01:22:21.556Z"
   },
   {
    "duration": 790,
    "start_time": "2024-07-22T01:22:22.224Z"
   },
   {
    "duration": 512,
    "start_time": "2024-07-22T01:22:23.017Z"
   },
   {
    "duration": 271,
    "start_time": "2024-07-22T01:22:23.533Z"
   },
   {
    "duration": 34,
    "start_time": "2024-07-22T01:22:23.807Z"
   },
   {
    "duration": 750,
    "start_time": "2024-07-22T01:22:23.845Z"
   },
   {
    "duration": 802,
    "start_time": "2024-07-22T01:22:24.598Z"
   },
   {
    "duration": 182,
    "start_time": "2024-07-22T01:22:25.403Z"
   },
   {
    "duration": 210,
    "start_time": "2024-07-22T01:22:25.588Z"
   },
   {
    "duration": 261,
    "start_time": "2024-07-22T01:22:25.801Z"
   },
   {
    "duration": 44,
    "start_time": "2024-07-22T01:22:26.070Z"
   },
   {
    "duration": 20,
    "start_time": "2024-07-22T01:22:26.117Z"
   },
   {
    "duration": 30,
    "start_time": "2024-07-22T01:22:26.169Z"
   },
   {
    "duration": 5,
    "start_time": "2024-07-22T01:23:11.580Z"
   },
   {
    "duration": 14,
    "start_time": "2024-07-22T01:23:18.313Z"
   },
   {
    "duration": 13,
    "start_time": "2024-07-22T01:23:42.810Z"
   },
   {
    "duration": 14,
    "start_time": "2024-07-22T01:23:54.549Z"
   },
   {
    "duration": 13,
    "start_time": "2024-07-22T01:24:01.864Z"
   },
   {
    "duration": 14,
    "start_time": "2024-07-22T01:24:07.499Z"
   },
   {
    "duration": 14,
    "start_time": "2024-07-22T01:24:19.653Z"
   },
   {
    "duration": 23,
    "start_time": "2024-07-22T01:25:26.888Z"
   },
   {
    "duration": 16,
    "start_time": "2024-07-22T01:25:38.346Z"
   },
   {
    "duration": 17,
    "start_time": "2024-07-22T01:25:48.379Z"
   },
   {
    "duration": 8,
    "start_time": "2024-07-22T01:30:09.394Z"
   },
   {
    "duration": 651,
    "start_time": "2024-07-22T01:39:36.278Z"
   },
   {
    "duration": 6,
    "start_time": "2024-07-22T01:40:00.344Z"
   },
   {
    "duration": 14,
    "start_time": "2024-07-22T01:40:04.381Z"
   },
   {
    "duration": 36,
    "start_time": "2024-07-22T01:41:47.275Z"
   },
   {
    "duration": 42,
    "start_time": "2024-07-22T01:41:51.318Z"
   },
   {
    "duration": 18,
    "start_time": "2024-07-22T01:42:58.886Z"
   },
   {
    "duration": 44,
    "start_time": "2024-07-22T01:43:57.855Z"
   },
   {
    "duration": 494,
    "start_time": "2024-07-22T01:45:26.414Z"
   },
   {
    "duration": 13,
    "start_time": "2024-07-22T01:45:50.713Z"
   },
   {
    "duration": 20,
    "start_time": "2024-07-22T01:48:40.057Z"
   },
   {
    "duration": 210,
    "start_time": "2024-07-22T01:52:34.378Z"
   },
   {
    "duration": 23,
    "start_time": "2024-07-22T01:54:01.775Z"
   },
   {
    "duration": 599,
    "start_time": "2024-07-22T01:56:23.899Z"
   },
   {
    "duration": 847,
    "start_time": "2024-07-22T02:01:43.734Z"
   },
   {
    "duration": 776,
    "start_time": "2024-07-22T02:01:58.767Z"
   },
   {
    "duration": 817,
    "start_time": "2024-07-22T02:02:01.366Z"
   },
   {
    "duration": 19,
    "start_time": "2024-07-22T02:04:38.776Z"
   },
   {
    "duration": 35,
    "start_time": "2024-07-22T02:05:03.170Z"
   },
   {
    "duration": 31,
    "start_time": "2024-07-22T02:05:08.819Z"
   },
   {
    "duration": 21,
    "start_time": "2024-07-22T02:05:28.473Z"
   },
   {
    "duration": 7,
    "start_time": "2024-07-22T02:06:22.755Z"
   },
   {
    "duration": 252,
    "start_time": "2024-07-22T02:06:28.992Z"
   },
   {
    "duration": 184,
    "start_time": "2024-07-22T02:06:34.594Z"
   },
   {
    "duration": 3,
    "start_time": "2024-07-22T02:07:34.305Z"
   },
   {
    "duration": 306,
    "start_time": "2024-07-22T02:09:07.133Z"
   },
   {
    "duration": 273,
    "start_time": "2024-07-22T02:09:10.996Z"
   },
   {
    "duration": 408,
    "start_time": "2024-07-22T02:09:32.016Z"
   },
   {
    "duration": 307,
    "start_time": "2024-07-22T02:09:46.540Z"
   },
   {
    "duration": 285,
    "start_time": "2024-07-22T02:10:01.319Z"
   },
   {
    "duration": 215,
    "start_time": "2024-07-22T02:10:08.912Z"
   },
   {
    "duration": 251,
    "start_time": "2024-07-22T02:10:26.869Z"
   },
   {
    "duration": 266,
    "start_time": "2024-07-22T02:12:38.526Z"
   },
   {
    "duration": 250,
    "start_time": "2024-07-22T02:13:02.039Z"
   },
   {
    "duration": 285,
    "start_time": "2024-07-22T02:13:24.850Z"
   },
   {
    "duration": 271,
    "start_time": "2024-07-22T02:13:41.525Z"
   },
   {
    "duration": 267,
    "start_time": "2024-07-22T02:13:51.456Z"
   },
   {
    "duration": 252,
    "start_time": "2024-07-22T02:14:16.205Z"
   },
   {
    "duration": 528,
    "start_time": "2024-07-22T02:17:31.797Z"
   },
   {
    "duration": 839,
    "start_time": "2024-07-22T02:19:05.965Z"
   },
   {
    "duration": 86,
    "start_time": "2024-07-22T02:19:12.548Z"
   },
   {
    "duration": 498,
    "start_time": "2024-07-22T02:19:38.325Z"
   },
   {
    "duration": 5,
    "start_time": "2024-07-22T02:21:09.557Z"
   },
   {
    "duration": 6,
    "start_time": "2024-07-22T02:21:31.135Z"
   },
   {
    "duration": 335,
    "start_time": "2024-07-22T02:21:42.333Z"
   },
   {
    "duration": 44,
    "start_time": "2024-07-22T02:23:40.856Z"
   },
   {
    "duration": 7,
    "start_time": "2024-07-22T02:25:32.521Z"
   },
   {
    "duration": 471,
    "start_time": "2024-07-22T02:25:40.636Z"
   },
   {
    "duration": 78,
    "start_time": "2024-07-22T02:25:59.084Z"
   },
   {
    "duration": 78,
    "start_time": "2024-07-22T02:26:19.735Z"
   },
   {
    "duration": 73,
    "start_time": "2024-07-22T02:26:21.344Z"
   },
   {
    "duration": 6,
    "start_time": "2024-07-22T02:26:51.105Z"
   },
   {
    "duration": 463,
    "start_time": "2024-07-22T02:26:57.840Z"
   },
   {
    "duration": 431,
    "start_time": "2024-07-22T02:29:53.965Z"
   },
   {
    "duration": 633,
    "start_time": "2024-07-22T02:32:02.301Z"
   },
   {
    "duration": 24,
    "start_time": "2024-07-22T02:34:06.158Z"
   },
   {
    "duration": 533,
    "start_time": "2024-07-22T02:34:11.798Z"
   },
   {
    "duration": 202,
    "start_time": "2024-07-22T02:35:39.076Z"
   },
   {
    "duration": 195,
    "start_time": "2024-07-22T02:36:03.593Z"
   },
   {
    "duration": 248,
    "start_time": "2024-07-22T02:37:00.240Z"
   },
   {
    "duration": 202,
    "start_time": "2024-07-22T02:37:03.921Z"
   },
   {
    "duration": 209,
    "start_time": "2024-07-22T02:38:03.843Z"
   },
   {
    "duration": 173,
    "start_time": "2024-07-22T02:38:11.299Z"
   },
   {
    "duration": 199,
    "start_time": "2024-07-22T02:38:31.626Z"
   },
   {
    "duration": 243,
    "start_time": "2024-07-22T02:40:53.402Z"
   },
   {
    "duration": 277,
    "start_time": "2024-07-22T02:41:11.112Z"
   },
   {
    "duration": 792,
    "start_time": "2024-07-22T02:41:24.292Z"
   },
   {
    "duration": 1668,
    "start_time": "2024-07-22T02:41:25.092Z"
   },
   {
    "duration": 36,
    "start_time": "2024-07-22T02:41:26.767Z"
   },
   {
    "duration": 59,
    "start_time": "2024-07-22T02:41:26.809Z"
   },
   {
    "duration": 96,
    "start_time": "2024-07-22T02:41:26.872Z"
   },
   {
    "duration": 28,
    "start_time": "2024-07-22T02:41:26.972Z"
   },
   {
    "duration": 24,
    "start_time": "2024-07-22T02:41:27.004Z"
   },
   {
    "duration": 426,
    "start_time": "2024-07-22T02:41:27.032Z"
   },
   {
    "duration": 16,
    "start_time": "2024-07-22T02:41:27.464Z"
   },
   {
    "duration": 214,
    "start_time": "2024-07-22T02:41:27.488Z"
   },
   {
    "duration": 227,
    "start_time": "2024-07-22T02:41:27.708Z"
   },
   {
    "duration": 77,
    "start_time": "2024-07-22T02:41:27.940Z"
   },
   {
    "duration": 25,
    "start_time": "2024-07-22T02:41:28.020Z"
   },
   {
    "duration": 30,
    "start_time": "2024-07-22T02:41:28.047Z"
   },
   {
    "duration": 52,
    "start_time": "2024-07-22T02:41:28.080Z"
   },
   {
    "duration": 46,
    "start_time": "2024-07-22T02:41:28.135Z"
   },
   {
    "duration": 9,
    "start_time": "2024-07-22T02:41:28.185Z"
   },
   {
    "duration": 8,
    "start_time": "2024-07-22T02:41:28.197Z"
   },
   {
    "duration": 9,
    "start_time": "2024-07-22T02:41:28.209Z"
   },
   {
    "duration": 56,
    "start_time": "2024-07-22T02:41:28.221Z"
   },
   {
    "duration": 1441,
    "start_time": "2024-07-22T02:41:28.280Z"
   },
   {
    "duration": 1286,
    "start_time": "2024-07-22T02:41:29.723Z"
   },
   {
    "duration": 11,
    "start_time": "2024-07-22T02:41:31.013Z"
   },
   {
    "duration": 13,
    "start_time": "2024-07-22T02:41:31.027Z"
   },
   {
    "duration": 34,
    "start_time": "2024-07-22T02:41:31.043Z"
   },
   {
    "duration": 18,
    "start_time": "2024-07-22T02:41:31.081Z"
   },
   {
    "duration": 12,
    "start_time": "2024-07-22T02:41:31.102Z"
   },
   {
    "duration": 45,
    "start_time": "2024-07-22T02:41:31.124Z"
   },
   {
    "duration": 23,
    "start_time": "2024-07-22T02:41:31.173Z"
   },
   {
    "duration": 19,
    "start_time": "2024-07-22T02:41:31.199Z"
   },
   {
    "duration": 56,
    "start_time": "2024-07-22T02:41:31.221Z"
   },
   {
    "duration": 52,
    "start_time": "2024-07-22T02:41:31.284Z"
   },
   {
    "duration": 68,
    "start_time": "2024-07-22T02:41:31.341Z"
   },
   {
    "duration": 26,
    "start_time": "2024-07-22T02:41:31.413Z"
   },
   {
    "duration": 36,
    "start_time": "2024-07-22T02:41:31.442Z"
   },
   {
    "duration": 36,
    "start_time": "2024-07-22T02:41:31.481Z"
   },
   {
    "duration": 52,
    "start_time": "2024-07-22T02:41:31.520Z"
   },
   {
    "duration": 447,
    "start_time": "2024-07-22T02:41:31.575Z"
   },
   {
    "duration": 88,
    "start_time": "2024-07-22T02:41:32.025Z"
   },
   {
    "duration": 239,
    "start_time": "2024-07-22T02:41:32.116Z"
   },
   {
    "duration": 111,
    "start_time": "2024-07-22T02:41:32.368Z"
   },
   {
    "duration": 840,
    "start_time": "2024-07-22T02:41:32.483Z"
   },
   {
    "duration": 808,
    "start_time": "2024-07-22T02:41:33.325Z"
   },
   {
    "duration": 547,
    "start_time": "2024-07-22T02:41:34.135Z"
   },
   {
    "duration": 284,
    "start_time": "2024-07-22T02:41:34.686Z"
   },
   {
    "duration": 36,
    "start_time": "2024-07-22T02:41:34.973Z"
   },
   {
    "duration": 740,
    "start_time": "2024-07-22T02:41:35.012Z"
   },
   {
    "duration": 826,
    "start_time": "2024-07-22T02:41:35.755Z"
   },
   {
    "duration": 192,
    "start_time": "2024-07-22T02:41:36.584Z"
   },
   {
    "duration": 221,
    "start_time": "2024-07-22T02:41:36.779Z"
   },
   {
    "duration": 273,
    "start_time": "2024-07-22T02:41:37.004Z"
   },
   {
    "duration": 42,
    "start_time": "2024-07-22T02:41:37.280Z"
   },
   {
    "duration": 43,
    "start_time": "2024-07-22T02:41:37.325Z"
   },
   {
    "duration": 31,
    "start_time": "2024-07-22T02:41:37.371Z"
   },
   {
    "duration": 563,
    "start_time": "2024-07-22T02:41:37.406Z"
   },
   {
    "duration": 166,
    "start_time": "2024-07-22T02:41:37.973Z"
   },
   {
    "duration": 738,
    "start_time": "2024-07-22T02:41:38.143Z"
   },
   {
    "duration": 285,
    "start_time": "2024-07-22T02:41:38.885Z"
   },
   {
    "duration": 3,
    "start_time": "2024-07-22T02:41:39.175Z"
   },
   {
    "duration": 283,
    "start_time": "2024-07-22T02:41:58.950Z"
   },
   {
    "duration": 635,
    "start_time": "2024-07-22T02:42:21.787Z"
   },
   {
    "duration": 269,
    "start_time": "2024-07-22T02:47:24.577Z"
   },
   {
    "duration": 284,
    "start_time": "2024-07-22T02:47:31.043Z"
   },
   {
    "duration": 173,
    "start_time": "2024-07-22T02:49:41.258Z"
   },
   {
    "duration": 235,
    "start_time": "2024-07-22T02:50:33.749Z"
   },
   {
    "duration": 223,
    "start_time": "2024-07-22T02:52:01.631Z"
   },
   {
    "duration": 22,
    "start_time": "2024-07-22T02:52:08.996Z"
   },
   {
    "duration": 98,
    "start_time": "2024-07-22T02:53:09.227Z"
   },
   {
    "duration": 100,
    "start_time": "2024-07-22T02:53:35.420Z"
   },
   {
    "duration": 101,
    "start_time": "2024-07-22T02:53:40.216Z"
   },
   {
    "duration": 246,
    "start_time": "2024-07-22T02:56:55.778Z"
   },
   {
    "duration": 718,
    "start_time": "2024-07-22T03:00:07.094Z"
   },
   {
    "duration": 1606,
    "start_time": "2024-07-22T03:00:07.816Z"
   },
   {
    "duration": 30,
    "start_time": "2024-07-22T03:00:09.428Z"
   },
   {
    "duration": 28,
    "start_time": "2024-07-22T03:00:09.471Z"
   },
   {
    "duration": 78,
    "start_time": "2024-07-22T03:00:09.502Z"
   },
   {
    "duration": 20,
    "start_time": "2024-07-22T03:00:09.584Z"
   },
   {
    "duration": 19,
    "start_time": "2024-07-22T03:00:09.608Z"
   },
   {
    "duration": 355,
    "start_time": "2024-07-22T03:00:09.669Z"
   },
   {
    "duration": 13,
    "start_time": "2024-07-22T03:00:10.028Z"
   },
   {
    "duration": 197,
    "start_time": "2024-07-22T03:00:10.047Z"
   },
   {
    "duration": 169,
    "start_time": "2024-07-22T03:00:10.247Z"
   },
   {
    "duration": 61,
    "start_time": "2024-07-22T03:00:10.419Z"
   },
   {
    "duration": 24,
    "start_time": "2024-07-22T03:00:10.483Z"
   },
   {
    "duration": 6,
    "start_time": "2024-07-22T03:00:10.510Z"
   },
   {
    "duration": 66,
    "start_time": "2024-07-22T03:00:10.519Z"
   },
   {
    "duration": 24,
    "start_time": "2024-07-22T03:00:10.588Z"
   },
   {
    "duration": 8,
    "start_time": "2024-07-22T03:00:10.614Z"
   },
   {
    "duration": 43,
    "start_time": "2024-07-22T03:00:10.625Z"
   },
   {
    "duration": 8,
    "start_time": "2024-07-22T03:00:10.671Z"
   },
   {
    "duration": 7,
    "start_time": "2024-07-22T03:00:10.682Z"
   },
   {
    "duration": 1394,
    "start_time": "2024-07-22T03:00:10.692Z"
   },
   {
    "duration": 1209,
    "start_time": "2024-07-22T03:00:12.088Z"
   },
   {
    "duration": 13,
    "start_time": "2024-07-22T03:00:13.300Z"
   },
   {
    "duration": 9,
    "start_time": "2024-07-22T03:00:13.316Z"
   },
   {
    "duration": 40,
    "start_time": "2024-07-22T03:00:13.328Z"
   },
   {
    "duration": 13,
    "start_time": "2024-07-22T03:00:13.371Z"
   },
   {
    "duration": 7,
    "start_time": "2024-07-22T03:00:13.387Z"
   },
   {
    "duration": 9,
    "start_time": "2024-07-22T03:00:13.405Z"
   },
   {
    "duration": 63,
    "start_time": "2024-07-22T03:00:13.417Z"
   },
   {
    "duration": 19,
    "start_time": "2024-07-22T03:00:13.483Z"
   },
   {
    "duration": 11,
    "start_time": "2024-07-22T03:00:13.505Z"
   },
   {
    "duration": 72,
    "start_time": "2024-07-22T03:00:13.519Z"
   },
   {
    "duration": 51,
    "start_time": "2024-07-22T03:00:13.594Z"
   },
   {
    "duration": 40,
    "start_time": "2024-07-22T03:00:13.648Z"
   },
   {
    "duration": 9,
    "start_time": "2024-07-22T03:00:13.691Z"
   },
   {
    "duration": 68,
    "start_time": "2024-07-22T03:00:13.703Z"
   },
   {
    "duration": 23,
    "start_time": "2024-07-22T03:00:13.774Z"
   },
   {
    "duration": 445,
    "start_time": "2024-07-22T03:00:13.802Z"
   },
   {
    "duration": 84,
    "start_time": "2024-07-22T03:00:14.250Z"
   },
   {
    "duration": 219,
    "start_time": "2024-07-22T03:00:14.337Z"
   },
   {
    "duration": 86,
    "start_time": "2024-07-22T03:00:14.559Z"
   },
   {
    "duration": 709,
    "start_time": "2024-07-22T03:00:14.648Z"
   },
   {
    "duration": 832,
    "start_time": "2024-07-22T03:00:15.361Z"
   },
   {
    "duration": 597,
    "start_time": "2024-07-22T03:00:16.197Z"
   },
   {
    "duration": 275,
    "start_time": "2024-07-22T03:00:16.797Z"
   },
   {
    "duration": 35,
    "start_time": "2024-07-22T03:00:17.075Z"
   },
   {
    "duration": 792,
    "start_time": "2024-07-22T03:00:17.113Z"
   },
   {
    "duration": 852,
    "start_time": "2024-07-22T03:00:17.908Z"
   },
   {
    "duration": 207,
    "start_time": "2024-07-22T03:00:18.769Z"
   },
   {
    "duration": 225,
    "start_time": "2024-07-22T03:00:18.979Z"
   },
   {
    "duration": 269,
    "start_time": "2024-07-22T03:00:19.207Z"
   },
   {
    "duration": 43,
    "start_time": "2024-07-22T03:00:19.480Z"
   },
   {
    "duration": 41,
    "start_time": "2024-07-22T03:00:19.526Z"
   },
   {
    "duration": 26,
    "start_time": "2024-07-22T03:00:19.571Z"
   },
   {
    "duration": 554,
    "start_time": "2024-07-22T03:00:19.600Z"
   },
   {
    "duration": 141,
    "start_time": "2024-07-22T03:00:20.157Z"
   },
   {
    "duration": 722,
    "start_time": "2024-07-22T03:00:20.301Z"
   },
   {
    "duration": 235,
    "start_time": "2024-07-22T03:00:21.025Z"
   },
   {
    "duration": 78,
    "start_time": "2024-07-22T03:00:21.262Z"
   },
   {
    "duration": 228,
    "start_time": "2024-07-22T03:00:21.342Z"
   },
   {
    "duration": 245,
    "start_time": "2024-07-22T03:00:21.573Z"
   },
   {
    "duration": 1255,
    "start_time": "2024-07-22T03:12:10.594Z"
   },
   {
    "duration": 396,
    "start_time": "2024-07-22T03:12:20.159Z"
   },
   {
    "duration": 411,
    "start_time": "2024-07-22T03:12:28.963Z"
   },
   {
    "duration": 219,
    "start_time": "2024-07-22T03:12:58.551Z"
   },
   {
    "duration": 463,
    "start_time": "2024-07-22T03:15:51.312Z"
   },
   {
    "duration": 64,
    "start_time": "2024-07-22T03:16:01.238Z"
   },
   {
    "duration": 56,
    "start_time": "2024-07-22T03:16:04.115Z"
   },
   {
    "duration": 59,
    "start_time": "2024-07-22T03:16:10.324Z"
   },
   {
    "duration": 19,
    "start_time": "2024-07-22T03:16:35.874Z"
   },
   {
    "duration": 692,
    "start_time": "2024-07-22T03:19:41.530Z"
   },
   {
    "duration": 1561,
    "start_time": "2024-07-22T03:19:42.227Z"
   },
   {
    "duration": 32,
    "start_time": "2024-07-22T03:19:43.791Z"
   },
   {
    "duration": 46,
    "start_time": "2024-07-22T03:19:43.827Z"
   },
   {
    "duration": 58,
    "start_time": "2024-07-22T03:19:43.876Z"
   },
   {
    "duration": 44,
    "start_time": "2024-07-22T03:19:43.937Z"
   },
   {
    "duration": 19,
    "start_time": "2024-07-22T03:19:43.984Z"
   },
   {
    "duration": 354,
    "start_time": "2024-07-22T03:19:44.006Z"
   },
   {
    "duration": 15,
    "start_time": "2024-07-22T03:19:44.368Z"
   },
   {
    "duration": 207,
    "start_time": "2024-07-22T03:19:44.390Z"
   },
   {
    "duration": 174,
    "start_time": "2024-07-22T03:19:44.600Z"
   },
   {
    "duration": 46,
    "start_time": "2024-07-22T03:19:44.778Z"
   },
   {
    "duration": 48,
    "start_time": "2024-07-22T03:19:44.827Z"
   },
   {
    "duration": 7,
    "start_time": "2024-07-22T03:19:44.878Z"
   },
   {
    "duration": 37,
    "start_time": "2024-07-22T03:19:44.888Z"
   },
   {
    "duration": 55,
    "start_time": "2024-07-22T03:19:44.927Z"
   },
   {
    "duration": 7,
    "start_time": "2024-07-22T03:19:44.986Z"
   },
   {
    "duration": 9,
    "start_time": "2024-07-22T03:19:44.997Z"
   },
   {
    "duration": 8,
    "start_time": "2024-07-22T03:19:45.010Z"
   },
   {
    "duration": 51,
    "start_time": "2024-07-22T03:19:45.021Z"
   },
   {
    "duration": 1474,
    "start_time": "2024-07-22T03:19:45.075Z"
   },
   {
    "duration": 1586,
    "start_time": "2024-07-22T03:19:46.552Z"
   },
   {
    "duration": 33,
    "start_time": "2024-07-22T03:19:48.140Z"
   },
   {
    "duration": 11,
    "start_time": "2024-07-22T03:19:48.177Z"
   },
   {
    "duration": 10,
    "start_time": "2024-07-22T03:19:48.191Z"
   },
   {
    "duration": 13,
    "start_time": "2024-07-22T03:19:48.204Z"
   },
   {
    "duration": 52,
    "start_time": "2024-07-22T03:19:48.220Z"
   },
   {
    "duration": 12,
    "start_time": "2024-07-22T03:19:48.283Z"
   },
   {
    "duration": 20,
    "start_time": "2024-07-22T03:19:48.297Z"
   },
   {
    "duration": 58,
    "start_time": "2024-07-22T03:19:48.321Z"
   },
   {
    "duration": 12,
    "start_time": "2024-07-22T03:19:48.383Z"
   },
   {
    "duration": 33,
    "start_time": "2024-07-22T03:19:48.397Z"
   },
   {
    "duration": 87,
    "start_time": "2024-07-22T03:19:48.433Z"
   },
   {
    "duration": 49,
    "start_time": "2024-07-22T03:19:48.524Z"
   },
   {
    "duration": 13,
    "start_time": "2024-07-22T03:19:48.576Z"
   },
   {
    "duration": 34,
    "start_time": "2024-07-22T03:19:48.592Z"
   },
   {
    "duration": 48,
    "start_time": "2024-07-22T03:19:48.629Z"
   },
   {
    "duration": 466,
    "start_time": "2024-07-22T03:19:48.681Z"
   },
   {
    "duration": 79,
    "start_time": "2024-07-22T03:19:49.151Z"
   },
   {
    "duration": 238,
    "start_time": "2024-07-22T03:19:49.233Z"
   },
   {
    "duration": 103,
    "start_time": "2024-07-22T03:19:49.474Z"
   },
   {
    "duration": 675,
    "start_time": "2024-07-22T03:19:49.580Z"
   },
   {
    "duration": 795,
    "start_time": "2024-07-22T03:19:50.258Z"
   },
   {
    "duration": 545,
    "start_time": "2024-07-22T03:19:51.058Z"
   },
   {
    "duration": 265,
    "start_time": "2024-07-22T03:19:51.606Z"
   },
   {
    "duration": 33,
    "start_time": "2024-07-22T03:19:51.875Z"
   },
   {
    "duration": 758,
    "start_time": "2024-07-22T03:19:51.911Z"
   },
   {
    "duration": 800,
    "start_time": "2024-07-22T03:19:52.672Z"
   },
   {
    "duration": 200,
    "start_time": "2024-07-22T03:19:53.475Z"
   },
   {
    "duration": 216,
    "start_time": "2024-07-22T03:19:53.677Z"
   },
   {
    "duration": 254,
    "start_time": "2024-07-22T03:19:53.896Z"
   },
   {
    "duration": 48,
    "start_time": "2024-07-22T03:19:54.153Z"
   },
   {
    "duration": 18,
    "start_time": "2024-07-22T03:19:54.204Z"
   },
   {
    "duration": 53,
    "start_time": "2024-07-22T03:19:54.225Z"
   },
   {
    "duration": 550,
    "start_time": "2024-07-22T03:19:54.282Z"
   },
   {
    "duration": 152,
    "start_time": "2024-07-22T03:19:54.835Z"
   },
   {
    "duration": 720,
    "start_time": "2024-07-22T03:19:54.990Z"
   },
   {
    "duration": 491,
    "start_time": "2024-07-22T03:19:55.713Z"
   },
   {
    "duration": 228,
    "start_time": "2024-07-22T03:19:56.207Z"
   },
   {
    "duration": 34,
    "start_time": "2024-07-22T03:19:56.438Z"
   },
   {
    "duration": 7,
    "start_time": "2024-07-22T03:25:19.868Z"
   },
   {
    "duration": 96,
    "start_time": "2024-07-22T03:25:39.729Z"
   },
   {
    "duration": 17,
    "start_time": "2024-07-22T03:26:01.574Z"
   },
   {
    "duration": 6,
    "start_time": "2024-07-22T03:32:30.768Z"
   },
   {
    "duration": 547,
    "start_time": "2024-07-22T03:32:35.197Z"
   },
   {
    "duration": 134,
    "start_time": "2024-07-22T03:33:00.415Z"
   },
   {
    "duration": 84,
    "start_time": "2024-07-22T03:33:07.126Z"
   },
   {
    "duration": 56,
    "start_time": "2024-07-22T03:35:50.588Z"
   },
   {
    "duration": 61,
    "start_time": "2024-07-22T03:36:00.434Z"
   },
   {
    "duration": 59,
    "start_time": "2024-07-22T03:36:16.700Z"
   },
   {
    "duration": 60,
    "start_time": "2024-07-22T03:36:38.181Z"
   },
   {
    "duration": 62,
    "start_time": "2024-07-22T03:36:52.093Z"
   },
   {
    "duration": 77,
    "start_time": "2024-07-22T03:37:45.695Z"
   },
   {
    "duration": 64,
    "start_time": "2024-07-22T03:38:13.390Z"
   },
   {
    "duration": 66,
    "start_time": "2024-07-22T03:38:19.289Z"
   },
   {
    "duration": 62,
    "start_time": "2024-07-22T03:39:31.208Z"
   },
   {
    "duration": 65,
    "start_time": "2024-07-22T03:40:01.111Z"
   },
   {
    "duration": 70,
    "start_time": "2024-07-22T03:40:08.368Z"
   },
   {
    "duration": 75,
    "start_time": "2024-07-22T03:42:35.455Z"
   },
   {
    "duration": 11,
    "start_time": "2024-07-22T03:43:11.674Z"
   },
   {
    "duration": 74,
    "start_time": "2024-07-22T03:44:07.866Z"
   },
   {
    "duration": 12,
    "start_time": "2024-07-22T03:44:09.574Z"
   },
   {
    "duration": 11,
    "start_time": "2024-07-22T03:44:14.851Z"
   },
   {
    "duration": 72,
    "start_time": "2024-07-22T03:44:42.884Z"
   },
   {
    "duration": 11,
    "start_time": "2024-07-22T03:44:44.575Z"
   },
   {
    "duration": 69,
    "start_time": "2024-07-22T03:45:50.957Z"
   },
   {
    "duration": 11,
    "start_time": "2024-07-22T03:45:52.640Z"
   },
   {
    "duration": 72,
    "start_time": "2024-07-22T03:46:46.928Z"
   },
   {
    "duration": 6,
    "start_time": "2024-07-22T03:48:58.328Z"
   },
   {
    "duration": 32,
    "start_time": "2024-07-22T03:49:02.915Z"
   },
   {
    "duration": 24,
    "start_time": "2024-07-22T03:49:39.609Z"
   },
   {
    "duration": 25,
    "start_time": "2024-07-22T03:50:00.366Z"
   },
   {
    "duration": 23,
    "start_time": "2024-07-22T03:50:03.199Z"
   },
   {
    "duration": 69,
    "start_time": "2024-07-22T03:50:39.371Z"
   },
   {
    "duration": 75,
    "start_time": "2024-07-22T03:51:30.286Z"
   },
   {
    "duration": 87,
    "start_time": "2024-07-22T03:51:33.034Z"
   },
   {
    "duration": 12,
    "start_time": "2024-07-22T03:51:35.801Z"
   },
   {
    "duration": 661,
    "start_time": "2024-07-22T03:51:56.420Z"
   },
   {
    "duration": 1618,
    "start_time": "2024-07-22T03:51:57.085Z"
   },
   {
    "duration": 32,
    "start_time": "2024-07-22T03:51:58.706Z"
   },
   {
    "duration": 47,
    "start_time": "2024-07-22T03:51:58.740Z"
   },
   {
    "duration": 55,
    "start_time": "2024-07-22T03:51:58.792Z"
   },
   {
    "duration": 23,
    "start_time": "2024-07-22T03:51:58.869Z"
   },
   {
    "duration": 20,
    "start_time": "2024-07-22T03:51:58.895Z"
   },
   {
    "duration": 395,
    "start_time": "2024-07-22T03:51:58.918Z"
   },
   {
    "duration": 13,
    "start_time": "2024-07-22T03:51:59.317Z"
   },
   {
    "duration": 208,
    "start_time": "2024-07-22T03:51:59.333Z"
   },
   {
    "duration": 177,
    "start_time": "2024-07-22T03:51:59.544Z"
   },
   {
    "duration": 58,
    "start_time": "2024-07-22T03:51:59.723Z"
   },
   {
    "duration": 24,
    "start_time": "2024-07-22T03:51:59.784Z"
   },
   {
    "duration": 6,
    "start_time": "2024-07-22T03:51:59.815Z"
   },
   {
    "duration": 66,
    "start_time": "2024-07-22T03:51:59.824Z"
   },
   {
    "duration": 25,
    "start_time": "2024-07-22T03:51:59.893Z"
   },
   {
    "duration": 7,
    "start_time": "2024-07-22T03:51:59.921Z"
   },
   {
    "duration": 39,
    "start_time": "2024-07-22T03:51:59.932Z"
   },
   {
    "duration": 7,
    "start_time": "2024-07-22T03:51:59.974Z"
   },
   {
    "duration": 7,
    "start_time": "2024-07-22T03:51:59.984Z"
   },
   {
    "duration": 1376,
    "start_time": "2024-07-22T03:51:59.994Z"
   },
   {
    "duration": 1227,
    "start_time": "2024-07-22T03:52:01.374Z"
   },
   {
    "duration": 16,
    "start_time": "2024-07-22T03:52:02.605Z"
   },
   {
    "duration": 12,
    "start_time": "2024-07-22T03:52:02.624Z"
   },
   {
    "duration": 42,
    "start_time": "2024-07-22T03:52:02.638Z"
   },
   {
    "duration": 15,
    "start_time": "2024-07-22T03:52:02.683Z"
   },
   {
    "duration": 7,
    "start_time": "2024-07-22T03:52:02.702Z"
   },
   {
    "duration": 55,
    "start_time": "2024-07-22T03:52:02.712Z"
   },
   {
    "duration": 22,
    "start_time": "2024-07-22T03:52:02.770Z"
   },
   {
    "duration": 20,
    "start_time": "2024-07-22T03:52:02.795Z"
   },
   {
    "duration": 49,
    "start_time": "2024-07-22T03:52:02.819Z"
   },
   {
    "duration": 49,
    "start_time": "2024-07-22T03:52:02.871Z"
   },
   {
    "duration": 90,
    "start_time": "2024-07-22T03:52:02.924Z"
   },
   {
    "duration": 25,
    "start_time": "2024-07-22T03:52:03.018Z"
   },
   {
    "duration": 27,
    "start_time": "2024-07-22T03:52:03.045Z"
   },
   {
    "duration": 35,
    "start_time": "2024-07-22T03:52:03.076Z"
   },
   {
    "duration": 56,
    "start_time": "2024-07-22T03:52:03.116Z"
   },
   {
    "duration": 482,
    "start_time": "2024-07-22T03:52:03.175Z"
   },
   {
    "duration": 95,
    "start_time": "2024-07-22T03:52:03.660Z"
   },
   {
    "duration": 252,
    "start_time": "2024-07-22T03:52:03.769Z"
   },
   {
    "duration": 113,
    "start_time": "2024-07-22T03:52:04.032Z"
   },
   {
    "duration": 699,
    "start_time": "2024-07-22T03:52:04.149Z"
   },
   {
    "duration": 859,
    "start_time": "2024-07-22T03:52:04.852Z"
   },
   {
    "duration": 609,
    "start_time": "2024-07-22T03:52:05.714Z"
   },
   {
    "duration": 327,
    "start_time": "2024-07-22T03:52:06.327Z"
   },
   {
    "duration": 41,
    "start_time": "2024-07-22T03:52:06.657Z"
   },
   {
    "duration": 756,
    "start_time": "2024-07-22T03:52:06.702Z"
   },
   {
    "duration": 840,
    "start_time": "2024-07-22T03:52:07.461Z"
   },
   {
    "duration": 191,
    "start_time": "2024-07-22T03:52:08.304Z"
   },
   {
    "duration": 215,
    "start_time": "2024-07-22T03:52:08.498Z"
   },
   {
    "duration": 259,
    "start_time": "2024-07-22T03:52:08.717Z"
   },
   {
    "duration": 40,
    "start_time": "2024-07-22T03:52:08.980Z"
   },
   {
    "duration": 46,
    "start_time": "2024-07-22T03:52:09.023Z"
   },
   {
    "duration": 25,
    "start_time": "2024-07-22T03:52:09.072Z"
   },
   {
    "duration": 515,
    "start_time": "2024-07-22T03:52:09.100Z"
   },
   {
    "duration": 138,
    "start_time": "2024-07-22T03:52:09.618Z"
   },
   {
    "duration": 695,
    "start_time": "2024-07-22T03:52:09.768Z"
   },
   {
    "duration": 441,
    "start_time": "2024-07-22T03:52:10.469Z"
   },
   {
    "duration": 122,
    "start_time": "2024-07-22T03:52:10.913Z"
   },
   {
    "duration": 30,
    "start_time": "2024-07-22T03:52:11.038Z"
   },
   {
    "duration": 72,
    "start_time": "2024-07-22T03:52:11.071Z"
   },
   {
    "duration": 31,
    "start_time": "2024-07-22T03:52:11.146Z"
   },
   {
    "duration": 74,
    "start_time": "2024-07-22T03:52:23.464Z"
   },
   {
    "duration": 13,
    "start_time": "2024-07-22T03:52:25.293Z"
   },
   {
    "duration": 4413,
    "start_time": "2024-07-22T13:52:16.232Z"
   },
   {
    "duration": 1693,
    "start_time": "2024-07-22T13:52:20.648Z"
   },
   {
    "duration": 31,
    "start_time": "2024-07-22T13:52:22.344Z"
   },
   {
    "duration": 45,
    "start_time": "2024-07-22T13:52:22.379Z"
   },
   {
    "duration": 79,
    "start_time": "2024-07-22T13:52:22.427Z"
   },
   {
    "duration": 30,
    "start_time": "2024-07-22T13:52:22.509Z"
   },
   {
    "duration": 45,
    "start_time": "2024-07-22T13:52:22.545Z"
   },
   {
    "duration": 365,
    "start_time": "2024-07-22T13:52:22.593Z"
   },
   {
    "duration": 29,
    "start_time": "2024-07-22T13:52:22.962Z"
   },
   {
    "duration": 206,
    "start_time": "2024-07-22T13:52:22.998Z"
   },
   {
    "duration": 172,
    "start_time": "2024-07-22T13:52:23.208Z"
   },
   {
    "duration": 53,
    "start_time": "2024-07-22T13:52:23.391Z"
   },
   {
    "duration": 48,
    "start_time": "2024-07-22T13:52:23.447Z"
   },
   {
    "duration": 9,
    "start_time": "2024-07-22T13:52:23.498Z"
   },
   {
    "duration": 38,
    "start_time": "2024-07-22T13:52:23.511Z"
   },
   {
    "duration": 56,
    "start_time": "2024-07-22T13:52:23.552Z"
   },
   {
    "duration": 6,
    "start_time": "2024-07-22T13:52:23.615Z"
   },
   {
    "duration": 6,
    "start_time": "2024-07-22T13:52:23.625Z"
   },
   {
    "duration": 8,
    "start_time": "2024-07-22T13:52:23.635Z"
   },
   {
    "duration": 48,
    "start_time": "2024-07-22T13:52:23.646Z"
   },
   {
    "duration": 1479,
    "start_time": "2024-07-22T13:52:23.697Z"
   },
   {
    "duration": 1295,
    "start_time": "2024-07-22T13:52:25.179Z"
   },
   {
    "duration": 18,
    "start_time": "2024-07-22T13:52:26.476Z"
   },
   {
    "duration": 10,
    "start_time": "2024-07-22T13:52:26.498Z"
   },
   {
    "duration": 11,
    "start_time": "2024-07-22T13:52:26.512Z"
   },
   {
    "duration": 64,
    "start_time": "2024-07-22T13:52:26.527Z"
   },
   {
    "duration": 8,
    "start_time": "2024-07-22T13:52:26.594Z"
   },
   {
    "duration": 9,
    "start_time": "2024-07-22T13:52:26.612Z"
   },
   {
    "duration": 21,
    "start_time": "2024-07-22T13:52:26.624Z"
   },
   {
    "duration": 59,
    "start_time": "2024-07-22T13:52:26.648Z"
   },
   {
    "duration": 12,
    "start_time": "2024-07-22T13:52:26.710Z"
   },
   {
    "duration": 68,
    "start_time": "2024-07-22T13:52:26.725Z"
   },
   {
    "duration": 52,
    "start_time": "2024-07-22T13:52:26.796Z"
   },
   {
    "duration": 57,
    "start_time": "2024-07-22T13:52:26.851Z"
   },
   {
    "duration": 9,
    "start_time": "2024-07-22T13:52:26.911Z"
   },
   {
    "duration": 34,
    "start_time": "2024-07-22T13:52:26.924Z"
   },
   {
    "duration": 23,
    "start_time": "2024-07-22T13:52:26.990Z"
   },
   {
    "duration": 463,
    "start_time": "2024-07-22T13:52:27.017Z"
   },
   {
    "duration": 76,
    "start_time": "2024-07-22T13:52:27.491Z"
   },
   {
    "duration": 249,
    "start_time": "2024-07-22T13:52:27.571Z"
   },
   {
    "duration": 103,
    "start_time": "2024-07-22T13:52:27.823Z"
   },
   {
    "duration": 701,
    "start_time": "2024-07-22T13:52:27.928Z"
   },
   {
    "duration": 820,
    "start_time": "2024-07-22T13:52:28.632Z"
   },
   {
    "duration": 608,
    "start_time": "2024-07-22T13:52:29.455Z"
   },
   {
    "duration": 283,
    "start_time": "2024-07-22T13:52:30.066Z"
   },
   {
    "duration": 45,
    "start_time": "2024-07-22T13:52:30.352Z"
   },
   {
    "duration": 779,
    "start_time": "2024-07-22T13:52:30.400Z"
   },
   {
    "duration": 825,
    "start_time": "2024-07-22T13:52:31.182Z"
   },
   {
    "duration": 192,
    "start_time": "2024-07-22T13:52:32.011Z"
   },
   {
    "duration": 267,
    "start_time": "2024-07-22T13:52:32.206Z"
   },
   {
    "duration": 275,
    "start_time": "2024-07-22T13:52:32.477Z"
   },
   {
    "duration": 71,
    "start_time": "2024-07-22T13:52:32.755Z"
   },
   {
    "duration": 20,
    "start_time": "2024-07-22T13:52:32.829Z"
   },
   {
    "duration": 53,
    "start_time": "2024-07-22T13:52:32.852Z"
   },
   {
    "duration": 571,
    "start_time": "2024-07-22T13:52:32.909Z"
   },
   {
    "duration": 143,
    "start_time": "2024-07-22T13:52:33.490Z"
   },
   {
    "duration": 719,
    "start_time": "2024-07-22T13:52:33.636Z"
   },
   {
    "duration": 505,
    "start_time": "2024-07-22T13:52:34.358Z"
   },
   {
    "duration": 115,
    "start_time": "2024-07-22T13:52:34.865Z"
   },
   {
    "duration": 19,
    "start_time": "2024-07-22T13:52:34.991Z"
   },
   {
    "duration": 101,
    "start_time": "2024-07-22T13:52:35.013Z"
   },
   {
    "duration": 15,
    "start_time": "2024-07-22T13:52:35.117Z"
   },
   {
    "duration": 580,
    "start_time": "2024-07-22T13:54:24.612Z"
   },
   {
    "duration": 11,
    "start_time": "2024-07-22T13:54:44.936Z"
   },
   {
    "duration": 12,
    "start_time": "2024-07-22T13:54:53.304Z"
   },
   {
    "duration": 13,
    "start_time": "2024-07-22T13:55:07.193Z"
   },
   {
    "duration": 11,
    "start_time": "2024-07-22T13:55:33.534Z"
   },
   {
    "duration": 1121,
    "start_time": "2024-07-22T14:03:23.941Z"
   },
   {
    "duration": 141,
    "start_time": "2024-07-22T14:03:36.100Z"
   },
   {
    "duration": 138,
    "start_time": "2024-07-22T14:03:44.378Z"
   },
   {
    "duration": 323,
    "start_time": "2024-07-22T14:04:37.932Z"
   },
   {
    "duration": 313,
    "start_time": "2024-07-22T14:04:42.950Z"
   },
   {
    "duration": 340,
    "start_time": "2024-07-22T14:08:41.751Z"
   },
   {
    "duration": 15,
    "start_time": "2024-07-22T14:11:35.958Z"
   },
   {
    "duration": 25,
    "start_time": "2024-07-22T14:14:07.884Z"
   },
   {
    "duration": 210,
    "start_time": "2024-07-22T14:14:13.540Z"
   },
   {
    "duration": 208,
    "start_time": "2024-07-22T14:15:48.556Z"
   },
   {
    "duration": 21,
    "start_time": "2024-07-22T14:19:00.027Z"
   },
   {
    "duration": 23,
    "start_time": "2024-07-22T14:20:40.923Z"
   },
   {
    "duration": 1164,
    "start_time": "2024-07-22T14:22:07.897Z"
   },
   {
    "duration": 107,
    "start_time": "2024-07-22T14:22:22.451Z"
   },
   {
    "duration": 210,
    "start_time": "2024-07-22T14:23:37.060Z"
   },
   {
    "duration": 21,
    "start_time": "2024-07-22T14:23:48.055Z"
   },
   {
    "duration": 20,
    "start_time": "2024-07-22T14:24:07.448Z"
   },
   {
    "duration": 24,
    "start_time": "2024-07-22T14:27:08.488Z"
   },
   {
    "duration": 19,
    "start_time": "2024-07-22T14:27:16.847Z"
   },
   {
    "duration": 21,
    "start_time": "2024-07-22T14:27:30.739Z"
   },
   {
    "duration": 22,
    "start_time": "2024-07-22T14:27:41.262Z"
   },
   {
    "duration": 27,
    "start_time": "2024-07-22T14:28:00.995Z"
   },
   {
    "duration": 22,
    "start_time": "2024-07-22T14:28:16.916Z"
   },
   {
    "duration": 20,
    "start_time": "2024-07-22T14:28:44.473Z"
   },
   {
    "duration": 18,
    "start_time": "2024-07-22T14:28:46.273Z"
   },
   {
    "duration": 382,
    "start_time": "2024-07-22T14:30:09.687Z"
   },
   {
    "duration": 7,
    "start_time": "2024-07-22T14:31:47.469Z"
   },
   {
    "duration": 22,
    "start_time": "2024-07-22T14:31:52.931Z"
   },
   {
    "duration": 34,
    "start_time": "2024-07-22T14:32:22.053Z"
   },
   {
    "duration": 23,
    "start_time": "2024-07-22T14:32:26.065Z"
   },
   {
    "duration": 371,
    "start_time": "2024-07-22T14:32:34.268Z"
   },
   {
    "duration": 667,
    "start_time": "2024-07-22T14:45:07.655Z"
   },
   {
    "duration": 1575,
    "start_time": "2024-07-22T14:45:08.326Z"
   },
   {
    "duration": 31,
    "start_time": "2024-07-22T14:45:09.904Z"
   },
   {
    "duration": 27,
    "start_time": "2024-07-22T14:45:09.939Z"
   },
   {
    "duration": 54,
    "start_time": "2024-07-22T14:45:09.990Z"
   },
   {
    "duration": 47,
    "start_time": "2024-07-22T14:45:10.047Z"
   },
   {
    "duration": 21,
    "start_time": "2024-07-22T14:45:10.098Z"
   },
   {
    "duration": 345,
    "start_time": "2024-07-22T14:45:10.121Z"
   },
   {
    "duration": 22,
    "start_time": "2024-07-22T14:45:10.469Z"
   },
   {
    "duration": 200,
    "start_time": "2024-07-22T14:45:10.498Z"
   },
   {
    "duration": 182,
    "start_time": "2024-07-22T14:45:10.701Z"
   },
   {
    "duration": 50,
    "start_time": "2024-07-22T14:45:10.891Z"
   },
   {
    "duration": 24,
    "start_time": "2024-07-22T14:45:10.944Z"
   },
   {
    "duration": 7,
    "start_time": "2024-07-22T14:45:10.992Z"
   },
   {
    "duration": 36,
    "start_time": "2024-07-22T14:45:11.002Z"
   },
   {
    "duration": 56,
    "start_time": "2024-07-22T14:45:11.042Z"
   },
   {
    "duration": 7,
    "start_time": "2024-07-22T14:45:11.101Z"
   },
   {
    "duration": 7,
    "start_time": "2024-07-22T14:45:11.110Z"
   },
   {
    "duration": 8,
    "start_time": "2024-07-22T14:45:11.119Z"
   },
   {
    "duration": 7,
    "start_time": "2024-07-22T14:45:11.129Z"
   },
   {
    "duration": 1403,
    "start_time": "2024-07-22T14:45:11.139Z"
   },
   {
    "duration": 1226,
    "start_time": "2024-07-22T14:45:12.544Z"
   },
   {
    "duration": 23,
    "start_time": "2024-07-22T14:45:13.772Z"
   },
   {
    "duration": 9,
    "start_time": "2024-07-22T14:45:13.799Z"
   },
   {
    "duration": 13,
    "start_time": "2024-07-22T14:45:13.812Z"
   },
   {
    "duration": 16,
    "start_time": "2024-07-22T14:45:13.829Z"
   },
   {
    "duration": 7,
    "start_time": "2024-07-22T14:45:13.892Z"
   },
   {
    "duration": 9,
    "start_time": "2024-07-22T14:45:13.910Z"
   },
   {
    "duration": 19,
    "start_time": "2024-07-22T14:45:13.922Z"
   },
   {
    "duration": 59,
    "start_time": "2024-07-22T14:45:13.944Z"
   },
   {
    "duration": 10,
    "start_time": "2024-07-22T14:45:14.007Z"
   },
   {
    "duration": 31,
    "start_time": "2024-07-22T14:45:14.023Z"
   },
   {
    "duration": 50,
    "start_time": "2024-07-22T14:45:14.089Z"
   },
   {
    "duration": 48,
    "start_time": "2024-07-22T14:45:14.142Z"
   },
   {
    "duration": 10,
    "start_time": "2024-07-22T14:45:14.194Z"
   },
   {
    "duration": 34,
    "start_time": "2024-07-22T14:45:14.206Z"
   },
   {
    "duration": 46,
    "start_time": "2024-07-22T14:45:14.243Z"
   },
   {
    "duration": 12,
    "start_time": "2024-07-22T14:45:14.292Z"
   },
   {
    "duration": 154,
    "start_time": "2024-07-22T14:45:14.307Z"
   },
   {
    "duration": 347,
    "start_time": "2024-07-22T14:45:14.464Z"
   },
   {
    "duration": 20,
    "start_time": "2024-07-22T14:45:14.815Z"
   },
   {
    "duration": 244,
    "start_time": "2024-07-22T14:45:14.838Z"
   },
   {
    "duration": 22,
    "start_time": "2024-07-22T14:45:15.085Z"
   },
   {
    "duration": 393,
    "start_time": "2024-07-22T14:45:15.110Z"
   },
   {
    "duration": 23,
    "start_time": "2024-07-22T14:45:15.506Z"
   },
   {
    "duration": 438,
    "start_time": "2024-07-22T14:45:15.532Z"
   },
   {
    "duration": 76,
    "start_time": "2024-07-22T14:45:15.973Z"
   },
   {
    "duration": 225,
    "start_time": "2024-07-22T14:45:16.052Z"
   },
   {
    "duration": 86,
    "start_time": "2024-07-22T14:45:16.280Z"
   },
   {
    "duration": 684,
    "start_time": "2024-07-22T14:45:16.368Z"
   },
   {
    "duration": 790,
    "start_time": "2024-07-22T14:45:17.056Z"
   },
   {
    "duration": 535,
    "start_time": "2024-07-22T14:45:17.849Z"
   },
   {
    "duration": 266,
    "start_time": "2024-07-22T14:45:18.392Z"
   },
   {
    "duration": 43,
    "start_time": "2024-07-22T14:45:18.661Z"
   },
   {
    "duration": 742,
    "start_time": "2024-07-22T14:45:18.707Z"
   },
   {
    "duration": 823,
    "start_time": "2024-07-22T14:45:19.453Z"
   },
   {
    "duration": 189,
    "start_time": "2024-07-22T14:45:20.279Z"
   },
   {
    "duration": 216,
    "start_time": "2024-07-22T14:45:20.471Z"
   },
   {
    "duration": 256,
    "start_time": "2024-07-22T14:45:20.692Z"
   },
   {
    "duration": 56,
    "start_time": "2024-07-22T14:45:20.952Z"
   },
   {
    "duration": 19,
    "start_time": "2024-07-22T14:45:21.011Z"
   },
   {
    "duration": 26,
    "start_time": "2024-07-22T14:45:21.032Z"
   },
   {
    "duration": 531,
    "start_time": "2024-07-22T14:45:21.061Z"
   },
   {
    "duration": 142,
    "start_time": "2024-07-22T14:45:21.595Z"
   },
   {
    "duration": 708,
    "start_time": "2024-07-22T14:45:21.740Z"
   },
   {
    "duration": 483,
    "start_time": "2024-07-22T14:45:22.451Z"
   },
   {
    "duration": 109,
    "start_time": "2024-07-22T14:45:22.937Z"
   },
   {
    "duration": 16,
    "start_time": "2024-07-22T14:45:23.049Z"
   },
   {
    "duration": 94,
    "start_time": "2024-07-22T14:45:23.068Z"
   },
   {
    "duration": 12,
    "start_time": "2024-07-22T14:45:23.165Z"
   },
   {
    "duration": 13,
    "start_time": "2024-07-22T15:04:56.144Z"
   },
   {
    "duration": 759,
    "start_time": "2024-07-22T15:15:34.213Z"
   },
   {
    "duration": 1574,
    "start_time": "2024-07-22T15:15:34.977Z"
   },
   {
    "duration": 44,
    "start_time": "2024-07-22T15:15:36.553Z"
   },
   {
    "duration": 30,
    "start_time": "2024-07-22T15:15:36.600Z"
   },
   {
    "duration": 89,
    "start_time": "2024-07-22T15:15:36.635Z"
   },
   {
    "duration": 21,
    "start_time": "2024-07-22T15:15:36.727Z"
   },
   {
    "duration": 50,
    "start_time": "2024-07-22T15:15:36.752Z"
   },
   {
    "duration": 425,
    "start_time": "2024-07-22T15:15:36.806Z"
   },
   {
    "duration": 16,
    "start_time": "2024-07-22T15:15:37.234Z"
   },
   {
    "duration": 245,
    "start_time": "2024-07-22T15:15:37.254Z"
   },
   {
    "duration": 202,
    "start_time": "2024-07-22T15:15:37.501Z"
   },
   {
    "duration": 56,
    "start_time": "2024-07-22T15:15:37.707Z"
   },
   {
    "duration": 47,
    "start_time": "2024-07-22T15:15:37.767Z"
   },
   {
    "duration": 8,
    "start_time": "2024-07-22T15:15:37.822Z"
   },
   {
    "duration": 74,
    "start_time": "2024-07-22T15:15:37.833Z"
   },
   {
    "duration": 25,
    "start_time": "2024-07-22T15:15:37.911Z"
   },
   {
    "duration": 7,
    "start_time": "2024-07-22T15:15:37.940Z"
   },
   {
    "duration": 43,
    "start_time": "2024-07-22T15:15:37.951Z"
   },
   {
    "duration": 9,
    "start_time": "2024-07-22T15:15:37.999Z"
   },
   {
    "duration": 7,
    "start_time": "2024-07-22T15:15:38.011Z"
   },
   {
    "duration": 1539,
    "start_time": "2024-07-22T15:15:38.022Z"
   },
   {
    "duration": 1330,
    "start_time": "2024-07-22T15:15:39.564Z"
   },
   {
    "duration": 13,
    "start_time": "2024-07-22T15:15:40.897Z"
   },
   {
    "duration": 11,
    "start_time": "2024-07-22T15:15:40.913Z"
   },
   {
    "duration": 11,
    "start_time": "2024-07-22T15:15:40.927Z"
   },
   {
    "duration": 59,
    "start_time": "2024-07-22T15:15:40.942Z"
   },
   {
    "duration": 9,
    "start_time": "2024-07-22T15:15:41.003Z"
   },
   {
    "duration": 9,
    "start_time": "2024-07-22T15:15:41.015Z"
   },
   {
    "duration": 20,
    "start_time": "2024-07-22T15:15:41.028Z"
   },
   {
    "duration": 19,
    "start_time": "2024-07-22T15:15:41.092Z"
   },
   {
    "duration": 13,
    "start_time": "2024-07-22T15:15:41.115Z"
   },
   {
    "duration": 76,
    "start_time": "2024-07-22T15:15:41.131Z"
   },
   {
    "duration": 56,
    "start_time": "2024-07-22T15:15:41.213Z"
   },
   {
    "duration": 41,
    "start_time": "2024-07-22T15:15:41.271Z"
   },
   {
    "duration": 11,
    "start_time": "2024-07-22T15:15:41.315Z"
   },
   {
    "duration": 77,
    "start_time": "2024-07-22T15:15:41.332Z"
   },
   {
    "duration": 13,
    "start_time": "2024-07-22T15:15:41.412Z"
   },
   {
    "duration": 12,
    "start_time": "2024-07-22T15:15:41.428Z"
   },
   {
    "duration": 179,
    "start_time": "2024-07-22T15:15:41.444Z"
   },
   {
    "duration": 359,
    "start_time": "2024-07-22T15:15:41.627Z"
   },
   {
    "duration": 15,
    "start_time": "2024-07-22T15:15:42.000Z"
   },
   {
    "duration": 247,
    "start_time": "2024-07-22T15:15:42.018Z"
   },
   {
    "duration": 34,
    "start_time": "2024-07-22T15:15:42.268Z"
   },
   {
    "duration": 436,
    "start_time": "2024-07-22T15:15:42.304Z"
   },
   {
    "duration": 26,
    "start_time": "2024-07-22T15:15:42.743Z"
   },
   {
    "duration": 443,
    "start_time": "2024-07-22T15:15:42.772Z"
   },
   {
    "duration": 85,
    "start_time": "2024-07-22T15:15:43.218Z"
   },
   {
    "duration": 267,
    "start_time": "2024-07-22T15:15:43.306Z"
   },
   {
    "duration": 118,
    "start_time": "2024-07-22T15:15:43.576Z"
   },
   {
    "duration": 721,
    "start_time": "2024-07-22T15:15:43.698Z"
   },
   {
    "duration": 819,
    "start_time": "2024-07-22T15:15:44.422Z"
   },
   {
    "duration": 547,
    "start_time": "2024-07-22T15:15:45.244Z"
   },
   {
    "duration": 270,
    "start_time": "2024-07-22T15:15:45.794Z"
   },
   {
    "duration": 45,
    "start_time": "2024-07-22T15:15:46.067Z"
   },
   {
    "duration": 735,
    "start_time": "2024-07-22T15:15:46.115Z"
   },
   {
    "duration": 820,
    "start_time": "2024-07-22T15:15:46.853Z"
   },
   {
    "duration": 187,
    "start_time": "2024-07-22T15:15:47.677Z"
   },
   {
    "duration": 218,
    "start_time": "2024-07-22T15:15:47.867Z"
   },
   {
    "duration": 253,
    "start_time": "2024-07-22T15:15:48.092Z"
   },
   {
    "duration": 52,
    "start_time": "2024-07-22T15:15:48.348Z"
   },
   {
    "duration": 20,
    "start_time": "2024-07-22T15:15:48.403Z"
   },
   {
    "duration": 24,
    "start_time": "2024-07-22T15:15:48.426Z"
   },
   {
    "duration": 565,
    "start_time": "2024-07-22T15:15:48.453Z"
   },
   {
    "duration": 142,
    "start_time": "2024-07-22T15:15:49.021Z"
   },
   {
    "duration": 719,
    "start_time": "2024-07-22T15:15:49.165Z"
   },
   {
    "duration": 437,
    "start_time": "2024-07-22T15:15:49.887Z"
   },
   {
    "duration": 108,
    "start_time": "2024-07-22T15:15:50.326Z"
   },
   {
    "duration": 17,
    "start_time": "2024-07-22T15:15:50.436Z"
   },
   {
    "duration": 100,
    "start_time": "2024-07-22T15:15:50.456Z"
   },
   {
    "duration": 12,
    "start_time": "2024-07-22T15:15:50.558Z"
   }
  ],
  "colab": {
   "provenance": []
  },
  "kernelspec": {
   "display_name": "Python 3 (ipykernel)",
   "language": "python",
   "name": "python3"
  },
  "language_info": {
   "codemirror_mode": {
    "name": "ipython",
    "version": 3
   },
   "file_extension": ".py",
   "mimetype": "text/x-python",
   "name": "python",
   "nbconvert_exporter": "python",
   "pygments_lexer": "ipython3",
   "version": "3.11.7"
  },
  "toc": {
   "base_numbering": 1,
   "nav_menu": {},
   "number_sections": true,
   "sideBar": true,
   "skip_h1_title": true,
   "title_cell": "Table of Contents",
   "title_sidebar": "Contents",
   "toc_cell": false,
   "toc_position": {},
   "toc_section_display": true,
   "toc_window_display": false
  },
  "vscode": {
   "interpreter": {
    "hash": "01a7be9ec63e704a62cefc5fe7a4756944464ee731be31632bdf42a4cb4688cf"
   }
  }
 },
 "nbformat": 4,
 "nbformat_minor": 5
}
